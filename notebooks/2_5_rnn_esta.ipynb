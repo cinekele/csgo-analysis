{
 "cells": [
  {
   "cell_type": "code",
   "execution_count": 1,
   "id": "61024691-50fd-4fdb-9585-6d72d16c209e",
   "metadata": {},
   "outputs": [
    {
     "name": "stdout",
     "output_type": "stream",
     "text": [
      "Experiment_id: 1\n",
      "Artifact Location: file:///C:/Users/Piotrek/Documents/Inzynierka/csgo-analysis/mlruns/1\n",
      "Tags: {}\n",
      "Lifecycle_stage: active\n"
     ]
    }
   ],
   "source": [
    "%run 0_3_configure_mlflow.ipynb"
   ]
  },
  {
   "cell_type": "code",
   "execution_count": 2,
   "id": "1f701eff-5bab-41d4-9768-ace06e1274a0",
   "metadata": {},
   "outputs": [],
   "source": [
    "import pandas as pd\n",
    "import numpy as np\n",
    "import matplotlib.pyplot as plt\n",
    "import pickle\n",
    "import random\n",
    "import shap\n",
    "import os\n",
    "import shutil\n",
    "import math\n",
    "\n",
    "from sklearn.metrics import accuracy_score, precision_score, recall_score, log_loss, f1_score, roc_auc_score, RocCurveDisplay\n",
    "from sklearn.calibration import CalibrationDisplay\n",
    "from sklearn.preprocessing import StandardScaler\n",
    "from sklearn.model_selection import StratifiedKFold, train_test_split\n",
    "from tensorflow.keras import Sequential\n",
    "from tensorflow.keras.layers import InputLayer, GRU, Dense, Masking, Flatten\n",
    "from tensorflow.keras.losses import BinaryCrossentropy\n",
    "from tensorflow.keras.metrics import AUC, BinaryAccuracy\n",
    "from tensorflow.keras.utils import Sequence\n",
    "from tensorflow.keras.callbacks import EarlyStopping, ModelCheckpoint, CSVLogger"
   ]
  },
  {
   "cell_type": "markdown",
   "id": "ead6dbe8-0523-491a-b752-9f11a65a4d1f",
   "metadata": {
    "tags": []
   },
   "source": [
    "# Wczytanie danych"
   ]
  },
  {
   "cell_type": "code",
   "execution_count": 3,
   "id": "3144d7bb-69a5-4c85-9b29-e924ca418c65",
   "metadata": {},
   "outputs": [],
   "source": [
    "def select_feat():\n",
    "    columns = [\n",
    "        'seconds', 'ctAlivePlayers', 'ctEqVal', 'tAlivePlayers', 'tEqVal',\n",
    "       'ct_armor', 't_armor', 'ct_hp', 't_hp', 'ct_hasHelmet', 't_hasHelmet', 'ct_DecoyGrenade',\n",
    "       't_DecoyGrenade', 'ct_Flashbang', 't_Flashbang', 'ct_HEGrenade',\n",
    "       't_HEGrenade', 'ct_SmokeGrenade', 't_SmokeGrenade', 'ct_fireGrenades',\n",
    "       't_fireGrenades', 'ct_isBlinded', 't_isBlinded', 'ct_hasDefuse',\n",
    "       't_hasBomb', 'ct_isDefusing', 't_isPlanting', 'ct_spottedPlayers',\n",
    "       't_spottedPlayers', 'ct_grouppedPlayers',\n",
    "       'ct_meanDist', 'ct_minDist', 't_meanDist','t_minDist',\n",
    "       't_grouppedPlayers', 'ct_conquerMap', 't_conquerMap', 'ct_activeWeapon_Pistol',\n",
    "       'ct_activeWeapon_EnhancedPistols', 'ct_activeWeapon_Deagle',\n",
    "       'ct_activeWeapon_SMG', 'ct_activeWeapon_WeakAssaultRifle',\n",
    "       'ct_activeWeapon_LunetRifle', 'ct_activeWeapon_SniperRifle',\n",
    "       'ct_activeWeapon_AssaultRifle', 'ct_activeWeapon_Others',\n",
    "       't_activeWeapon_Pistol', 't_activeWeapon_EnhancedPistols',\n",
    "       't_activeWeapon_Deagle', 't_activeWeapon_SMG',\n",
    "       't_activeWeapon_WeakAssaultRifle', 't_activeWeapon_LunetRifle',\n",
    "       't_activeWeapon_SniperRifle', 't_activeWeapon_AssaultRifle',\n",
    "       't_activeWeapon_Others', 'ct_mainWeapon_Pistol',\n",
    "       'ct_mainWeapon_EnhancedPistols', 'ct_mainWeapon_Deagle',\n",
    "       'ct_mainWeapon_SMG', 'ct_mainWeapon_WeakAssaultRifle',\n",
    "       'ct_mainWeapon_LunetRifle', 'ct_mainWeapon_SniperRifle',\n",
    "       'ct_mainWeapon_AssaultRifle', 't_mainWeapon_Pistol', 't_mainWeapon_EnhancedPistols',\n",
    "       't_mainWeapon_Deagle', 't_mainWeapon_SMG',\n",
    "       't_mainWeapon_WeakAssaultRifle', 't_mainWeapon_LunetRifle',\n",
    "       't_mainWeapon_SniperRifle', 't_mainWeapon_AssaultRifle', \n",
    "       'ct_secondaryWeapon_Pistol','ct_secondaryWeapon_EnhancedPistols', 'ct_secondaryWeapon_Deagle',\n",
    "       't_secondaryWeapon_Pistol', 't_secondaryWeapon_EnhancedPistols',\n",
    "       't_secondaryWeapon_Deagle', 'ctMinDistToA',\n",
    "       'ctMinDistToB', 'tMinDistToA', 'tMinDistToB', 'ctMeanDistToA',\n",
    "       'ctMeanDistToB', 'tMeanDistToA', 'tMeanDistToB', 'ctMeanKills',\n",
    "       'tMeanKills', 'tScore', 'ctScore', 'de_ancient', \n",
    "       'de_dust2', 'de_inferno', 'de_mirage', 'de_nuke', 'de_overpass',\n",
    "       'de_vertigo','bombsite_A', 'bombsite_B', 'bombsite_not_planted'\n",
    "    ]\n",
    "    return columns"
   ]
  },
  {
   "cell_type": "code",
   "execution_count": 4,
   "id": "e94e93cc-142d-4040-8f30-8a8ae5b3226a",
   "metadata": {
    "tags": []
   },
   "outputs": [
    {
     "data": {
      "text/html": [
       "<div>\n",
       "<style scoped>\n",
       "    .dataframe tbody tr th:only-of-type {\n",
       "        vertical-align: middle;\n",
       "    }\n",
       "\n",
       "    .dataframe tbody tr th {\n",
       "        vertical-align: top;\n",
       "    }\n",
       "\n",
       "    .dataframe thead th {\n",
       "        text-align: right;\n",
       "    }\n",
       "</style>\n",
       "<table border=\"1\" class=\"dataframe\">\n",
       "  <thead>\n",
       "    <tr style=\"text-align: right;\">\n",
       "      <th></th>\n",
       "      <th>seconds</th>\n",
       "      <th>ctAlivePlayers</th>\n",
       "      <th>ctEqVal</th>\n",
       "      <th>tAlivePlayers</th>\n",
       "      <th>tEqVal</th>\n",
       "      <th>ct_armor</th>\n",
       "      <th>t_armor</th>\n",
       "      <th>ct_hp</th>\n",
       "      <th>t_hp</th>\n",
       "      <th>ct_hasHelmet</th>\n",
       "      <th>...</th>\n",
       "      <th>de_mirage</th>\n",
       "      <th>de_nuke</th>\n",
       "      <th>de_overpass</th>\n",
       "      <th>de_vertigo</th>\n",
       "      <th>bombsite_A</th>\n",
       "      <th>bombsite_B</th>\n",
       "      <th>bombsite_not_planted</th>\n",
       "      <th>winningSideCT</th>\n",
       "      <th>demoId</th>\n",
       "      <th>roundNum</th>\n",
       "    </tr>\n",
       "  </thead>\n",
       "  <tbody>\n",
       "    <tr>\n",
       "      <th>0</th>\n",
       "      <td>0.007874</td>\n",
       "      <td>5</td>\n",
       "      <td>4400</td>\n",
       "      <td>5</td>\n",
       "      <td>4250</td>\n",
       "      <td>400</td>\n",
       "      <td>300</td>\n",
       "      <td>500</td>\n",
       "      <td>500</td>\n",
       "      <td>0</td>\n",
       "      <td>...</td>\n",
       "      <td>0</td>\n",
       "      <td>1</td>\n",
       "      <td>0</td>\n",
       "      <td>0</td>\n",
       "      <td>0</td>\n",
       "      <td>0</td>\n",
       "      <td>1</td>\n",
       "      <td>0</td>\n",
       "      <td>00330e8b-ba01-4d3f-a6c1-66881b879dac</td>\n",
       "      <td>1</td>\n",
       "    </tr>\n",
       "    <tr>\n",
       "      <th>1</th>\n",
       "      <td>0.511811</td>\n",
       "      <td>5</td>\n",
       "      <td>4400</td>\n",
       "      <td>5</td>\n",
       "      <td>4250</td>\n",
       "      <td>400</td>\n",
       "      <td>300</td>\n",
       "      <td>500</td>\n",
       "      <td>500</td>\n",
       "      <td>0</td>\n",
       "      <td>...</td>\n",
       "      <td>0</td>\n",
       "      <td>1</td>\n",
       "      <td>0</td>\n",
       "      <td>0</td>\n",
       "      <td>0</td>\n",
       "      <td>0</td>\n",
       "      <td>1</td>\n",
       "      <td>0</td>\n",
       "      <td>00330e8b-ba01-4d3f-a6c1-66881b879dac</td>\n",
       "      <td>1</td>\n",
       "    </tr>\n",
       "    <tr>\n",
       "      <th>2</th>\n",
       "      <td>1.015748</td>\n",
       "      <td>5</td>\n",
       "      <td>4400</td>\n",
       "      <td>5</td>\n",
       "      <td>4250</td>\n",
       "      <td>400</td>\n",
       "      <td>300</td>\n",
       "      <td>500</td>\n",
       "      <td>500</td>\n",
       "      <td>0</td>\n",
       "      <td>...</td>\n",
       "      <td>0</td>\n",
       "      <td>1</td>\n",
       "      <td>0</td>\n",
       "      <td>0</td>\n",
       "      <td>0</td>\n",
       "      <td>0</td>\n",
       "      <td>1</td>\n",
       "      <td>0</td>\n",
       "      <td>00330e8b-ba01-4d3f-a6c1-66881b879dac</td>\n",
       "      <td>1</td>\n",
       "    </tr>\n",
       "    <tr>\n",
       "      <th>3</th>\n",
       "      <td>1.519685</td>\n",
       "      <td>5</td>\n",
       "      <td>4400</td>\n",
       "      <td>5</td>\n",
       "      <td>4250</td>\n",
       "      <td>400</td>\n",
       "      <td>300</td>\n",
       "      <td>500</td>\n",
       "      <td>500</td>\n",
       "      <td>0</td>\n",
       "      <td>...</td>\n",
       "      <td>0</td>\n",
       "      <td>1</td>\n",
       "      <td>0</td>\n",
       "      <td>0</td>\n",
       "      <td>0</td>\n",
       "      <td>0</td>\n",
       "      <td>1</td>\n",
       "      <td>0</td>\n",
       "      <td>00330e8b-ba01-4d3f-a6c1-66881b879dac</td>\n",
       "      <td>1</td>\n",
       "    </tr>\n",
       "    <tr>\n",
       "      <th>4</th>\n",
       "      <td>2.023622</td>\n",
       "      <td>5</td>\n",
       "      <td>4400</td>\n",
       "      <td>5</td>\n",
       "      <td>4250</td>\n",
       "      <td>400</td>\n",
       "      <td>300</td>\n",
       "      <td>500</td>\n",
       "      <td>500</td>\n",
       "      <td>0</td>\n",
       "      <td>...</td>\n",
       "      <td>0</td>\n",
       "      <td>1</td>\n",
       "      <td>0</td>\n",
       "      <td>0</td>\n",
       "      <td>0</td>\n",
       "      <td>0</td>\n",
       "      <td>1</td>\n",
       "      <td>0</td>\n",
       "      <td>00330e8b-ba01-4d3f-a6c1-66881b879dac</td>\n",
       "      <td>1</td>\n",
       "    </tr>\n",
       "    <tr>\n",
       "      <th>...</th>\n",
       "      <td>...</td>\n",
       "      <td>...</td>\n",
       "      <td>...</td>\n",
       "      <td>...</td>\n",
       "      <td>...</td>\n",
       "      <td>...</td>\n",
       "      <td>...</td>\n",
       "      <td>...</td>\n",
       "      <td>...</td>\n",
       "      <td>...</td>\n",
       "      <td>...</td>\n",
       "      <td>...</td>\n",
       "      <td>...</td>\n",
       "      <td>...</td>\n",
       "      <td>...</td>\n",
       "      <td>...</td>\n",
       "      <td>...</td>\n",
       "      <td>...</td>\n",
       "      <td>...</td>\n",
       "      <td>...</td>\n",
       "      <td>...</td>\n",
       "    </tr>\n",
       "    <tr>\n",
       "      <th>7464293</th>\n",
       "      <td>81.464567</td>\n",
       "      <td>3</td>\n",
       "      <td>26800</td>\n",
       "      <td>1</td>\n",
       "      <td>24300</td>\n",
       "      <td>290</td>\n",
       "      <td>94</td>\n",
       "      <td>233</td>\n",
       "      <td>74</td>\n",
       "      <td>3</td>\n",
       "      <td>...</td>\n",
       "      <td>0</td>\n",
       "      <td>0</td>\n",
       "      <td>0</td>\n",
       "      <td>1</td>\n",
       "      <td>0</td>\n",
       "      <td>0</td>\n",
       "      <td>1</td>\n",
       "      <td>1</td>\n",
       "      <td>ff910f54-0bed-4fdf-afa8-b481be09a788</td>\n",
       "      <td>26</td>\n",
       "    </tr>\n",
       "    <tr>\n",
       "      <th>7464294</th>\n",
       "      <td>81.968504</td>\n",
       "      <td>3</td>\n",
       "      <td>26800</td>\n",
       "      <td>1</td>\n",
       "      <td>24300</td>\n",
       "      <td>290</td>\n",
       "      <td>94</td>\n",
       "      <td>233</td>\n",
       "      <td>74</td>\n",
       "      <td>3</td>\n",
       "      <td>...</td>\n",
       "      <td>0</td>\n",
       "      <td>0</td>\n",
       "      <td>0</td>\n",
       "      <td>1</td>\n",
       "      <td>0</td>\n",
       "      <td>0</td>\n",
       "      <td>1</td>\n",
       "      <td>1</td>\n",
       "      <td>ff910f54-0bed-4fdf-afa8-b481be09a788</td>\n",
       "      <td>26</td>\n",
       "    </tr>\n",
       "    <tr>\n",
       "      <th>7464295</th>\n",
       "      <td>82.472441</td>\n",
       "      <td>3</td>\n",
       "      <td>26800</td>\n",
       "      <td>1</td>\n",
       "      <td>24300</td>\n",
       "      <td>286</td>\n",
       "      <td>94</td>\n",
       "      <td>206</td>\n",
       "      <td>74</td>\n",
       "      <td>3</td>\n",
       "      <td>...</td>\n",
       "      <td>0</td>\n",
       "      <td>0</td>\n",
       "      <td>0</td>\n",
       "      <td>1</td>\n",
       "      <td>0</td>\n",
       "      <td>0</td>\n",
       "      <td>1</td>\n",
       "      <td>1</td>\n",
       "      <td>ff910f54-0bed-4fdf-afa8-b481be09a788</td>\n",
       "      <td>26</td>\n",
       "    </tr>\n",
       "    <tr>\n",
       "      <th>7464296</th>\n",
       "      <td>82.976378</td>\n",
       "      <td>2</td>\n",
       "      <td>26800</td>\n",
       "      <td>1</td>\n",
       "      <td>24300</td>\n",
       "      <td>194</td>\n",
       "      <td>94</td>\n",
       "      <td>159</td>\n",
       "      <td>74</td>\n",
       "      <td>2</td>\n",
       "      <td>...</td>\n",
       "      <td>0</td>\n",
       "      <td>0</td>\n",
       "      <td>0</td>\n",
       "      <td>1</td>\n",
       "      <td>0</td>\n",
       "      <td>0</td>\n",
       "      <td>1</td>\n",
       "      <td>1</td>\n",
       "      <td>ff910f54-0bed-4fdf-afa8-b481be09a788</td>\n",
       "      <td>26</td>\n",
       "    </tr>\n",
       "    <tr>\n",
       "      <th>7464297</th>\n",
       "      <td>83.480315</td>\n",
       "      <td>2</td>\n",
       "      <td>26800</td>\n",
       "      <td>1</td>\n",
       "      <td>24300</td>\n",
       "      <td>194</td>\n",
       "      <td>90</td>\n",
       "      <td>159</td>\n",
       "      <td>47</td>\n",
       "      <td>2</td>\n",
       "      <td>...</td>\n",
       "      <td>0</td>\n",
       "      <td>0</td>\n",
       "      <td>0</td>\n",
       "      <td>1</td>\n",
       "      <td>0</td>\n",
       "      <td>0</td>\n",
       "      <td>1</td>\n",
       "      <td>1</td>\n",
       "      <td>ff910f54-0bed-4fdf-afa8-b481be09a788</td>\n",
       "      <td>26</td>\n",
       "    </tr>\n",
       "  </tbody>\n",
       "</table>\n",
       "<p>7464298 rows × 102 columns</p>\n",
       "</div>"
      ],
      "text/plain": [
       "           seconds  ctAlivePlayers  ctEqVal  tAlivePlayers  tEqVal  ct_armor  \\\n",
       "0         0.007874               5     4400              5    4250       400   \n",
       "1         0.511811               5     4400              5    4250       400   \n",
       "2         1.015748               5     4400              5    4250       400   \n",
       "3         1.519685               5     4400              5    4250       400   \n",
       "4         2.023622               5     4400              5    4250       400   \n",
       "...            ...             ...      ...            ...     ...       ...   \n",
       "7464293  81.464567               3    26800              1   24300       290   \n",
       "7464294  81.968504               3    26800              1   24300       290   \n",
       "7464295  82.472441               3    26800              1   24300       286   \n",
       "7464296  82.976378               2    26800              1   24300       194   \n",
       "7464297  83.480315               2    26800              1   24300       194   \n",
       "\n",
       "         t_armor  ct_hp  t_hp  ct_hasHelmet  ...  de_mirage  de_nuke  \\\n",
       "0            300    500   500             0  ...          0        1   \n",
       "1            300    500   500             0  ...          0        1   \n",
       "2            300    500   500             0  ...          0        1   \n",
       "3            300    500   500             0  ...          0        1   \n",
       "4            300    500   500             0  ...          0        1   \n",
       "...          ...    ...   ...           ...  ...        ...      ...   \n",
       "7464293       94    233    74             3  ...          0        0   \n",
       "7464294       94    233    74             3  ...          0        0   \n",
       "7464295       94    206    74             3  ...          0        0   \n",
       "7464296       94    159    74             2  ...          0        0   \n",
       "7464297       90    159    47             2  ...          0        0   \n",
       "\n",
       "         de_overpass  de_vertigo  bombsite_A  bombsite_B  \\\n",
       "0                  0           0           0           0   \n",
       "1                  0           0           0           0   \n",
       "2                  0           0           0           0   \n",
       "3                  0           0           0           0   \n",
       "4                  0           0           0           0   \n",
       "...              ...         ...         ...         ...   \n",
       "7464293            0           1           0           0   \n",
       "7464294            0           1           0           0   \n",
       "7464295            0           1           0           0   \n",
       "7464296            0           1           0           0   \n",
       "7464297            0           1           0           0   \n",
       "\n",
       "         bombsite_not_planted  winningSideCT  \\\n",
       "0                           1              0   \n",
       "1                           1              0   \n",
       "2                           1              0   \n",
       "3                           1              0   \n",
       "4                           1              0   \n",
       "...                       ...            ...   \n",
       "7464293                     1              1   \n",
       "7464294                     1              1   \n",
       "7464295                     1              1   \n",
       "7464296                     1              1   \n",
       "7464297                     1              1   \n",
       "\n",
       "                                       demoId  roundNum  \n",
       "0        00330e8b-ba01-4d3f-a6c1-66881b879dac         1  \n",
       "1        00330e8b-ba01-4d3f-a6c1-66881b879dac         1  \n",
       "2        00330e8b-ba01-4d3f-a6c1-66881b879dac         1  \n",
       "3        00330e8b-ba01-4d3f-a6c1-66881b879dac         1  \n",
       "4        00330e8b-ba01-4d3f-a6c1-66881b879dac         1  \n",
       "...                                       ...       ...  \n",
       "7464293  ff910f54-0bed-4fdf-afa8-b481be09a788        26  \n",
       "7464294  ff910f54-0bed-4fdf-afa8-b481be09a788        26  \n",
       "7464295  ff910f54-0bed-4fdf-afa8-b481be09a788        26  \n",
       "7464296  ff910f54-0bed-4fdf-afa8-b481be09a788        26  \n",
       "7464297  ff910f54-0bed-4fdf-afa8-b481be09a788        26  \n",
       "\n",
       "[7464298 rows x 102 columns]"
      ]
     },
     "execution_count": 4,
     "metadata": {},
     "output_type": "execute_result"
    }
   ],
   "source": [
    "df = pd.read_parquet('data/ESTA_states_prepared.parquet', columns=select_feat() + [\"winningSideCT\", 'demoId', 'roundNum'])\n",
    "df"
   ]
  },
  {
   "cell_type": "code",
   "execution_count": 5,
   "id": "a8d2e66a-e948-4860-85ce-54bfe7d1140b",
   "metadata": {},
   "outputs": [
    {
     "name": "stdout",
     "output_type": "stream",
     "text": [
      "<class 'pandas.core.frame.DataFrame'>\n",
      "Int64Index: 7464298 entries, 0 to 7464297\n",
      "Columns: 102 entries, seconds to roundNum\n",
      "dtypes: float64(17), int32(7), int64(67), object(1), uint8(10)\n",
      "memory usage: 5.0+ GB\n"
     ]
    }
   ],
   "source": [
    "df.info()"
   ]
  },
  {
   "cell_type": "markdown",
   "id": "f64226fb-b737-464f-97ff-24fe76105cc8",
   "metadata": {},
   "source": [
    "## Podział"
   ]
  },
  {
   "cell_type": "code",
   "execution_count": 6,
   "id": "fcdc8b07-4c13-42ef-8a37-9ec036d90bc2",
   "metadata": {},
   "outputs": [
    {
     "data": {
      "text/html": [
       "<div>\n",
       "<style scoped>\n",
       "    .dataframe tbody tr th:only-of-type {\n",
       "        vertical-align: middle;\n",
       "    }\n",
       "\n",
       "    .dataframe tbody tr th {\n",
       "        vertical-align: top;\n",
       "    }\n",
       "\n",
       "    .dataframe thead th {\n",
       "        text-align: right;\n",
       "    }\n",
       "</style>\n",
       "<table border=\"1\" class=\"dataframe\">\n",
       "  <thead>\n",
       "    <tr style=\"text-align: right;\">\n",
       "      <th></th>\n",
       "      <th>demoId</th>\n",
       "      <th>roundNum</th>\n",
       "    </tr>\n",
       "  </thead>\n",
       "  <tbody>\n",
       "    <tr>\n",
       "      <th>0</th>\n",
       "      <td>0013db25-4444-452b-980b-7702dc6fb810</td>\n",
       "      <td>1</td>\n",
       "    </tr>\n",
       "    <tr>\n",
       "      <th>1</th>\n",
       "      <td>0013db25-4444-452b-980b-7702dc6fb810</td>\n",
       "      <td>2</td>\n",
       "    </tr>\n",
       "    <tr>\n",
       "      <th>2</th>\n",
       "      <td>0013db25-4444-452b-980b-7702dc6fb810</td>\n",
       "      <td>3</td>\n",
       "    </tr>\n",
       "    <tr>\n",
       "      <th>3</th>\n",
       "      <td>0013db25-4444-452b-980b-7702dc6fb810</td>\n",
       "      <td>4</td>\n",
       "    </tr>\n",
       "    <tr>\n",
       "      <th>4</th>\n",
       "      <td>0013db25-4444-452b-980b-7702dc6fb810</td>\n",
       "      <td>5</td>\n",
       "    </tr>\n",
       "    <tr>\n",
       "      <th>...</th>\n",
       "      <td>...</td>\n",
       "      <td>...</td>\n",
       "    </tr>\n",
       "    <tr>\n",
       "      <th>41069</th>\n",
       "      <td>ff910f54-0bed-4fdf-afa8-b481be09a788</td>\n",
       "      <td>22</td>\n",
       "    </tr>\n",
       "    <tr>\n",
       "      <th>41070</th>\n",
       "      <td>ff910f54-0bed-4fdf-afa8-b481be09a788</td>\n",
       "      <td>23</td>\n",
       "    </tr>\n",
       "    <tr>\n",
       "      <th>41071</th>\n",
       "      <td>ff910f54-0bed-4fdf-afa8-b481be09a788</td>\n",
       "      <td>24</td>\n",
       "    </tr>\n",
       "    <tr>\n",
       "      <th>41072</th>\n",
       "      <td>ff910f54-0bed-4fdf-afa8-b481be09a788</td>\n",
       "      <td>25</td>\n",
       "    </tr>\n",
       "    <tr>\n",
       "      <th>41073</th>\n",
       "      <td>ff910f54-0bed-4fdf-afa8-b481be09a788</td>\n",
       "      <td>26</td>\n",
       "    </tr>\n",
       "  </tbody>\n",
       "</table>\n",
       "<p>41074 rows × 2 columns</p>\n",
       "</div>"
      ],
      "text/plain": [
       "                                     demoId  roundNum\n",
       "0      0013db25-4444-452b-980b-7702dc6fb810         1\n",
       "1      0013db25-4444-452b-980b-7702dc6fb810         2\n",
       "2      0013db25-4444-452b-980b-7702dc6fb810         3\n",
       "3      0013db25-4444-452b-980b-7702dc6fb810         4\n",
       "4      0013db25-4444-452b-980b-7702dc6fb810         5\n",
       "...                                     ...       ...\n",
       "41069  ff910f54-0bed-4fdf-afa8-b481be09a788        22\n",
       "41070  ff910f54-0bed-4fdf-afa8-b481be09a788        23\n",
       "41071  ff910f54-0bed-4fdf-afa8-b481be09a788        24\n",
       "41072  ff910f54-0bed-4fdf-afa8-b481be09a788        25\n",
       "41073  ff910f54-0bed-4fdf-afa8-b481be09a788        26\n",
       "\n",
       "[41074 rows x 2 columns]"
      ]
     },
     "execution_count": 6,
     "metadata": {},
     "output_type": "execute_result"
    }
   ],
   "source": [
    "groupped = df.groupby(['demoId', 'roundNum'])\n",
    "demo_indexes = list(groupped.indices.keys())\n",
    "demo_round = pd.DataFrame.from_records(demo_indexes, columns=['demoId', 'roundNum'])\n",
    "demo_round"
   ]
  },
  {
   "cell_type": "code",
   "execution_count": 7,
   "id": "19cbc38d-5011-40de-abc8-2dab6d25ea9f",
   "metadata": {},
   "outputs": [
    {
     "data": {
      "text/plain": [
       "((28751, 2), (4108, 2), (8215, 2))"
      ]
     },
     "execution_count": 7,
     "metadata": {},
     "output_type": "execute_result"
    }
   ],
   "source": [
    "demo_round_train, demo_round_test = train_test_split(demo_round, test_size=0.2, random_state=1)\n",
    "demo_round_train, demo_round_val = train_test_split(demo_round_train, test_size=0.125, random_state=1) # 0.125 x 0.8 = 0.1\n",
    "demo_round_train.shape, demo_round_val.shape, demo_round_test.shape"
   ]
  },
  {
   "cell_type": "code",
   "execution_count": 8,
   "id": "eb35af52-7f14-4ae7-9013-2710e17d63e3",
   "metadata": {
    "tags": []
   },
   "outputs": [
    {
     "data": {
      "text/plain": [
       "((5219419, 102), (746248, 102), (1498631, 102))"
      ]
     },
     "execution_count": 8,
     "metadata": {},
     "output_type": "execute_result"
    }
   ],
   "source": [
    "df_train = df.merge(demo_round_train, on=['demoId', 'roundNum'])\n",
    "df_val = df.merge(demo_round_val, on=['demoId', 'roundNum'])\n",
    "df_test = df.merge(demo_round_test, on=['demoId', 'roundNum'])\n",
    "df_train.shape, df_val.shape, df_test.shape"
   ]
  },
  {
   "cell_type": "code",
   "execution_count": 9,
   "id": "88723c62-f708-4f17-a197-1bbdc320cecf",
   "metadata": {},
   "outputs": [],
   "source": [
    "def generate_indices(data, lookback):\n",
    "    grouped = data.groupby(['demoId', 'roundNum'])\n",
    "    dict_gr = grouped.indices\n",
    "    for key, val in dict_gr.items():\n",
    "        dict_gr[key] = np.min(val),  np.max(val)\n",
    "    \n",
    "    indices = np.zeros((len(dict_gr), lookback), dtype=np.int32)\n",
    "    for index, key in enumerate(dict_gr):\n",
    "        minimum, maximum = dict_gr[key]\n",
    "        i = random.randint(minimum, maximum)\n",
    "        if i - minimum < lookback:\n",
    "            indices[index] = np.hstack((np.repeat(-1, lookback - (i + 1 - minimum)), np.arange(minimum, i + 1, dtype=np.int32)))\n",
    "        else:\n",
    "            indices[index] = np.arange(i + 1 - lookback, i + 1, dtype=np.int32)\n",
    "    return indices"
   ]
  },
  {
   "cell_type": "code",
   "execution_count": 10,
   "id": "fc2ef975-5711-49b9-bfb6-818513d7b220",
   "metadata": {},
   "outputs": [
    {
     "data": {
      "text/plain": [
       "(2.30008, 0.32864, 0.6572)"
      ]
     },
     "execution_count": 10,
     "metadata": {},
     "output_type": "execute_result"
    }
   ],
   "source": [
    "lookback = 20\n",
    "train_indexes = generate_indices(df_train, lookback)\n",
    "valid_indexes = generate_indices(df_val, lookback)\n",
    "test_indexes = generate_indices(df_test, lookback)\n",
    "train_indexes.size * train_indexes.itemsize / 1_000_000, valid_indexes.size * valid_indexes.itemsize / 1_000_000 , test_indexes.size * test_indexes.itemsize / 1_000_000"
   ]
  },
  {
   "cell_type": "code",
   "execution_count": 12,
   "id": "0cf07dcd-dabe-436d-957a-6c5b84a19064",
   "metadata": {},
   "outputs": [],
   "source": [
    "y_train, y_valid, y_test = df_train['winningSideCT'], df_val['winningSideCT'], df_test['winningSideCT']\n",
    "norm_train = df_train.drop(['demoId', 'roundNum', 'winningSideCT'], axis='columns')\n",
    "norm_valid = df_val.drop(['demoId', 'roundNum', 'winningSideCT'], axis='columns')\n",
    "norm_test = df_test.drop(['demoId', 'roundNum', 'winningSideCT'], axis='columns')\n",
    "cols = norm_train.columns.tolist()\n",
    "del df_train, df_val, df_test\n",
    "scaler = StandardScaler()\n",
    "norm_train = scaler.fit_transform(norm_train)\n",
    "norm_valid = scaler.transform(norm_valid)\n",
    "norm_test = scaler.transform(norm_test)"
   ]
  },
  {
   "cell_type": "code",
   "execution_count": 13,
   "id": "a72c61c6-8c29-4514-a498-3677365a8824",
   "metadata": {},
   "outputs": [],
   "source": [
    "class CSGOsequence(Sequence):\n",
    "    def __init__(self, x_set, y_set, batch_size, indices, shuffle):\n",
    "        self.x, self.y = x_set, y_set\n",
    "        self.indices = indices\n",
    "        self.batch_size = batch_size\n",
    "        self.shuffle = shuffle\n",
    "        if self.shuffle:\n",
    "            np.random.shuffle(self.indices)\n",
    "\n",
    "    def __len__(self):\n",
    "        return math.ceil(self.indices.shape[0] / self.batch_size)\n",
    "                         \n",
    "    def __getitem__(self, idx):\n",
    "        batch_x = [np.array([np.zeros(self.x.shape[-1]) if val < 0 else self.x[val] \n",
    "                   for val in index])\n",
    "                       for index in self.indices[idx * self.batch_size : (idx + 1) * self.batch_size]]\n",
    "        batch_y = self.y[self.indices[idx * self.batch_size : (idx + 1) * self.batch_size, -1]]\n",
    "        return np.array(batch_x), np.array(batch_y)\n",
    "    \n",
    "    def on_epoch_end(self):\n",
    "        if self.shuffle:\n",
    "            np.random.shuffle(self.indices)"
   ]
  },
  {
   "cell_type": "code",
   "execution_count": 14,
   "id": "3d3a9b4e-c301-40dd-aeaa-249e9f6beb36",
   "metadata": {
    "tags": []
   },
   "outputs": [],
   "source": [
    "train_seq = CSGOsequence(norm_train, y_train.values, 2048, train_indexes, shuffle=True)\n",
    "valid_seq = CSGOsequence(norm_valid, y_valid.values, 2048, valid_indexes, shuffle=False)\n",
    "test_seq = CSGOsequence(norm_test, y_test.values, 2048, test_indexes, shuffle=False)"
   ]
  },
  {
   "cell_type": "code",
   "execution_count": 15,
   "id": "c2ce6981-1618-4d49-8a50-3953ab1aa44a",
   "metadata": {},
   "outputs": [],
   "source": [
    "os.makedirs(\"model_deep\", exist_ok=True)"
   ]
  },
  {
   "cell_type": "code",
   "execution_count": 16,
   "id": "b9315cf1-6ec4-476c-a8e0-1c6d7adecb6d",
   "metadata": {},
   "outputs": [],
   "source": [
    "early_stopping = EarlyStopping(\n",
    "    monitor='val_loss',\n",
    "    min_delta=0.0001,\n",
    "    patience=30,\n",
    "    verbose=0,\n",
    "    mode='min',\n",
    "    baseline=None,\n",
    "    restore_best_weights=True,\n",
    ")\n",
    "\n",
    "model_checkpoint_callback = ModelCheckpoint(\n",
    "    filepath=\"model_deep/rnn.tf\",\n",
    "    monitor='val_loss',\n",
    "    mode='min',\n",
    "    save_best_only=True)\n",
    "\n",
    "logger = CSVLogger(\n",
    "    \"model_deep/rnn_log.csv\", separator=',', append=True\n",
    ")"
   ]
  },
  {
   "cell_type": "code",
   "execution_count": 17,
   "id": "bfe1d499-cf88-416d-b37d-120ab2335e75",
   "metadata": {},
   "outputs": [
    {
     "name": "stdout",
     "output_type": "stream",
     "text": [
      "Epoch 1/200\n",
      "15/15 [==============================] - 5s 161ms/step - loss: 5.7944 - binary_accuracy: 0.7258 - auc: 0.8200 - val_loss: 4.4080 - val_binary_accuracy: 0.7819 - val_auc: 0.8762\n"
     ]
    },
    {
     "name": "stderr",
     "output_type": "stream",
     "text": [
      "WARNING:absl:Found untraced functions such as gru_cell_layer_call_and_return_conditional_losses, gru_cell_layer_call_fn, gru_cell_layer_call_fn, gru_cell_layer_call_and_return_conditional_losses, gru_cell_layer_call_and_return_conditional_losses while saving (showing 5 of 5). These functions will not be directly callable after loading.\n"
     ]
    },
    {
     "name": "stdout",
     "output_type": "stream",
     "text": [
      "INFO:tensorflow:Assets written to: model_deep\\rnn.tf\\assets\n"
     ]
    },
    {
     "name": "stderr",
     "output_type": "stream",
     "text": [
      "INFO:tensorflow:Assets written to: model_deep\\rnn.tf\\assets\n"
     ]
    },
    {
     "name": "stdout",
     "output_type": "stream",
     "text": [
      "Epoch 2/200\n",
      "15/15 [==============================] - 1s 63ms/step - loss: 3.6366 - binary_accuracy: 0.7741 - auc: 0.8676 - val_loss: 2.7466 - val_binary_accuracy: 0.7880 - val_auc: 0.8791\n"
     ]
    },
    {
     "name": "stderr",
     "output_type": "stream",
     "text": [
      "WARNING:absl:Found untraced functions such as gru_cell_layer_call_and_return_conditional_losses, gru_cell_layer_call_fn, gru_cell_layer_call_fn, gru_cell_layer_call_and_return_conditional_losses, gru_cell_layer_call_and_return_conditional_losses while saving (showing 5 of 5). These functions will not be directly callable after loading.\n"
     ]
    },
    {
     "name": "stdout",
     "output_type": "stream",
     "text": [
      "INFO:tensorflow:Assets written to: model_deep\\rnn.tf\\assets\n"
     ]
    },
    {
     "name": "stderr",
     "output_type": "stream",
     "text": [
      "INFO:tensorflow:Assets written to: model_deep\\rnn.tf\\assets\n"
     ]
    },
    {
     "name": "stdout",
     "output_type": "stream",
     "text": [
      "Epoch 3/200\n",
      "15/15 [==============================] - 1s 69ms/step - loss: 2.2999 - binary_accuracy: 0.7775 - auc: 0.8706 - val_loss: 1.7910 - val_binary_accuracy: 0.7846 - val_auc: 0.8794\n"
     ]
    },
    {
     "name": "stderr",
     "output_type": "stream",
     "text": [
      "WARNING:absl:Found untraced functions such as gru_cell_layer_call_and_return_conditional_losses, gru_cell_layer_call_fn, gru_cell_layer_call_fn, gru_cell_layer_call_and_return_conditional_losses, gru_cell_layer_call_and_return_conditional_losses while saving (showing 5 of 5). These functions will not be directly callable after loading.\n"
     ]
    },
    {
     "name": "stdout",
     "output_type": "stream",
     "text": [
      "INFO:tensorflow:Assets written to: model_deep\\rnn.tf\\assets\n"
     ]
    },
    {
     "name": "stderr",
     "output_type": "stream",
     "text": [
      "INFO:tensorflow:Assets written to: model_deep\\rnn.tf\\assets\n"
     ]
    },
    {
     "name": "stdout",
     "output_type": "stream",
     "text": [
      "Epoch 4/200\n",
      "15/15 [==============================] - 1s 65ms/step - loss: 1.5273 - binary_accuracy: 0.7758 - auc: 0.8691 - val_loss: 1.2509 - val_binary_accuracy: 0.7836 - val_auc: 0.8779\n"
     ]
    },
    {
     "name": "stderr",
     "output_type": "stream",
     "text": [
      "WARNING:absl:Found untraced functions such as gru_cell_layer_call_and_return_conditional_losses, gru_cell_layer_call_fn, gru_cell_layer_call_fn, gru_cell_layer_call_and_return_conditional_losses, gru_cell_layer_call_and_return_conditional_losses while saving (showing 5 of 5). These functions will not be directly callable after loading.\n"
     ]
    },
    {
     "name": "stdout",
     "output_type": "stream",
     "text": [
      "INFO:tensorflow:Assets written to: model_deep\\rnn.tf\\assets\n"
     ]
    },
    {
     "name": "stderr",
     "output_type": "stream",
     "text": [
      "INFO:tensorflow:Assets written to: model_deep\\rnn.tf\\assets\n"
     ]
    },
    {
     "name": "stdout",
     "output_type": "stream",
     "text": [
      "Epoch 5/200\n",
      "15/15 [==============================] - 1s 69ms/step - loss: 1.1026 - binary_accuracy: 0.7789 - auc: 0.8717 - val_loss: 0.9437 - val_binary_accuracy: 0.7802 - val_auc: 0.8773\n"
     ]
    },
    {
     "name": "stderr",
     "output_type": "stream",
     "text": [
      "WARNING:absl:Found untraced functions such as gru_cell_layer_call_and_return_conditional_losses, gru_cell_layer_call_fn, gru_cell_layer_call_fn, gru_cell_layer_call_and_return_conditional_losses, gru_cell_layer_call_and_return_conditional_losses while saving (showing 5 of 5). These functions will not be directly callable after loading.\n"
     ]
    },
    {
     "name": "stdout",
     "output_type": "stream",
     "text": [
      "INFO:tensorflow:Assets written to: model_deep\\rnn.tf\\assets\n"
     ]
    },
    {
     "name": "stderr",
     "output_type": "stream",
     "text": [
      "INFO:tensorflow:Assets written to: model_deep\\rnn.tf\\assets\n"
     ]
    },
    {
     "name": "stdout",
     "output_type": "stream",
     "text": [
      "Epoch 6/200\n",
      "15/15 [==============================] - 1s 68ms/step - loss: 0.8665 - binary_accuracy: 0.7774 - auc: 0.8714 - val_loss: 0.7666 - val_binary_accuracy: 0.7860 - val_auc: 0.8804\n"
     ]
    },
    {
     "name": "stderr",
     "output_type": "stream",
     "text": [
      "WARNING:absl:Found untraced functions such as gru_cell_layer_call_and_return_conditional_losses, gru_cell_layer_call_fn, gru_cell_layer_call_fn, gru_cell_layer_call_and_return_conditional_losses, gru_cell_layer_call_and_return_conditional_losses while saving (showing 5 of 5). These functions will not be directly callable after loading.\n"
     ]
    },
    {
     "name": "stdout",
     "output_type": "stream",
     "text": [
      "INFO:tensorflow:Assets written to: model_deep\\rnn.tf\\assets\n"
     ]
    },
    {
     "name": "stderr",
     "output_type": "stream",
     "text": [
      "INFO:tensorflow:Assets written to: model_deep\\rnn.tf\\assets\n"
     ]
    },
    {
     "name": "stdout",
     "output_type": "stream",
     "text": [
      "Epoch 7/200\n",
      "15/15 [==============================] - 1s 66ms/step - loss: 0.7279 - binary_accuracy: 0.7765 - auc: 0.8713 - val_loss: 0.6660 - val_binary_accuracy: 0.7819 - val_auc: 0.8789\n"
     ]
    },
    {
     "name": "stderr",
     "output_type": "stream",
     "text": [
      "WARNING:absl:Found untraced functions such as gru_cell_layer_call_and_return_conditional_losses, gru_cell_layer_call_fn, gru_cell_layer_call_fn, gru_cell_layer_call_and_return_conditional_losses, gru_cell_layer_call_and_return_conditional_losses while saving (showing 5 of 5). These functions will not be directly callable after loading.\n"
     ]
    },
    {
     "name": "stdout",
     "output_type": "stream",
     "text": [
      "INFO:tensorflow:Assets written to: model_deep\\rnn.tf\\assets\n"
     ]
    },
    {
     "name": "stderr",
     "output_type": "stream",
     "text": [
      "INFO:tensorflow:Assets written to: model_deep\\rnn.tf\\assets\n"
     ]
    },
    {
     "name": "stdout",
     "output_type": "stream",
     "text": [
      "Epoch 8/200\n",
      "15/15 [==============================] - 1s 69ms/step - loss: 0.6467 - binary_accuracy: 0.7722 - auc: 0.8687 - val_loss: 0.6086 - val_binary_accuracy: 0.7863 - val_auc: 0.8797\n"
     ]
    },
    {
     "name": "stderr",
     "output_type": "stream",
     "text": [
      "WARNING:absl:Found untraced functions such as gru_cell_layer_call_and_return_conditional_losses, gru_cell_layer_call_fn, gru_cell_layer_call_fn, gru_cell_layer_call_and_return_conditional_losses, gru_cell_layer_call_and_return_conditional_losses while saving (showing 5 of 5). These functions will not be directly callable after loading.\n"
     ]
    },
    {
     "name": "stdout",
     "output_type": "stream",
     "text": [
      "INFO:tensorflow:Assets written to: model_deep\\rnn.tf\\assets\n"
     ]
    },
    {
     "name": "stderr",
     "output_type": "stream",
     "text": [
      "INFO:tensorflow:Assets written to: model_deep\\rnn.tf\\assets\n"
     ]
    },
    {
     "name": "stdout",
     "output_type": "stream",
     "text": [
      "Epoch 9/200\n",
      "15/15 [==============================] - 1s 68ms/step - loss: 0.6004 - binary_accuracy: 0.7750 - auc: 0.8713 - val_loss: 0.5781 - val_binary_accuracy: 0.7831 - val_auc: 0.8771\n"
     ]
    },
    {
     "name": "stderr",
     "output_type": "stream",
     "text": [
      "WARNING:absl:Found untraced functions such as gru_cell_layer_call_and_return_conditional_losses, gru_cell_layer_call_fn, gru_cell_layer_call_fn, gru_cell_layer_call_and_return_conditional_losses, gru_cell_layer_call_and_return_conditional_losses while saving (showing 5 of 5). These functions will not be directly callable after loading.\n"
     ]
    },
    {
     "name": "stdout",
     "output_type": "stream",
     "text": [
      "INFO:tensorflow:Assets written to: model_deep\\rnn.tf\\assets\n"
     ]
    },
    {
     "name": "stderr",
     "output_type": "stream",
     "text": [
      "INFO:tensorflow:Assets written to: model_deep\\rnn.tf\\assets\n"
     ]
    },
    {
     "name": "stdout",
     "output_type": "stream",
     "text": [
      "Epoch 10/200\n",
      "15/15 [==============================] - 1s 67ms/step - loss: 0.5775 - binary_accuracy: 0.7738 - auc: 0.8682 - val_loss: 0.5563 - val_binary_accuracy: 0.7882 - val_auc: 0.8802\n"
     ]
    },
    {
     "name": "stderr",
     "output_type": "stream",
     "text": [
      "WARNING:absl:Found untraced functions such as gru_cell_layer_call_and_return_conditional_losses, gru_cell_layer_call_fn, gru_cell_layer_call_fn, gru_cell_layer_call_and_return_conditional_losses, gru_cell_layer_call_and_return_conditional_losses while saving (showing 5 of 5). These functions will not be directly callable after loading.\n"
     ]
    },
    {
     "name": "stdout",
     "output_type": "stream",
     "text": [
      "INFO:tensorflow:Assets written to: model_deep\\rnn.tf\\assets\n"
     ]
    },
    {
     "name": "stderr",
     "output_type": "stream",
     "text": [
      "INFO:tensorflow:Assets written to: model_deep\\rnn.tf\\assets\n"
     ]
    },
    {
     "name": "stdout",
     "output_type": "stream",
     "text": [
      "Epoch 11/200\n",
      "15/15 [==============================] - 1s 70ms/step - loss: 0.5592 - binary_accuracy: 0.7749 - auc: 0.8704 - val_loss: 0.5433 - val_binary_accuracy: 0.7843 - val_auc: 0.8797\n"
     ]
    },
    {
     "name": "stderr",
     "output_type": "stream",
     "text": [
      "WARNING:absl:Found untraced functions such as gru_cell_layer_call_and_return_conditional_losses, gru_cell_layer_call_fn, gru_cell_layer_call_fn, gru_cell_layer_call_and_return_conditional_losses, gru_cell_layer_call_and_return_conditional_losses while saving (showing 5 of 5). These functions will not be directly callable after loading.\n"
     ]
    },
    {
     "name": "stdout",
     "output_type": "stream",
     "text": [
      "INFO:tensorflow:Assets written to: model_deep\\rnn.tf\\assets\n"
     ]
    },
    {
     "name": "stderr",
     "output_type": "stream",
     "text": [
      "INFO:tensorflow:Assets written to: model_deep\\rnn.tf\\assets\n"
     ]
    },
    {
     "name": "stdout",
     "output_type": "stream",
     "text": [
      "Epoch 12/200\n",
      "15/15 [==============================] - 1s 69ms/step - loss: 0.5484 - binary_accuracy: 0.7768 - auc: 0.8717 - val_loss: 0.5381 - val_binary_accuracy: 0.7853 - val_auc: 0.8779\n"
     ]
    },
    {
     "name": "stderr",
     "output_type": "stream",
     "text": [
      "WARNING:absl:Found untraced functions such as gru_cell_layer_call_and_return_conditional_losses, gru_cell_layer_call_fn, gru_cell_layer_call_fn, gru_cell_layer_call_and_return_conditional_losses, gru_cell_layer_call_and_return_conditional_losses while saving (showing 5 of 5). These functions will not be directly callable after loading.\n"
     ]
    },
    {
     "name": "stdout",
     "output_type": "stream",
     "text": [
      "INFO:tensorflow:Assets written to: model_deep\\rnn.tf\\assets\n"
     ]
    },
    {
     "name": "stderr",
     "output_type": "stream",
     "text": [
      "INFO:tensorflow:Assets written to: model_deep\\rnn.tf\\assets\n"
     ]
    },
    {
     "name": "stdout",
     "output_type": "stream",
     "text": [
      "Epoch 13/200\n",
      "15/15 [==============================] - 1s 68ms/step - loss: 0.5438 - binary_accuracy: 0.7754 - auc: 0.8714 - val_loss: 0.5307 - val_binary_accuracy: 0.7841 - val_auc: 0.8821\n"
     ]
    },
    {
     "name": "stderr",
     "output_type": "stream",
     "text": [
      "WARNING:absl:Found untraced functions such as gru_cell_layer_call_and_return_conditional_losses, gru_cell_layer_call_fn, gru_cell_layer_call_fn, gru_cell_layer_call_and_return_conditional_losses, gru_cell_layer_call_and_return_conditional_losses while saving (showing 5 of 5). These functions will not be directly callable after loading.\n"
     ]
    },
    {
     "name": "stdout",
     "output_type": "stream",
     "text": [
      "INFO:tensorflow:Assets written to: model_deep\\rnn.tf\\assets\n"
     ]
    },
    {
     "name": "stderr",
     "output_type": "stream",
     "text": [
      "INFO:tensorflow:Assets written to: model_deep\\rnn.tf\\assets\n"
     ]
    },
    {
     "name": "stdout",
     "output_type": "stream",
     "text": [
      "Epoch 14/200\n",
      "15/15 [==============================] - 1s 59ms/step - loss: 0.5422 - binary_accuracy: 0.7749 - auc: 0.8696 - val_loss: 0.5305 - val_binary_accuracy: 0.7804 - val_auc: 0.8796\n"
     ]
    },
    {
     "name": "stderr",
     "output_type": "stream",
     "text": [
      "WARNING:absl:Found untraced functions such as gru_cell_layer_call_and_return_conditional_losses, gru_cell_layer_call_fn, gru_cell_layer_call_fn, gru_cell_layer_call_and_return_conditional_losses, gru_cell_layer_call_and_return_conditional_losses while saving (showing 5 of 5). These functions will not be directly callable after loading.\n"
     ]
    },
    {
     "name": "stdout",
     "output_type": "stream",
     "text": [
      "INFO:tensorflow:Assets written to: model_deep\\rnn.tf\\assets\n"
     ]
    },
    {
     "name": "stderr",
     "output_type": "stream",
     "text": [
      "INFO:tensorflow:Assets written to: model_deep\\rnn.tf\\assets\n"
     ]
    },
    {
     "name": "stdout",
     "output_type": "stream",
     "text": [
      "Epoch 15/200\n",
      "15/15 [==============================] - 1s 69ms/step - loss: 0.5393 - binary_accuracy: 0.7725 - auc: 0.8703 - val_loss: 0.5281 - val_binary_accuracy: 0.7836 - val_auc: 0.8803\n"
     ]
    },
    {
     "name": "stderr",
     "output_type": "stream",
     "text": [
      "WARNING:absl:Found untraced functions such as gru_cell_layer_call_and_return_conditional_losses, gru_cell_layer_call_fn, gru_cell_layer_call_fn, gru_cell_layer_call_and_return_conditional_losses, gru_cell_layer_call_and_return_conditional_losses while saving (showing 5 of 5). These functions will not be directly callable after loading.\n"
     ]
    },
    {
     "name": "stdout",
     "output_type": "stream",
     "text": [
      "INFO:tensorflow:Assets written to: model_deep\\rnn.tf\\assets\n"
     ]
    },
    {
     "name": "stderr",
     "output_type": "stream",
     "text": [
      "INFO:tensorflow:Assets written to: model_deep\\rnn.tf\\assets\n"
     ]
    },
    {
     "name": "stdout",
     "output_type": "stream",
     "text": [
      "Epoch 16/200\n",
      "15/15 [==============================] - 1s 66ms/step - loss: 0.5368 - binary_accuracy: 0.7770 - auc: 0.8716 - val_loss: 0.5335 - val_binary_accuracy: 0.7831 - val_auc: 0.8749\n",
      "Epoch 17/200\n",
      "15/15 [==============================] - 1s 58ms/step - loss: 0.5388 - binary_accuracy: 0.7734 - auc: 0.8689 - val_loss: 0.5272 - val_binary_accuracy: 0.7833 - val_auc: 0.8800\n"
     ]
    },
    {
     "name": "stderr",
     "output_type": "stream",
     "text": [
      "WARNING:absl:Found untraced functions such as gru_cell_layer_call_and_return_conditional_losses, gru_cell_layer_call_fn, gru_cell_layer_call_fn, gru_cell_layer_call_and_return_conditional_losses, gru_cell_layer_call_and_return_conditional_losses while saving (showing 5 of 5). These functions will not be directly callable after loading.\n"
     ]
    },
    {
     "name": "stdout",
     "output_type": "stream",
     "text": [
      "INFO:tensorflow:Assets written to: model_deep\\rnn.tf\\assets\n"
     ]
    },
    {
     "name": "stderr",
     "output_type": "stream",
     "text": [
      "INFO:tensorflow:Assets written to: model_deep\\rnn.tf\\assets\n"
     ]
    },
    {
     "name": "stdout",
     "output_type": "stream",
     "text": [
      "Epoch 18/200\n",
      "15/15 [==============================] - 1s 61ms/step - loss: 0.5353 - binary_accuracy: 0.7741 - auc: 0.8717 - val_loss: 0.5247 - val_binary_accuracy: 0.7882 - val_auc: 0.8809\n"
     ]
    },
    {
     "name": "stderr",
     "output_type": "stream",
     "text": [
      "WARNING:absl:Found untraced functions such as gru_cell_layer_call_and_return_conditional_losses, gru_cell_layer_call_fn, gru_cell_layer_call_fn, gru_cell_layer_call_and_return_conditional_losses, gru_cell_layer_call_and_return_conditional_losses while saving (showing 5 of 5). These functions will not be directly callable after loading.\n"
     ]
    },
    {
     "name": "stdout",
     "output_type": "stream",
     "text": [
      "INFO:tensorflow:Assets written to: model_deep\\rnn.tf\\assets\n"
     ]
    },
    {
     "name": "stderr",
     "output_type": "stream",
     "text": [
      "INFO:tensorflow:Assets written to: model_deep\\rnn.tf\\assets\n"
     ]
    },
    {
     "name": "stdout",
     "output_type": "stream",
     "text": [
      "Epoch 19/200\n",
      "15/15 [==============================] - 1s 69ms/step - loss: 0.5358 - binary_accuracy: 0.7766 - auc: 0.8712 - val_loss: 0.5256 - val_binary_accuracy: 0.7858 - val_auc: 0.8810\n",
      "Epoch 20/200\n",
      "15/15 [==============================] - 1s 59ms/step - loss: 0.5348 - binary_accuracy: 0.7772 - auc: 0.8720 - val_loss: 0.5250 - val_binary_accuracy: 0.7887 - val_auc: 0.8814\n",
      "Epoch 21/200\n",
      "15/15 [==============================] - 1s 56ms/step - loss: 0.5359 - binary_accuracy: 0.7741 - auc: 0.8708 - val_loss: 0.5262 - val_binary_accuracy: 0.7865 - val_auc: 0.8793\n",
      "Epoch 22/200\n",
      "15/15 [==============================] - 1s 57ms/step - loss: 0.5339 - binary_accuracy: 0.7767 - auc: 0.8718 - val_loss: 0.5262 - val_binary_accuracy: 0.7863 - val_auc: 0.8797\n",
      "Epoch 23/200\n",
      "15/15 [==============================] - 1s 58ms/step - loss: 0.5335 - binary_accuracy: 0.7779 - auc: 0.8728 - val_loss: 0.5237 - val_binary_accuracy: 0.7889 - val_auc: 0.8817\n"
     ]
    },
    {
     "name": "stderr",
     "output_type": "stream",
     "text": [
      "WARNING:absl:Found untraced functions such as gru_cell_layer_call_and_return_conditional_losses, gru_cell_layer_call_fn, gru_cell_layer_call_fn, gru_cell_layer_call_and_return_conditional_losses, gru_cell_layer_call_and_return_conditional_losses while saving (showing 5 of 5). These functions will not be directly callable after loading.\n"
     ]
    },
    {
     "name": "stdout",
     "output_type": "stream",
     "text": [
      "INFO:tensorflow:Assets written to: model_deep\\rnn.tf\\assets\n"
     ]
    },
    {
     "name": "stderr",
     "output_type": "stream",
     "text": [
      "INFO:tensorflow:Assets written to: model_deep\\rnn.tf\\assets\n"
     ]
    },
    {
     "name": "stdout",
     "output_type": "stream",
     "text": [
      "Epoch 24/200\n",
      "15/15 [==============================] - 1s 72ms/step - loss: 0.5340 - binary_accuracy: 0.7769 - auc: 0.8726 - val_loss: 0.5265 - val_binary_accuracy: 0.7826 - val_auc: 0.8791\n",
      "Epoch 25/200\n",
      "15/15 [==============================] - 1s 61ms/step - loss: 0.5348 - binary_accuracy: 0.7764 - auc: 0.8715 - val_loss: 0.5259 - val_binary_accuracy: 0.7872 - val_auc: 0.8801\n",
      "Epoch 26/200\n",
      "15/15 [==============================] - 1s 59ms/step - loss: 0.5331 - binary_accuracy: 0.7775 - auc: 0.8726 - val_loss: 0.5251 - val_binary_accuracy: 0.7860 - val_auc: 0.8801\n",
      "Epoch 27/200\n",
      "15/15 [==============================] - 1s 57ms/step - loss: 0.5330 - binary_accuracy: 0.7773 - auc: 0.8726 - val_loss: 0.5244 - val_binary_accuracy: 0.7863 - val_auc: 0.8805\n",
      "Epoch 28/200\n",
      "15/15 [==============================] - 1s 58ms/step - loss: 0.5332 - binary_accuracy: 0.7789 - auc: 0.8726 - val_loss: 0.5237 - val_binary_accuracy: 0.7843 - val_auc: 0.8815\n",
      "Epoch 29/200\n",
      "15/15 [==============================] - 1s 56ms/step - loss: 0.5343 - binary_accuracy: 0.7769 - auc: 0.8717 - val_loss: 0.5277 - val_binary_accuracy: 0.7858 - val_auc: 0.8799\n",
      "Epoch 30/200\n",
      "15/15 [==============================] - 1s 57ms/step - loss: 0.5347 - binary_accuracy: 0.7748 - auc: 0.8713 - val_loss: 0.5257 - val_binary_accuracy: 0.7855 - val_auc: 0.8800\n",
      "Epoch 31/200\n",
      "15/15 [==============================] - 1s 58ms/step - loss: 0.5332 - binary_accuracy: 0.7792 - auc: 0.8725 - val_loss: 0.5251 - val_binary_accuracy: 0.7855 - val_auc: 0.8802\n",
      "Epoch 32/200\n",
      "15/15 [==============================] - 1s 59ms/step - loss: 0.5339 - binary_accuracy: 0.7758 - auc: 0.8714 - val_loss: 0.5229 - val_binary_accuracy: 0.7880 - val_auc: 0.8815\n"
     ]
    },
    {
     "name": "stderr",
     "output_type": "stream",
     "text": [
      "WARNING:absl:Found untraced functions such as gru_cell_layer_call_and_return_conditional_losses, gru_cell_layer_call_fn, gru_cell_layer_call_fn, gru_cell_layer_call_and_return_conditional_losses, gru_cell_layer_call_and_return_conditional_losses while saving (showing 5 of 5). These functions will not be directly callable after loading.\n"
     ]
    },
    {
     "name": "stdout",
     "output_type": "stream",
     "text": [
      "INFO:tensorflow:Assets written to: model_deep\\rnn.tf\\assets\n"
     ]
    },
    {
     "name": "stderr",
     "output_type": "stream",
     "text": [
      "INFO:tensorflow:Assets written to: model_deep\\rnn.tf\\assets\n"
     ]
    },
    {
     "name": "stdout",
     "output_type": "stream",
     "text": [
      "Epoch 33/200\n",
      "15/15 [==============================] - 1s 72ms/step - loss: 0.5328 - binary_accuracy: 0.7769 - auc: 0.8726 - val_loss: 0.5240 - val_binary_accuracy: 0.7897 - val_auc: 0.8818\n",
      "Epoch 34/200\n",
      "15/15 [==============================] - 1s 59ms/step - loss: 0.5337 - binary_accuracy: 0.7780 - auc: 0.8725 - val_loss: 0.5237 - val_binary_accuracy: 0.7858 - val_auc: 0.8820\n",
      "Epoch 35/200\n",
      "15/15 [==============================] - 1s 57ms/step - loss: 0.5329 - binary_accuracy: 0.7779 - auc: 0.8729 - val_loss: 0.5238 - val_binary_accuracy: 0.7851 - val_auc: 0.8807\n",
      "Epoch 36/200\n",
      "15/15 [==============================] - 1s 60ms/step - loss: 0.5333 - binary_accuracy: 0.7761 - auc: 0.8722 - val_loss: 0.5239 - val_binary_accuracy: 0.7863 - val_auc: 0.8807\n",
      "Epoch 37/200\n",
      "15/15 [==============================] - 1s 58ms/step - loss: 0.5327 - binary_accuracy: 0.7790 - auc: 0.8725 - val_loss: 0.5234 - val_binary_accuracy: 0.7882 - val_auc: 0.8817\n",
      "Epoch 38/200\n",
      "15/15 [==============================] - 1s 58ms/step - loss: 0.5329 - binary_accuracy: 0.7775 - auc: 0.8725 - val_loss: 0.5237 - val_binary_accuracy: 0.7882 - val_auc: 0.8808\n",
      "Epoch 39/200\n",
      "15/15 [==============================] - 1s 57ms/step - loss: 0.5345 - binary_accuracy: 0.7755 - auc: 0.8712 - val_loss: 0.5240 - val_binary_accuracy: 0.7870 - val_auc: 0.8813\n",
      "Epoch 40/200\n",
      "15/15 [==============================] - 1s 57ms/step - loss: 0.5342 - binary_accuracy: 0.7755 - auc: 0.8714 - val_loss: 0.5257 - val_binary_accuracy: 0.7902 - val_auc: 0.8806\n",
      "Epoch 41/200\n",
      "15/15 [==============================] - 1s 61ms/step - loss: 0.5344 - binary_accuracy: 0.7764 - auc: 0.8715 - val_loss: 0.5243 - val_binary_accuracy: 0.7853 - val_auc: 0.8806\n",
      "Epoch 42/200\n",
      "15/15 [==============================] - 1s 61ms/step - loss: 0.5329 - binary_accuracy: 0.7763 - auc: 0.8726 - val_loss: 0.5243 - val_binary_accuracy: 0.7875 - val_auc: 0.8807\n",
      "Epoch 43/200\n",
      "15/15 [==============================] - 1s 59ms/step - loss: 0.5335 - binary_accuracy: 0.7752 - auc: 0.8720 - val_loss: 0.5235 - val_binary_accuracy: 0.7829 - val_auc: 0.8814\n",
      "Epoch 44/200\n",
      "15/15 [==============================] - 1s 58ms/step - loss: 0.5329 - binary_accuracy: 0.7760 - auc: 0.8724 - val_loss: 0.5241 - val_binary_accuracy: 0.7872 - val_auc: 0.8809\n",
      "Epoch 45/200\n",
      "15/15 [==============================] - 1s 59ms/step - loss: 0.5335 - binary_accuracy: 0.7775 - auc: 0.8721 - val_loss: 0.5250 - val_binary_accuracy: 0.7880 - val_auc: 0.8796\n",
      "Epoch 46/200\n",
      "15/15 [==============================] - 1s 59ms/step - loss: 0.5328 - binary_accuracy: 0.7759 - auc: 0.8725 - val_loss: 0.5242 - val_binary_accuracy: 0.7858 - val_auc: 0.8804\n",
      "Epoch 47/200\n",
      "15/15 [==============================] - 1s 58ms/step - loss: 0.5338 - binary_accuracy: 0.7778 - auc: 0.8719 - val_loss: 0.5250 - val_binary_accuracy: 0.7848 - val_auc: 0.8803\n",
      "Epoch 48/200\n",
      "15/15 [==============================] - 1s 58ms/step - loss: 0.5325 - binary_accuracy: 0.7774 - auc: 0.8727 - val_loss: 0.5228 - val_binary_accuracy: 0.7833 - val_auc: 0.8811\n"
     ]
    },
    {
     "name": "stderr",
     "output_type": "stream",
     "text": [
      "WARNING:absl:Found untraced functions such as gru_cell_layer_call_and_return_conditional_losses, gru_cell_layer_call_fn, gru_cell_layer_call_fn, gru_cell_layer_call_and_return_conditional_losses, gru_cell_layer_call_and_return_conditional_losses while saving (showing 5 of 5). These functions will not be directly callable after loading.\n"
     ]
    },
    {
     "name": "stdout",
     "output_type": "stream",
     "text": [
      "INFO:tensorflow:Assets written to: model_deep\\rnn.tf\\assets\n"
     ]
    },
    {
     "name": "stderr",
     "output_type": "stream",
     "text": [
      "INFO:tensorflow:Assets written to: model_deep\\rnn.tf\\assets\n"
     ]
    },
    {
     "name": "stdout",
     "output_type": "stream",
     "text": [
      "Epoch 49/200\n",
      "15/15 [==============================] - 1s 68ms/step - loss: 0.5312 - binary_accuracy: 0.7768 - auc: 0.8737 - val_loss: 0.5224 - val_binary_accuracy: 0.7851 - val_auc: 0.8815\n"
     ]
    },
    {
     "name": "stderr",
     "output_type": "stream",
     "text": [
      "WARNING:absl:Found untraced functions such as gru_cell_layer_call_and_return_conditional_losses, gru_cell_layer_call_fn, gru_cell_layer_call_fn, gru_cell_layer_call_and_return_conditional_losses, gru_cell_layer_call_and_return_conditional_losses while saving (showing 5 of 5). These functions will not be directly callable after loading.\n"
     ]
    },
    {
     "name": "stdout",
     "output_type": "stream",
     "text": [
      "INFO:tensorflow:Assets written to: model_deep\\rnn.tf\\assets\n"
     ]
    },
    {
     "name": "stderr",
     "output_type": "stream",
     "text": [
      "INFO:tensorflow:Assets written to: model_deep\\rnn.tf\\assets\n"
     ]
    },
    {
     "name": "stdout",
     "output_type": "stream",
     "text": [
      "Epoch 50/200\n",
      "15/15 [==============================] - 1s 71ms/step - loss: 0.5318 - binary_accuracy: 0.7769 - auc: 0.8736 - val_loss: 0.5237 - val_binary_accuracy: 0.7865 - val_auc: 0.8807\n",
      "Epoch 51/200\n",
      "15/15 [==============================] - 1s 59ms/step - loss: 0.5333 - binary_accuracy: 0.7756 - auc: 0.8718 - val_loss: 0.5251 - val_binary_accuracy: 0.7904 - val_auc: 0.8809\n",
      "Epoch 52/200\n",
      "15/15 [==============================] - 1s 56ms/step - loss: 0.5319 - binary_accuracy: 0.7782 - auc: 0.8732 - val_loss: 0.5220 - val_binary_accuracy: 0.7865 - val_auc: 0.8820\n"
     ]
    },
    {
     "name": "stderr",
     "output_type": "stream",
     "text": [
      "WARNING:absl:Found untraced functions such as gru_cell_layer_call_and_return_conditional_losses, gru_cell_layer_call_fn, gru_cell_layer_call_fn, gru_cell_layer_call_and_return_conditional_losses, gru_cell_layer_call_and_return_conditional_losses while saving (showing 5 of 5). These functions will not be directly callable after loading.\n"
     ]
    },
    {
     "name": "stdout",
     "output_type": "stream",
     "text": [
      "INFO:tensorflow:Assets written to: model_deep\\rnn.tf\\assets\n"
     ]
    },
    {
     "name": "stderr",
     "output_type": "stream",
     "text": [
      "INFO:tensorflow:Assets written to: model_deep\\rnn.tf\\assets\n"
     ]
    },
    {
     "name": "stdout",
     "output_type": "stream",
     "text": [
      "Epoch 53/200\n",
      "15/15 [==============================] - 1s 68ms/step - loss: 0.5318 - binary_accuracy: 0.7779 - auc: 0.8734 - val_loss: 0.5237 - val_binary_accuracy: 0.7863 - val_auc: 0.8812\n",
      "Epoch 54/200\n",
      "15/15 [==============================] - 1s 57ms/step - loss: 0.5338 - binary_accuracy: 0.7767 - auc: 0.8714 - val_loss: 0.5233 - val_binary_accuracy: 0.7875 - val_auc: 0.8815\n",
      "Epoch 55/200\n",
      "15/15 [==============================] - 1s 59ms/step - loss: 0.5339 - binary_accuracy: 0.7773 - auc: 0.8720 - val_loss: 0.5228 - val_binary_accuracy: 0.7882 - val_auc: 0.8819\n",
      "Epoch 56/200\n",
      "15/15 [==============================] - 1s 60ms/step - loss: 0.5327 - binary_accuracy: 0.7777 - auc: 0.8725 - val_loss: 0.5229 - val_binary_accuracy: 0.7909 - val_auc: 0.8819\n",
      "Epoch 57/200\n",
      "15/15 [==============================] - 1s 57ms/step - loss: 0.5343 - binary_accuracy: 0.7761 - auc: 0.8715 - val_loss: 0.5246 - val_binary_accuracy: 0.7821 - val_auc: 0.8807\n",
      "Epoch 58/200\n",
      "15/15 [==============================] - 1s 60ms/step - loss: 0.5332 - binary_accuracy: 0.7746 - auc: 0.8726 - val_loss: 0.5249 - val_binary_accuracy: 0.7833 - val_auc: 0.8809\n",
      "Epoch 59/200\n",
      "15/15 [==============================] - 1s 58ms/step - loss: 0.5326 - binary_accuracy: 0.7788 - auc: 0.8728 - val_loss: 0.5226 - val_binary_accuracy: 0.7846 - val_auc: 0.8816\n",
      "Epoch 60/200\n",
      "15/15 [==============================] - 1s 59ms/step - loss: 0.5331 - binary_accuracy: 0.7779 - auc: 0.8725 - val_loss: 0.5240 - val_binary_accuracy: 0.7863 - val_auc: 0.8811\n",
      "Epoch 61/200\n",
      "15/15 [==============================] - 1s 60ms/step - loss: 0.5344 - binary_accuracy: 0.7756 - auc: 0.8714 - val_loss: 0.5259 - val_binary_accuracy: 0.7892 - val_auc: 0.8798\n",
      "Epoch 62/200\n",
      "15/15 [==============================] - 1s 58ms/step - loss: 0.5345 - binary_accuracy: 0.7752 - auc: 0.8713 - val_loss: 0.5249 - val_binary_accuracy: 0.7836 - val_auc: 0.8801\n",
      "Epoch 63/200\n",
      "15/15 [==============================] - 1s 56ms/step - loss: 0.5348 - binary_accuracy: 0.7763 - auc: 0.8715 - val_loss: 0.5237 - val_binary_accuracy: 0.7860 - val_auc: 0.8820\n",
      "Epoch 64/200\n",
      "15/15 [==============================] - 1s 61ms/step - loss: 0.5335 - binary_accuracy: 0.7758 - auc: 0.8726 - val_loss: 0.5239 - val_binary_accuracy: 0.7851 - val_auc: 0.8810\n",
      "Epoch 65/200\n",
      "15/15 [==============================] - 1s 58ms/step - loss: 0.5327 - binary_accuracy: 0.7789 - auc: 0.8729 - val_loss: 0.5239 - val_binary_accuracy: 0.7872 - val_auc: 0.8809\n",
      "Epoch 66/200\n",
      "15/15 [==============================] - 1s 58ms/step - loss: 0.5329 - binary_accuracy: 0.7765 - auc: 0.8722 - val_loss: 0.5237 - val_binary_accuracy: 0.7855 - val_auc: 0.8808\n",
      "Epoch 67/200\n",
      "15/15 [==============================] - 1s 57ms/step - loss: 0.5324 - binary_accuracy: 0.7776 - auc: 0.8728 - val_loss: 0.5248 - val_binary_accuracy: 0.7882 - val_auc: 0.8801\n",
      "Epoch 68/200\n",
      "15/15 [==============================] - 1s 58ms/step - loss: 0.5330 - binary_accuracy: 0.7771 - auc: 0.8723 - val_loss: 0.5240 - val_binary_accuracy: 0.7875 - val_auc: 0.8813\n",
      "Epoch 69/200\n",
      "15/15 [==============================] - 1s 61ms/step - loss: 0.5326 - binary_accuracy: 0.7785 - auc: 0.8730 - val_loss: 0.5233 - val_binary_accuracy: 0.7853 - val_auc: 0.8815\n",
      "Epoch 70/200\n",
      "15/15 [==============================] - 1s 60ms/step - loss: 0.5335 - binary_accuracy: 0.7770 - auc: 0.8720 - val_loss: 0.5231 - val_binary_accuracy: 0.7870 - val_auc: 0.8815\n",
      "Epoch 71/200\n",
      "15/15 [==============================] - 1s 56ms/step - loss: 0.5321 - binary_accuracy: 0.7763 - auc: 0.8734 - val_loss: 0.5249 - val_binary_accuracy: 0.7853 - val_auc: 0.8803\n",
      "Epoch 72/200\n",
      "15/15 [==============================] - 1s 55ms/step - loss: 0.5345 - binary_accuracy: 0.7768 - auc: 0.8716 - val_loss: 0.5244 - val_binary_accuracy: 0.7880 - val_auc: 0.8810\n",
      "Epoch 73/200\n",
      "15/15 [==============================] - 1s 59ms/step - loss: 0.5345 - binary_accuracy: 0.7769 - auc: 0.8722 - val_loss: 0.5243 - val_binary_accuracy: 0.7848 - val_auc: 0.8810\n",
      "Epoch 74/200\n",
      "15/15 [==============================] - 1s 57ms/step - loss: 0.5338 - binary_accuracy: 0.7779 - auc: 0.8725 - val_loss: 0.5232 - val_binary_accuracy: 0.7880 - val_auc: 0.8812\n",
      "Epoch 75/200\n",
      "15/15 [==============================] - 1s 57ms/step - loss: 0.5327 - binary_accuracy: 0.7765 - auc: 0.8728 - val_loss: 0.5240 - val_binary_accuracy: 0.7848 - val_auc: 0.8811\n",
      "Epoch 76/200\n",
      "15/15 [==============================] - 1s 56ms/step - loss: 0.5343 - binary_accuracy: 0.7766 - auc: 0.8715 - val_loss: 0.5247 - val_binary_accuracy: 0.7858 - val_auc: 0.8802\n",
      "Epoch 77/200\n",
      "15/15 [==============================] - 1s 56ms/step - loss: 0.5330 - binary_accuracy: 0.7766 - auc: 0.8726 - val_loss: 0.5232 - val_binary_accuracy: 0.7875 - val_auc: 0.8815\n",
      "Epoch 78/200\n",
      "15/15 [==============================] - 1s 56ms/step - loss: 0.5325 - binary_accuracy: 0.7778 - auc: 0.8733 - val_loss: 0.5240 - val_binary_accuracy: 0.7880 - val_auc: 0.8807\n",
      "Epoch 79/200\n",
      "15/15 [==============================] - 1s 55ms/step - loss: 0.5332 - binary_accuracy: 0.7776 - auc: 0.8724 - val_loss: 0.5232 - val_binary_accuracy: 0.7858 - val_auc: 0.8816\n",
      "Epoch 80/200\n",
      "15/15 [==============================] - 1s 57ms/step - loss: 0.5328 - binary_accuracy: 0.7810 - auc: 0.8729 - val_loss: 0.5240 - val_binary_accuracy: 0.7887 - val_auc: 0.8808\n",
      "Epoch 81/200\n",
      "15/15 [==============================] - 1s 53ms/step - loss: 0.5338 - binary_accuracy: 0.7745 - auc: 0.8722 - val_loss: 0.5238 - val_binary_accuracy: 0.7885 - val_auc: 0.8811\n",
      "Epoch 82/200\n",
      "15/15 [==============================] - 1s 56ms/step - loss: 0.5330 - binary_accuracy: 0.7793 - auc: 0.8727 - val_loss: 0.5237 - val_binary_accuracy: 0.7858 - val_auc: 0.8812\n"
     ]
    }
   ],
   "source": [
    "model = Sequential()\n",
    "model.add(InputLayer(input_shape=(lookback, norm_train.shape[-1])))\n",
    "model.add(Masking(mask_value=0.))\n",
    "model.add(GRU(256, kernel_regularizer='l2', recurrent_regularizer='l2', bias_regularizer='l2', activity_regularizer='l2', dropout=0.2))\n",
    "model.add(Dense(128, activation='relu', kernel_regularizer='l2', bias_regularizer='l2', activity_regularizer='l2'))\n",
    "model.add(Dense(1, activation='sigmoid', kernel_regularizer='l2', bias_regularizer='l2', activity_regularizer='l2'))\n",
    "\n",
    "model.compile(optimizer=\"Adam\", loss=BinaryCrossentropy(), metrics=[BinaryAccuracy(), AUC()])\n",
    "history = model.fit(train_seq,\n",
    "                    epochs=200,\n",
    "                    validation_data=valid_seq,\n",
    "                    callbacks=[early_stopping, model_checkpoint_callback, logger])"
   ]
  },
  {
   "cell_type": "code",
   "execution_count": 19,
   "id": "c54e03f7-e26b-4559-9856-d824ff8eaeef",
   "metadata": {},
   "outputs": [
    {
     "name": "stderr",
     "output_type": "stream",
     "text": [
      "WARNING:absl:Found untraced functions such as gru_cell_layer_call_and_return_conditional_losses, gru_cell_layer_call_fn, gru_cell_layer_call_fn, gru_cell_layer_call_and_return_conditional_losses, gru_cell_layer_call_and_return_conditional_losses while saving (showing 5 of 5). These functions will not be directly callable after loading.\n"
     ]
    },
    {
     "name": "stdout",
     "output_type": "stream",
     "text": [
      "INFO:tensorflow:Assets written to: models/model.tf\\assets\n"
     ]
    },
    {
     "name": "stderr",
     "output_type": "stream",
     "text": [
      "INFO:tensorflow:Assets written to: models/model.tf\\assets\n"
     ]
    },
    {
     "data": {
      "image/png": "[encoded data removed]",
      "text/plain": [
       "<Figure size 640x480 with 1 Axes>"
      ]
     },
     "metadata": {},
     "output_type": "display_data"
    },
    {
     "data": {
      "image/png": "[encoded data removed]",
      "text/plain": [
       "<Figure size 640x480 with 1 Axes>"
      ]
     },
     "metadata": {},
     "output_type": "display_data"
    }
   ],
   "source": [
    "run_name = \"RNN - ESTA\"\n",
    "additional_description = \"RNN\"\n",
    "with mlflow.start_run(run_name=run_name, description=additional_description) as run:\n",
    "        mlflow.log_param(\"X_train.shape\", norm_train.shape)\n",
    "        mlflow.log_param(\"X_test.shape\", norm_test.shape)\n",
    "        mlflow.log_param(\"Sequence\", lookback)\n",
    "\n",
    "        y_proba = model.predict(test_seq)\n",
    "        y_true = y_test[test_indexes[:, -1]]\n",
    "        features_names = cols\n",
    "        metrics = {}\n",
    "        for threshold in np.arange(0.1, 1, 0.05):\n",
    "            y_pred = (y_proba >= threshold).astype(int)\n",
    "            metrics[f\"accuracy_{threshold:.2f}\"] = accuracy_score(y_true=y_true, y_pred=y_pred)\n",
    "            metrics[f\"precision_{threshold:.2f}\"] = precision_score(y_true=y_true, y_pred=y_pred)\n",
    "            metrics[f\"recall_{threshold:.2f}\"] = recall_score(y_true=y_true, y_pred=y_pred)\n",
    "            metrics[f\"f1_{threshold:.2f}\"] = f1_score(y_true=y_true, y_pred=y_pred)\n",
    "        metrics[\"roc_auc\"] = roc_auc_score(y_true=y_true, y_score=y_proba)\n",
    "        metrics[\"log_loss\"] = log_loss(y_true=y_true, y_pred=y_proba)\n",
    "        mlflow.log_metrics(metrics)\n",
    "        \n",
    "        if os.path.exists('artifacts'):\n",
    "            shutil.rmtree('artifacts')\n",
    "            os.makedirs('artifacts')\n",
    "        \n",
    "        if os.path.exists('models'):\n",
    "            shutil.rmtree('models')\n",
    "            os.makedirs('models')\n",
    "            \n",
    "        with open(\"artifacts/features.txt\", 'w') as f:\n",
    "            f.write(str(features_names))\n",
    "            \n",
    "        model.save('models/model.tf')\n",
    "\n",
    "        roc_plot = RocCurveDisplay.from_predictions(y_pred=y_proba, y_true=y_true)\n",
    "        roc_plot.figure_.savefig('artifacts/roc_auc.png')\n",
    "        plt.show()\n",
    "        \n",
    "        calibration_curve = CalibrationDisplay.from_predictions(y_prob=y_proba, y_true=y_true, n_bins=10)\n",
    "        calibration_curve.figure_.savefig('artifacts/calibration_curve.png')\n",
    "        plt.show()\n",
    "        \n",
    "        mlflow.log_artifacts(\"artifacts\", artifact_path=\"plots_data\")\n",
    "        mlflow.log_artifacts(\"models\", artifact_path=\"model\")"
   ]
  },
  {
   "cell_type": "markdown",
   "id": "465bea50-f0a7-4456-8504-aef4f32233b7",
   "metadata": {},
   "source": [
    "# Wiekszy sampling"
   ]
  },
  {
   "cell_type": "code",
   "execution_count": 20,
   "id": "2a97861a-5dad-4f18-b190-7a108f2d1071",
   "metadata": {},
   "outputs": [
    {
     "data": {
      "text/html": [
       "<div>\n",
       "<style scoped>\n",
       "    .dataframe tbody tr th:only-of-type {\n",
       "        vertical-align: middle;\n",
       "    }\n",
       "\n",
       "    .dataframe tbody tr th {\n",
       "        vertical-align: top;\n",
       "    }\n",
       "\n",
       "    .dataframe thead th {\n",
       "        text-align: right;\n",
       "    }\n",
       "</style>\n",
       "<table border=\"1\" class=\"dataframe\">\n",
       "  <thead>\n",
       "    <tr style=\"text-align: right;\">\n",
       "      <th></th>\n",
       "      <th>demoId</th>\n",
       "      <th>roundNum</th>\n",
       "    </tr>\n",
       "  </thead>\n",
       "  <tbody>\n",
       "    <tr>\n",
       "      <th>0</th>\n",
       "      <td>0013db25-4444-452b-980b-7702dc6fb810</td>\n",
       "      <td>1</td>\n",
       "    </tr>\n",
       "    <tr>\n",
       "      <th>1</th>\n",
       "      <td>0013db25-4444-452b-980b-7702dc6fb810</td>\n",
       "      <td>2</td>\n",
       "    </tr>\n",
       "    <tr>\n",
       "      <th>2</th>\n",
       "      <td>0013db25-4444-452b-980b-7702dc6fb810</td>\n",
       "      <td>3</td>\n",
       "    </tr>\n",
       "    <tr>\n",
       "      <th>3</th>\n",
       "      <td>0013db25-4444-452b-980b-7702dc6fb810</td>\n",
       "      <td>4</td>\n",
       "    </tr>\n",
       "    <tr>\n",
       "      <th>4</th>\n",
       "      <td>0013db25-4444-452b-980b-7702dc6fb810</td>\n",
       "      <td>5</td>\n",
       "    </tr>\n",
       "    <tr>\n",
       "      <th>...</th>\n",
       "      <td>...</td>\n",
       "      <td>...</td>\n",
       "    </tr>\n",
       "    <tr>\n",
       "      <th>41069</th>\n",
       "      <td>ff910f54-0bed-4fdf-afa8-b481be09a788</td>\n",
       "      <td>22</td>\n",
       "    </tr>\n",
       "    <tr>\n",
       "      <th>41070</th>\n",
       "      <td>ff910f54-0bed-4fdf-afa8-b481be09a788</td>\n",
       "      <td>23</td>\n",
       "    </tr>\n",
       "    <tr>\n",
       "      <th>41071</th>\n",
       "      <td>ff910f54-0bed-4fdf-afa8-b481be09a788</td>\n",
       "      <td>24</td>\n",
       "    </tr>\n",
       "    <tr>\n",
       "      <th>41072</th>\n",
       "      <td>ff910f54-0bed-4fdf-afa8-b481be09a788</td>\n",
       "      <td>25</td>\n",
       "    </tr>\n",
       "    <tr>\n",
       "      <th>41073</th>\n",
       "      <td>ff910f54-0bed-4fdf-afa8-b481be09a788</td>\n",
       "      <td>26</td>\n",
       "    </tr>\n",
       "  </tbody>\n",
       "</table>\n",
       "<p>41074 rows × 2 columns</p>\n",
       "</div>"
      ],
      "text/plain": [
       "                                     demoId  roundNum\n",
       "0      0013db25-4444-452b-980b-7702dc6fb810         1\n",
       "1      0013db25-4444-452b-980b-7702dc6fb810         2\n",
       "2      0013db25-4444-452b-980b-7702dc6fb810         3\n",
       "3      0013db25-4444-452b-980b-7702dc6fb810         4\n",
       "4      0013db25-4444-452b-980b-7702dc6fb810         5\n",
       "...                                     ...       ...\n",
       "41069  ff910f54-0bed-4fdf-afa8-b481be09a788        22\n",
       "41070  ff910f54-0bed-4fdf-afa8-b481be09a788        23\n",
       "41071  ff910f54-0bed-4fdf-afa8-b481be09a788        24\n",
       "41072  ff910f54-0bed-4fdf-afa8-b481be09a788        25\n",
       "41073  ff910f54-0bed-4fdf-afa8-b481be09a788        26\n",
       "\n",
       "[41074 rows x 2 columns]"
      ]
     },
     "execution_count": 20,
     "metadata": {},
     "output_type": "execute_result"
    }
   ],
   "source": [
    "groupped = df.groupby(['demoId', 'roundNum'])\n",
    "demo_indexes = list(groupped.indices.keys())\n",
    "demo_round = pd.DataFrame.from_records(demo_indexes, columns=['demoId', 'roundNum'])\n",
    "demo_round"
   ]
  },
  {
   "cell_type": "code",
   "execution_count": 21,
   "id": "58b1b877-a4b7-4806-b01d-4d19d4a4b2d2",
   "metadata": {},
   "outputs": [
    {
     "data": {
      "text/plain": [
       "((28751, 2), (4108, 2), (8215, 2))"
      ]
     },
     "execution_count": 21,
     "metadata": {},
     "output_type": "execute_result"
    }
   ],
   "source": [
    "demo_round_train, demo_round_test = train_test_split(demo_round, test_size=0.2, random_state=1)\n",
    "demo_round_train, demo_round_val = train_test_split(demo_round_train, test_size=0.125, random_state=1) # 0.125 x 0.8 = 0.1\n",
    "demo_round_train.shape, demo_round_val.shape, demo_round_test.shape"
   ]
  },
  {
   "cell_type": "code",
   "execution_count": 22,
   "id": "5658f26c-5035-41f7-9403-7a7d4d8ebc06",
   "metadata": {
    "tags": []
   },
   "outputs": [
    {
     "data": {
      "text/plain": [
       "((5219419, 102), (746248, 102), (1498631, 102))"
      ]
     },
     "execution_count": 22,
     "metadata": {},
     "output_type": "execute_result"
    }
   ],
   "source": [
    "df_train = df.merge(demo_round_train, on=['demoId', 'roundNum'])\n",
    "df_val = df.merge(demo_round_val, on=['demoId', 'roundNum'])\n",
    "df_test = df.merge(demo_round_test, on=['demoId', 'roundNum'])\n",
    "df_train.shape, df_val.shape, df_test.shape"
   ]
  },
  {
   "cell_type": "code",
   "execution_count": 23,
   "id": "e30fed8c-8af5-4d19-bea6-88aea9fa87bb",
   "metadata": {},
   "outputs": [],
   "source": [
    "def generate_indices(data, lookback, how_many=10):\n",
    "    grouped = data.groupby(['demoId', 'roundNum'])\n",
    "    dict_gr = grouped.indices\n",
    "    for key, val in dict_gr.items():\n",
    "        dict_gr[key] = np.min(val),  np.max(val)\n",
    "    \n",
    "    indices = np.zeros((len(dict_gr) * how_many, lookback), dtype=np.int32)\n",
    "    index = 0\n",
    "    for key in dict_gr:\n",
    "        minimum, maximum = dict_gr[key]\n",
    "        for j in range(how_many):\n",
    "            i = random.randint(minimum, maximum)\n",
    "            if i - minimum < lookback:\n",
    "                indices[index] = np.hstack((np.repeat(-1, lookback - (i + 1 - minimum)), np.arange(minimum, i + 1, dtype=np.int32)))\n",
    "            else:\n",
    "                indices[index] = np.arange(i + 1 - lookback, i + 1, dtype=np.int32)\n",
    "            index += 1\n",
    "    return indices"
   ]
  },
  {
   "cell_type": "code",
   "execution_count": 24,
   "id": "cd035903-8bc7-4553-a910-4659a3fdcaaa",
   "metadata": {},
   "outputs": [
    {
     "data": {
      "text/plain": [
       "(23.0008, 3.2864, 6.572)"
      ]
     },
     "execution_count": 24,
     "metadata": {},
     "output_type": "execute_result"
    }
   ],
   "source": [
    "lookback = 20\n",
    "train_indexes = generate_indices(df_train, lookback)\n",
    "valid_indexes = generate_indices(df_val, lookback)\n",
    "test_indexes = generate_indices(df_test, lookback)\n",
    "train_indexes.size * train_indexes.itemsize / 1_000_000, valid_indexes.size * valid_indexes.itemsize / 1_000_000 , test_indexes.size * test_indexes.itemsize / 1_000_000"
   ]
  },
  {
   "cell_type": "code",
   "execution_count": 25,
   "id": "c1b87049-a8b2-4364-ab19-a47f583e0150",
   "metadata": {},
   "outputs": [],
   "source": [
    "y_train, y_valid, y_test = df_train['winningSideCT'], df_val['winningSideCT'], df_test['winningSideCT']\n",
    "norm_train = df_train.drop(['demoId', 'roundNum', 'winningSideCT'], axis='columns')\n",
    "norm_valid = df_val.drop(['demoId', 'roundNum', 'winningSideCT'], axis='columns')\n",
    "norm_test = df_test.drop(['demoId', 'roundNum', 'winningSideCT'], axis='columns')\n",
    "cols = norm_train.columns.tolist()\n",
    "del df_train, df_val, df_test\n",
    "scaler = StandardScaler()\n",
    "norm_train = scaler.fit_transform(norm_train)\n",
    "norm_valid = scaler.transform(norm_valid)\n",
    "norm_test = scaler.transform(norm_test)"
   ]
  },
  {
   "cell_type": "code",
   "execution_count": 26,
   "id": "1028e5e0-37be-4ef8-8135-fe137ef90935",
   "metadata": {},
   "outputs": [],
   "source": [
    "class CSGOsequence(Sequence):\n",
    "    def __init__(self, x_set, y_set, batch_size, indices, shuffle):\n",
    "        self.x, self.y = x_set, y_set\n",
    "        self.indices = indices\n",
    "        self.batch_size = batch_size\n",
    "        self.shuffle = shuffle\n",
    "        if self.shuffle:\n",
    "            np.random.shuffle(self.indices)\n",
    "\n",
    "    def __len__(self):\n",
    "        return math.ceil(self.indices.shape[0] / self.batch_size)\n",
    "                         \n",
    "    def __getitem__(self, idx):\n",
    "        batch_x = [np.array([np.zeros(self.x.shape[-1]) if val < 0 else self.x[val] \n",
    "                   for val in index])\n",
    "                       for index in self.indices[idx * self.batch_size : (idx + 1) * self.batch_size]]\n",
    "        batch_y = self.y[self.indices[idx * self.batch_size : (idx + 1) * self.batch_size, -1]]\n",
    "        return np.array(batch_x), np.array(batch_y)\n",
    "    \n",
    "    def on_epoch_end(self):\n",
    "        if self.shuffle:\n",
    "            np.random.shuffle(self.indices)"
   ]
  },
  {
   "cell_type": "code",
   "execution_count": 27,
   "id": "4befb19e-6a96-495c-a9c5-3a124ee915dd",
   "metadata": {
    "tags": []
   },
   "outputs": [],
   "source": [
    "train_seq = CSGOsequence(norm_train, y_train.values, 2048, train_indexes, shuffle=True)\n",
    "valid_seq = CSGOsequence(norm_valid, y_valid.values, 2048, valid_indexes, shuffle=False)\n",
    "test_seq = CSGOsequence(norm_test, y_test.values, 2048, test_indexes, shuffle=False)"
   ]
  },
  {
   "cell_type": "code",
   "execution_count": 28,
   "id": "2df5da18-97b3-44f4-ac24-4bd34b98040d",
   "metadata": {},
   "outputs": [],
   "source": [
    "os.makedirs(\"model_deep\", exist_ok=True)"
   ]
  },
  {
   "cell_type": "code",
   "execution_count": 29,
   "id": "b527a823-7648-4d2f-9f1a-67124565d7fc",
   "metadata": {},
   "outputs": [],
   "source": [
    "early_stopping = EarlyStopping(\n",
    "    monitor='val_loss',\n",
    "    min_delta=0.0001,\n",
    "    patience=30,\n",
    "    verbose=0,\n",
    "    mode='min',\n",
    "    baseline=None,\n",
    "    restore_best_weights=True,\n",
    ")\n",
    "\n",
    "model_checkpoint_callback = ModelCheckpoint(\n",
    "    filepath=\"model_deep/rnn.tf\",\n",
    "    monitor='val_loss',\n",
    "    mode='min',\n",
    "    save_best_only=True)\n",
    "\n",
    "logger = CSVLogger(\n",
    "    \"model_deep/rnn_log.csv\", separator=',', append=True\n",
    ")"
   ]
  },
  {
   "cell_type": "code",
   "execution_count": 31,
   "id": "fbcc25a2-1a16-47e7-b72c-ababbedb7e1e",
   "metadata": {},
   "outputs": [
    {
     "name": "stdout",
     "output_type": "stream",
     "text": [
      "Epoch 1/200\n",
      "141/141 [==============================] - 10s 60ms/step - loss: 1.8237 - binary_accuracy: 0.7733 - auc_2: 0.8678 - val_loss: 0.5626 - val_binary_accuracy: 0.7800 - val_auc_2: 0.8774\n"
     ]
    },
    {
     "name": "stderr",
     "output_type": "stream",
     "text": [
      "WARNING:absl:Found untraced functions such as gru_cell_2_layer_call_and_return_conditional_losses, gru_cell_2_layer_call_fn, gru_cell_2_layer_call_fn, gru_cell_2_layer_call_and_return_conditional_losses, gru_cell_2_layer_call_and_return_conditional_losses while saving (showing 5 of 5). These functions will not be directly callable after loading.\n"
     ]
    },
    {
     "name": "stdout",
     "output_type": "stream",
     "text": [
      "INFO:tensorflow:Assets written to: model_deep\\rnn.tf\\assets\n"
     ]
    },
    {
     "name": "stderr",
     "output_type": "stream",
     "text": [
      "INFO:tensorflow:Assets written to: model_deep\\rnn.tf\\assets\n"
     ]
    },
    {
     "name": "stdout",
     "output_type": "stream",
     "text": [
      "Epoch 2/200\n",
      "141/141 [==============================] - 8s 57ms/step - loss: 0.5394 - binary_accuracy: 0.7754 - auc_2: 0.8727 - val_loss: 0.5286 - val_binary_accuracy: 0.7794 - val_auc_2: 0.8773\n"
     ]
    },
    {
     "name": "stderr",
     "output_type": "stream",
     "text": [
      "WARNING:absl:Found untraced functions such as gru_cell_2_layer_call_and_return_conditional_losses, gru_cell_2_layer_call_fn, gru_cell_2_layer_call_fn, gru_cell_2_layer_call_and_return_conditional_losses, gru_cell_2_layer_call_and_return_conditional_losses while saving (showing 5 of 5). These functions will not be directly callable after loading.\n"
     ]
    },
    {
     "name": "stdout",
     "output_type": "stream",
     "text": [
      "INFO:tensorflow:Assets written to: model_deep\\rnn.tf\\assets\n"
     ]
    },
    {
     "name": "stderr",
     "output_type": "stream",
     "text": [
      "INFO:tensorflow:Assets written to: model_deep\\rnn.tf\\assets\n"
     ]
    },
    {
     "name": "stdout",
     "output_type": "stream",
     "text": [
      "Epoch 3/200\n",
      "141/141 [==============================] - 8s 57ms/step - loss: 0.5314 - binary_accuracy: 0.7778 - auc_2: 0.8736 - val_loss: 0.5277 - val_binary_accuracy: 0.7820 - val_auc_2: 0.8775\n"
     ]
    },
    {
     "name": "stderr",
     "output_type": "stream",
     "text": [
      "WARNING:absl:Found untraced functions such as gru_cell_2_layer_call_and_return_conditional_losses, gru_cell_2_layer_call_fn, gru_cell_2_layer_call_fn, gru_cell_2_layer_call_and_return_conditional_losses, gru_cell_2_layer_call_and_return_conditional_losses while saving (showing 5 of 5). These functions will not be directly callable after loading.\n"
     ]
    },
    {
     "name": "stdout",
     "output_type": "stream",
     "text": [
      "INFO:tensorflow:Assets written to: model_deep\\rnn.tf\\assets\n"
     ]
    },
    {
     "name": "stderr",
     "output_type": "stream",
     "text": [
      "INFO:tensorflow:Assets written to: model_deep\\rnn.tf\\assets\n"
     ]
    },
    {
     "name": "stdout",
     "output_type": "stream",
     "text": [
      "Epoch 4/200\n",
      "141/141 [==============================] - 8s 58ms/step - loss: 0.5310 - binary_accuracy: 0.7764 - auc_2: 0.8736 - val_loss: 0.5259 - val_binary_accuracy: 0.7799 - val_auc_2: 0.8786\n"
     ]
    },
    {
     "name": "stderr",
     "output_type": "stream",
     "text": [
      "WARNING:absl:Found untraced functions such as gru_cell_2_layer_call_and_return_conditional_losses, gru_cell_2_layer_call_fn, gru_cell_2_layer_call_fn, gru_cell_2_layer_call_and_return_conditional_losses, gru_cell_2_layer_call_and_return_conditional_losses while saving (showing 5 of 5). These functions will not be directly callable after loading.\n"
     ]
    },
    {
     "name": "stdout",
     "output_type": "stream",
     "text": [
      "INFO:tensorflow:Assets written to: model_deep\\rnn.tf\\assets\n"
     ]
    },
    {
     "name": "stderr",
     "output_type": "stream",
     "text": [
      "INFO:tensorflow:Assets written to: model_deep\\rnn.tf\\assets\n"
     ]
    },
    {
     "name": "stdout",
     "output_type": "stream",
     "text": [
      "Epoch 5/200\n",
      "141/141 [==============================] - 8s 58ms/step - loss: 0.5307 - binary_accuracy: 0.7773 - auc_2: 0.8737 - val_loss: 0.5269 - val_binary_accuracy: 0.7804 - val_auc_2: 0.8781\n",
      "Epoch 6/200\n",
      "141/141 [==============================] - 8s 58ms/step - loss: 0.5309 - binary_accuracy: 0.7764 - auc_2: 0.8736 - val_loss: 0.5265 - val_binary_accuracy: 0.7806 - val_auc_2: 0.8784\n",
      "Epoch 7/200\n",
      "141/141 [==============================] - 8s 56ms/step - loss: 0.5309 - binary_accuracy: 0.7771 - auc_2: 0.8735 - val_loss: 0.5275 - val_binary_accuracy: 0.7769 - val_auc_2: 0.8770\n",
      "Epoch 8/200\n",
      "141/141 [==============================] - 8s 57ms/step - loss: 0.5305 - binary_accuracy: 0.7767 - auc_2: 0.8739 - val_loss: 0.5273 - val_binary_accuracy: 0.7797 - val_auc_2: 0.8774\n",
      "Epoch 9/200\n",
      "141/141 [==============================] - 8s 55ms/step - loss: 0.5304 - binary_accuracy: 0.7775 - auc_2: 0.8740 - val_loss: 0.5267 - val_binary_accuracy: 0.7814 - val_auc_2: 0.8783\n",
      "Epoch 10/200\n",
      "141/141 [==============================] - 8s 55ms/step - loss: 0.5310 - binary_accuracy: 0.7761 - auc_2: 0.8737 - val_loss: 0.5258 - val_binary_accuracy: 0.7812 - val_auc_2: 0.8788\n"
     ]
    },
    {
     "name": "stderr",
     "output_type": "stream",
     "text": [
      "WARNING:absl:Found untraced functions such as gru_cell_2_layer_call_and_return_conditional_losses, gru_cell_2_layer_call_fn, gru_cell_2_layer_call_fn, gru_cell_2_layer_call_and_return_conditional_losses, gru_cell_2_layer_call_and_return_conditional_losses while saving (showing 5 of 5). These functions will not be directly callable after loading.\n"
     ]
    },
    {
     "name": "stdout",
     "output_type": "stream",
     "text": [
      "INFO:tensorflow:Assets written to: model_deep\\rnn.tf\\assets\n"
     ]
    },
    {
     "name": "stderr",
     "output_type": "stream",
     "text": [
      "INFO:tensorflow:Assets written to: model_deep\\rnn.tf\\assets\n"
     ]
    },
    {
     "name": "stdout",
     "output_type": "stream",
     "text": [
      "Epoch 11/200\n",
      "141/141 [==============================] - 8s 55ms/step - loss: 0.5307 - binary_accuracy: 0.7772 - auc_2: 0.8738 - val_loss: 0.5272 - val_binary_accuracy: 0.7811 - val_auc_2: 0.8780\n",
      "Epoch 12/200\n",
      "141/141 [==============================] - 8s 54ms/step - loss: 0.5306 - binary_accuracy: 0.7776 - auc_2: 0.8740 - val_loss: 0.5287 - val_binary_accuracy: 0.7809 - val_auc_2: 0.8770\n",
      "Epoch 13/200\n",
      "141/141 [==============================] - 8s 55ms/step - loss: 0.5308 - binary_accuracy: 0.7772 - auc_2: 0.8739 - val_loss: 0.5266 - val_binary_accuracy: 0.7811 - val_auc_2: 0.8783\n",
      "Epoch 14/200\n",
      "141/141 [==============================] - 7s 52ms/step - loss: 0.5306 - binary_accuracy: 0.7773 - auc_2: 0.8739 - val_loss: 0.5263 - val_binary_accuracy: 0.7816 - val_auc_2: 0.8786\n",
      "Epoch 15/200\n",
      "141/141 [==============================] - 8s 55ms/step - loss: 0.5305 - binary_accuracy: 0.7771 - auc_2: 0.8740 - val_loss: 0.5263 - val_binary_accuracy: 0.7824 - val_auc_2: 0.8790\n",
      "Epoch 16/200\n",
      "141/141 [==============================] - 8s 55ms/step - loss: 0.5305 - binary_accuracy: 0.7771 - auc_2: 0.8741 - val_loss: 0.5265 - val_binary_accuracy: 0.7796 - val_auc_2: 0.8779\n",
      "Epoch 17/200\n",
      "141/141 [==============================] - 8s 54ms/step - loss: 0.5307 - binary_accuracy: 0.7768 - auc_2: 0.8739 - val_loss: 0.5265 - val_binary_accuracy: 0.7826 - val_auc_2: 0.8788\n",
      "Epoch 18/200\n",
      "141/141 [==============================] - 8s 55ms/step - loss: 0.5306 - binary_accuracy: 0.7775 - auc_2: 0.8741 - val_loss: 0.5265 - val_binary_accuracy: 0.7814 - val_auc_2: 0.8786\n",
      "Epoch 19/200\n",
      "141/141 [==============================] - 8s 55ms/step - loss: 0.5307 - binary_accuracy: 0.7775 - auc_2: 0.8740 - val_loss: 0.5266 - val_binary_accuracy: 0.7830 - val_auc_2: 0.8787\n",
      "Epoch 20/200\n",
      "141/141 [==============================] - 7s 52ms/step - loss: 0.5305 - binary_accuracy: 0.7770 - auc_2: 0.8741 - val_loss: 0.5270 - val_binary_accuracy: 0.7799 - val_auc_2: 0.8778\n",
      "Epoch 21/200\n",
      "141/141 [==============================] - 8s 55ms/step - loss: 0.5307 - binary_accuracy: 0.7768 - auc_2: 0.8739 - val_loss: 0.5265 - val_binary_accuracy: 0.7815 - val_auc_2: 0.8784\n",
      "Epoch 22/200\n",
      "141/141 [==============================] - 8s 55ms/step - loss: 0.5307 - binary_accuracy: 0.7775 - auc_2: 0.8740 - val_loss: 0.5273 - val_binary_accuracy: 0.7809 - val_auc_2: 0.8779\n",
      "Epoch 23/200\n",
      "141/141 [==============================] - 8s 55ms/step - loss: 0.5305 - binary_accuracy: 0.7772 - auc_2: 0.8742 - val_loss: 0.5262 - val_binary_accuracy: 0.7829 - val_auc_2: 0.8792\n",
      "Epoch 24/200\n",
      "141/141 [==============================] - 8s 55ms/step - loss: 0.5308 - binary_accuracy: 0.7770 - auc_2: 0.8739 - val_loss: 0.5276 - val_binary_accuracy: 0.7812 - val_auc_2: 0.8779\n",
      "Epoch 25/200\n",
      "141/141 [==============================] - 8s 55ms/step - loss: 0.5307 - binary_accuracy: 0.7768 - auc_2: 0.8741 - val_loss: 0.5280 - val_binary_accuracy: 0.7820 - val_auc_2: 0.8776\n",
      "Epoch 26/200\n",
      "141/141 [==============================] - 8s 56ms/step - loss: 0.5311 - binary_accuracy: 0.7767 - auc_2: 0.8739 - val_loss: 0.5282 - val_binary_accuracy: 0.7812 - val_auc_2: 0.8775\n",
      "Epoch 27/200\n",
      "141/141 [==============================] - 8s 54ms/step - loss: 0.5307 - binary_accuracy: 0.7768 - auc_2: 0.8741 - val_loss: 0.5271 - val_binary_accuracy: 0.7808 - val_auc_2: 0.8782\n",
      "Epoch 28/200\n",
      "141/141 [==============================] - 8s 55ms/step - loss: 0.5311 - binary_accuracy: 0.7765 - auc_2: 0.8740 - val_loss: 0.5272 - val_binary_accuracy: 0.7806 - val_auc_2: 0.8792\n",
      "Epoch 29/200\n",
      "141/141 [==============================] - 8s 55ms/step - loss: 0.5310 - binary_accuracy: 0.7769 - auc_2: 0.8741 - val_loss: 0.5274 - val_binary_accuracy: 0.7823 - val_auc_2: 0.8782\n",
      "Epoch 30/200\n",
      "141/141 [==============================] - 8s 55ms/step - loss: 0.5305 - binary_accuracy: 0.7770 - auc_2: 0.8743 - val_loss: 0.5260 - val_binary_accuracy: 0.7819 - val_auc_2: 0.8795\n",
      "Epoch 31/200\n",
      "141/141 [==============================] - 8s 55ms/step - loss: 0.5304 - binary_accuracy: 0.7770 - auc_2: 0.8742 - val_loss: 0.5260 - val_binary_accuracy: 0.7805 - val_auc_2: 0.8784\n",
      "Epoch 32/200\n",
      "141/141 [==============================] - 8s 55ms/step - loss: 0.5314 - binary_accuracy: 0.7761 - auc_2: 0.8736 - val_loss: 0.5264 - val_binary_accuracy: 0.7829 - val_auc_2: 0.8787\n",
      "Epoch 33/200\n",
      "141/141 [==============================] - 8s 55ms/step - loss: 0.5305 - binary_accuracy: 0.7769 - auc_2: 0.8740 - val_loss: 0.5269 - val_binary_accuracy: 0.7806 - val_auc_2: 0.8782\n",
      "Epoch 34/200\n",
      "141/141 [==============================] - 8s 54ms/step - loss: 0.5308 - binary_accuracy: 0.7768 - auc_2: 0.8740 - val_loss: 0.5273 - val_binary_accuracy: 0.7799 - val_auc_2: 0.8779\n",
      "Epoch 35/200\n",
      "141/141 [==============================] - 8s 55ms/step - loss: 0.5313 - binary_accuracy: 0.7772 - auc_2: 0.8739 - val_loss: 0.5263 - val_binary_accuracy: 0.7818 - val_auc_2: 0.8788\n",
      "Epoch 36/200\n",
      "141/141 [==============================] - 8s 55ms/step - loss: 0.5312 - binary_accuracy: 0.7771 - auc_2: 0.8740 - val_loss: 0.5263 - val_binary_accuracy: 0.7811 - val_auc_2: 0.8787\n",
      "Epoch 37/200\n",
      "141/141 [==============================] - 8s 55ms/step - loss: 0.5311 - binary_accuracy: 0.7769 - auc_2: 0.8737 - val_loss: 0.5261 - val_binary_accuracy: 0.7817 - val_auc_2: 0.8788\n",
      "Epoch 38/200\n",
      "141/141 [==============================] - 8s 55ms/step - loss: 0.5308 - binary_accuracy: 0.7771 - auc_2: 0.8739 - val_loss: 0.5278 - val_binary_accuracy: 0.7795 - val_auc_2: 0.8776\n",
      "Epoch 39/200\n",
      "141/141 [==============================] - 8s 55ms/step - loss: 0.5312 - binary_accuracy: 0.7768 - auc_2: 0.8739 - val_loss: 0.5283 - val_binary_accuracy: 0.7805 - val_auc_2: 0.8783\n",
      "Epoch 40/200\n",
      "141/141 [==============================] - 8s 57ms/step - loss: 0.5308 - binary_accuracy: 0.7779 - auc_2: 0.8742 - val_loss: 0.5269 - val_binary_accuracy: 0.7787 - val_auc_2: 0.8783\n"
     ]
    }
   ],
   "source": [
    "model = Sequential()\n",
    "model.add(InputLayer(input_shape=(lookback, norm_train.shape[-1])))\n",
    "model.add(Masking(mask_value=0.))\n",
    "model.add(GRU(256, kernel_regularizer='l2', recurrent_regularizer='l2', bias_regularizer='l2', activity_regularizer='l2', dropout=0.2))\n",
    "model.add(Dense(128, activation='relu', kernel_regularizer='l2', bias_regularizer='l2', activity_regularizer='l2'))\n",
    "model.add(Dense(1, activation='sigmoid', kernel_regularizer='l2', bias_regularizer='l2', activity_regularizer='l2'))\n",
    "\n",
    "model.compile(optimizer=\"Adam\", loss=BinaryCrossentropy(), metrics=[BinaryAccuracy(), AUC()])\n",
    "history = model.fit(train_seq,\n",
    "                    epochs=200,\n",
    "                    validation_data=valid_seq,\n",
    "                    callbacks=[early_stopping, model_checkpoint_callback, logger])"
   ]
  },
  {
   "cell_type": "code",
   "execution_count": 32,
   "id": "80c336b4-ba78-48c1-9cf3-c6cd5301d9f9",
   "metadata": {},
   "outputs": [
    {
     "name": "stderr",
     "output_type": "stream",
     "text": [
      "WARNING:absl:Found untraced functions such as gru_cell_2_layer_call_and_return_conditional_losses, gru_cell_2_layer_call_fn, gru_cell_2_layer_call_fn, gru_cell_2_layer_call_and_return_conditional_losses, gru_cell_2_layer_call_and_return_conditional_losses while saving (showing 5 of 5). These functions will not be directly callable after loading.\n"
     ]
    },
    {
     "name": "stdout",
     "output_type": "stream",
     "text": [
      "INFO:tensorflow:Assets written to: models/model.tf\\assets\n"
     ]
    },
    {
     "name": "stderr",
     "output_type": "stream",
     "text": [
      "INFO:tensorflow:Assets written to: models/model.tf\\assets\n"
     ]
    },
    {
     "data": {
      "image/png": "[encoded data removed]",
      "text/plain": [
       "<Figure size 640x480 with 1 Axes>"
      ]
     },
     "metadata": {},
     "output_type": "display_data"
    },
    {
     "data": {
      "image/png": "[encoded data removed]",
      "text/plain": [
       "<Figure size 640x480 with 1 Axes>"
      ]
     },
     "metadata": {},
     "output_type": "display_data"
    }
   ],
   "source": [
    "run_name = \"RNN - ESTA 10 samples\"\n",
    "additional_description = \"RNN\"\n",
    "with mlflow.start_run(run_name=run_name, description=additional_description) as run:\n",
    "        mlflow.log_param(\"X_train.shape\", norm_train.shape)\n",
    "        mlflow.log_param(\"X_test.shape\", norm_test.shape)\n",
    "        mlflow.log_param(\"Sequence\", lookback)\n",
    "\n",
    "        y_proba = model.predict(test_seq)\n",
    "        y_true = y_test[test_indexes[:, -1]]\n",
    "        features_names = cols\n",
    "        metrics = {}\n",
    "        for threshold in np.arange(0.1, 1, 0.05):\n",
    "            y_pred = (y_proba >= threshold).astype(int)\n",
    "            metrics[f\"accuracy_{threshold:.2f}\"] = accuracy_score(y_true=y_true, y_pred=y_pred)\n",
    "            metrics[f\"precision_{threshold:.2f}\"] = precision_score(y_true=y_true, y_pred=y_pred)\n",
    "            metrics[f\"recall_{threshold:.2f}\"] = recall_score(y_true=y_true, y_pred=y_pred)\n",
    "            metrics[f\"f1_{threshold:.2f}\"] = f1_score(y_true=y_true, y_pred=y_pred)\n",
    "        metrics[\"roc_auc\"] = roc_auc_score(y_true=y_true, y_score=y_proba)\n",
    "        metrics[\"log_loss\"] = log_loss(y_true=y_true, y_pred=y_proba)\n",
    "        mlflow.log_metrics(metrics)\n",
    "        \n",
    "        if os.path.exists('artifacts'):\n",
    "            shutil.rmtree('artifacts')\n",
    "            os.makedirs('artifacts')\n",
    "        \n",
    "        if os.path.exists('models'):\n",
    "            shutil.rmtree('models')\n",
    "            os.makedirs('models')\n",
    "            \n",
    "        with open(\"artifacts/features.txt\", 'w') as f:\n",
    "            f.write(str(features_names))\n",
    "            \n",
    "        model.save('models/model.tf')\n",
    "\n",
    "        roc_plot = RocCurveDisplay.from_predictions(y_pred=y_proba, y_true=y_true)\n",
    "        roc_plot.figure_.savefig('artifacts/roc_auc.png')\n",
    "        plt.show()\n",
    "        \n",
    "        calibration_curve = CalibrationDisplay.from_predictions(y_prob=y_proba, y_true=y_true, n_bins=10)\n",
    "        calibration_curve.figure_.savefig('artifacts/calibration_curve.png')\n",
    "        plt.show()\n",
    "        \n",
    "        mlflow.log_artifacts(\"artifacts\", artifact_path=\"plots_data\")\n",
    "        mlflow.log_artifacts(\"models\", artifact_path=\"model\")"
   ]
  },
  {
   "cell_type": "markdown",
   "id": "df3cd86c-8ecb-457e-bd96-592a9120e1ce",
   "metadata": {},
   "source": [
    "# All dataset"
   ]
  },
  {
   "cell_type": "code",
   "execution_count": 33,
   "id": "d80f733f-604a-4045-8723-2846c9ef99ae",
   "metadata": {},
   "outputs": [
    {
     "data": {
      "text/html": [
       "<div>\n",
       "<style scoped>\n",
       "    .dataframe tbody tr th:only-of-type {\n",
       "        vertical-align: middle;\n",
       "    }\n",
       "\n",
       "    .dataframe tbody tr th {\n",
       "        vertical-align: top;\n",
       "    }\n",
       "\n",
       "    .dataframe thead th {\n",
       "        text-align: right;\n",
       "    }\n",
       "</style>\n",
       "<table border=\"1\" class=\"dataframe\">\n",
       "  <thead>\n",
       "    <tr style=\"text-align: right;\">\n",
       "      <th></th>\n",
       "      <th>demoId</th>\n",
       "      <th>roundNum</th>\n",
       "    </tr>\n",
       "  </thead>\n",
       "  <tbody>\n",
       "    <tr>\n",
       "      <th>0</th>\n",
       "      <td>0013db25-4444-452b-980b-7702dc6fb810</td>\n",
       "      <td>1</td>\n",
       "    </tr>\n",
       "    <tr>\n",
       "      <th>1</th>\n",
       "      <td>0013db25-4444-452b-980b-7702dc6fb810</td>\n",
       "      <td>2</td>\n",
       "    </tr>\n",
       "    <tr>\n",
       "      <th>2</th>\n",
       "      <td>0013db25-4444-452b-980b-7702dc6fb810</td>\n",
       "      <td>3</td>\n",
       "    </tr>\n",
       "    <tr>\n",
       "      <th>3</th>\n",
       "      <td>0013db25-4444-452b-980b-7702dc6fb810</td>\n",
       "      <td>4</td>\n",
       "    </tr>\n",
       "    <tr>\n",
       "      <th>4</th>\n",
       "      <td>0013db25-4444-452b-980b-7702dc6fb810</td>\n",
       "      <td>5</td>\n",
       "    </tr>\n",
       "    <tr>\n",
       "      <th>...</th>\n",
       "      <td>...</td>\n",
       "      <td>...</td>\n",
       "    </tr>\n",
       "    <tr>\n",
       "      <th>41069</th>\n",
       "      <td>ff910f54-0bed-4fdf-afa8-b481be09a788</td>\n",
       "      <td>22</td>\n",
       "    </tr>\n",
       "    <tr>\n",
       "      <th>41070</th>\n",
       "      <td>ff910f54-0bed-4fdf-afa8-b481be09a788</td>\n",
       "      <td>23</td>\n",
       "    </tr>\n",
       "    <tr>\n",
       "      <th>41071</th>\n",
       "      <td>ff910f54-0bed-4fdf-afa8-b481be09a788</td>\n",
       "      <td>24</td>\n",
       "    </tr>\n",
       "    <tr>\n",
       "      <th>41072</th>\n",
       "      <td>ff910f54-0bed-4fdf-afa8-b481be09a788</td>\n",
       "      <td>25</td>\n",
       "    </tr>\n",
       "    <tr>\n",
       "      <th>41073</th>\n",
       "      <td>ff910f54-0bed-4fdf-afa8-b481be09a788</td>\n",
       "      <td>26</td>\n",
       "    </tr>\n",
       "  </tbody>\n",
       "</table>\n",
       "<p>41074 rows × 2 columns</p>\n",
       "</div>"
      ],
      "text/plain": [
       "                                     demoId  roundNum\n",
       "0      0013db25-4444-452b-980b-7702dc6fb810         1\n",
       "1      0013db25-4444-452b-980b-7702dc6fb810         2\n",
       "2      0013db25-4444-452b-980b-7702dc6fb810         3\n",
       "3      0013db25-4444-452b-980b-7702dc6fb810         4\n",
       "4      0013db25-4444-452b-980b-7702dc6fb810         5\n",
       "...                                     ...       ...\n",
       "41069  ff910f54-0bed-4fdf-afa8-b481be09a788        22\n",
       "41070  ff910f54-0bed-4fdf-afa8-b481be09a788        23\n",
       "41071  ff910f54-0bed-4fdf-afa8-b481be09a788        24\n",
       "41072  ff910f54-0bed-4fdf-afa8-b481be09a788        25\n",
       "41073  ff910f54-0bed-4fdf-afa8-b481be09a788        26\n",
       "\n",
       "[41074 rows x 2 columns]"
      ]
     },
     "execution_count": 33,
     "metadata": {},
     "output_type": "execute_result"
    }
   ],
   "source": [
    "groupped = df.groupby(['demoId', 'roundNum'])\n",
    "demo_indexes = list(groupped.indices.keys())\n",
    "demo_round = pd.DataFrame.from_records(demo_indexes, columns=['demoId', 'roundNum'])\n",
    "demo_round"
   ]
  },
  {
   "cell_type": "code",
   "execution_count": 34,
   "id": "2ce3a177-9052-4c4f-8fc9-0a785a7585b3",
   "metadata": {},
   "outputs": [
    {
     "data": {
      "text/plain": [
       "((28751, 2), (4108, 2), (8215, 2))"
      ]
     },
     "execution_count": 34,
     "metadata": {},
     "output_type": "execute_result"
    }
   ],
   "source": [
    "demo_round_train, demo_round_test = train_test_split(demo_round, test_size=0.2, random_state=1)\n",
    "demo_round_train, demo_round_val = train_test_split(demo_round_train, test_size=0.125, random_state=1) # 0.125 x 0.8 = 0.1\n",
    "demo_round_train.shape, demo_round_val.shape, demo_round_test.shape"
   ]
  },
  {
   "cell_type": "code",
   "execution_count": 35,
   "id": "f7846623-bfa4-486d-afea-8bab9ba6c9d4",
   "metadata": {
    "tags": []
   },
   "outputs": [
    {
     "data": {
      "text/plain": [
       "((5219419, 102), (746248, 102), (1498631, 102))"
      ]
     },
     "execution_count": 35,
     "metadata": {},
     "output_type": "execute_result"
    }
   ],
   "source": [
    "df_train = df.merge(demo_round_train, on=['demoId', 'roundNum'])\n",
    "df_val = df.merge(demo_round_val, on=['demoId', 'roundNum'])\n",
    "df_test = df.merge(demo_round_test, on=['demoId', 'roundNum'])\n",
    "df_train.shape, df_val.shape, df_test.shape"
   ]
  },
  {
   "cell_type": "code",
   "execution_count": 36,
   "id": "c99dd719-3498-414c-966b-a1505b94d0ba",
   "metadata": {},
   "outputs": [],
   "source": [
    "def generate_indices(data, lookback):\n",
    "    grouped = data.groupby(['demoId', 'roundNum'])\n",
    "    dict_gr = grouped.indices\n",
    "    for key, val in dict_gr.items():\n",
    "        dict_gr[key] = np.min(val),  np.max(val)\n",
    "    \n",
    "    indices = np.zeros((len(data.index), lookback), dtype=np.int32)\n",
    "    for key in dict_gr:\n",
    "        minimum, maximum = dict_gr[key]\n",
    "        for i in range(minimum, maximum + 1):\n",
    "            if i - minimum < lookback:\n",
    "                indices[i] = np.hstack((np.repeat(-1, lookback - (i + 1 - minimum)), np.arange(minimum, i + 1, dtype=np.int32)))\n",
    "            else:\n",
    "                indices[i] = np.arange(i + 1 - lookback, i + 1, dtype=np.int32)\n",
    "    return indices"
   ]
  },
  {
   "cell_type": "code",
   "execution_count": 37,
   "id": "dfd6e01d-de51-4ae5-8018-973cbd3f9b94",
   "metadata": {},
   "outputs": [
    {
     "data": {
      "text/plain": [
       "(417.55352, 59.69984, 119.89048)"
      ]
     },
     "execution_count": 37,
     "metadata": {},
     "output_type": "execute_result"
    }
   ],
   "source": [
    "lookback = 20\n",
    "train_indexes = generate_indices(df_train, lookback)\n",
    "valid_indexes = generate_indices(df_val, lookback)\n",
    "test_indexes = generate_indices(df_test, lookback)\n",
    "train_indexes.size * train_indexes.itemsize / 1_000_000, valid_indexes.size * valid_indexes.itemsize / 1_000_000 , test_indexes.size * test_indexes.itemsize / 1_000_000"
   ]
  },
  {
   "cell_type": "code",
   "execution_count": 38,
   "id": "772aeacb-4016-4876-82a5-bb860c5b0852",
   "metadata": {},
   "outputs": [],
   "source": [
    "y_train, y_valid, y_test = df_train['winningSideCT'], df_val['winningSideCT'], df_test['winningSideCT']\n",
    "norm_train = df_train.drop(['demoId', 'roundNum', 'winningSideCT'], axis='columns')\n",
    "norm_valid = df_val.drop(['demoId', 'roundNum', 'winningSideCT'], axis='columns')\n",
    "norm_test = df_test.drop(['demoId', 'roundNum', 'winningSideCT'], axis='columns')\n",
    "cols = norm_train.columns.tolist()\n",
    "del df_train, df_val, df_test\n",
    "scaler = StandardScaler()\n",
    "norm_train = scaler.fit_transform(norm_train)\n",
    "norm_valid = scaler.transform(norm_valid)\n",
    "norm_test = scaler.transform(norm_test)"
   ]
  },
  {
   "cell_type": "code",
   "execution_count": 39,
   "id": "81775d4b-3df4-4dc0-ad19-9d5cbf11dc8b",
   "metadata": {},
   "outputs": [],
   "source": [
    "class CSGOsequence(Sequence):\n",
    "    def __init__(self, x_set, y_set, batch_size, indices, shuffle):\n",
    "        self.x, self.y = x_set, y_set\n",
    "        self.indices = indices\n",
    "        self.batch_size = batch_size\n",
    "        self.shuffle = shuffle\n",
    "        if self.shuffle:\n",
    "            np.random.shuffle(self.indices)\n",
    "\n",
    "    def __len__(self):\n",
    "        return math.ceil(self.indices.shape[0] / self.batch_size)\n",
    "                         \n",
    "    def __getitem__(self, idx):\n",
    "        batch_x = [np.array([np.zeros(self.x.shape[-1]) if val < 0 else self.x[val] \n",
    "                   for val in index])\n",
    "                       for index in self.indices[idx * self.batch_size : (idx + 1) * self.batch_size]]\n",
    "        batch_y = self.y[self.indices[idx * self.batch_size : (idx + 1) * self.batch_size, -1]]\n",
    "        return np.array(batch_x), np.array(batch_y)\n",
    "    \n",
    "    def on_epoch_end(self):\n",
    "        if self.shuffle:\n",
    "            np.random.shuffle(self.indices)"
   ]
  },
  {
   "cell_type": "code",
   "execution_count": 41,
   "id": "c99e83e6-d35c-4b1f-93e3-309bcbe376a6",
   "metadata": {
    "tags": []
   },
   "outputs": [],
   "source": [
    "train_seq = CSGOsequence(norm_train, y_train.values, 10000, train_indexes, shuffle=True)\n",
    "valid_seq = CSGOsequence(norm_valid, y_valid.values, 10000, valid_indexes, shuffle=False)\n",
    "test_seq = CSGOsequence(norm_test, y_test.values, 10000, test_indexes, shuffle=False)"
   ]
  },
  {
   "cell_type": "code",
   "execution_count": 42,
   "id": "5abb3b81-7803-4383-8775-0c4bed0f0923",
   "metadata": {},
   "outputs": [],
   "source": [
    "os.makedirs(\"model_deep\", exist_ok=True)"
   ]
  },
  {
   "cell_type": "code",
   "execution_count": 45,
   "id": "fc35d1ab-8f54-4310-bb42-bb9f091f653d",
   "metadata": {},
   "outputs": [],
   "source": [
    "early_stopping = EarlyStopping(\n",
    "    monitor='val_loss',\n",
    "    min_delta=0.0001,\n",
    "    patience=10,\n",
    "    verbose=0,\n",
    "    mode='min',\n",
    "    baseline=None,\n",
    "    restore_best_weights=True,\n",
    ")\n",
    "\n",
    "model_checkpoint_callback = ModelCheckpoint(\n",
    "    filepath=\"model_deep/rnn.tf\",\n",
    "    monitor='val_loss',\n",
    "    mode='min',\n",
    "    save_best_only=True)\n",
    "\n",
    "logger = CSVLogger(\n",
    "    \"model_deep/rnn_log.csv\", separator=',', append=True\n",
    ")"
   ]
  },
  {
   "cell_type": "code",
   "execution_count": 46,
   "id": "abc12c92-a10a-426d-8e0f-1459e62be730",
   "metadata": {},
   "outputs": [
    {
     "name": "stdout",
     "output_type": "stream",
     "text": [
      "Epoch 1/200\n",
      "522/522 [==============================] - 103s 195ms/step - loss: 0.8969 - binary_accuracy: 0.7578 - auc_4: 0.8559 - val_loss: 0.5459 - val_binary_accuracy: 0.7607 - val_auc_4: 0.8621\n"
     ]
    },
    {
     "name": "stderr",
     "output_type": "stream",
     "text": [
      "WARNING:absl:Found untraced functions such as gru_cell_4_layer_call_and_return_conditional_losses, gru_cell_4_layer_call_fn, gru_cell_4_layer_call_fn, gru_cell_4_layer_call_and_return_conditional_losses, gru_cell_4_layer_call_and_return_conditional_losses while saving (showing 5 of 5). These functions will not be directly callable after loading.\n"
     ]
    },
    {
     "name": "stdout",
     "output_type": "stream",
     "text": [
      "INFO:tensorflow:Assets written to: model_deep\\rnn.tf\\assets\n"
     ]
    },
    {
     "name": "stderr",
     "output_type": "stream",
     "text": [
      "INFO:tensorflow:Assets written to: model_deep\\rnn.tf\\assets\n"
     ]
    },
    {
     "name": "stdout",
     "output_type": "stream",
     "text": [
      "Epoch 2/200\n",
      "522/522 [==============================] - 102s 195ms/step - loss: 0.5501 - binary_accuracy: 0.7587 - auc_4: 0.8575 - val_loss: 0.5468 - val_binary_accuracy: 0.7599 - val_auc_4: 0.8612\n",
      "Epoch 3/200\n",
      "522/522 [==============================] - 101s 193ms/step - loss: 0.5500 - binary_accuracy: 0.7588 - auc_4: 0.8576 - val_loss: 0.5462 - val_binary_accuracy: 0.7599 - val_auc_4: 0.8616\n",
      "Epoch 4/200\n",
      "522/522 [==============================] - 100s 191ms/step - loss: 0.5500 - binary_accuracy: 0.7591 - auc_4: 0.8577 - val_loss: 0.5459 - val_binary_accuracy: 0.7612 - val_auc_4: 0.8618\n",
      "Epoch 5/200\n",
      "522/522 [==============================] - 100s 191ms/step - loss: 0.5500 - binary_accuracy: 0.7589 - auc_4: 0.8577 - val_loss: 0.5464 - val_binary_accuracy: 0.7594 - val_auc_4: 0.8612\n",
      "Epoch 6/200\n",
      "522/522 [==============================] - 99s 189ms/step - loss: 0.5500 - binary_accuracy: 0.7591 - auc_4: 0.8577 - val_loss: 0.5467 - val_binary_accuracy: 0.7602 - val_auc_4: 0.8616\n",
      "Epoch 7/200\n",
      "522/522 [==============================] - 99s 189ms/step - loss: 0.5500 - binary_accuracy: 0.7590 - auc_4: 0.8578 - val_loss: 0.5463 - val_binary_accuracy: 0.7604 - val_auc_4: 0.8616\n",
      "Epoch 8/200\n",
      "522/522 [==============================] - 99s 190ms/step - loss: 0.5500 - binary_accuracy: 0.7591 - auc_4: 0.8578 - val_loss: 0.5463 - val_binary_accuracy: 0.7596 - val_auc_4: 0.8619\n",
      "Epoch 9/200\n",
      "522/522 [==============================] - 99s 189ms/step - loss: 0.5500 - binary_accuracy: 0.7592 - auc_4: 0.8578 - val_loss: 0.5464 - val_binary_accuracy: 0.7595 - val_auc_4: 0.8612\n",
      "Epoch 10/200\n",
      "522/522 [==============================] - 99s 189ms/step - loss: 0.5501 - binary_accuracy: 0.7591 - auc_4: 0.8577 - val_loss: 0.5463 - val_binary_accuracy: 0.7603 - val_auc_4: 0.8615\n",
      "Epoch 11/200\n",
      "522/522 [==============================] - 99s 189ms/step - loss: 0.5501 - binary_accuracy: 0.7592 - auc_4: 0.8578 - val_loss: 0.5465 - val_binary_accuracy: 0.7596 - val_auc_4: 0.8612\n"
     ]
    }
   ],
   "source": [
    "model = Sequential()\n",
    "model.add(InputLayer(input_shape=(lookback, norm_train.shape[-1])))\n",
    "model.add(Masking(mask_value=0.))\n",
    "model.add(GRU(256, kernel_regularizer='l2', recurrent_regularizer='l2', bias_regularizer='l2', activity_regularizer='l2', dropout=0.2))\n",
    "model.add(Dense(128, activation='relu', kernel_regularizer='l2', bias_regularizer='l2', activity_regularizer='l2'))\n",
    "model.add(Dense(1, activation='sigmoid', kernel_regularizer='l2', bias_regularizer='l2', activity_regularizer='l2'))\n",
    "\n",
    "model.compile(optimizer=\"Adam\", loss=BinaryCrossentropy(), metrics=[BinaryAccuracy(), AUC()])\n",
    "history = model.fit(train_seq,\n",
    "                    epochs=200,\n",
    "                    validation_data=valid_seq,\n",
    "                    callbacks=[early_stopping, model_checkpoint_callback, logger])"
   ]
  },
  {
   "cell_type": "code",
   "execution_count": 47,
   "id": "a880823c-d791-42c7-b480-00943dbbeb45",
   "metadata": {},
   "outputs": [
    {
     "name": "stderr",
     "output_type": "stream",
     "text": [
      "WARNING:absl:Found untraced functions such as gru_cell_4_layer_call_and_return_conditional_losses, gru_cell_4_layer_call_fn, gru_cell_4_layer_call_fn, gru_cell_4_layer_call_and_return_conditional_losses, gru_cell_4_layer_call_and_return_conditional_losses while saving (showing 5 of 5). These functions will not be directly callable after loading.\n"
     ]
    },
    {
     "name": "stdout",
     "output_type": "stream",
     "text": [
      "INFO:tensorflow:Assets written to: models/model.tf\\assets\n"
     ]
    },
    {
     "name": "stderr",
     "output_type": "stream",
     "text": [
      "INFO:tensorflow:Assets written to: models/model.tf\\assets\n"
     ]
    },
    {
     "data": {
      "image/png": "[encoded data removed]",
      "text/plain": [
       "<Figure size 640x480 with 1 Axes>"
      ]
     },
     "metadata": {},
     "output_type": "display_data"
    },
    {
     "data": {
      "image/png": "[encoded data removed]",
      "text/plain": [
       "<Figure size 640x480 with 1 Axes>"
      ]
     },
     "metadata": {},
     "output_type": "display_data"
    }
   ],
   "source": [
    "run_name = \"RNN - ESTA All Dataset\"\n",
    "additional_description = \"RNN\"\n",
    "with mlflow.start_run(run_name=run_name, description=additional_description) as run:\n",
    "        mlflow.log_param(\"X_train.shape\", norm_train.shape)\n",
    "        mlflow.log_param(\"X_test.shape\", norm_test.shape)\n",
    "        mlflow.log_param(\"Sequence\", lookback)\n",
    "\n",
    "        y_proba = model.predict(test_seq)\n",
    "        y_true = y_test[test_indexes[:, -1]]\n",
    "        features_names = cols\n",
    "        metrics = {}\n",
    "        for threshold in np.arange(0.1, 1, 0.05):\n",
    "            y_pred = (y_proba >= threshold).astype(int)\n",
    "            metrics[f\"accuracy_{threshold:.2f}\"] = accuracy_score(y_true=y_true, y_pred=y_pred)\n",
    "            metrics[f\"precision_{threshold:.2f}\"] = precision_score(y_true=y_true, y_pred=y_pred)\n",
    "            metrics[f\"recall_{threshold:.2f}\"] = recall_score(y_true=y_true, y_pred=y_pred)\n",
    "            metrics[f\"f1_{threshold:.2f}\"] = f1_score(y_true=y_true, y_pred=y_pred)\n",
    "        metrics[\"roc_auc\"] = roc_auc_score(y_true=y_true, y_score=y_proba)\n",
    "        metrics[\"log_loss\"] = log_loss(y_true=y_true, y_pred=y_proba)\n",
    "        mlflow.log_metrics(metrics)\n",
    "        \n",
    "        if os.path.exists('artifacts'):\n",
    "            shutil.rmtree('artifacts')\n",
    "            os.makedirs('artifacts')\n",
    "        \n",
    "        if os.path.exists('models'):\n",
    "            shutil.rmtree('models')\n",
    "            os.makedirs('models')\n",
    "            \n",
    "        with open(\"artifacts/features.txt\", 'w') as f:\n",
    "            f.write(str(features_names))\n",
    "            \n",
    "        model.save('models/model.tf')\n",
    "\n",
    "        roc_plot = RocCurveDisplay.from_predictions(y_pred=y_proba, y_true=y_true)\n",
    "        roc_plot.figure_.savefig('artifacts/roc_auc.png')\n",
    "        plt.show()\n",
    "        \n",
    "        calibration_curve = CalibrationDisplay.from_predictions(y_prob=y_proba, y_true=y_true, n_bins=10)\n",
    "        calibration_curve.figure_.savefig('artifacts/calibration_curve.png')\n",
    "        plt.show()\n",
    "        \n",
    "        mlflow.log_artifacts(\"artifacts\", artifact_path=\"plots_data\")\n",
    "        mlflow.log_artifacts(\"models\", artifact_path=\"model\")"
   ]
  }
 ],
 "metadata": {
  "kernelspec": {
   "display_name": "Python 3 (ipykernel)",
   "language": "python",
   "name": "python3"
  },
  "language_info": {
   "codemirror_mode": {
    "name": "ipython",
    "version": 3
   },
   "file_extension": ".py",
   "mimetype": "text/x-python",
   "name": "python",
   "nbconvert_exporter": "python",
   "pygments_lexer": "ipython3",
   "version": "3.9.13"
  }
 },
 "nbformat": 4,
 "nbformat_minor": 5
}
