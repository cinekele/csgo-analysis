{
 "cells": [
  {
   "cell_type": "code",
   "execution_count": 1,
   "id": "61024691-50fd-4fdb-9585-6d72d16c209e",
   "metadata": {},
   "outputs": [
    {
     "name": "stdout",
     "output_type": "stream",
     "text": [
      "Experiment_id: 1\n",
      "Artifact Location: file:///C:/Users/Piotrek/Documents/Inzynierka/csgo-analysis/mlruns/1\n",
      "Tags: {}\n",
      "Lifecycle_stage: active\n"
     ]
    }
   ],
   "source": [
    "%run 0_3_configure_mlflow.ipynb"
   ]
  },
  {
   "cell_type": "code",
   "execution_count": 2,
   "id": "1f701eff-5bab-41d4-9768-ace06e1274a0",
   "metadata": {},
   "outputs": [],
   "source": [
    "import pandas as pd\n",
    "import numpy as np\n",
    "import matplotlib.pyplot as plt\n",
    "import pickle\n",
    "import random\n",
    "import shap\n",
    "import os\n",
    "import shutil\n",
    "import math\n",
    "\n",
    "from sklearn.metrics import accuracy_score, precision_score, recall_score, log_loss, f1_score, roc_auc_score, RocCurveDisplay\n",
    "from sklearn.calibration import CalibrationDisplay\n",
    "from sklearn.preprocessing import StandardScaler\n",
    "from sklearn.model_selection import StratifiedKFold, train_test_split\n",
    "from tensorflow.keras import Sequential\n",
    "from tensorflow.keras.layers import InputLayer, GRU, Dense, Masking, Flatten\n",
    "from tensorflow.keras.losses import BinaryCrossentropy\n",
    "from tensorflow.keras.metrics import AUC, BinaryAccuracy\n",
    "from tensorflow.keras.utils import Sequence\n",
    "from tensorflow.keras.callbacks import EarlyStopping, ModelCheckpoint, CSVLogger"
   ]
  },
  {
   "cell_type": "markdown",
   "id": "ead6dbe8-0523-491a-b752-9f11a65a4d1f",
   "metadata": {
    "tags": []
   },
   "source": [
    "# Wczytanie danych"
   ]
  },
  {
   "cell_type": "code",
   "execution_count": 3,
   "id": "3144d7bb-69a5-4c85-9b29-e924ca418c65",
   "metadata": {},
   "outputs": [],
   "source": [
    "def select_feat():\n",
    "    columns = [\n",
    "        'seconds', 'ctAlivePlayers', 'ctEqVal', 'tAlivePlayers', 'tEqVal',\n",
    "       'ct_armor', 't_armor', 'ct_hp', 't_hp', 'ct_hasHelmet', 't_hasHelmet', 'ct_DecoyGrenade',\n",
    "       't_DecoyGrenade', 'ct_Flashbang', 't_Flashbang', 'ct_HEGrenade',\n",
    "       't_HEGrenade', 'ct_SmokeGrenade', 't_SmokeGrenade', 'ct_fireGrenades',\n",
    "       't_fireGrenades', 'ct_isBlinded', 't_isBlinded', 'ct_hasDefuse',\n",
    "       't_hasBomb', 'ct_isDefusing', 't_isPlanting', 'ct_spottedPlayers',\n",
    "       't_spottedPlayers', 'ct_grouppedPlayers',\n",
    "       'ct_meanDist', 'ct_minDist', 't_meanDist','t_minDist',\n",
    "       't_grouppedPlayers', 'ct_conquerMap', 't_conquerMap', 'ct_activeWeapon_Pistol',\n",
    "       'ct_activeWeapon_EnhancedPistols', 'ct_activeWeapon_Deagle',\n",
    "       'ct_activeWeapon_SMG', 'ct_activeWeapon_WeakAssaultRifle',\n",
    "       'ct_activeWeapon_LunetRifle', 'ct_activeWeapon_SniperRifle',\n",
    "       'ct_activeWeapon_AssaultRifle', 'ct_activeWeapon_Others',\n",
    "       't_activeWeapon_Pistol', 't_activeWeapon_EnhancedPistols',\n",
    "       't_activeWeapon_Deagle', 't_activeWeapon_SMG',\n",
    "       't_activeWeapon_WeakAssaultRifle', 't_activeWeapon_LunetRifle',\n",
    "       't_activeWeapon_SniperRifle', 't_activeWeapon_AssaultRifle',\n",
    "       't_activeWeapon_Others', 'ct_mainWeapon_Pistol',\n",
    "       'ct_mainWeapon_EnhancedPistols', 'ct_mainWeapon_Deagle',\n",
    "       'ct_mainWeapon_SMG', 'ct_mainWeapon_WeakAssaultRifle',\n",
    "       'ct_mainWeapon_LunetRifle', 'ct_mainWeapon_SniperRifle',\n",
    "       'ct_mainWeapon_AssaultRifle', 't_mainWeapon_Pistol', 't_mainWeapon_EnhancedPistols',\n",
    "       't_mainWeapon_Deagle', 't_mainWeapon_SMG',\n",
    "       't_mainWeapon_WeakAssaultRifle', 't_mainWeapon_LunetRifle',\n",
    "       't_mainWeapon_SniperRifle', 't_mainWeapon_AssaultRifle', \n",
    "       'ct_secondaryWeapon_Pistol','ct_secondaryWeapon_EnhancedPistols', 'ct_secondaryWeapon_Deagle',\n",
    "       't_secondaryWeapon_Pistol', 't_secondaryWeapon_EnhancedPistols',\n",
    "       't_secondaryWeapon_Deagle', 'ctMinDistToA',\n",
    "       'ctMinDistToB', 'tMinDistToA', 'tMinDistToB', 'ctMeanDistToA',\n",
    "       'ctMeanDistToB', 'tMeanDistToA', 'tMeanDistToB', 'ctMeanKills',\n",
    "       'tMeanKills', 'tScore', 'ctScore', 'de_ancient', \n",
    "       'de_dust2', 'de_inferno', 'de_mirage', 'de_nuke', 'de_overpass',\n",
    "       'de_vertigo','bombsite_A', 'bombsite_B', 'bombsite_not_planted'\n",
    "    ]\n",
    "    return columns"
   ]
  },
  {
   "cell_type": "code",
   "execution_count": 4,
   "id": "e94e93cc-142d-4040-8f30-8a8ae5b3226a",
   "metadata": {
    "tags": []
   },
   "outputs": [
    {
     "data": {
      "text/html": [
       "<div>\n",
       "<style scoped>\n",
       "    .dataframe tbody tr th:only-of-type {\n",
       "        vertical-align: middle;\n",
       "    }\n",
       "\n",
       "    .dataframe tbody tr th {\n",
       "        vertical-align: top;\n",
       "    }\n",
       "\n",
       "    .dataframe thead th {\n",
       "        text-align: right;\n",
       "    }\n",
       "</style>\n",
       "<table border=\"1\" class=\"dataframe\">\n",
       "  <thead>\n",
       "    <tr style=\"text-align: right;\">\n",
       "      <th></th>\n",
       "      <th>seconds</th>\n",
       "      <th>ctAlivePlayers</th>\n",
       "      <th>ctEqVal</th>\n",
       "      <th>tAlivePlayers</th>\n",
       "      <th>tEqVal</th>\n",
       "      <th>ct_armor</th>\n",
       "      <th>t_armor</th>\n",
       "      <th>ct_hp</th>\n",
       "      <th>t_hp</th>\n",
       "      <th>ct_hasHelmet</th>\n",
       "      <th>...</th>\n",
       "      <th>de_nuke</th>\n",
       "      <th>de_overpass</th>\n",
       "      <th>de_vertigo</th>\n",
       "      <th>bombsite_A</th>\n",
       "      <th>bombsite_B</th>\n",
       "      <th>bombsite_not_planted</th>\n",
       "      <th>matchName</th>\n",
       "      <th>demoId</th>\n",
       "      <th>roundNum</th>\n",
       "      <th>winningSideCT</th>\n",
       "    </tr>\n",
       "  </thead>\n",
       "  <tbody>\n",
       "    <tr>\n",
       "      <th>0</th>\n",
       "      <td>0.007874</td>\n",
       "      <td>5</td>\n",
       "      <td>4400</td>\n",
       "      <td>5</td>\n",
       "      <td>4250</td>\n",
       "      <td>400</td>\n",
       "      <td>300</td>\n",
       "      <td>500</td>\n",
       "      <td>500</td>\n",
       "      <td>0</td>\n",
       "      <td>...</td>\n",
       "      <td>1</td>\n",
       "      <td>0</td>\n",
       "      <td>0</td>\n",
       "      <td>0</td>\n",
       "      <td>0</td>\n",
       "      <td>1</td>\n",
       "      <td>heroic-vs-big-iem-katowice-2021</td>\n",
       "      <td>00330e8b-ba01-4d3f-a6c1-66881b879dac</td>\n",
       "      <td>1</td>\n",
       "      <td>0</td>\n",
       "    </tr>\n",
       "    <tr>\n",
       "      <th>1</th>\n",
       "      <td>0.511811</td>\n",
       "      <td>5</td>\n",
       "      <td>4400</td>\n",
       "      <td>5</td>\n",
       "      <td>4250</td>\n",
       "      <td>400</td>\n",
       "      <td>300</td>\n",
       "      <td>500</td>\n",
       "      <td>500</td>\n",
       "      <td>0</td>\n",
       "      <td>...</td>\n",
       "      <td>1</td>\n",
       "      <td>0</td>\n",
       "      <td>0</td>\n",
       "      <td>0</td>\n",
       "      <td>0</td>\n",
       "      <td>1</td>\n",
       "      <td>heroic-vs-big-iem-katowice-2021</td>\n",
       "      <td>00330e8b-ba01-4d3f-a6c1-66881b879dac</td>\n",
       "      <td>1</td>\n",
       "      <td>0</td>\n",
       "    </tr>\n",
       "    <tr>\n",
       "      <th>2</th>\n",
       "      <td>1.015748</td>\n",
       "      <td>5</td>\n",
       "      <td>4400</td>\n",
       "      <td>5</td>\n",
       "      <td>4250</td>\n",
       "      <td>400</td>\n",
       "      <td>300</td>\n",
       "      <td>500</td>\n",
       "      <td>500</td>\n",
       "      <td>0</td>\n",
       "      <td>...</td>\n",
       "      <td>1</td>\n",
       "      <td>0</td>\n",
       "      <td>0</td>\n",
       "      <td>0</td>\n",
       "      <td>0</td>\n",
       "      <td>1</td>\n",
       "      <td>heroic-vs-big-iem-katowice-2021</td>\n",
       "      <td>00330e8b-ba01-4d3f-a6c1-66881b879dac</td>\n",
       "      <td>1</td>\n",
       "      <td>0</td>\n",
       "    </tr>\n",
       "    <tr>\n",
       "      <th>3</th>\n",
       "      <td>1.519685</td>\n",
       "      <td>5</td>\n",
       "      <td>4400</td>\n",
       "      <td>5</td>\n",
       "      <td>4250</td>\n",
       "      <td>400</td>\n",
       "      <td>300</td>\n",
       "      <td>500</td>\n",
       "      <td>500</td>\n",
       "      <td>0</td>\n",
       "      <td>...</td>\n",
       "      <td>1</td>\n",
       "      <td>0</td>\n",
       "      <td>0</td>\n",
       "      <td>0</td>\n",
       "      <td>0</td>\n",
       "      <td>1</td>\n",
       "      <td>heroic-vs-big-iem-katowice-2021</td>\n",
       "      <td>00330e8b-ba01-4d3f-a6c1-66881b879dac</td>\n",
       "      <td>1</td>\n",
       "      <td>0</td>\n",
       "    </tr>\n",
       "    <tr>\n",
       "      <th>4</th>\n",
       "      <td>2.023622</td>\n",
       "      <td>5</td>\n",
       "      <td>4400</td>\n",
       "      <td>5</td>\n",
       "      <td>4250</td>\n",
       "      <td>400</td>\n",
       "      <td>300</td>\n",
       "      <td>500</td>\n",
       "      <td>500</td>\n",
       "      <td>0</td>\n",
       "      <td>...</td>\n",
       "      <td>1</td>\n",
       "      <td>0</td>\n",
       "      <td>0</td>\n",
       "      <td>0</td>\n",
       "      <td>0</td>\n",
       "      <td>1</td>\n",
       "      <td>heroic-vs-big-iem-katowice-2021</td>\n",
       "      <td>00330e8b-ba01-4d3f-a6c1-66881b879dac</td>\n",
       "      <td>1</td>\n",
       "      <td>0</td>\n",
       "    </tr>\n",
       "    <tr>\n",
       "      <th>...</th>\n",
       "      <td>...</td>\n",
       "      <td>...</td>\n",
       "      <td>...</td>\n",
       "      <td>...</td>\n",
       "      <td>...</td>\n",
       "      <td>...</td>\n",
       "      <td>...</td>\n",
       "      <td>...</td>\n",
       "      <td>...</td>\n",
       "      <td>...</td>\n",
       "      <td>...</td>\n",
       "      <td>...</td>\n",
       "      <td>...</td>\n",
       "      <td>...</td>\n",
       "      <td>...</td>\n",
       "      <td>...</td>\n",
       "      <td>...</td>\n",
       "      <td>...</td>\n",
       "      <td>...</td>\n",
       "      <td>...</td>\n",
       "      <td>...</td>\n",
       "    </tr>\n",
       "    <tr>\n",
       "      <th>7464293</th>\n",
       "      <td>81.464567</td>\n",
       "      <td>3</td>\n",
       "      <td>26800</td>\n",
       "      <td>1</td>\n",
       "      <td>24300</td>\n",
       "      <td>290</td>\n",
       "      <td>94</td>\n",
       "      <td>233</td>\n",
       "      <td>74</td>\n",
       "      <td>3</td>\n",
       "      <td>...</td>\n",
       "      <td>0</td>\n",
       "      <td>0</td>\n",
       "      <td>1</td>\n",
       "      <td>0</td>\n",
       "      <td>0</td>\n",
       "      <td>1</td>\n",
       "      <td>spirit-vs-copenhagen-flames-pgl-major-antwerp-...</td>\n",
       "      <td>ff910f54-0bed-4fdf-afa8-b481be09a788</td>\n",
       "      <td>26</td>\n",
       "      <td>1</td>\n",
       "    </tr>\n",
       "    <tr>\n",
       "      <th>7464294</th>\n",
       "      <td>81.968504</td>\n",
       "      <td>3</td>\n",
       "      <td>26800</td>\n",
       "      <td>1</td>\n",
       "      <td>24300</td>\n",
       "      <td>290</td>\n",
       "      <td>94</td>\n",
       "      <td>233</td>\n",
       "      <td>74</td>\n",
       "      <td>3</td>\n",
       "      <td>...</td>\n",
       "      <td>0</td>\n",
       "      <td>0</td>\n",
       "      <td>1</td>\n",
       "      <td>0</td>\n",
       "      <td>0</td>\n",
       "      <td>1</td>\n",
       "      <td>spirit-vs-copenhagen-flames-pgl-major-antwerp-...</td>\n",
       "      <td>ff910f54-0bed-4fdf-afa8-b481be09a788</td>\n",
       "      <td>26</td>\n",
       "      <td>1</td>\n",
       "    </tr>\n",
       "    <tr>\n",
       "      <th>7464295</th>\n",
       "      <td>82.472441</td>\n",
       "      <td>3</td>\n",
       "      <td>26800</td>\n",
       "      <td>1</td>\n",
       "      <td>24300</td>\n",
       "      <td>286</td>\n",
       "      <td>94</td>\n",
       "      <td>206</td>\n",
       "      <td>74</td>\n",
       "      <td>3</td>\n",
       "      <td>...</td>\n",
       "      <td>0</td>\n",
       "      <td>0</td>\n",
       "      <td>1</td>\n",
       "      <td>0</td>\n",
       "      <td>0</td>\n",
       "      <td>1</td>\n",
       "      <td>spirit-vs-copenhagen-flames-pgl-major-antwerp-...</td>\n",
       "      <td>ff910f54-0bed-4fdf-afa8-b481be09a788</td>\n",
       "      <td>26</td>\n",
       "      <td>1</td>\n",
       "    </tr>\n",
       "    <tr>\n",
       "      <th>7464296</th>\n",
       "      <td>82.976378</td>\n",
       "      <td>2</td>\n",
       "      <td>26800</td>\n",
       "      <td>1</td>\n",
       "      <td>24300</td>\n",
       "      <td>194</td>\n",
       "      <td>94</td>\n",
       "      <td>159</td>\n",
       "      <td>74</td>\n",
       "      <td>2</td>\n",
       "      <td>...</td>\n",
       "      <td>0</td>\n",
       "      <td>0</td>\n",
       "      <td>1</td>\n",
       "      <td>0</td>\n",
       "      <td>0</td>\n",
       "      <td>1</td>\n",
       "      <td>spirit-vs-copenhagen-flames-pgl-major-antwerp-...</td>\n",
       "      <td>ff910f54-0bed-4fdf-afa8-b481be09a788</td>\n",
       "      <td>26</td>\n",
       "      <td>1</td>\n",
       "    </tr>\n",
       "    <tr>\n",
       "      <th>7464297</th>\n",
       "      <td>83.480315</td>\n",
       "      <td>2</td>\n",
       "      <td>26800</td>\n",
       "      <td>1</td>\n",
       "      <td>24300</td>\n",
       "      <td>194</td>\n",
       "      <td>90</td>\n",
       "      <td>159</td>\n",
       "      <td>47</td>\n",
       "      <td>2</td>\n",
       "      <td>...</td>\n",
       "      <td>0</td>\n",
       "      <td>0</td>\n",
       "      <td>1</td>\n",
       "      <td>0</td>\n",
       "      <td>0</td>\n",
       "      <td>1</td>\n",
       "      <td>spirit-vs-copenhagen-flames-pgl-major-antwerp-...</td>\n",
       "      <td>ff910f54-0bed-4fdf-afa8-b481be09a788</td>\n",
       "      <td>26</td>\n",
       "      <td>1</td>\n",
       "    </tr>\n",
       "  </tbody>\n",
       "</table>\n",
       "<p>7464298 rows × 103 columns</p>\n",
       "</div>"
      ],
      "text/plain": [
       "           seconds  ctAlivePlayers  ctEqVal  tAlivePlayers  tEqVal  ct_armor  \\\n",
       "0         0.007874               5     4400              5    4250       400   \n",
       "1         0.511811               5     4400              5    4250       400   \n",
       "2         1.015748               5     4400              5    4250       400   \n",
       "3         1.519685               5     4400              5    4250       400   \n",
       "4         2.023622               5     4400              5    4250       400   \n",
       "...            ...             ...      ...            ...     ...       ...   \n",
       "7464293  81.464567               3    26800              1   24300       290   \n",
       "7464294  81.968504               3    26800              1   24300       290   \n",
       "7464295  82.472441               3    26800              1   24300       286   \n",
       "7464296  82.976378               2    26800              1   24300       194   \n",
       "7464297  83.480315               2    26800              1   24300       194   \n",
       "\n",
       "         t_armor  ct_hp  t_hp  ct_hasHelmet  ...  de_nuke  de_overpass  \\\n",
       "0            300    500   500             0  ...        1            0   \n",
       "1            300    500   500             0  ...        1            0   \n",
       "2            300    500   500             0  ...        1            0   \n",
       "3            300    500   500             0  ...        1            0   \n",
       "4            300    500   500             0  ...        1            0   \n",
       "...          ...    ...   ...           ...  ...      ...          ...   \n",
       "7464293       94    233    74             3  ...        0            0   \n",
       "7464294       94    233    74             3  ...        0            0   \n",
       "7464295       94    206    74             3  ...        0            0   \n",
       "7464296       94    159    74             2  ...        0            0   \n",
       "7464297       90    159    47             2  ...        0            0   \n",
       "\n",
       "         de_vertigo  bombsite_A  bombsite_B  bombsite_not_planted  \\\n",
       "0                 0           0           0                     1   \n",
       "1                 0           0           0                     1   \n",
       "2                 0           0           0                     1   \n",
       "3                 0           0           0                     1   \n",
       "4                 0           0           0                     1   \n",
       "...             ...         ...         ...                   ...   \n",
       "7464293           1           0           0                     1   \n",
       "7464294           1           0           0                     1   \n",
       "7464295           1           0           0                     1   \n",
       "7464296           1           0           0                     1   \n",
       "7464297           1           0           0                     1   \n",
       "\n",
       "                                                 matchName  \\\n",
       "0                          heroic-vs-big-iem-katowice-2021   \n",
       "1                          heroic-vs-big-iem-katowice-2021   \n",
       "2                          heroic-vs-big-iem-katowice-2021   \n",
       "3                          heroic-vs-big-iem-katowice-2021   \n",
       "4                          heroic-vs-big-iem-katowice-2021   \n",
       "...                                                    ...   \n",
       "7464293  spirit-vs-copenhagen-flames-pgl-major-antwerp-...   \n",
       "7464294  spirit-vs-copenhagen-flames-pgl-major-antwerp-...   \n",
       "7464295  spirit-vs-copenhagen-flames-pgl-major-antwerp-...   \n",
       "7464296  spirit-vs-copenhagen-flames-pgl-major-antwerp-...   \n",
       "7464297  spirit-vs-copenhagen-flames-pgl-major-antwerp-...   \n",
       "\n",
       "                                       demoId  roundNum  winningSideCT  \n",
       "0        00330e8b-ba01-4d3f-a6c1-66881b879dac         1              0  \n",
       "1        00330e8b-ba01-4d3f-a6c1-66881b879dac         1              0  \n",
       "2        00330e8b-ba01-4d3f-a6c1-66881b879dac         1              0  \n",
       "3        00330e8b-ba01-4d3f-a6c1-66881b879dac         1              0  \n",
       "4        00330e8b-ba01-4d3f-a6c1-66881b879dac         1              0  \n",
       "...                                       ...       ...            ...  \n",
       "7464293  ff910f54-0bed-4fdf-afa8-b481be09a788        26              1  \n",
       "7464294  ff910f54-0bed-4fdf-afa8-b481be09a788        26              1  \n",
       "7464295  ff910f54-0bed-4fdf-afa8-b481be09a788        26              1  \n",
       "7464296  ff910f54-0bed-4fdf-afa8-b481be09a788        26              1  \n",
       "7464297  ff910f54-0bed-4fdf-afa8-b481be09a788        26              1  \n",
       "\n",
       "[7464298 rows x 103 columns]"
      ]
     },
     "execution_count": 4,
     "metadata": {},
     "output_type": "execute_result"
    }
   ],
   "source": [
    "df = pd.read_parquet('data/ESTA_states_prepared.parquet', columns=select_feat() + ['matchName', 'demoId', 'roundNum',  \"winningSideCT\"])\n",
    "df"
   ]
  },
  {
   "cell_type": "code",
   "execution_count": 5,
   "id": "a8d2e66a-e948-4860-85ce-54bfe7d1140b",
   "metadata": {},
   "outputs": [
    {
     "name": "stdout",
     "output_type": "stream",
     "text": [
      "<class 'pandas.core.frame.DataFrame'>\n",
      "Int64Index: 7464298 entries, 0 to 7464297\n",
      "Columns: 103 entries, seconds to winningSideCT\n",
      "dtypes: float64(17), int32(7), int64(67), object(2), uint8(10)\n",
      "memory usage: 5.1+ GB\n"
     ]
    }
   ],
   "source": [
    "df.info()"
   ]
  },
  {
   "cell_type": "markdown",
   "id": "f64226fb-b737-464f-97ff-24fe76105cc8",
   "metadata": {
    "tags": []
   },
   "source": [
    "## Podział"
   ]
  },
  {
   "cell_type": "code",
   "execution_count": 6,
   "id": "8b0a8df0-2295-492b-a49e-ce97aa688ec1",
   "metadata": {},
   "outputs": [
    {
     "name": "stdout",
     "output_type": "stream",
     "text": [
      "<class 'pandas.core.frame.DataFrame'>\n",
      "RangeIndex: 7137130 entries, 0 to 7137129\n",
      "Columns: 103 entries, seconds to winningSideCT\n",
      "dtypes: float64(17), int32(7), int64(67), object(2), uint8(10)\n",
      "memory usage: 4.8+ GB\n"
     ]
    }
   ],
   "source": [
    "filtr = ~df.matchName.str.endswith(\"iem-katowice-2022\")\n",
    "df = df[filtr].reset_index(drop=True)\n",
    "df.info()"
   ]
  },
  {
   "cell_type": "code",
   "execution_count": 7,
   "id": "d80f733f-604a-4045-8723-2846c9ef99ae",
   "metadata": {},
   "outputs": [
    {
     "data": {
      "text/html": [
       "<div>\n",
       "<style scoped>\n",
       "    .dataframe tbody tr th:only-of-type {\n",
       "        vertical-align: middle;\n",
       "    }\n",
       "\n",
       "    .dataframe tbody tr th {\n",
       "        vertical-align: top;\n",
       "    }\n",
       "\n",
       "    .dataframe thead th {\n",
       "        text-align: right;\n",
       "    }\n",
       "</style>\n",
       "<table border=\"1\" class=\"dataframe\">\n",
       "  <thead>\n",
       "    <tr style=\"text-align: right;\">\n",
       "      <th></th>\n",
       "      <th>demoId</th>\n",
       "      <th>roundNum</th>\n",
       "    </tr>\n",
       "  </thead>\n",
       "  <tbody>\n",
       "    <tr>\n",
       "      <th>0</th>\n",
       "      <td>0013db25-4444-452b-980b-7702dc6fb810</td>\n",
       "      <td>1</td>\n",
       "    </tr>\n",
       "    <tr>\n",
       "      <th>1</th>\n",
       "      <td>0013db25-4444-452b-980b-7702dc6fb810</td>\n",
       "      <td>2</td>\n",
       "    </tr>\n",
       "    <tr>\n",
       "      <th>2</th>\n",
       "      <td>0013db25-4444-452b-980b-7702dc6fb810</td>\n",
       "      <td>3</td>\n",
       "    </tr>\n",
       "    <tr>\n",
       "      <th>3</th>\n",
       "      <td>0013db25-4444-452b-980b-7702dc6fb810</td>\n",
       "      <td>4</td>\n",
       "    </tr>\n",
       "    <tr>\n",
       "      <th>4</th>\n",
       "      <td>0013db25-4444-452b-980b-7702dc6fb810</td>\n",
       "      <td>5</td>\n",
       "    </tr>\n",
       "    <tr>\n",
       "      <th>...</th>\n",
       "      <td>...</td>\n",
       "      <td>...</td>\n",
       "    </tr>\n",
       "    <tr>\n",
       "      <th>39328</th>\n",
       "      <td>ff910f54-0bed-4fdf-afa8-b481be09a788</td>\n",
       "      <td>22</td>\n",
       "    </tr>\n",
       "    <tr>\n",
       "      <th>39329</th>\n",
       "      <td>ff910f54-0bed-4fdf-afa8-b481be09a788</td>\n",
       "      <td>23</td>\n",
       "    </tr>\n",
       "    <tr>\n",
       "      <th>39330</th>\n",
       "      <td>ff910f54-0bed-4fdf-afa8-b481be09a788</td>\n",
       "      <td>24</td>\n",
       "    </tr>\n",
       "    <tr>\n",
       "      <th>39331</th>\n",
       "      <td>ff910f54-0bed-4fdf-afa8-b481be09a788</td>\n",
       "      <td>25</td>\n",
       "    </tr>\n",
       "    <tr>\n",
       "      <th>39332</th>\n",
       "      <td>ff910f54-0bed-4fdf-afa8-b481be09a788</td>\n",
       "      <td>26</td>\n",
       "    </tr>\n",
       "  </tbody>\n",
       "</table>\n",
       "<p>39333 rows × 2 columns</p>\n",
       "</div>"
      ],
      "text/plain": [
       "                                     demoId  roundNum\n",
       "0      0013db25-4444-452b-980b-7702dc6fb810         1\n",
       "1      0013db25-4444-452b-980b-7702dc6fb810         2\n",
       "2      0013db25-4444-452b-980b-7702dc6fb810         3\n",
       "3      0013db25-4444-452b-980b-7702dc6fb810         4\n",
       "4      0013db25-4444-452b-980b-7702dc6fb810         5\n",
       "...                                     ...       ...\n",
       "39328  ff910f54-0bed-4fdf-afa8-b481be09a788        22\n",
       "39329  ff910f54-0bed-4fdf-afa8-b481be09a788        23\n",
       "39330  ff910f54-0bed-4fdf-afa8-b481be09a788        24\n",
       "39331  ff910f54-0bed-4fdf-afa8-b481be09a788        25\n",
       "39332  ff910f54-0bed-4fdf-afa8-b481be09a788        26\n",
       "\n",
       "[39333 rows x 2 columns]"
      ]
     },
     "execution_count": 7,
     "metadata": {},
     "output_type": "execute_result"
    }
   ],
   "source": [
    "groupped = df.groupby(['demoId', 'roundNum'])\n",
    "demo_indexes = list(groupped.indices.keys())\n",
    "demo_round = pd.DataFrame.from_records(demo_indexes, columns=['demoId', 'roundNum'])\n",
    "demo_round"
   ]
  },
  {
   "cell_type": "code",
   "execution_count": 8,
   "id": "2ce3a177-9052-4c4f-8fc9-0a785a7585b3",
   "metadata": {},
   "outputs": [
    {
     "data": {
      "text/plain": [
       "((31466, 2), (7867, 2))"
      ]
     },
     "execution_count": 8,
     "metadata": {},
     "output_type": "execute_result"
    }
   ],
   "source": [
    "demo_round_train, demo_round_val = train_test_split(demo_round, test_size=0.2, random_state=1)\n",
    "demo_round_train.shape, demo_round_val.shape"
   ]
  },
  {
   "cell_type": "code",
   "execution_count": 9,
   "id": "f7846623-bfa4-486d-afea-8bab9ba6c9d4",
   "metadata": {
    "tags": []
   },
   "outputs": [
    {
     "data": {
      "text/plain": [
       "((5704213, 103), (1432917, 103))"
      ]
     },
     "execution_count": 9,
     "metadata": {},
     "output_type": "execute_result"
    }
   ],
   "source": [
    "df_train = df.merge(demo_round_train, on=['demoId', 'roundNum'])\n",
    "df_val = df.merge(demo_round_val, on=['demoId', 'roundNum'])\n",
    "df_train.shape, df_val.shape"
   ]
  },
  {
   "cell_type": "code",
   "execution_count": 10,
   "id": "60ae2020-bfdf-4123-b9fe-2390030c8b30",
   "metadata": {},
   "outputs": [
    {
     "data": {
      "text/plain": [
       "(620392, 103)"
      ]
     },
     "execution_count": 10,
     "metadata": {},
     "output_type": "execute_result"
    }
   ],
   "source": [
    "df_test = pd.read_parquet('data/states_another_mod_test.parquet', columns=select_feat() + [ \"winningSideCT\", 'matchID', \"filename\", 'roundNum'])\n",
    "df_test.rename(columns={\"matchID\": \"demoId\"}, inplace=True)\n",
    "past = df_test['filename'].str.startswith(\"IEM-Katowice\")\n",
    "future = df_test['filename'].str.startswith(\"BLAST-Premier-Spring-Final-2022\")\n",
    "df_test.shape"
   ]
  },
  {
   "cell_type": "code",
   "execution_count": 11,
   "id": "c99dd719-3498-414c-966b-a1505b94d0ba",
   "metadata": {},
   "outputs": [],
   "source": [
    "def generate_indices(data, lookback, step=1):\n",
    "    grouped = data.groupby(['demoId', 'roundNum'])\n",
    "    dict_gr = grouped.indices\n",
    "    for key, val in dict_gr.items():\n",
    "        dict_gr[key] = np.min(val),  np.max(val)\n",
    "    \n",
    "    indices = np.zeros((len(data.index), lookback), dtype=np.int32)\n",
    "    for key in dict_gr:\n",
    "        minimum, maximum = dict_gr[key]\n",
    "        for i in range(minimum, maximum + 1):\n",
    "            if i - minimum < lookback:\n",
    "                indices[i] = np.hstack((np.repeat(-1, lookback - ((i + 1 - minimum) / step)), np.arange(minimum, i + 1, step, dtype=np.int32)))\n",
    "            else:\n",
    "                indices[i] = np.arange(i - step * (lookback - 1), i + 1, step, dtype=np.int32)\n",
    "    return indices"
   ]
  },
  {
   "cell_type": "code",
   "execution_count": 12,
   "id": "dfd6e01d-de51-4ae5-8018-973cbd3f9b94",
   "metadata": {
    "tags": []
   },
   "outputs": [
    {
     "data": {
      "text/plain": [
       "(456.33704, 114.63336, 49.63136)"
      ]
     },
     "execution_count": 12,
     "metadata": {},
     "output_type": "execute_result"
    }
   ],
   "source": [
    "lookback = 20\n",
    "train_indexes = generate_indices(df_train, lookback)\n",
    "valid_indexes = generate_indices(df_val, lookback)\n",
    "test_indexes = generate_indices(df_test, lookback, step=2)\n",
    "train_indexes.size * train_indexes.itemsize / 1_000_000, valid_indexes.size * valid_indexes.itemsize / 1_000_000 , test_indexes.size * test_indexes.itemsize / 1_000_000"
   ]
  },
  {
   "cell_type": "code",
   "execution_count": 13,
   "id": "5a52b487-8e44-481d-bace-1ec275021bb8",
   "metadata": {},
   "outputs": [
    {
     "data": {
      "text/plain": [
       "array([[    -1,     -1,     -1, ...,     -1,     -1,      0],\n",
       "       [    -1,     -1,     -1, ...,     -1,     -1,      0],\n",
       "       [    -1,     -1,     -1, ...,     -1,      0,      2],\n",
       "       ...,\n",
       "       [620351, 620353, 620355, ..., 620385, 620387, 620389],\n",
       "       [620352, 620354, 620356, ..., 620386, 620388, 620390],\n",
       "       [620353, 620355, 620357, ..., 620387, 620389, 620391]])"
      ]
     },
     "execution_count": 13,
     "metadata": {},
     "output_type": "execute_result"
    }
   ],
   "source": [
    "test_indexes"
   ]
  },
  {
   "cell_type": "code",
   "execution_count": 14,
   "id": "772aeacb-4016-4876-82a5-bb860c5b0852",
   "metadata": {},
   "outputs": [],
   "source": [
    "y_train, y_valid, y_test = df_train['winningSideCT'], df_val['winningSideCT'], df_test['winningSideCT']\n",
    "norm_train = df_train.drop(['matchName', 'demoId', 'roundNum', 'winningSideCT'], axis='columns')\n",
    "norm_valid = df_val.drop(['matchName', 'demoId', 'roundNum', 'winningSideCT'], axis='columns')\n",
    "norm_test = df_test.drop([\"filename\", 'demoId', 'roundNum', 'winningSideCT'], axis='columns')\n",
    "cols = norm_train.columns.tolist()\n",
    "del df_train, df_val, df_test\n",
    "scaler = StandardScaler()\n",
    "norm_train = scaler.fit_transform(norm_train)\n",
    "norm_valid = scaler.transform(norm_valid)\n",
    "norm_test = scaler.transform(norm_test)"
   ]
  },
  {
   "cell_type": "code",
   "execution_count": 15,
   "id": "81775d4b-3df4-4dc0-ad19-9d5cbf11dc8b",
   "metadata": {},
   "outputs": [],
   "source": [
    "class CSGOsequence(Sequence):\n",
    "    def __init__(self, x_set, y_set, batch_size, indices, shuffle):\n",
    "        self.x, self.y = x_set, y_set\n",
    "        self.indices = indices\n",
    "        self.batch_size = batch_size\n",
    "        self.shuffle = shuffle\n",
    "        if self.shuffle:\n",
    "            np.random.shuffle(self.indices)\n",
    "\n",
    "    def __len__(self):\n",
    "        return math.ceil(self.indices.shape[0] / self.batch_size)\n",
    "                         \n",
    "    def __getitem__(self, idx):\n",
    "        batch_x = [np.array([np.zeros(self.x.shape[-1]) if val < 0 else self.x[val] \n",
    "                   for val in index])\n",
    "                       for index in self.indices[idx * self.batch_size : (idx + 1) * self.batch_size]]\n",
    "        batch_y = self.y[self.indices[idx * self.batch_size : (idx + 1) * self.batch_size, -1]]\n",
    "        return np.array(batch_x), np.array(batch_y)\n",
    "    \n",
    "    def on_epoch_end(self):\n",
    "        if self.shuffle:\n",
    "            np.random.shuffle(self.indices)"
   ]
  },
  {
   "cell_type": "code",
   "execution_count": 16,
   "id": "c99e83e6-d35c-4b1f-93e3-309bcbe376a6",
   "metadata": {
    "tags": []
   },
   "outputs": [],
   "source": [
    "train_seq = CSGOsequence(norm_train, y_train.values, 10000, train_indexes, shuffle=True)\n",
    "valid_seq = CSGOsequence(norm_valid, y_valid.values, 10000, valid_indexes, shuffle=False)\n",
    "test_seq = CSGOsequence(norm_test, y_test.values, 10000, test_indexes, shuffle=False)"
   ]
  },
  {
   "cell_type": "code",
   "execution_count": 17,
   "id": "5abb3b81-7803-4383-8775-0c4bed0f0923",
   "metadata": {},
   "outputs": [],
   "source": [
    "os.makedirs(\"model_deep\", exist_ok=True)"
   ]
  },
  {
   "cell_type": "code",
   "execution_count": 18,
   "id": "fc35d1ab-8f54-4310-bb42-bb9f091f653d",
   "metadata": {},
   "outputs": [],
   "source": [
    "early_stopping = EarlyStopping(\n",
    "    monitor='val_loss',\n",
    "    min_delta=0.0001,\n",
    "    patience=10,\n",
    "    verbose=0,\n",
    "    mode='min',\n",
    "    baseline=None,\n",
    "    restore_best_weights=True,\n",
    ")\n",
    "\n",
    "model_checkpoint_callback = ModelCheckpoint(\n",
    "    filepath=\"model_deep/rnn.tf\",\n",
    "    monitor='val_loss',\n",
    "    mode='min',\n",
    "    save_best_only=True)\n",
    "\n",
    "logger = CSVLogger(\n",
    "    \"model_deep/rnn_log.csv\", separator=',', append=True\n",
    ")"
   ]
  },
  {
   "cell_type": "code",
   "execution_count": 19,
   "id": "abc12c92-a10a-426d-8e0f-1459e62be730",
   "metadata": {},
   "outputs": [
    {
     "name": "stdout",
     "output_type": "stream",
     "text": [
      "Epoch 1/200\n",
      "571/571 [==============================] - 205s 352ms/step - loss: 0.8638 - binary_accuracy: 0.7558 - auc: 0.8544 - val_loss: 0.5427 - val_binary_accuracy: 0.7674 - val_auc: 0.8648\n"
     ]
    },
    {
     "name": "stderr",
     "output_type": "stream",
     "text": [
      "WARNING:absl:Found untraced functions such as gru_cell_layer_call_fn, gru_cell_layer_call_and_return_conditional_losses, gru_cell_layer_call_fn, gru_cell_layer_call_and_return_conditional_losses, gru_cell_layer_call_and_return_conditional_losses while saving (showing 5 of 5). These functions will not be directly callable after loading.\n"
     ]
    },
    {
     "name": "stdout",
     "output_type": "stream",
     "text": [
      "INFO:tensorflow:Assets written to: model_deep\\rnn.tf\\assets\n"
     ]
    },
    {
     "name": "stderr",
     "output_type": "stream",
     "text": [
      "INFO:tensorflow:Assets written to: model_deep\\rnn.tf\\assets\n"
     ]
    },
    {
     "name": "stdout",
     "output_type": "stream",
     "text": [
      "Epoch 2/200\n",
      "571/571 [==============================] - 202s 353ms/step - loss: 0.5516 - binary_accuracy: 0.7570 - auc: 0.8562 - val_loss: 0.5424 - val_binary_accuracy: 0.7666 - val_auc: 0.8645\n"
     ]
    },
    {
     "name": "stderr",
     "output_type": "stream",
     "text": [
      "WARNING:absl:Found untraced functions such as gru_cell_layer_call_fn, gru_cell_layer_call_and_return_conditional_losses, gru_cell_layer_call_fn, gru_cell_layer_call_and_return_conditional_losses, gru_cell_layer_call_and_return_conditional_losses while saving (showing 5 of 5). These functions will not be directly callable after loading.\n"
     ]
    },
    {
     "name": "stdout",
     "output_type": "stream",
     "text": [
      "INFO:tensorflow:Assets written to: model_deep\\rnn.tf\\assets\n"
     ]
    },
    {
     "name": "stderr",
     "output_type": "stream",
     "text": [
      "INFO:tensorflow:Assets written to: model_deep\\rnn.tf\\assets\n"
     ]
    },
    {
     "name": "stdout",
     "output_type": "stream",
     "text": [
      "Epoch 3/200\n",
      "571/571 [==============================] - 201s 352ms/step - loss: 0.5513 - binary_accuracy: 0.7573 - auc: 0.8564 - val_loss: 0.5423 - val_binary_accuracy: 0.7671 - val_auc: 0.8651\n"
     ]
    },
    {
     "name": "stderr",
     "output_type": "stream",
     "text": [
      "WARNING:absl:Found untraced functions such as gru_cell_layer_call_fn, gru_cell_layer_call_and_return_conditional_losses, gru_cell_layer_call_fn, gru_cell_layer_call_and_return_conditional_losses, gru_cell_layer_call_and_return_conditional_losses while saving (showing 5 of 5). These functions will not be directly callable after loading.\n"
     ]
    },
    {
     "name": "stdout",
     "output_type": "stream",
     "text": [
      "INFO:tensorflow:Assets written to: model_deep\\rnn.tf\\assets\n"
     ]
    },
    {
     "name": "stderr",
     "output_type": "stream",
     "text": [
      "INFO:tensorflow:Assets written to: model_deep\\rnn.tf\\assets\n"
     ]
    },
    {
     "name": "stdout",
     "output_type": "stream",
     "text": [
      "Epoch 4/200\n",
      "571/571 [==============================] - 201s 351ms/step - loss: 0.5513 - binary_accuracy: 0.7573 - auc: 0.8564 - val_loss: 0.5426 - val_binary_accuracy: 0.7666 - val_auc: 0.8648\n",
      "Epoch 5/200\n",
      "571/571 [==============================] - 203s 355ms/step - loss: 0.5513 - binary_accuracy: 0.7572 - auc: 0.8564 - val_loss: 0.5420 - val_binary_accuracy: 0.7676 - val_auc: 0.8649\n"
     ]
    },
    {
     "name": "stderr",
     "output_type": "stream",
     "text": [
      "WARNING:absl:Found untraced functions such as gru_cell_layer_call_fn, gru_cell_layer_call_and_return_conditional_losses, gru_cell_layer_call_fn, gru_cell_layer_call_and_return_conditional_losses, gru_cell_layer_call_and_return_conditional_losses while saving (showing 5 of 5). These functions will not be directly callable after loading.\n"
     ]
    },
    {
     "name": "stdout",
     "output_type": "stream",
     "text": [
      "INFO:tensorflow:Assets written to: model_deep\\rnn.tf\\assets\n"
     ]
    },
    {
     "name": "stderr",
     "output_type": "stream",
     "text": [
      "INFO:tensorflow:Assets written to: model_deep\\rnn.tf\\assets\n"
     ]
    },
    {
     "name": "stdout",
     "output_type": "stream",
     "text": [
      "Epoch 6/200\n",
      "571/571 [==============================] - 201s 351ms/step - loss: 0.5514 - binary_accuracy: 0.7573 - auc: 0.8565 - val_loss: 0.5424 - val_binary_accuracy: 0.7670 - val_auc: 0.8647\n",
      "Epoch 7/200\n",
      "571/571 [==============================] - 202s 353ms/step - loss: 0.5513 - binary_accuracy: 0.7572 - auc: 0.8565 - val_loss: 0.5422 - val_binary_accuracy: 0.7676 - val_auc: 0.8649\n",
      "Epoch 8/200\n",
      "571/571 [==============================] - 202s 353ms/step - loss: 0.5515 - binary_accuracy: 0.7572 - auc: 0.8564 - val_loss: 0.5421 - val_binary_accuracy: 0.7674 - val_auc: 0.8650\n",
      "Epoch 9/200\n",
      "571/571 [==============================] - 203s 354ms/step - loss: 0.5514 - binary_accuracy: 0.7574 - auc: 0.8565 - val_loss: 0.5421 - val_binary_accuracy: 0.7676 - val_auc: 0.8651\n",
      "Epoch 10/200\n",
      "571/571 [==============================] - 202s 353ms/step - loss: 0.5515 - binary_accuracy: 0.7571 - auc: 0.8565 - val_loss: 0.5420 - val_binary_accuracy: 0.7681 - val_auc: 0.8652\n",
      "Epoch 11/200\n",
      "571/571 [==============================] - 202s 353ms/step - loss: 0.5515 - binary_accuracy: 0.7572 - auc: 0.8564 - val_loss: 0.5423 - val_binary_accuracy: 0.7687 - val_auc: 0.8654\n",
      "Epoch 12/200\n",
      "571/571 [==============================] - 201s 352ms/step - loss: 0.5515 - binary_accuracy: 0.7572 - auc: 0.8564 - val_loss: 0.5422 - val_binary_accuracy: 0.7684 - val_auc: 0.8654\n",
      "Epoch 13/200\n",
      "571/571 [==============================] - 201s 351ms/step - loss: 0.5514 - binary_accuracy: 0.7573 - auc: 0.8565 - val_loss: 0.5424 - val_binary_accuracy: 0.7672 - val_auc: 0.8650\n",
      "Epoch 14/200\n",
      "571/571 [==============================] - 201s 351ms/step - loss: 0.5515 - binary_accuracy: 0.7573 - auc: 0.8565 - val_loss: 0.5425 - val_binary_accuracy: 0.7678 - val_auc: 0.8649\n",
      "Epoch 15/200\n",
      "571/571 [==============================] - 201s 351ms/step - loss: 0.5515 - binary_accuracy: 0.7573 - auc: 0.8565 - val_loss: 0.5428 - val_binary_accuracy: 0.7664 - val_auc: 0.8644\n"
     ]
    }
   ],
   "source": [
    "model = Sequential()\n",
    "model.add(InputLayer(input_shape=(lookback, norm_train.shape[-1])))\n",
    "model.add(Masking(mask_value=0.))\n",
    "model.add(GRU(256, kernel_regularizer='l2', recurrent_regularizer='l2', bias_regularizer='l2', activity_regularizer='l2', dropout=0.2))\n",
    "model.add(Dense(128, activation='relu', kernel_regularizer='l2', bias_regularizer='l2', activity_regularizer='l2'))\n",
    "model.add(Dense(1, activation='sigmoid', kernel_regularizer='l2', bias_regularizer='l2', activity_regularizer='l2'))\n",
    "\n",
    "model.compile(optimizer=\"Adam\", loss=BinaryCrossentropy(), metrics=[BinaryAccuracy(), AUC()])\n",
    "history = model.fit(train_seq,\n",
    "                    epochs=200,\n",
    "                    validation_data=valid_seq,\n",
    "                    callbacks=[early_stopping, model_checkpoint_callback, logger])"
   ]
  },
  {
   "cell_type": "code",
   "execution_count": 20,
   "id": "a880823c-d791-42c7-b480-00943dbbeb45",
   "metadata": {},
   "outputs": [
    {
     "name": "stderr",
     "output_type": "stream",
     "text": [
      "WARNING:absl:Found untraced functions such as gru_cell_layer_call_fn, gru_cell_layer_call_and_return_conditional_losses, gru_cell_layer_call_fn, gru_cell_layer_call_and_return_conditional_losses, gru_cell_layer_call_and_return_conditional_losses while saving (showing 5 of 5). These functions will not be directly callable after loading.\n"
     ]
    },
    {
     "name": "stdout",
     "output_type": "stream",
     "text": [
      "INFO:tensorflow:Assets written to: models/model.tf\\assets\n"
     ]
    },
    {
     "name": "stderr",
     "output_type": "stream",
     "text": [
      "INFO:tensorflow:Assets written to: models/model.tf\\assets\n"
     ]
    },
    {
     "data": {
      "image/png": "[encoded data removed]",
      "text/plain": [
       "<Figure size 640x480 with 1 Axes>"
      ]
     },
     "metadata": {},
     "output_type": "display_data"
    },
    {
     "data": {
      "image/png": "[encoded data removed]",
      "text/plain": [
       "<Figure size 640x480 with 1 Axes>"
      ]
     },
     "metadata": {},
     "output_type": "display_data"
    }
   ],
   "source": [
    "run_name = \"RNN - ESTA My Test\"\n",
    "additional_description = \"RNN\"\n",
    "with mlflow.start_run(run_name=run_name, description=additional_description) as run:\n",
    "        mlflow.log_param(\"X_train.shape\", norm_train.shape)\n",
    "        mlflow.log_param(\"X_test.shape\", norm_test.shape)\n",
    "        mlflow.log_param(\"Sequence\", lookback)\n",
    "\n",
    "        y_proba = model.predict(test_seq)\n",
    "        y_true = y_test[test_indexes[:, -1]]\n",
    "        features_names = cols\n",
    "        metrics = {}\n",
    "        for threshold in np.arange(0.1, 1, 0.05):\n",
    "            y_pred = (y_proba >= threshold).astype(int)\n",
    "            metrics[f\"accuracy_{threshold:.2f}\"] = accuracy_score(y_true=y_true, y_pred=y_pred)\n",
    "            metrics[f\"precision_{threshold:.2f}\"] = precision_score(y_true=y_true, y_pred=y_pred)\n",
    "            metrics[f\"recall_{threshold:.2f}\"] = recall_score(y_true=y_true, y_pred=y_pred)\n",
    "            metrics[f\"f1_{threshold:.2f}\"] = f1_score(y_true=y_true, y_pred=y_pred)\n",
    "        metrics[\"roc_auc\"] = roc_auc_score(y_true=y_true, y_score=y_proba)\n",
    "        metrics[\"log_loss\"] = log_loss(y_true=y_true, y_pred=y_proba)\n",
    "        mlflow.log_metrics(metrics)\n",
    "        \n",
    "        if os.path.exists('artifacts'):\n",
    "            shutil.rmtree('artifacts')\n",
    "            os.makedirs('artifacts')\n",
    "        \n",
    "        if os.path.exists('models'):\n",
    "            shutil.rmtree('models')\n",
    "            os.makedirs('models')\n",
    "            \n",
    "        with open(\"artifacts/features.txt\", 'w') as f:\n",
    "            f.write(str(features_names))\n",
    "            \n",
    "        model.save('models/model.tf')\n",
    "        \n",
    "        with open(\"models/scaler.pkl\", \"wb\") as f:\n",
    "            pickle.dump(scaler, f)\n",
    "\n",
    "        roc_plot = RocCurveDisplay.from_predictions(y_pred=y_proba, y_true=y_true)\n",
    "        roc_plot.figure_.savefig('artifacts/roc_auc.png')\n",
    "        plt.show()\n",
    "        \n",
    "        calibration_curve = CalibrationDisplay.from_predictions(y_prob=y_proba, y_true=y_true, n_bins=10)\n",
    "        calibration_curve.figure_.savefig('artifacts/calibration_curve.png')\n",
    "        plt.show()\n",
    "        \n",
    "        mlflow.log_artifacts(\"artifacts\", artifact_path=\"plots_data\")\n",
    "        mlflow.log_artifacts(\"models\", artifact_path=\"model\")"
   ]
  },
  {
   "cell_type": "code",
   "execution_count": 23,
   "id": "04068014-bc24-4075-8acc-2f72b5bb9004",
   "metadata": {},
   "outputs": [
    {
     "data": {
      "text/plain": [
       "{'LogLoss (all)': 0.4835447229256168,\n",
       " 'LogLoss (future)': 0.48266399362571766,\n",
       " 'LogLoss (past)': 0.48436594886452833,\n",
       " 'AUC-ROC (all)': 0.8494164039223757,\n",
       " 'AUC-ROC (future)': 0.8530926507056478,\n",
       " 'AUC-ROC (past)': 0.8452711556390315}"
      ]
     },
     "execution_count": 23,
     "metadata": {},
     "output_type": "execute_result"
    }
   ],
   "source": [
    "y_proba = model.predict(test_seq)\n",
    "y_true = y_test[test_indexes[:, -1]]\n",
    "results = {\n",
    "        \"LogLoss (all)\": log_loss(y_true, y_proba),\n",
    "        \"LogLoss (future)\": log_loss(y_true[future], y_proba[future]),\n",
    "        \"LogLoss (past)\": log_loss(y_true[past], y_proba[past]),\n",
    "        \"AUC-ROC (all)\": roc_auc_score(y_true, y_proba),\n",
    "        \"AUC-ROC (future)\": roc_auc_score(y_true[future], y_proba[future]),\n",
    "        \"AUC-ROC (past)\": roc_auc_score(y_true[past], y_proba[past])\n",
    "}\n",
    "results"
   ]
  }
 ],
 "metadata": {
  "kernelspec": {
   "display_name": "python3 (tf_gpu)",
   "language": "python",
   "name": "conda-env-tf_gpu-py"
  },
  "language_info": {
   "codemirror_mode": {
    "name": "ipython",
    "version": 3
   },
   "file_extension": ".py",
   "mimetype": "text/x-python",
   "name": "python",
   "nbconvert_exporter": "python",
   "pygments_lexer": "ipython3",
   "version": "3.9.13"
  }
 },
 "nbformat": 4,
 "nbformat_minor": 5
}
