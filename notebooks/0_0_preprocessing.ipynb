{
 "cells": [
  {
   "cell_type": "markdown",
   "id": "17483420-a880-4ba5-b33a-0366c879f908",
   "metadata": {},
   "source": [
    "# Importy"
   ]
  },
  {
   "cell_type": "code",
   "execution_count": null,
   "id": "fa37ae65-2a82-4f57-9a2b-4a17b089ab14",
   "metadata": {},
   "outputs": [],
   "source": [
    "from awpy import DemoParser\n",
    "from awpy.analytics.states import generate_vector_state\n",
    "from tqdm.notebook import tqdm\n",
    "import pandas as pd\n",
    "import patoolib\n",
    "import os\n",
    "import shutil"
   ]
  },
  {
   "cell_type": "markdown",
   "id": "341bddc8-3244-4d6d-af7a-b0a50904d3e8",
   "metadata": {},
   "source": [
    "# Funkcje do wyciągania feature'ów"
   ]
  },
  {
   "cell_type": "code",
   "execution_count": null,
   "id": "4ef91f98-0f83-4cb7-ac4f-a632e0d20dcf",
   "metadata": {},
   "outputs": [],
   "source": [
    "def get_team_data(frame, team):\n",
    "    team_frame = frame[team]\n",
    "    team_data = {}\n",
    "    team_data[team + 'Name'] = team_frame['teamName']\n",
    "    team_data[team + 'EqVal'] = team_frame['teamEqVal']\n",
    "    team_data[team + 'AlivePlayers'] = team_frame['alivePlayers']\n",
    "    team_data[team + 'TotalUtility'] = team_frame['totalUtility']\n",
    "    for i, player in enumerate(team_frame['players']):\n",
    "        team_data[f'{team}Player_{i}_steamID'] = player['steamID']\n",
    "        team_data[f'{team}Player_{i}_name'] = player['name']\n",
    "        team_data[f'{team}Player_{i}_hp'] = player['hp']\n",
    "        team_data[f'{team}Player_{i}_armor'] = player['armor']\n",
    "        team_data[f'{team}Player_{i}_activeWeapon'] = player['activeWeapon']\n",
    "        team_data[f'{team}Player_{i}_totalUtility'] = player['totalUtility']\n",
    "        team_data[f'{team}Player_{i}_isBlinded'] = player['isBlinded']\n",
    "        team_data[f'{team}Player_{i}_isAlive'] = player['isAlive']\n",
    "        team_data[f'{team}Player_{i}_isReloading'] = player['isReloading']\n",
    "        team_data[f'{team}Player_{i}_isDucking'] = player['isDucking']\n",
    "        team_data[f'{team}Player_{i}_isAirborne'] = player['isAirborne']\n",
    "        team_data[f'{team}Player_{i}_spottedEnemies'] = len(player['spotters'])\n",
    "        team_data[f'{team}Player_{i}_hasHelmet'] = player['hasHelmet']\n",
    "        team_data[f'{team}Player_{i}_hasDefuse'] = player['hasDefuse']                                                      \n",
    "    return team_data\n",
    "\n",
    "def get_frame_data(frame):\n",
    "    frame_data = {**get_team_data(frame, 'ct'), **get_team_data(frame, 't')}\n",
    "    frame_data['bombPlanted'] = frame['bombPlanted']\n",
    "    frame_data['bombsite'] = frame['bombsite']\n",
    "    return frame_data"
   ]
  },
  {
   "cell_type": "code",
   "execution_count": null,
   "id": "bc247bc7-f50a-4c15-b327-a9be5a796708",
   "metadata": {},
   "outputs": [],
   "source": [
    "def get_match_data(data, filename):\n",
    "    data_list = []\n",
    "    for round_ in data['gameRounds']:\n",
    "        for frame in round_['frames']:\n",
    "            converted_vector = get_frame_data(frame)\n",
    "            converted_vector['roundNum'] = round_['roundNum']\n",
    "            converted_vector['winningSide'] = round_['winningSide']\n",
    "            data_list.append(converted_vector)\n",
    "    res = pd.DataFrame(data_list)\n",
    "    res['map'] = data['mapName']\n",
    "    res['match'] = filename.replace('-', ' ').split('_')[0]\n",
    "    return res"
   ]
  },
  {
   "cell_type": "markdown",
   "id": "819bf10b-2390-459f-8ebd-3cf909c09514",
   "metadata": {},
   "source": [
    "# Konfiguracja folderów"
   ]
  },
  {
   "cell_type": "code",
   "execution_count": null,
   "id": "f48b39ea-783c-4800-8833-e5c756995192",
   "metadata": {},
   "outputs": [],
   "source": [
    "directory = r'Demka' # Katalog z demkami\n",
    "temp_directory = r'csgo_tmp' # Tymczasowy katalog z przetwarzanym meczem"
   ]
  },
  {
   "cell_type": "code",
   "execution_count": null,
   "id": "5a1dc0fe-d7d5-4009-bdf0-75efd8129d7f",
   "metadata": {},
   "outputs": [],
   "source": [
    "if os.path.exists(temp_directory):\n",
    "    shutil.rmtree(temp_directory)"
   ]
  },
  {
   "cell_type": "markdown",
   "id": "4fab8294-ab40-4043-a992-026decb3e802",
   "metadata": {},
   "source": [
    "# Przejście po meczach"
   ]
  },
  {
   "cell_type": "code",
   "execution_count": null,
   "id": "7e03a53b-c864-4559-badf-282a6a9bcfef",
   "metadata": {
    "tags": []
   },
   "outputs": [],
   "source": [
    "all_matches = []\n",
    "for file in tqdm(os.listdir(directory), desc=\"Match\", leave=True, position=0):\n",
    "    patoolib.extract_archive(os.path.join(directory, file), outdir=temp_directory)\n",
    "    for demo in tqdm(os.listdir(temp_directory), desc=\"Map\", leave=False):\n",
    "        demo_parser = DemoParser(\n",
    "            demofile = os.path.join(temp_directory, demo), \n",
    "            demo_id = demo[:-4],\n",
    "            parse_rate=32, \n",
    "            trade_time=5, \n",
    "            buy_style=\"hltv\"\n",
    "        )\n",
    "        parsed_demo = demo_parser.parse()\n",
    "        match_df = get_match_data(parsed_demo, file)\n",
    "        all_matches.append(match_df)\n",
    "        os.remove(demo[:-4] + \".json\")\n",
    "    shutil.rmtree(temp_directory)"
   ]
  },
  {
   "cell_type": "code",
   "execution_count": null,
   "id": "be551b8f-ae1f-4693-a90b-9624465aa15e",
   "metadata": {},
   "outputs": [],
   "source": [
    "merged_df = pd.concat(all_matches)\n",
    "merged_df.to_parquet('player_data.parquet.gzip', compression='gzip')"
   ]
  },
  {
   "cell_type": "code",
   "execution_count": null,
   "id": "03f29da8-6a48-449e-bdaa-c3a23c3f62bd",
   "metadata": {},
   "outputs": [],
   "source": [
    "df = pd.read_parquet('player_data.parquet.gzip')\n",
    "df"
   ]
  },
  {
   "cell_type": "markdown",
   "id": "eeac7a98-74f1-4895-b161-2aed32eb183b",
   "metadata": {},
   "source": [
    "# Check danych"
   ]
  },
  {
   "cell_type": "code",
   "execution_count": null,
   "id": "eef57f6a-e06d-496c-8b22-be283b305c63",
   "metadata": {},
   "outputs": [],
   "source": [
    "df.info()"
   ]
  },
  {
   "cell_type": "code",
   "execution_count": null,
   "id": "9ca6f0f9-bd9f-4016-a1bd-fc92dc847948",
   "metadata": {},
   "outputs": [],
   "source": [
    "df.describe().T"
   ]
  },
  {
   "cell_type": "code",
   "execution_count": null,
   "id": "65c92848-99b0-47c6-bd1d-18e537797c84",
   "metadata": {},
   "outputs": [],
   "source": [
    "df.loc[df.tPlayer_2_steamID.isna()]"
   ]
  },
  {
   "cell_type": "markdown",
   "id": "6b9303e1-f590-4621-a0ca-41e0075282c4",
   "metadata": {},
   "source": [
    "Braki danych, bo najpewniej gracze wyszli z serwera po przegranym meczu (przynajmniej u mnie tak było)."
   ]
  }
 ],
 "metadata": {
  "kernelspec": {
   "display_name": "Python 3 (ipykernel)",
   "language": "python",
   "name": "python3"
  },
  "language_info": {
   "codemirror_mode": {
    "name": "ipython",
    "version": 3
   },
   "file_extension": ".py",
   "mimetype": "text/x-python",
   "name": "python",
   "nbconvert_exporter": "python",
   "pygments_lexer": "ipython3",
   "version": "3.8.13"
  }
 },
 "nbformat": 4,
 "nbformat_minor": 5
}
