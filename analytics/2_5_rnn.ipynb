{
 "cells": [
  {
   "cell_type": "code",
   "execution_count": 1,
   "id": "61024691-50fd-4fdb-9585-6d72d16c209e",
   "metadata": {},
   "outputs": [
    {
     "name": "stdout",
     "output_type": "stream",
     "text": [
      "Experiment_id: 1\n",
      "Artifact Location: file:///E:/Studia/Inzynierka/csgo-analysis/notebooks/mlruns/1\n",
      "Tags: {}\n",
      "Lifecycle_stage: active\n"
     ]
    }
   ],
   "source": [
    "%run 0_3_configure_mlflow.ipynb"
   ]
  },
  {
   "cell_type": "code",
   "execution_count": 2,
   "id": "1f701eff-5bab-41d4-9768-ace06e1274a0",
   "metadata": {},
   "outputs": [],
   "source": [
    "import pandas as pd\n",
    "import numpy as np\n",
    "import matplotlib.pyplot as plt\n",
    "import pickle\n",
    "import shap\n",
    "import os\n",
    "import shutil\n",
    "import math\n",
    "\n",
    "from sklearn.metrics import accuracy_score, precision_score, recall_score, log_loss, f1_score, roc_auc_score, RocCurveDisplay\n",
    "from sklearn.calibration import CalibrationDisplay\n",
    "from sklearn.preprocessing import StandardScaler\n",
    "from skopt import BayesSearchCV\n",
    "from skopt.space import Real, Categorical, Integer\n",
    "from tensorflow.keras import Sequential\n",
    "from tensorflow.keras.layers import InputLayer, GRU, Dense, Masking, Flatten\n",
    "from tensorflow.keras.losses import BinaryCrossentropy\n",
    "from tensorflow.keras.metrics import AUC, BinaryAccuracy\n",
    "from tensorflow.keras.utils import Sequence\n",
    "from tensorflow.keras.callbacks import EarlyStopping, ModelCheckpoint, CSVLogger"
   ]
  },
  {
   "cell_type": "markdown",
   "id": "d861d74a-b111-4654-add5-d3ccf48e1157",
   "metadata": {},
   "source": [
    "# Wczytanie danych"
   ]
  },
  {
   "cell_type": "code",
   "execution_count": 3,
   "id": "20c9c77b-ad54-40bc-a343-12d1732d5b0f",
   "metadata": {},
   "outputs": [
    {
     "data": {
      "text/html": [
       "<div>\n",
       "<style scoped>\n",
       "    .dataframe tbody tr th:only-of-type {\n",
       "        vertical-align: middle;\n",
       "    }\n",
       "\n",
       "    .dataframe tbody tr th {\n",
       "        vertical-align: top;\n",
       "    }\n",
       "\n",
       "    .dataframe thead th {\n",
       "        text-align: right;\n",
       "    }\n",
       "</style>\n",
       "<table border=\"1\" class=\"dataframe\">\n",
       "  <thead>\n",
       "    <tr style=\"text-align: right;\">\n",
       "      <th></th>\n",
       "      <th>filename</th>\n",
       "      <th>mapName</th>\n",
       "      <th>ctBuyType</th>\n",
       "      <th>tBuyType</th>\n",
       "      <th>winningSide</th>\n",
       "      <th>matchID</th>\n",
       "      <th>roundNum</th>\n",
       "      <th>seconds</th>\n",
       "      <th>ctAlivePlayers</th>\n",
       "      <th>ctEqVal</th>\n",
       "      <th>...</th>\n",
       "      <th>de_ancient</th>\n",
       "      <th>de_dust2</th>\n",
       "      <th>de_inferno</th>\n",
       "      <th>de_mirage</th>\n",
       "      <th>de_nuke</th>\n",
       "      <th>de_overpass</th>\n",
       "      <th>de_vertigo</th>\n",
       "      <th>bombsite_A</th>\n",
       "      <th>bombsite_B</th>\n",
       "      <th>bombsite_not_planted</th>\n",
       "    </tr>\n",
       "  </thead>\n",
       "  <tbody>\n",
       "    <tr>\n",
       "      <th>0</th>\n",
       "      <td>BLAST-Premier-Spring-Final-2022-ence-vs-big-bo...</td>\n",
       "      <td>de_mirage</td>\n",
       "      <td>Full Eco</td>\n",
       "      <td>Full Eco</td>\n",
       "      <td>CT</td>\n",
       "      <td>1</td>\n",
       "      <td>1</td>\n",
       "      <td>0.148438</td>\n",
       "      <td>5</td>\n",
       "      <td>3700</td>\n",
       "      <td>...</td>\n",
       "      <td>0</td>\n",
       "      <td>0</td>\n",
       "      <td>0</td>\n",
       "      <td>1</td>\n",
       "      <td>0</td>\n",
       "      <td>0</td>\n",
       "      <td>0</td>\n",
       "      <td>0</td>\n",
       "      <td>0</td>\n",
       "      <td>1</td>\n",
       "    </tr>\n",
       "    <tr>\n",
       "      <th>1</th>\n",
       "      <td>BLAST-Premier-Spring-Final-2022-ence-vs-big-bo...</td>\n",
       "      <td>de_mirage</td>\n",
       "      <td>Full Eco</td>\n",
       "      <td>Full Eco</td>\n",
       "      <td>CT</td>\n",
       "      <td>1</td>\n",
       "      <td>1</td>\n",
       "      <td>0.398438</td>\n",
       "      <td>5</td>\n",
       "      <td>3700</td>\n",
       "      <td>...</td>\n",
       "      <td>0</td>\n",
       "      <td>0</td>\n",
       "      <td>0</td>\n",
       "      <td>1</td>\n",
       "      <td>0</td>\n",
       "      <td>0</td>\n",
       "      <td>0</td>\n",
       "      <td>0</td>\n",
       "      <td>0</td>\n",
       "      <td>1</td>\n",
       "    </tr>\n",
       "    <tr>\n",
       "      <th>2</th>\n",
       "      <td>BLAST-Premier-Spring-Final-2022-ence-vs-big-bo...</td>\n",
       "      <td>de_mirage</td>\n",
       "      <td>Full Eco</td>\n",
       "      <td>Full Eco</td>\n",
       "      <td>CT</td>\n",
       "      <td>1</td>\n",
       "      <td>1</td>\n",
       "      <td>0.648438</td>\n",
       "      <td>5</td>\n",
       "      <td>3700</td>\n",
       "      <td>...</td>\n",
       "      <td>0</td>\n",
       "      <td>0</td>\n",
       "      <td>0</td>\n",
       "      <td>1</td>\n",
       "      <td>0</td>\n",
       "      <td>0</td>\n",
       "      <td>0</td>\n",
       "      <td>0</td>\n",
       "      <td>0</td>\n",
       "      <td>1</td>\n",
       "    </tr>\n",
       "    <tr>\n",
       "      <th>3</th>\n",
       "      <td>BLAST-Premier-Spring-Final-2022-ence-vs-big-bo...</td>\n",
       "      <td>de_mirage</td>\n",
       "      <td>Full Eco</td>\n",
       "      <td>Full Eco</td>\n",
       "      <td>CT</td>\n",
       "      <td>1</td>\n",
       "      <td>1</td>\n",
       "      <td>0.898438</td>\n",
       "      <td>5</td>\n",
       "      <td>3700</td>\n",
       "      <td>...</td>\n",
       "      <td>0</td>\n",
       "      <td>0</td>\n",
       "      <td>0</td>\n",
       "      <td>1</td>\n",
       "      <td>0</td>\n",
       "      <td>0</td>\n",
       "      <td>0</td>\n",
       "      <td>0</td>\n",
       "      <td>0</td>\n",
       "      <td>1</td>\n",
       "    </tr>\n",
       "    <tr>\n",
       "      <th>4</th>\n",
       "      <td>BLAST-Premier-Spring-Final-2022-ence-vs-big-bo...</td>\n",
       "      <td>de_mirage</td>\n",
       "      <td>Full Eco</td>\n",
       "      <td>Full Eco</td>\n",
       "      <td>CT</td>\n",
       "      <td>1</td>\n",
       "      <td>1</td>\n",
       "      <td>1.148438</td>\n",
       "      <td>5</td>\n",
       "      <td>3700</td>\n",
       "      <td>...</td>\n",
       "      <td>0</td>\n",
       "      <td>0</td>\n",
       "      <td>0</td>\n",
       "      <td>1</td>\n",
       "      <td>0</td>\n",
       "      <td>0</td>\n",
       "      <td>0</td>\n",
       "      <td>0</td>\n",
       "      <td>0</td>\n",
       "      <td>1</td>\n",
       "    </tr>\n",
       "    <tr>\n",
       "      <th>...</th>\n",
       "      <td>...</td>\n",
       "      <td>...</td>\n",
       "      <td>...</td>\n",
       "      <td>...</td>\n",
       "      <td>...</td>\n",
       "      <td>...</td>\n",
       "      <td>...</td>\n",
       "      <td>...</td>\n",
       "      <td>...</td>\n",
       "      <td>...</td>\n",
       "      <td>...</td>\n",
       "      <td>...</td>\n",
       "      <td>...</td>\n",
       "      <td>...</td>\n",
       "      <td>...</td>\n",
       "      <td>...</td>\n",
       "      <td>...</td>\n",
       "      <td>...</td>\n",
       "      <td>...</td>\n",
       "      <td>...</td>\n",
       "      <td>...</td>\n",
       "    </tr>\n",
       "    <tr>\n",
       "      <th>3186232</th>\n",
       "      <td>PGL-Major-Antwerp-2022-vitality-vs-outsiders-m...</td>\n",
       "      <td>de_mirage</td>\n",
       "      <td>Full Buy</td>\n",
       "      <td>Semi Buy</td>\n",
       "      <td>CT</td>\n",
       "      <td>333</td>\n",
       "      <td>24</td>\n",
       "      <td>19.765625</td>\n",
       "      <td>1</td>\n",
       "      <td>30150</td>\n",
       "      <td>...</td>\n",
       "      <td>0</td>\n",
       "      <td>0</td>\n",
       "      <td>0</td>\n",
       "      <td>1</td>\n",
       "      <td>0</td>\n",
       "      <td>0</td>\n",
       "      <td>0</td>\n",
       "      <td>1</td>\n",
       "      <td>0</td>\n",
       "      <td>0</td>\n",
       "    </tr>\n",
       "    <tr>\n",
       "      <th>3186233</th>\n",
       "      <td>PGL-Major-Antwerp-2022-vitality-vs-outsiders-m...</td>\n",
       "      <td>de_mirage</td>\n",
       "      <td>Full Buy</td>\n",
       "      <td>Semi Buy</td>\n",
       "      <td>CT</td>\n",
       "      <td>333</td>\n",
       "      <td>24</td>\n",
       "      <td>20.015625</td>\n",
       "      <td>1</td>\n",
       "      <td>30150</td>\n",
       "      <td>...</td>\n",
       "      <td>0</td>\n",
       "      <td>0</td>\n",
       "      <td>0</td>\n",
       "      <td>1</td>\n",
       "      <td>0</td>\n",
       "      <td>0</td>\n",
       "      <td>0</td>\n",
       "      <td>1</td>\n",
       "      <td>0</td>\n",
       "      <td>0</td>\n",
       "    </tr>\n",
       "    <tr>\n",
       "      <th>3186234</th>\n",
       "      <td>PGL-Major-Antwerp-2022-vitality-vs-outsiders-m...</td>\n",
       "      <td>de_mirage</td>\n",
       "      <td>Full Buy</td>\n",
       "      <td>Semi Buy</td>\n",
       "      <td>CT</td>\n",
       "      <td>333</td>\n",
       "      <td>24</td>\n",
       "      <td>20.265625</td>\n",
       "      <td>1</td>\n",
       "      <td>30150</td>\n",
       "      <td>...</td>\n",
       "      <td>0</td>\n",
       "      <td>0</td>\n",
       "      <td>0</td>\n",
       "      <td>1</td>\n",
       "      <td>0</td>\n",
       "      <td>0</td>\n",
       "      <td>0</td>\n",
       "      <td>1</td>\n",
       "      <td>0</td>\n",
       "      <td>0</td>\n",
       "    </tr>\n",
       "    <tr>\n",
       "      <th>3186235</th>\n",
       "      <td>PGL-Major-Antwerp-2022-vitality-vs-outsiders-m...</td>\n",
       "      <td>de_mirage</td>\n",
       "      <td>Full Buy</td>\n",
       "      <td>Semi Buy</td>\n",
       "      <td>CT</td>\n",
       "      <td>333</td>\n",
       "      <td>24</td>\n",
       "      <td>20.515625</td>\n",
       "      <td>1</td>\n",
       "      <td>30150</td>\n",
       "      <td>...</td>\n",
       "      <td>0</td>\n",
       "      <td>0</td>\n",
       "      <td>0</td>\n",
       "      <td>1</td>\n",
       "      <td>0</td>\n",
       "      <td>0</td>\n",
       "      <td>0</td>\n",
       "      <td>1</td>\n",
       "      <td>0</td>\n",
       "      <td>0</td>\n",
       "    </tr>\n",
       "    <tr>\n",
       "      <th>3186236</th>\n",
       "      <td>PGL-Major-Antwerp-2022-vitality-vs-outsiders-m...</td>\n",
       "      <td>de_mirage</td>\n",
       "      <td>Full Buy</td>\n",
       "      <td>Semi Buy</td>\n",
       "      <td>CT</td>\n",
       "      <td>333</td>\n",
       "      <td>24</td>\n",
       "      <td>20.765625</td>\n",
       "      <td>1</td>\n",
       "      <td>30150</td>\n",
       "      <td>...</td>\n",
       "      <td>0</td>\n",
       "      <td>0</td>\n",
       "      <td>0</td>\n",
       "      <td>1</td>\n",
       "      <td>0</td>\n",
       "      <td>0</td>\n",
       "      <td>0</td>\n",
       "      <td>1</td>\n",
       "      <td>0</td>\n",
       "      <td>0</td>\n",
       "    </tr>\n",
       "  </tbody>\n",
       "</table>\n",
       "<p>3186237 rows × 98 columns</p>\n",
       "</div>"
      ],
      "text/plain": [
       "                                                  filename    mapName  \\\n",
       "0        BLAST-Premier-Spring-Final-2022-ence-vs-big-bo...  de_mirage   \n",
       "1        BLAST-Premier-Spring-Final-2022-ence-vs-big-bo...  de_mirage   \n",
       "2        BLAST-Premier-Spring-Final-2022-ence-vs-big-bo...  de_mirage   \n",
       "3        BLAST-Premier-Spring-Final-2022-ence-vs-big-bo...  de_mirage   \n",
       "4        BLAST-Premier-Spring-Final-2022-ence-vs-big-bo...  de_mirage   \n",
       "...                                                    ...        ...   \n",
       "3186232  PGL-Major-Antwerp-2022-vitality-vs-outsiders-m...  de_mirage   \n",
       "3186233  PGL-Major-Antwerp-2022-vitality-vs-outsiders-m...  de_mirage   \n",
       "3186234  PGL-Major-Antwerp-2022-vitality-vs-outsiders-m...  de_mirage   \n",
       "3186235  PGL-Major-Antwerp-2022-vitality-vs-outsiders-m...  de_mirage   \n",
       "3186236  PGL-Major-Antwerp-2022-vitality-vs-outsiders-m...  de_mirage   \n",
       "\n",
       "        ctBuyType  tBuyType winningSide  matchID  roundNum    seconds  \\\n",
       "0        Full Eco  Full Eco          CT        1         1   0.148438   \n",
       "1        Full Eco  Full Eco          CT        1         1   0.398438   \n",
       "2        Full Eco  Full Eco          CT        1         1   0.648438   \n",
       "3        Full Eco  Full Eco          CT        1         1   0.898438   \n",
       "4        Full Eco  Full Eco          CT        1         1   1.148438   \n",
       "...           ...       ...         ...      ...       ...        ...   \n",
       "3186232  Full Buy  Semi Buy          CT      333        24  19.765625   \n",
       "3186233  Full Buy  Semi Buy          CT      333        24  20.015625   \n",
       "3186234  Full Buy  Semi Buy          CT      333        24  20.265625   \n",
       "3186235  Full Buy  Semi Buy          CT      333        24  20.515625   \n",
       "3186236  Full Buy  Semi Buy          CT      333        24  20.765625   \n",
       "\n",
       "         ctAlivePlayers  ctEqVal  ...  de_ancient  de_dust2 de_inferno  \\\n",
       "0                     5     3700  ...           0         0          0   \n",
       "1                     5     3700  ...           0         0          0   \n",
       "2                     5     3700  ...           0         0          0   \n",
       "3                     5     3700  ...           0         0          0   \n",
       "4                     5     3700  ...           0         0          0   \n",
       "...                 ...      ...  ...         ...       ...        ...   \n",
       "3186232               1    30150  ...           0         0          0   \n",
       "3186233               1    30150  ...           0         0          0   \n",
       "3186234               1    30150  ...           0         0          0   \n",
       "3186235               1    30150  ...           0         0          0   \n",
       "3186236               1    30150  ...           0         0          0   \n",
       "\n",
       "         de_mirage  de_nuke  de_overpass  de_vertigo  bombsite_A  bombsite_B  \\\n",
       "0                1        0            0           0           0           0   \n",
       "1                1        0            0           0           0           0   \n",
       "2                1        0            0           0           0           0   \n",
       "3                1        0            0           0           0           0   \n",
       "4                1        0            0           0           0           0   \n",
       "...            ...      ...          ...         ...         ...         ...   \n",
       "3186232          1        0            0           0           1           0   \n",
       "3186233          1        0            0           0           1           0   \n",
       "3186234          1        0            0           0           1           0   \n",
       "3186235          1        0            0           0           1           0   \n",
       "3186236          1        0            0           0           1           0   \n",
       "\n",
       "         bombsite_not_planted  \n",
       "0                           1  \n",
       "1                           1  \n",
       "2                           1  \n",
       "3                           1  \n",
       "4                           1  \n",
       "...                       ...  \n",
       "3186232                     0  \n",
       "3186233                     0  \n",
       "3186234                     0  \n",
       "3186235                     0  \n",
       "3186236                     0  \n",
       "\n",
       "[3186237 rows x 98 columns]"
      ]
     },
     "execution_count": 3,
     "metadata": {},
     "output_type": "execute_result"
    }
   ],
   "source": [
    "df = pd.read_parquet('data/states_prepared.parquet')\n",
    "df"
   ]
  },
  {
   "cell_type": "markdown",
   "id": "f64226fb-b737-464f-97ff-24fe76105cc8",
   "metadata": {},
   "source": [
    "## Podział"
   ]
  },
  {
   "cell_type": "code",
   "execution_count": 4,
   "id": "e8cd2c66-2520-4b60-ad8e-b88a4f9ba78f",
   "metadata": {},
   "outputs": [
    {
     "data": {
      "text/plain": [
       "Index(['filename', 'mapName', 'ctBuyType', 'tBuyType', 'winningSide',\n",
       "       'matchID', 'roundNum', 'seconds', 'ctAlivePlayers', 'ctEqVal',\n",
       "       'tAlivePlayers', 'tEqVal', 'bombsite', 'ct_hp', 't_hp', 'ct_armor',\n",
       "       't_armor', 'ct_hasHelmet', 't_hasHelmet', 'ct_DecoyGrenade',\n",
       "       't_DecoyGrenade', 'ct_Flashbang', 't_Flashbang', 'ct_HEGrenade',\n",
       "       't_HEGrenade', 'ct_SmokeGrenade', 't_SmokeGrenade', 'ct_fireGrenades',\n",
       "       't_fireGrenades', 'ct_isBlinded', 't_isBlinded', 'ct_hasDefuse',\n",
       "       't_hasBomb', 'ct_isDefusing', 't_isPlanting', 'ct_spottedPlayers',\n",
       "       't_spottedPlayers', 'ct_activeWeapon_Pistol',\n",
       "       'ct_activeWeapon_EnhancedPistols', 'ct_activeWeapon_Deagle',\n",
       "       'ct_activeWeapon_SMG', 'ct_activeWeapon_WeakAssaultRifle',\n",
       "       'ct_activeWeapon_LunetRifle', 'ct_activeWeapon_SniperRifle',\n",
       "       'ct_activeWeapon_AssaultRifle', 'ct_activeWeapon_Others',\n",
       "       't_activeWeapon_Pistol', 't_activeWeapon_EnhancedPistols',\n",
       "       't_activeWeapon_Deagle', 't_activeWeapon_SMG',\n",
       "       't_activeWeapon_WeakAssaultRifle', 't_activeWeapon_LunetRifle',\n",
       "       't_activeWeapon_SniperRifle', 't_activeWeapon_AssaultRifle',\n",
       "       't_activeWeapon_Others', 'ct_mainWeapon_Pistol',\n",
       "       'ct_mainWeapon_EnhancedPistols', 'ct_mainWeapon_Deagle',\n",
       "       'ct_mainWeapon_SMG', 'ct_mainWeapon_WeakAssaultRifle',\n",
       "       'ct_mainWeapon_LunetRifle', 'ct_mainWeapon_SniperRifle',\n",
       "       'ct_mainWeapon_AssaultRifle', 'ct_mainWeapon_Others',\n",
       "       't_mainWeapon_Pistol', 't_mainWeapon_EnhancedPistols',\n",
       "       't_mainWeapon_Deagle', 't_mainWeapon_SMG',\n",
       "       't_mainWeapon_WeakAssaultRifle', 't_mainWeapon_LunetRifle',\n",
       "       't_mainWeapon_SniperRifle', 't_mainWeapon_AssaultRifle',\n",
       "       't_mainWeapon_Others', 'ct_secondaryWeapon_Pistol',\n",
       "       'ct_secondaryWeapon_EnhancedPistols', 'ct_secondaryWeapon_Deagle',\n",
       "       't_secondaryWeapon_Pistol', 't_secondaryWeapon_EnhancedPistols',\n",
       "       't_secondaryWeapon_Deagle', 'winningSideCT', 'ctMinDistToA',\n",
       "       'ctMinDistToB', 'tMinDistToA', 'tMinDistToB', 'ctMeanDistToA',\n",
       "       'ctMeanDistToB', 'tMeanDistToA', 'tMeanDistToB', 'de_ancient',\n",
       "       'de_dust2', 'de_inferno', 'de_mirage', 'de_nuke', 'de_overpass',\n",
       "       'de_vertigo', 'bombsite_A', 'bombsite_B', 'bombsite_not_planted'],\n",
       "      dtype='object')"
      ]
     },
     "execution_count": 4,
     "metadata": {},
     "output_type": "execute_result"
    }
   ],
   "source": [
    "df.columns"
   ]
  },
  {
   "cell_type": "code",
   "execution_count": 5,
   "id": "08ab4126-b168-4581-b219-ce4603f6a827",
   "metadata": {},
   "outputs": [],
   "source": [
    "def select_feat(prep_df):\n",
    "    columns = [\n",
    "        'seconds', 'ctAlivePlayers', 'ctEqVal', 'tAlivePlayers', 'tEqVal',\n",
    "       'ct_armor', 't_armor', 'ct_hp', 't_hp', 'ct_hasHelmet', 't_hasHelmet', 'ct_DecoyGrenade',\n",
    "       't_DecoyGrenade', 'ct_Flashbang', 't_Flashbang', 'ct_HEGrenade',\n",
    "       't_HEGrenade', 'ct_SmokeGrenade', 't_SmokeGrenade', 'ct_fireGrenades',\n",
    "       't_fireGrenades', 'ct_isBlinded', 't_isBlinded', 'ct_hasDefuse',\n",
    "       't_hasBomb', 'ct_isDefusing', 't_isPlanting', 'ct_spottedPlayers',\n",
    "       't_spottedPlayers', 'ct_activeWeapon_Pistol',\n",
    "       'ct_activeWeapon_EnhancedPistols', 'ct_activeWeapon_Deagle',\n",
    "       'ct_activeWeapon_SMG', 'ct_activeWeapon_WeakAssaultRifle',\n",
    "       'ct_activeWeapon_LunetRifle', 'ct_activeWeapon_SniperRifle',\n",
    "       'ct_activeWeapon_AssaultRifle', 'ct_activeWeapon_Others',\n",
    "       't_activeWeapon_Pistol', 't_activeWeapon_EnhancedPistols',\n",
    "       't_activeWeapon_Deagle', 't_activeWeapon_SMG',\n",
    "       't_activeWeapon_WeakAssaultRifle', 't_activeWeapon_LunetRifle',\n",
    "       't_activeWeapon_SniperRifle', 't_activeWeapon_AssaultRifle',\n",
    "       't_activeWeapon_Others', 'ct_mainWeapon_Pistol',\n",
    "       'ct_mainWeapon_EnhancedPistols', 'ct_mainWeapon_Deagle',\n",
    "       'ct_mainWeapon_SMG', 'ct_mainWeapon_WeakAssaultRifle',\n",
    "       'ct_mainWeapon_LunetRifle', 'ct_mainWeapon_SniperRifle',\n",
    "       'ct_mainWeapon_AssaultRifle', 'ct_mainWeapon_Others',\n",
    "       't_mainWeapon_Pistol', 't_mainWeapon_EnhancedPistols',\n",
    "       't_mainWeapon_Deagle', 't_mainWeapon_SMG',\n",
    "       't_mainWeapon_WeakAssaultRifle', 't_mainWeapon_LunetRifle',\n",
    "       't_mainWeapon_SniperRifle', 't_mainWeapon_AssaultRifle',\n",
    "       't_mainWeapon_Others', 'ct_secondaryWeapon_Pistol',\n",
    "       'ct_secondaryWeapon_EnhancedPistols', 'ct_secondaryWeapon_Deagle',\n",
    "       't_secondaryWeapon_Pistol', 't_secondaryWeapon_EnhancedPistols',\n",
    "       't_secondaryWeapon_Deagle', 'ctMinDistToA',\n",
    "       'ctMinDistToB', 'tMinDistToA', 'tMinDistToB', 'ctMeanDistToA',\n",
    "       'ctMeanDistToB', 'tMeanDistToA', 'tMeanDistToB', 'de_ancient',\n",
    "       'de_dust2', 'de_inferno', 'de_mirage', 'de_nuke', 'de_overpass',\n",
    "       'de_vertigo','bombsite_A', 'bombsite_B', 'bombsite_not_planted'\n",
    "    ]\n",
    "    return prep_df[columns]"
   ]
  },
  {
   "cell_type": "code",
   "execution_count": 6,
   "id": "258ee781-e6ee-4b90-bc9f-8696084682a9",
   "metadata": {},
   "outputs": [],
   "source": [
    "filtr = df.filename.str.startswith('BLAST-Premier-Spring-Final-2022')\n",
    "\n",
    "df_train, df_test = df.loc[~filtr], df.loc[filtr]"
   ]
  },
  {
   "cell_type": "code",
   "execution_count": 7,
   "id": "85c50951-2756-4d3e-9acd-0f0ba077a90e",
   "metadata": {},
   "outputs": [
    {
     "data": {
      "text/plain": [
       "299"
      ]
     },
     "execution_count": 7,
     "metadata": {},
     "output_type": "execute_result"
    }
   ],
   "source": [
    "match_map = df_train.groupby(['filename', 'mapName']).indices\n",
    "len(match_map.keys())"
   ]
  },
  {
   "cell_type": "code",
   "execution_count": 8,
   "id": "692707aa-f851-4ce7-86b3-c373adfacecb",
   "metadata": {},
   "outputs": [
    {
     "data": {
      "text/plain": [
       "(2594070,)"
      ]
     },
     "execution_count": 8,
     "metadata": {},
     "output_type": "execute_result"
    }
   ],
   "source": [
    "maps = len(match_map.keys())\n",
    "np.random.seed(12)\n",
    "train_ind = np.random.choice(maps, size=int(0.9*maps), replace=False)\n",
    "train_indexes = np.array([])\n",
    "valid_indexes = np.array([])\n",
    "for i, key in enumerate(match_map):\n",
    "    if i in train_ind:\n",
    "        train_indexes = np.concatenate((train_indexes, match_map[key]))\n",
    "    else:\n",
    "        valid_indexes = np.concatenate((valid_indexes, match_map[key]))\n",
    "\n",
    "train_indexes.shape"
   ]
  },
  {
   "cell_type": "code",
   "execution_count": 9,
   "id": "bce8de4e-d2d4-46e2-9f41-c6538bd4a996",
   "metadata": {},
   "outputs": [
    {
     "data": {
      "text/plain": [
       "(2594070,)"
      ]
     },
     "execution_count": 9,
     "metadata": {},
     "output_type": "execute_result"
    }
   ],
   "source": [
    "maps = len(match_map.keys())\n",
    "np.random.seed(12)\n",
    "train_ind = np.random.choice(maps, size=int(0.9*maps), replace=False)\n",
    "train_indexes = np.array([])\n",
    "valid_indexes = np.array([])\n",
    "for i, key in enumerate(match_map):\n",
    "    if i in train_ind:\n",
    "        train_indexes = np.concatenate((train_indexes, match_map[key]))\n",
    "    else:\n",
    "        valid_indexes = np.concatenate((valid_indexes, match_map[key]))\n",
    "\n",
    "train_indexes.shape"
   ]
  },
  {
   "cell_type": "code",
   "execution_count": 10,
   "id": "15f378bb-51d7-4237-8d21-2ca851723a8e",
   "metadata": {
    "tags": []
   },
   "outputs": [
    {
     "data": {
      "text/plain": [
       "1    0.524193\n",
       "0    0.475807\n",
       "Name: winningSideCT, dtype: float64"
      ]
     },
     "execution_count": 10,
     "metadata": {},
     "output_type": "execute_result"
    }
   ],
   "source": [
    "df_valid = df_train.iloc[valid_indexes]\n",
    "df_valid['winningSideCT'].value_counts(normalize=True)"
   ]
  },
  {
   "cell_type": "code",
   "execution_count": 11,
   "id": "ee1e99c1-aec4-4ab5-90f8-fe56b509bdc5",
   "metadata": {},
   "outputs": [
    {
     "data": {
      "text/plain": [
       "1    0.523806\n",
       "0    0.476194\n",
       "Name: winningSideCT, dtype: float64"
      ]
     },
     "execution_count": 11,
     "metadata": {},
     "output_type": "execute_result"
    }
   ],
   "source": [
    "df_train = df_train.iloc[train_indexes]\n",
    "df_train['winningSideCT'].value_counts(normalize=True)"
   ]
  },
  {
   "cell_type": "code",
   "execution_count": 12,
   "id": "e2c967a1-83c4-44dc-82fb-9168da9b8b57",
   "metadata": {},
   "outputs": [
    {
     "data": {
      "text/plain": [
       "0    0.511179\n",
       "1    0.488821\n",
       "Name: winningSideCT, dtype: float64"
      ]
     },
     "execution_count": 12,
     "metadata": {},
     "output_type": "execute_result"
    }
   ],
   "source": [
    "df_test['winningSideCT'].value_counts(normalize=True)"
   ]
  },
  {
   "cell_type": "code",
   "execution_count": 13,
   "id": "88723c62-f708-4f17-a197-1bbdc320cecf",
   "metadata": {},
   "outputs": [],
   "source": [
    "def generate_indices(data, lookback):\n",
    "    grouped = data.groupby(['matchID', 'roundNum'])\n",
    "    dict_gr = grouped.indices\n",
    "    for key, val in dict_gr.items():\n",
    "        dict_gr[key] = np.min(val),  np.max(val)\n",
    "    \n",
    "    indices = np.zeros((len(data.index), lookback), dtype=np.int32)\n",
    "    for key in dict_gr:\n",
    "        minimum, maximum = dict_gr[key]\n",
    "        for i in range(minimum, maximum + 1):\n",
    "            if i - minimum < lookback:\n",
    "                indices[i] = np.hstack((np.repeat(-1, lookback - (i + 1 - minimum)), np.arange(minimum, i + 1, dtype=np.int32)))\n",
    "            else:\n",
    "                indices[i] = np.arange(i + 1 - lookback, i + 1, dtype=np.int32)\n",
    "    return indices"
   ]
  },
  {
   "cell_type": "code",
   "execution_count": 14,
   "id": "fc2ef975-5711-49b9-bfb6-818513d7b220",
   "metadata": {},
   "outputs": [],
   "source": [
    "lookback = 20\n",
    "train_indexes = generate_indices(df_train, lookback)\n",
    "valid_indexes = generate_indices(df_valid, lookback)\n",
    "test_indexes = generate_indices(df_test, lookback)"
   ]
  },
  {
   "cell_type": "code",
   "execution_count": 15,
   "id": "ac60ebed-4f1c-447c-bf27-5c13232f37b3",
   "metadata": {},
   "outputs": [
    {
     "data": {
      "text/plain": [
       "(207.5256, 23.42528, 23.94808)"
      ]
     },
     "execution_count": 15,
     "metadata": {},
     "output_type": "execute_result"
    }
   ],
   "source": [
    "train_indexes.size * train_indexes.itemsize / 1_000_000, valid_indexes.size * valid_indexes.itemsize / 1_000_000 , test_indexes.size * test_indexes.itemsize / 1_000_000"
   ]
  },
  {
   "cell_type": "code",
   "execution_count": 16,
   "id": "764cfa7d-e372-4d7a-a327-83bdbf6c75fa",
   "metadata": {},
   "outputs": [],
   "source": [
    "y_train, y_valid, y_test = df_train['winningSideCT'], df_valid['winningSideCT'], df_test['winningSideCT']\n",
    "norm_train, norm_valid, norm_test = select_feat(df_train), select_feat(df_valid), select_feat(df_test)\n",
    "cols = norm_train.columns.tolist()\n",
    "del df_train, df_valid, df_test\n",
    "scaler = StandardScaler()\n",
    "norm_train = scaler.fit_transform(norm_train)\n",
    "norm_valid = scaler.transform(norm_valid)\n",
    "norm_test = scaler.transform(norm_test)"
   ]
  },
  {
   "cell_type": "code",
   "execution_count": 17,
   "id": "a72c61c6-8c29-4514-a498-3677365a8824",
   "metadata": {},
   "outputs": [],
   "source": [
    "class CSGOsequence(Sequence):\n",
    "    def __init__(self, x_set, y_set, batch_size, indices, shuffle):\n",
    "        self.x, self.y = x_set, y_set\n",
    "        self.indices = indices\n",
    "        self.batch_size = batch_size\n",
    "        self.shuffle = shuffle\n",
    "        if self.shuffle:\n",
    "            np.random.shuffle(self.indices)\n",
    "\n",
    "    def __len__(self):\n",
    "        return math.ceil(self.indices.shape[0] / self.batch_size)\n",
    "                         \n",
    "    def __getitem__(self, idx):\n",
    "        batch_x = [np.array([np.zeros(self.x.shape[-1]) if val < 0 else self.x[val] \n",
    "                   for val in index])\n",
    "                       for index in self.indices[idx * self.batch_size : (idx + 1) * self.batch_size]]\n",
    "        batch_y = self.y[self.indices[idx * self.batch_size : (idx + 1) * self.batch_size, -1]]\n",
    "        return np.array(batch_x), np.array(batch_y)\n",
    "    \n",
    "    def on_epoch_end(self):\n",
    "        if self.shuffle:\n",
    "            np.random.shuffle(self.indices)"
   ]
  },
  {
   "cell_type": "code",
   "execution_count": 18,
   "id": "3d3a9b4e-c301-40dd-aeaa-249e9f6beb36",
   "metadata": {
    "tags": []
   },
   "outputs": [],
   "source": [
    "train_seq = CSGOsequence(norm_train, y_train.values, 2048, train_indexes, shuffle=True)\n",
    "valid_seq = CSGOsequence(norm_valid, y_valid.values, 2048, valid_indexes, shuffle=False)\n",
    "test_seq = CSGOsequence(norm_test, y_test.values, 2048, test_indexes, shuffle=False)"
   ]
  },
  {
   "cell_type": "code",
   "execution_count": 19,
   "id": "c2ce6981-1618-4d49-8a50-3953ab1aa44a",
   "metadata": {},
   "outputs": [],
   "source": [
    "os.makedirs(\"model_deep\", exist_ok=True)"
   ]
  },
  {
   "cell_type": "code",
   "execution_count": 20,
   "id": "b9315cf1-6ec4-476c-a8e0-1c6d7adecb6d",
   "metadata": {},
   "outputs": [],
   "source": [
    "early_stopping = EarlyStopping(\n",
    "    monitor='val_loss',\n",
    "    min_delta=0.0001,\n",
    "    patience=30,\n",
    "    verbose=0,\n",
    "    mode='min',\n",
    "    baseline=None,\n",
    "    restore_best_weights=True,\n",
    ")\n",
    "\n",
    "model_checkpoint_callback = ModelCheckpoint(\n",
    "    filepath=\"model_deep/rnn.tf\",\n",
    "    monitor='val_loss',\n",
    "    mode='min',\n",
    "    save_best_only=True)\n",
    "\n",
    "logger = CSVLogger(\n",
    "    \"model_deep/rnn_log.csv\", separator=',', append=True\n",
    ")"
   ]
  },
  {
   "cell_type": "code",
   "execution_count": 21,
   "id": "bfe1d499-cf88-416d-b37d-120ab2335e75",
   "metadata": {},
   "outputs": [
    {
     "name": "stdout",
     "output_type": "stream",
     "text": [
      "Epoch 1/200\n",
      "1267/1267 [==============================] - 131s 100ms/step - loss: 0.6956 - binary_accuracy: 0.7602 - auc: 0.8537 - val_loss: 0.5561 - val_binary_accuracy: 0.7506 - val_auc: 0.8513\n"
     ]
    },
    {
     "name": "stderr",
     "output_type": "stream",
     "text": [
      "WARNING:absl:Found untraced functions such as gru_cell_layer_call_fn, gru_cell_layer_call_and_return_conditional_losses, gru_cell_layer_call_fn, gru_cell_layer_call_and_return_conditional_losses, gru_cell_layer_call_and_return_conditional_losses while saving (showing 5 of 5). These functions will not be directly callable after loading.\n"
     ]
    },
    {
     "name": "stdout",
     "output_type": "stream",
     "text": [
      "INFO:tensorflow:Assets written to: model_deep\\rnn.tf\\assets\n"
     ]
    },
    {
     "name": "stderr",
     "output_type": "stream",
     "text": [
      "INFO:tensorflow:Assets written to: model_deep\\rnn.tf\\assets\n"
     ]
    },
    {
     "name": "stdout",
     "output_type": "stream",
     "text": [
      "Epoch 2/200\n",
      "1267/1267 [==============================] - 125s 99ms/step - loss: 0.5532 - binary_accuracy: 0.7612 - auc: 0.8549 - val_loss: 0.5566 - val_binary_accuracy: 0.7448 - val_auc: 0.8508\n",
      "Epoch 3/200\n",
      "1267/1267 [==============================] - 126s 100ms/step - loss: 0.5532 - binary_accuracy: 0.7618 - auc: 0.8552 - val_loss: 0.5548 - val_binary_accuracy: 0.7548 - val_auc: 0.8542\n"
     ]
    },
    {
     "name": "stderr",
     "output_type": "stream",
     "text": [
      "WARNING:absl:Found untraced functions such as gru_cell_layer_call_fn, gru_cell_layer_call_and_return_conditional_losses, gru_cell_layer_call_fn, gru_cell_layer_call_and_return_conditional_losses, gru_cell_layer_call_and_return_conditional_losses while saving (showing 5 of 5). These functions will not be directly callable after loading.\n"
     ]
    },
    {
     "name": "stdout",
     "output_type": "stream",
     "text": [
      "INFO:tensorflow:Assets written to: model_deep\\rnn.tf\\assets\n"
     ]
    },
    {
     "name": "stderr",
     "output_type": "stream",
     "text": [
      "INFO:tensorflow:Assets written to: model_deep\\rnn.tf\\assets\n"
     ]
    },
    {
     "name": "stdout",
     "output_type": "stream",
     "text": [
      "Epoch 4/200\n",
      "1267/1267 [==============================] - 126s 99ms/step - loss: 0.5533 - binary_accuracy: 0.7616 - auc: 0.8552 - val_loss: 0.5557 - val_binary_accuracy: 0.7517 - val_auc: 0.8536\n",
      "Epoch 5/200\n",
      "1267/1267 [==============================] - 126s 100ms/step - loss: 0.5534 - binary_accuracy: 0.7617 - auc: 0.8553 - val_loss: 0.5559 - val_binary_accuracy: 0.7460 - val_auc: 0.8521\n",
      "Epoch 6/200\n",
      "1267/1267 [==============================] - 126s 99ms/step - loss: 0.5534 - binary_accuracy: 0.7615 - auc: 0.8552 - val_loss: 0.5534 - val_binary_accuracy: 0.7518 - val_auc: 0.8561\n"
     ]
    },
    {
     "name": "stderr",
     "output_type": "stream",
     "text": [
      "WARNING:absl:Found untraced functions such as gru_cell_layer_call_fn, gru_cell_layer_call_and_return_conditional_losses, gru_cell_layer_call_fn, gru_cell_layer_call_and_return_conditional_losses, gru_cell_layer_call_and_return_conditional_losses while saving (showing 5 of 5). These functions will not be directly callable after loading.\n"
     ]
    },
    {
     "name": "stdout",
     "output_type": "stream",
     "text": [
      "INFO:tensorflow:Assets written to: model_deep\\rnn.tf\\assets\n"
     ]
    },
    {
     "name": "stderr",
     "output_type": "stream",
     "text": [
      "INFO:tensorflow:Assets written to: model_deep\\rnn.tf\\assets\n"
     ]
    },
    {
     "name": "stdout",
     "output_type": "stream",
     "text": [
      "Epoch 7/200\n",
      "1267/1267 [==============================] - 126s 99ms/step - loss: 0.5534 - binary_accuracy: 0.7615 - auc: 0.8552 - val_loss: 0.5559 - val_binary_accuracy: 0.7477 - val_auc: 0.8517\n",
      "Epoch 8/200\n",
      "1267/1267 [==============================] - 126s 99ms/step - loss: 0.5534 - binary_accuracy: 0.7615 - auc: 0.8552 - val_loss: 0.5552 - val_binary_accuracy: 0.7566 - val_auc: 0.8542\n",
      "Epoch 9/200\n",
      "1267/1267 [==============================] - 126s 99ms/step - loss: 0.5533 - binary_accuracy: 0.7616 - auc: 0.8553 - val_loss: 0.5557 - val_binary_accuracy: 0.7502 - val_auc: 0.8539\n",
      "Epoch 10/200\n",
      "1267/1267 [==============================] - 126s 99ms/step - loss: 0.5535 - binary_accuracy: 0.7614 - auc: 0.8551 - val_loss: 0.5581 - val_binary_accuracy: 0.7450 - val_auc: 0.8506\n",
      "Epoch 11/200\n",
      "1267/1267 [==============================] - 126s 99ms/step - loss: 0.5533 - binary_accuracy: 0.7617 - auc: 0.8552 - val_loss: 0.5558 - val_binary_accuracy: 0.7507 - val_auc: 0.8523\n",
      "Epoch 12/200\n",
      "1267/1267 [==============================] - 126s 99ms/step - loss: 0.5534 - binary_accuracy: 0.7616 - auc: 0.8552 - val_loss: 0.5545 - val_binary_accuracy: 0.7484 - val_auc: 0.8520\n",
      "Epoch 13/200\n",
      "1267/1267 [==============================] - 126s 100ms/step - loss: 0.5533 - binary_accuracy: 0.7615 - auc: 0.8552 - val_loss: 0.5560 - val_binary_accuracy: 0.7485 - val_auc: 0.8522\n",
      "Epoch 14/200\n",
      "1267/1267 [==============================] - 126s 99ms/step - loss: 0.5534 - binary_accuracy: 0.7616 - auc: 0.8553 - val_loss: 0.5546 - val_binary_accuracy: 0.7485 - val_auc: 0.8533\n",
      "Epoch 15/200\n",
      "1267/1267 [==============================] - 126s 100ms/step - loss: 0.5534 - binary_accuracy: 0.7616 - auc: 0.8552 - val_loss: 0.5569 - val_binary_accuracy: 0.7443 - val_auc: 0.8521\n",
      "Epoch 16/200\n",
      "1267/1267 [==============================] - 128s 101ms/step - loss: 0.5533 - binary_accuracy: 0.7615 - auc: 0.8552 - val_loss: 0.5560 - val_binary_accuracy: 0.7481 - val_auc: 0.8518\n",
      "Epoch 17/200\n",
      "1267/1267 [==============================] - 124s 97ms/step - loss: 0.5535 - binary_accuracy: 0.7612 - auc: 0.8551 - val_loss: 0.5553 - val_binary_accuracy: 0.7493 - val_auc: 0.8533\n",
      "Epoch 18/200\n",
      "1267/1267 [==============================] - 125s 99ms/step - loss: 0.5534 - binary_accuracy: 0.7613 - auc: 0.8551 - val_loss: 0.5571 - val_binary_accuracy: 0.7483 - val_auc: 0.8517\n",
      "Epoch 19/200\n",
      "1267/1267 [==============================] - 126s 99ms/step - loss: 0.5532 - binary_accuracy: 0.7619 - auc: 0.8553 - val_loss: 0.5560 - val_binary_accuracy: 0.7507 - val_auc: 0.8521\n",
      "Epoch 20/200\n",
      "1267/1267 [==============================] - 126s 99ms/step - loss: 0.5535 - binary_accuracy: 0.7615 - auc: 0.8552 - val_loss: 0.5559 - val_binary_accuracy: 0.7483 - val_auc: 0.8525\n",
      "Epoch 21/200\n",
      "1267/1267 [==============================] - 124s 98ms/step - loss: 0.5533 - binary_accuracy: 0.7615 - auc: 0.8553 - val_loss: 0.5574 - val_binary_accuracy: 0.7485 - val_auc: 0.8507\n",
      "Epoch 22/200\n",
      "1267/1267 [==============================] - 123s 97ms/step - loss: 0.5534 - binary_accuracy: 0.7615 - auc: 0.8552 - val_loss: 0.5559 - val_binary_accuracy: 0.7519 - val_auc: 0.8531\n",
      "Epoch 23/200\n",
      "1267/1267 [==============================] - 123s 97ms/step - loss: 0.5533 - binary_accuracy: 0.7614 - auc: 0.8552 - val_loss: 0.5527 - val_binary_accuracy: 0.7540 - val_auc: 0.8563\n"
     ]
    },
    {
     "name": "stderr",
     "output_type": "stream",
     "text": [
      "WARNING:absl:Found untraced functions such as gru_cell_layer_call_fn, gru_cell_layer_call_and_return_conditional_losses, gru_cell_layer_call_fn, gru_cell_layer_call_and_return_conditional_losses, gru_cell_layer_call_and_return_conditional_losses while saving (showing 5 of 5). These functions will not be directly callable after loading.\n"
     ]
    },
    {
     "name": "stdout",
     "output_type": "stream",
     "text": [
      "INFO:tensorflow:Assets written to: model_deep\\rnn.tf\\assets\n"
     ]
    },
    {
     "name": "stderr",
     "output_type": "stream",
     "text": [
      "INFO:tensorflow:Assets written to: model_deep\\rnn.tf\\assets\n"
     ]
    },
    {
     "name": "stdout",
     "output_type": "stream",
     "text": [
      "Epoch 24/200\n",
      "1267/1267 [==============================] - 124s 98ms/step - loss: 0.5534 - binary_accuracy: 0.7615 - auc: 0.8552 - val_loss: 0.5543 - val_binary_accuracy: 0.7487 - val_auc: 0.8528\n",
      "Epoch 25/200\n",
      "1267/1267 [==============================] - 124s 98ms/step - loss: 0.5532 - binary_accuracy: 0.7616 - auc: 0.8553 - val_loss: 0.5566 - val_binary_accuracy: 0.7493 - val_auc: 0.8529\n",
      "Epoch 26/200\n",
      "1267/1267 [==============================] - 124s 98ms/step - loss: 0.5535 - binary_accuracy: 0.7615 - auc: 0.8551 - val_loss: 0.5552 - val_binary_accuracy: 0.7472 - val_auc: 0.8526\n",
      "Epoch 27/200\n",
      "1267/1267 [==============================] - 135s 106ms/step - loss: 0.5533 - binary_accuracy: 0.7616 - auc: 0.8552 - val_loss: 0.5561 - val_binary_accuracy: 0.7472 - val_auc: 0.8528\n",
      "Epoch 28/200\n",
      "1267/1267 [==============================] - 133s 105ms/step - loss: 0.5532 - binary_accuracy: 0.7615 - auc: 0.8553 - val_loss: 0.5555 - val_binary_accuracy: 0.7499 - val_auc: 0.8530\n",
      "Epoch 29/200\n",
      "1267/1267 [==============================] - 134s 106ms/step - loss: 0.5534 - binary_accuracy: 0.7617 - auc: 0.8552 - val_loss: 0.5543 - val_binary_accuracy: 0.7505 - val_auc: 0.8540\n",
      "Epoch 30/200\n",
      "1267/1267 [==============================] - 133s 105ms/step - loss: 0.5532 - binary_accuracy: 0.7618 - auc: 0.8553 - val_loss: 0.5551 - val_binary_accuracy: 0.7521 - val_auc: 0.8542\n",
      "Epoch 31/200\n",
      "1267/1267 [==============================] - 134s 105ms/step - loss: 0.5532 - binary_accuracy: 0.7619 - auc: 0.8553 - val_loss: 0.5554 - val_binary_accuracy: 0.7483 - val_auc: 0.8539\n",
      "Epoch 32/200\n",
      "1267/1267 [==============================] - 133s 105ms/step - loss: 0.5532 - binary_accuracy: 0.7615 - auc: 0.8553 - val_loss: 0.5546 - val_binary_accuracy: 0.7509 - val_auc: 0.8539\n",
      "Epoch 33/200\n",
      "1267/1267 [==============================] - 133s 105ms/step - loss: 0.5532 - binary_accuracy: 0.7616 - auc: 0.8553 - val_loss: 0.5558 - val_binary_accuracy: 0.7459 - val_auc: 0.8519\n",
      "Epoch 34/200\n",
      "1267/1267 [==============================] - 133s 105ms/step - loss: 0.5534 - binary_accuracy: 0.7615 - auc: 0.8552 - val_loss: 0.5558 - val_binary_accuracy: 0.7490 - val_auc: 0.8529\n",
      "Epoch 35/200\n",
      "1267/1267 [==============================] - 134s 105ms/step - loss: 0.5533 - binary_accuracy: 0.7614 - auc: 0.8552 - val_loss: 0.5558 - val_binary_accuracy: 0.7507 - val_auc: 0.8531\n",
      "Epoch 36/200\n",
      "1267/1267 [==============================] - 135s 106ms/step - loss: 0.5533 - binary_accuracy: 0.7615 - auc: 0.8552 - val_loss: 0.5554 - val_binary_accuracy: 0.7516 - val_auc: 0.8532\n",
      "Epoch 37/200\n",
      "1267/1267 [==============================] - 136s 107ms/step - loss: 0.5533 - binary_accuracy: 0.7617 - auc: 0.8552 - val_loss: 0.5542 - val_binary_accuracy: 0.7490 - val_auc: 0.8545\n",
      "Epoch 38/200\n",
      "1267/1267 [==============================] - 135s 107ms/step - loss: 0.5532 - binary_accuracy: 0.7614 - auc: 0.8553 - val_loss: 0.5554 - val_binary_accuracy: 0.7469 - val_auc: 0.8531\n",
      "Epoch 39/200\n",
      "1267/1267 [==============================] - 135s 107ms/step - loss: 0.5533 - binary_accuracy: 0.7617 - auc: 0.8553 - val_loss: 0.5562 - val_binary_accuracy: 0.7478 - val_auc: 0.8523\n",
      "Epoch 40/200\n",
      "1267/1267 [==============================] - 135s 107ms/step - loss: 0.5533 - binary_accuracy: 0.7617 - auc: 0.8553 - val_loss: 0.5563 - val_binary_accuracy: 0.7478 - val_auc: 0.8512\n",
      "Epoch 41/200\n",
      "1267/1267 [==============================] - 137s 108ms/step - loss: 0.5533 - binary_accuracy: 0.7615 - auc: 0.8553 - val_loss: 0.5555 - val_binary_accuracy: 0.7491 - val_auc: 0.8526\n",
      "Epoch 42/200\n",
      "1267/1267 [==============================] - 134s 106ms/step - loss: 0.5533 - binary_accuracy: 0.7616 - auc: 0.8553 - val_loss: 0.5532 - val_binary_accuracy: 0.7540 - val_auc: 0.8548\n",
      "Epoch 43/200\n",
      "1267/1267 [==============================] - 135s 106ms/step - loss: 0.5532 - binary_accuracy: 0.7617 - auc: 0.8554 - val_loss: 0.5542 - val_binary_accuracy: 0.7515 - val_auc: 0.8543\n",
      "Epoch 44/200\n",
      "1267/1267 [==============================] - 134s 106ms/step - loss: 0.5533 - binary_accuracy: 0.7618 - auc: 0.8552 - val_loss: 0.5557 - val_binary_accuracy: 0.7509 - val_auc: 0.8526\n",
      "Epoch 45/200\n",
      "1267/1267 [==============================] - 133s 105ms/step - loss: 0.5534 - binary_accuracy: 0.7618 - auc: 0.8553 - val_loss: 0.5567 - val_binary_accuracy: 0.7449 - val_auc: 0.8511\n",
      "Epoch 46/200\n",
      "1267/1267 [==============================] - 133s 105ms/step - loss: 0.5533 - binary_accuracy: 0.7618 - auc: 0.8552 - val_loss: 0.5559 - val_binary_accuracy: 0.7447 - val_auc: 0.8515\n",
      "Epoch 47/200\n",
      "1267/1267 [==============================] - 133s 105ms/step - loss: 0.5534 - binary_accuracy: 0.7614 - auc: 0.8551 - val_loss: 0.5560 - val_binary_accuracy: 0.7519 - val_auc: 0.8524\n",
      "Epoch 48/200\n",
      "1267/1267 [==============================] - 132s 104ms/step - loss: 0.5534 - binary_accuracy: 0.7615 - auc: 0.8552 - val_loss: 0.5551 - val_binary_accuracy: 0.7492 - val_auc: 0.8527\n",
      "Epoch 49/200\n",
      "1267/1267 [==============================] - 136s 107ms/step - loss: 0.5532 - binary_accuracy: 0.7616 - auc: 0.8553 - val_loss: 0.5557 - val_binary_accuracy: 0.7465 - val_auc: 0.8522\n",
      "Epoch 50/200\n",
      "1267/1267 [==============================] - 141s 111ms/step - loss: 0.5533 - binary_accuracy: 0.7613 - auc: 0.8552 - val_loss: 0.5533 - val_binary_accuracy: 0.7523 - val_auc: 0.8548\n",
      "Epoch 51/200\n",
      "1267/1267 [==============================] - 132s 104ms/step - loss: 0.5532 - binary_accuracy: 0.7615 - auc: 0.8553 - val_loss: 0.5538 - val_binary_accuracy: 0.7511 - val_auc: 0.8536\n",
      "Epoch 52/200\n",
      "1267/1267 [==============================] - 130s 102ms/step - loss: 0.5533 - binary_accuracy: 0.7617 - auc: 0.8553 - val_loss: 0.5554 - val_binary_accuracy: 0.7484 - val_auc: 0.8521\n",
      "Epoch 53/200\n",
      "1267/1267 [==============================] - 130s 103ms/step - loss: 0.5532 - binary_accuracy: 0.7616 - auc: 0.8553 - val_loss: 0.5546 - val_binary_accuracy: 0.7497 - val_auc: 0.8544\n"
     ]
    }
   ],
   "source": [
    "model = Sequential()\n",
    "model.add(InputLayer(input_shape=(lookback, norm_train.shape[-1])))\n",
    "model.add(Masking(mask_value=0.))\n",
    "model.add(GRU(256, kernel_regularizer='l2', recurrent_regularizer='l2', bias_regularizer='l2', activity_regularizer='l2', dropout=0.2))\n",
    "model.add(Dense(128, activation='relu', kernel_regularizer='l2', bias_regularizer='l2', activity_regularizer='l2'))\n",
    "model.add(Dense(1, activation='sigmoid', kernel_regularizer='l2', bias_regularizer='l2', activity_regularizer='l2'))\n",
    "\n",
    "model.compile(optimizer=\"Adam\", loss=BinaryCrossentropy(), metrics=[BinaryAccuracy(), AUC()])\n",
    "history = model.fit(train_seq,\n",
    "                    epochs=200,\n",
    "                    validation_data=valid_seq,\n",
    "                    callbacks=[early_stopping, model_checkpoint_callback, logger])"
   ]
  },
  {
   "cell_type": "code",
   "execution_count": 22,
   "id": "c54e03f7-e26b-4559-9856-d824ff8eaeef",
   "metadata": {},
   "outputs": [
    {
     "name": "stderr",
     "output_type": "stream",
     "text": [
      "WARNING:absl:Found untraced functions such as gru_cell_layer_call_fn, gru_cell_layer_call_and_return_conditional_losses, gru_cell_layer_call_fn, gru_cell_layer_call_and_return_conditional_losses, gru_cell_layer_call_and_return_conditional_losses while saving (showing 5 of 5). These functions will not be directly callable after loading.\n"
     ]
    },
    {
     "name": "stdout",
     "output_type": "stream",
     "text": [
      "INFO:tensorflow:Assets written to: models/model.tf\\assets\n"
     ]
    },
    {
     "name": "stderr",
     "output_type": "stream",
     "text": [
      "INFO:tensorflow:Assets written to: models/model.tf\\assets\n"
     ]
    },
    {
     "data": {
      "image/png": "[encoded data removed]",
      "text/plain": [
       "<Figure size 640x480 with 1 Axes>"
      ]
     },
     "metadata": {},
     "output_type": "display_data"
    },
    {
     "data": {
      "image/png": "[encoded data removed]",
      "text/plain": [
       "<Figure size 640x480 with 1 Axes>"
      ]
     },
     "metadata": {},
     "output_type": "display_data"
    }
   ],
   "source": [
    "run_name = \"RNN - test\"\n",
    "additional_description = \"RNN\"\n",
    "with mlflow.start_run(run_name=run_name, description=additional_description) as run:\n",
    "        mlflow.log_param(\"X_train.shape\", norm_train.shape)\n",
    "        mlflow.log_param(\"X_test.shape\", norm_test.shape)\n",
    "        mlflow.log_param(\"Sequence\", lookback)\n",
    "\n",
    "        y_proba = model.predict(test_seq)\n",
    "        y_true = y_test\n",
    "        features_names = cols\n",
    "        metrics = {}\n",
    "        for threshold in np.arange(0.1, 1, 0.05):\n",
    "            y_pred = (y_proba >= threshold).astype(int)\n",
    "            metrics[f\"accuracy_{threshold:.2f}\"] = accuracy_score(y_true=y_true, y_pred=y_pred)\n",
    "            metrics[f\"precision_{threshold:.2f}\"] = precision_score(y_true=y_true, y_pred=y_pred)\n",
    "            metrics[f\"recall_{threshold:.2f}\"] = recall_score(y_true=y_true, y_pred=y_pred)\n",
    "            metrics[f\"f1_{threshold:.2f}\"] = f1_score(y_true=y_true, y_pred=y_pred)\n",
    "        metrics[\"roc_auc\"] = roc_auc_score(y_true=y_true, y_score=y_proba)\n",
    "        metrics[\"log_loss\"] = log_loss(y_true=y_true, y_pred=y_proba)\n",
    "        mlflow.log_metrics(metrics)\n",
    "        \n",
    "        if os.path.exists('artifacts'):\n",
    "            shutil.rmtree('artifacts')\n",
    "            os.makedirs('artifacts')\n",
    "        \n",
    "        if os.path.exists('models'):\n",
    "            shutil.rmtree('models')\n",
    "            os.makedirs('models')\n",
    "            \n",
    "        with open(\"artifacts/features.txt\", 'w') as f:\n",
    "            f.write(str(features_names))\n",
    "            \n",
    "        model.save('models/model.tf')\n",
    "\n",
    "        roc_plot = RocCurveDisplay.from_predictions(y_pred=y_proba, y_true=y_true)\n",
    "        roc_plot.figure_.savefig('artifacts/roc_auc.png')\n",
    "        plt.show()\n",
    "        \n",
    "        calibration_curve = CalibrationDisplay.from_predictions(y_prob=y_proba, y_true=y_true, n_bins=10)\n",
    "        calibration_curve.figure_.savefig('artifacts/calibration_curve.png')\n",
    "        plt.show()\n",
    "        \n",
    "        mlflow.log_artifacts(\"artifacts\", artifact_path=\"plots_data\")\n",
    "        mlflow.log_artifacts(\"models\", artifact_path=\"model\")"
   ]
  }
 ],
 "metadata": {
  "kernelspec": {
   "display_name": "python3 (tf_gpu)",
   "language": "python",
   "name": "conda-env-tf_gpu-py"
  },
  "language_info": {
   "codemirror_mode": {
    "name": "ipython",
    "version": 3
   },
   "file_extension": ".py",
   "mimetype": "text/x-python",
   "name": "python",
   "nbconvert_exporter": "python",
   "pygments_lexer": "ipython3",
   "version": "3.9.13"
  }
 },
 "nbformat": 4,
 "nbformat_minor": 5
}
