{
 "cells": [
  {
   "cell_type": "code",
   "execution_count": 1,
   "id": "61024691-50fd-4fdb-9585-6d72d16c209e",
   "metadata": {},
   "outputs": [
    {
     "name": "stdout",
     "output_type": "stream",
     "text": [
      "Experiment_id: 1\n",
      "Artifact Location: file:///C:/Users/Piotrek/Documents/Inzynierka/csgo-analysis/mlruns/1\n",
      "Tags: {}\n",
      "Lifecycle_stage: active\n"
     ]
    }
   ],
   "source": [
    "%run 0_3_configure_mlflow.ipynb"
   ]
  },
  {
   "cell_type": "code",
   "execution_count": 2,
   "id": "1f701eff-5bab-41d4-9768-ace06e1274a0",
   "metadata": {},
   "outputs": [],
   "source": [
    "import pandas as pd\n",
    "import numpy as np\n",
    "import matplotlib.pyplot as plt\n",
    "import pickle\n",
    "import shap\n",
    "import os\n",
    "import shutil\n",
    "\n",
    "from sklearn.metrics import accuracy_score, precision_score, recall_score, log_loss, f1_score, roc_auc_score, RocCurveDisplay\n",
    "from sklearn.calibration import CalibrationDisplay\n",
    "from sklearn.preprocessing import StandardScaler\n",
    "from sklearn.model_selection import StratifiedKFold, train_test_split\n",
    "from skopt import BayesSearchCV\n",
    "from skopt.space import Real, Categorical, Integer\n",
    "from tensorflow.keras import Sequential\n",
    "from tensorflow.keras.layers import InputLayer, GRU, Dense, Masking, Flatten\n",
    "from tensorflow.keras.losses import BinaryCrossentropy\n",
    "from tensorflow.keras.metrics import AUC, BinaryAccuracy\n",
    "from tensorflow.keras.utils import Sequence\n",
    "from tensorflow.keras.callbacks import EarlyStopping, ModelCheckpoint, CSVLogger"
   ]
  },
  {
   "cell_type": "markdown",
   "id": "d861d74a-b111-4654-add5-d3ccf48e1157",
   "metadata": {},
   "source": [
    "# Wczytanie danych"
   ]
  },
  {
   "cell_type": "code",
   "execution_count": 3,
   "id": "992db637-fab9-4e6e-8b30-60b95a0b1383",
   "metadata": {},
   "outputs": [],
   "source": [
    "def select_feat():\n",
    "    columns = [\n",
    "        'seconds', 'ctAlivePlayers', 'ctEqVal', 'tAlivePlayers', 'tEqVal',\n",
    "       'ct_armor', 't_armor', 'ct_hp', 't_hp', 'ct_hasHelmet', 't_hasHelmet', 'ct_DecoyGrenade',\n",
    "       't_DecoyGrenade', 'ct_Flashbang', 't_Flashbang', 'ct_HEGrenade',\n",
    "       't_HEGrenade', 'ct_SmokeGrenade', 't_SmokeGrenade', 'ct_fireGrenades',\n",
    "       't_fireGrenades', 'ct_isBlinded', 't_isBlinded', 'ct_hasDefuse',\n",
    "       't_hasBomb', 'ct_isDefusing', 't_isPlanting', 'ct_spottedPlayers',\n",
    "       't_spottedPlayers', 'ct_grouppedPlayers',\n",
    "       'ct_meanDist', 'ct_minDist', 't_meanDist','t_minDist',\n",
    "       't_grouppedPlayers', 'ct_conquerMap', 't_conquerMap', 'ct_activeWeapon_Pistol',\n",
    "       'ct_activeWeapon_EnhancedPistols', 'ct_activeWeapon_Deagle',\n",
    "       'ct_activeWeapon_SMG', 'ct_activeWeapon_WeakAssaultRifle',\n",
    "       'ct_activeWeapon_LunetRifle', 'ct_activeWeapon_SniperRifle',\n",
    "       'ct_activeWeapon_AssaultRifle', 'ct_activeWeapon_Others',\n",
    "       't_activeWeapon_Pistol', 't_activeWeapon_EnhancedPistols',\n",
    "       't_activeWeapon_Deagle', 't_activeWeapon_SMG',\n",
    "       't_activeWeapon_WeakAssaultRifle', 't_activeWeapon_LunetRifle',\n",
    "       't_activeWeapon_SniperRifle', 't_activeWeapon_AssaultRifle',\n",
    "       't_activeWeapon_Others', 'ct_mainWeapon_Pistol',\n",
    "       'ct_mainWeapon_EnhancedPistols', 'ct_mainWeapon_Deagle',\n",
    "       'ct_mainWeapon_SMG', 'ct_mainWeapon_WeakAssaultRifle',\n",
    "       'ct_mainWeapon_LunetRifle', 'ct_mainWeapon_SniperRifle',\n",
    "       'ct_mainWeapon_AssaultRifle', 't_mainWeapon_Pistol', 't_mainWeapon_EnhancedPistols',\n",
    "       't_mainWeapon_Deagle', 't_mainWeapon_SMG',\n",
    "       't_mainWeapon_WeakAssaultRifle', 't_mainWeapon_LunetRifle',\n",
    "       't_mainWeapon_SniperRifle', 't_mainWeapon_AssaultRifle', \n",
    "       'ct_secondaryWeapon_Pistol','ct_secondaryWeapon_EnhancedPistols', 'ct_secondaryWeapon_Deagle',\n",
    "       't_secondaryWeapon_Pistol', 't_secondaryWeapon_EnhancedPistols',\n",
    "       't_secondaryWeapon_Deagle', 'ctMinDistToA',\n",
    "       'ctMinDistToB', 'tMinDistToA', 'tMinDistToB', 'ctMeanDistToA',\n",
    "       'ctMeanDistToB', 'tMeanDistToA', 'tMeanDistToB', 'ctMeanKills',\n",
    "       'tMeanKills', 'tScore', 'ctScore', 'de_ancient', \n",
    "       'de_dust2', 'de_inferno', 'de_mirage', 'de_nuke', 'de_overpass',\n",
    "       'de_vertigo','bombsite_A', 'bombsite_B', 'bombsite_not_planted'\n",
    "    ]\n",
    "    return columns"
   ]
  },
  {
   "cell_type": "code",
   "execution_count": 4,
   "id": "92b76881-cf58-4666-bc4e-0d046dca4c1a",
   "metadata": {
    "tags": []
   },
   "outputs": [
    {
     "data": {
      "text/html": [
       "<div>\n",
       "<style scoped>\n",
       "    .dataframe tbody tr th:only-of-type {\n",
       "        vertical-align: middle;\n",
       "    }\n",
       "\n",
       "    .dataframe tbody tr th {\n",
       "        vertical-align: top;\n",
       "    }\n",
       "\n",
       "    .dataframe thead th {\n",
       "        text-align: right;\n",
       "    }\n",
       "</style>\n",
       "<table border=\"1\" class=\"dataframe\">\n",
       "  <thead>\n",
       "    <tr style=\"text-align: right;\">\n",
       "      <th></th>\n",
       "      <th>seconds</th>\n",
       "      <th>ctAlivePlayers</th>\n",
       "      <th>ctEqVal</th>\n",
       "      <th>tAlivePlayers</th>\n",
       "      <th>tEqVal</th>\n",
       "      <th>ct_armor</th>\n",
       "      <th>t_armor</th>\n",
       "      <th>ct_hp</th>\n",
       "      <th>t_hp</th>\n",
       "      <th>ct_hasHelmet</th>\n",
       "      <th>...</th>\n",
       "      <th>de_mirage</th>\n",
       "      <th>de_nuke</th>\n",
       "      <th>de_overpass</th>\n",
       "      <th>de_vertigo</th>\n",
       "      <th>bombsite_A</th>\n",
       "      <th>bombsite_B</th>\n",
       "      <th>bombsite_not_planted</th>\n",
       "      <th>matchName</th>\n",
       "      <th>demoId</th>\n",
       "      <th>roundNum</th>\n",
       "    </tr>\n",
       "  </thead>\n",
       "  <tbody>\n",
       "    <tr>\n",
       "      <th>0</th>\n",
       "      <td>0.007874</td>\n",
       "      <td>5</td>\n",
       "      <td>4400</td>\n",
       "      <td>5</td>\n",
       "      <td>4250</td>\n",
       "      <td>400</td>\n",
       "      <td>300</td>\n",
       "      <td>500</td>\n",
       "      <td>500</td>\n",
       "      <td>0</td>\n",
       "      <td>...</td>\n",
       "      <td>0</td>\n",
       "      <td>1</td>\n",
       "      <td>0</td>\n",
       "      <td>0</td>\n",
       "      <td>0</td>\n",
       "      <td>0</td>\n",
       "      <td>1</td>\n",
       "      <td>heroic-vs-big-iem-katowice-2021</td>\n",
       "      <td>00330e8b-ba01-4d3f-a6c1-66881b879dac</td>\n",
       "      <td>1</td>\n",
       "    </tr>\n",
       "    <tr>\n",
       "      <th>1</th>\n",
       "      <td>0.511811</td>\n",
       "      <td>5</td>\n",
       "      <td>4400</td>\n",
       "      <td>5</td>\n",
       "      <td>4250</td>\n",
       "      <td>400</td>\n",
       "      <td>300</td>\n",
       "      <td>500</td>\n",
       "      <td>500</td>\n",
       "      <td>0</td>\n",
       "      <td>...</td>\n",
       "      <td>0</td>\n",
       "      <td>1</td>\n",
       "      <td>0</td>\n",
       "      <td>0</td>\n",
       "      <td>0</td>\n",
       "      <td>0</td>\n",
       "      <td>1</td>\n",
       "      <td>heroic-vs-big-iem-katowice-2021</td>\n",
       "      <td>00330e8b-ba01-4d3f-a6c1-66881b879dac</td>\n",
       "      <td>1</td>\n",
       "    </tr>\n",
       "    <tr>\n",
       "      <th>2</th>\n",
       "      <td>1.015748</td>\n",
       "      <td>5</td>\n",
       "      <td>4400</td>\n",
       "      <td>5</td>\n",
       "      <td>4250</td>\n",
       "      <td>400</td>\n",
       "      <td>300</td>\n",
       "      <td>500</td>\n",
       "      <td>500</td>\n",
       "      <td>0</td>\n",
       "      <td>...</td>\n",
       "      <td>0</td>\n",
       "      <td>1</td>\n",
       "      <td>0</td>\n",
       "      <td>0</td>\n",
       "      <td>0</td>\n",
       "      <td>0</td>\n",
       "      <td>1</td>\n",
       "      <td>heroic-vs-big-iem-katowice-2021</td>\n",
       "      <td>00330e8b-ba01-4d3f-a6c1-66881b879dac</td>\n",
       "      <td>1</td>\n",
       "    </tr>\n",
       "    <tr>\n",
       "      <th>3</th>\n",
       "      <td>1.519685</td>\n",
       "      <td>5</td>\n",
       "      <td>4400</td>\n",
       "      <td>5</td>\n",
       "      <td>4250</td>\n",
       "      <td>400</td>\n",
       "      <td>300</td>\n",
       "      <td>500</td>\n",
       "      <td>500</td>\n",
       "      <td>0</td>\n",
       "      <td>...</td>\n",
       "      <td>0</td>\n",
       "      <td>1</td>\n",
       "      <td>0</td>\n",
       "      <td>0</td>\n",
       "      <td>0</td>\n",
       "      <td>0</td>\n",
       "      <td>1</td>\n",
       "      <td>heroic-vs-big-iem-katowice-2021</td>\n",
       "      <td>00330e8b-ba01-4d3f-a6c1-66881b879dac</td>\n",
       "      <td>1</td>\n",
       "    </tr>\n",
       "    <tr>\n",
       "      <th>4</th>\n",
       "      <td>2.023622</td>\n",
       "      <td>5</td>\n",
       "      <td>4400</td>\n",
       "      <td>5</td>\n",
       "      <td>4250</td>\n",
       "      <td>400</td>\n",
       "      <td>300</td>\n",
       "      <td>500</td>\n",
       "      <td>500</td>\n",
       "      <td>0</td>\n",
       "      <td>...</td>\n",
       "      <td>0</td>\n",
       "      <td>1</td>\n",
       "      <td>0</td>\n",
       "      <td>0</td>\n",
       "      <td>0</td>\n",
       "      <td>0</td>\n",
       "      <td>1</td>\n",
       "      <td>heroic-vs-big-iem-katowice-2021</td>\n",
       "      <td>00330e8b-ba01-4d3f-a6c1-66881b879dac</td>\n",
       "      <td>1</td>\n",
       "    </tr>\n",
       "    <tr>\n",
       "      <th>...</th>\n",
       "      <td>...</td>\n",
       "      <td>...</td>\n",
       "      <td>...</td>\n",
       "      <td>...</td>\n",
       "      <td>...</td>\n",
       "      <td>...</td>\n",
       "      <td>...</td>\n",
       "      <td>...</td>\n",
       "      <td>...</td>\n",
       "      <td>...</td>\n",
       "      <td>...</td>\n",
       "      <td>...</td>\n",
       "      <td>...</td>\n",
       "      <td>...</td>\n",
       "      <td>...</td>\n",
       "      <td>...</td>\n",
       "      <td>...</td>\n",
       "      <td>...</td>\n",
       "      <td>...</td>\n",
       "      <td>...</td>\n",
       "      <td>...</td>\n",
       "    </tr>\n",
       "    <tr>\n",
       "      <th>7464293</th>\n",
       "      <td>81.464567</td>\n",
       "      <td>3</td>\n",
       "      <td>26800</td>\n",
       "      <td>1</td>\n",
       "      <td>24300</td>\n",
       "      <td>290</td>\n",
       "      <td>94</td>\n",
       "      <td>233</td>\n",
       "      <td>74</td>\n",
       "      <td>3</td>\n",
       "      <td>...</td>\n",
       "      <td>0</td>\n",
       "      <td>0</td>\n",
       "      <td>0</td>\n",
       "      <td>1</td>\n",
       "      <td>0</td>\n",
       "      <td>0</td>\n",
       "      <td>1</td>\n",
       "      <td>spirit-vs-copenhagen-flames-pgl-major-antwerp-...</td>\n",
       "      <td>ff910f54-0bed-4fdf-afa8-b481be09a788</td>\n",
       "      <td>26</td>\n",
       "    </tr>\n",
       "    <tr>\n",
       "      <th>7464294</th>\n",
       "      <td>81.968504</td>\n",
       "      <td>3</td>\n",
       "      <td>26800</td>\n",
       "      <td>1</td>\n",
       "      <td>24300</td>\n",
       "      <td>290</td>\n",
       "      <td>94</td>\n",
       "      <td>233</td>\n",
       "      <td>74</td>\n",
       "      <td>3</td>\n",
       "      <td>...</td>\n",
       "      <td>0</td>\n",
       "      <td>0</td>\n",
       "      <td>0</td>\n",
       "      <td>1</td>\n",
       "      <td>0</td>\n",
       "      <td>0</td>\n",
       "      <td>1</td>\n",
       "      <td>spirit-vs-copenhagen-flames-pgl-major-antwerp-...</td>\n",
       "      <td>ff910f54-0bed-4fdf-afa8-b481be09a788</td>\n",
       "      <td>26</td>\n",
       "    </tr>\n",
       "    <tr>\n",
       "      <th>7464295</th>\n",
       "      <td>82.472441</td>\n",
       "      <td>3</td>\n",
       "      <td>26800</td>\n",
       "      <td>1</td>\n",
       "      <td>24300</td>\n",
       "      <td>286</td>\n",
       "      <td>94</td>\n",
       "      <td>206</td>\n",
       "      <td>74</td>\n",
       "      <td>3</td>\n",
       "      <td>...</td>\n",
       "      <td>0</td>\n",
       "      <td>0</td>\n",
       "      <td>0</td>\n",
       "      <td>1</td>\n",
       "      <td>0</td>\n",
       "      <td>0</td>\n",
       "      <td>1</td>\n",
       "      <td>spirit-vs-copenhagen-flames-pgl-major-antwerp-...</td>\n",
       "      <td>ff910f54-0bed-4fdf-afa8-b481be09a788</td>\n",
       "      <td>26</td>\n",
       "    </tr>\n",
       "    <tr>\n",
       "      <th>7464296</th>\n",
       "      <td>82.976378</td>\n",
       "      <td>2</td>\n",
       "      <td>26800</td>\n",
       "      <td>1</td>\n",
       "      <td>24300</td>\n",
       "      <td>194</td>\n",
       "      <td>94</td>\n",
       "      <td>159</td>\n",
       "      <td>74</td>\n",
       "      <td>2</td>\n",
       "      <td>...</td>\n",
       "      <td>0</td>\n",
       "      <td>0</td>\n",
       "      <td>0</td>\n",
       "      <td>1</td>\n",
       "      <td>0</td>\n",
       "      <td>0</td>\n",
       "      <td>1</td>\n",
       "      <td>spirit-vs-copenhagen-flames-pgl-major-antwerp-...</td>\n",
       "      <td>ff910f54-0bed-4fdf-afa8-b481be09a788</td>\n",
       "      <td>26</td>\n",
       "    </tr>\n",
       "    <tr>\n",
       "      <th>7464297</th>\n",
       "      <td>83.480315</td>\n",
       "      <td>2</td>\n",
       "      <td>26800</td>\n",
       "      <td>1</td>\n",
       "      <td>24300</td>\n",
       "      <td>194</td>\n",
       "      <td>90</td>\n",
       "      <td>159</td>\n",
       "      <td>47</td>\n",
       "      <td>2</td>\n",
       "      <td>...</td>\n",
       "      <td>0</td>\n",
       "      <td>0</td>\n",
       "      <td>0</td>\n",
       "      <td>1</td>\n",
       "      <td>0</td>\n",
       "      <td>0</td>\n",
       "      <td>1</td>\n",
       "      <td>spirit-vs-copenhagen-flames-pgl-major-antwerp-...</td>\n",
       "      <td>ff910f54-0bed-4fdf-afa8-b481be09a788</td>\n",
       "      <td>26</td>\n",
       "    </tr>\n",
       "  </tbody>\n",
       "</table>\n",
       "<p>7464298 rows × 102 columns</p>\n",
       "</div>"
      ],
      "text/plain": [
       "           seconds  ctAlivePlayers  ctEqVal  tAlivePlayers  tEqVal  ct_armor  \\\n",
       "0         0.007874               5     4400              5    4250       400   \n",
       "1         0.511811               5     4400              5    4250       400   \n",
       "2         1.015748               5     4400              5    4250       400   \n",
       "3         1.519685               5     4400              5    4250       400   \n",
       "4         2.023622               5     4400              5    4250       400   \n",
       "...            ...             ...      ...            ...     ...       ...   \n",
       "7464293  81.464567               3    26800              1   24300       290   \n",
       "7464294  81.968504               3    26800              1   24300       290   \n",
       "7464295  82.472441               3    26800              1   24300       286   \n",
       "7464296  82.976378               2    26800              1   24300       194   \n",
       "7464297  83.480315               2    26800              1   24300       194   \n",
       "\n",
       "         t_armor  ct_hp  t_hp  ct_hasHelmet  ...  de_mirage  de_nuke  \\\n",
       "0            300    500   500             0  ...          0        1   \n",
       "1            300    500   500             0  ...          0        1   \n",
       "2            300    500   500             0  ...          0        1   \n",
       "3            300    500   500             0  ...          0        1   \n",
       "4            300    500   500             0  ...          0        1   \n",
       "...          ...    ...   ...           ...  ...        ...      ...   \n",
       "7464293       94    233    74             3  ...          0        0   \n",
       "7464294       94    233    74             3  ...          0        0   \n",
       "7464295       94    206    74             3  ...          0        0   \n",
       "7464296       94    159    74             2  ...          0        0   \n",
       "7464297       90    159    47             2  ...          0        0   \n",
       "\n",
       "         de_overpass  de_vertigo  bombsite_A  bombsite_B  \\\n",
       "0                  0           0           0           0   \n",
       "1                  0           0           0           0   \n",
       "2                  0           0           0           0   \n",
       "3                  0           0           0           0   \n",
       "4                  0           0           0           0   \n",
       "...              ...         ...         ...         ...   \n",
       "7464293            0           1           0           0   \n",
       "7464294            0           1           0           0   \n",
       "7464295            0           1           0           0   \n",
       "7464296            0           1           0           0   \n",
       "7464297            0           1           0           0   \n",
       "\n",
       "         bombsite_not_planted  \\\n",
       "0                           1   \n",
       "1                           1   \n",
       "2                           1   \n",
       "3                           1   \n",
       "4                           1   \n",
       "...                       ...   \n",
       "7464293                     1   \n",
       "7464294                     1   \n",
       "7464295                     1   \n",
       "7464296                     1   \n",
       "7464297                     1   \n",
       "\n",
       "                                                 matchName  \\\n",
       "0                          heroic-vs-big-iem-katowice-2021   \n",
       "1                          heroic-vs-big-iem-katowice-2021   \n",
       "2                          heroic-vs-big-iem-katowice-2021   \n",
       "3                          heroic-vs-big-iem-katowice-2021   \n",
       "4                          heroic-vs-big-iem-katowice-2021   \n",
       "...                                                    ...   \n",
       "7464293  spirit-vs-copenhagen-flames-pgl-major-antwerp-...   \n",
       "7464294  spirit-vs-copenhagen-flames-pgl-major-antwerp-...   \n",
       "7464295  spirit-vs-copenhagen-flames-pgl-major-antwerp-...   \n",
       "7464296  spirit-vs-copenhagen-flames-pgl-major-antwerp-...   \n",
       "7464297  spirit-vs-copenhagen-flames-pgl-major-antwerp-...   \n",
       "\n",
       "                                       demoId  roundNum  \n",
       "0        00330e8b-ba01-4d3f-a6c1-66881b879dac         1  \n",
       "1        00330e8b-ba01-4d3f-a6c1-66881b879dac         1  \n",
       "2        00330e8b-ba01-4d3f-a6c1-66881b879dac         1  \n",
       "3        00330e8b-ba01-4d3f-a6c1-66881b879dac         1  \n",
       "4        00330e8b-ba01-4d3f-a6c1-66881b879dac         1  \n",
       "...                                       ...       ...  \n",
       "7464293  ff910f54-0bed-4fdf-afa8-b481be09a788        26  \n",
       "7464294  ff910f54-0bed-4fdf-afa8-b481be09a788        26  \n",
       "7464295  ff910f54-0bed-4fdf-afa8-b481be09a788        26  \n",
       "7464296  ff910f54-0bed-4fdf-afa8-b481be09a788        26  \n",
       "7464297  ff910f54-0bed-4fdf-afa8-b481be09a788        26  \n",
       "\n",
       "[7464298 rows x 102 columns]"
      ]
     },
     "execution_count": 4,
     "metadata": {},
     "output_type": "execute_result"
    }
   ],
   "source": [
    "df = pd.read_parquet('data/ESTA_states_prepared.parquet', columns=select_feat() + ['matchName', 'demoId', 'roundNum'])\n",
    "df"
   ]
  },
  {
   "cell_type": "code",
   "execution_count": 5,
   "id": "770bba4a-7798-44f8-a9bd-9c29e6649eb2",
   "metadata": {},
   "outputs": [
    {
     "name": "stdout",
     "output_type": "stream",
     "text": [
      "<class 'pandas.core.frame.DataFrame'>\n",
      "Int64Index: 7464298 entries, 0 to 7464297\n",
      "Columns: 102 entries, seconds to roundNum\n",
      "dtypes: float64(17), int32(6), int64(67), object(2), uint8(10)\n",
      "memory usage: 5.1+ GB\n"
     ]
    }
   ],
   "source": [
    "df.info()"
   ]
  },
  {
   "cell_type": "code",
   "execution_count": 6,
   "id": "4578a3bd-6a13-4484-90ba-79d24522e6fa",
   "metadata": {},
   "outputs": [],
   "source": [
    "y = pd.read_parquet(\"data/ESTA_states_prepared.parquet\", columns=[\"matchName\", \"winningSideCT\"])"
   ]
  },
  {
   "cell_type": "markdown",
   "id": "b3cd90fd-cb40-4687-bd6a-ae6249690087",
   "metadata": {},
   "source": [
    "## All dataset"
   ]
  },
  {
   "cell_type": "code",
   "execution_count": 7,
   "id": "4587797f-d5dc-4caf-9337-ab11abbbc443",
   "metadata": {},
   "outputs": [
    {
     "name": "stdout",
     "output_type": "stream",
     "text": [
      "<class 'pandas.core.frame.DataFrame'>\n",
      "RangeIndex: 7137130 entries, 0 to 7137129\n",
      "Columns: 102 entries, seconds to roundNum\n",
      "dtypes: float64(17), int32(6), int64(67), object(2), uint8(10)\n",
      "memory usage: 4.8+ GB\n"
     ]
    }
   ],
   "source": [
    "filtr = ~df.matchName.str.endswith(\"iem-katowice-2022\")\n",
    "df = df[filtr].reset_index(drop=True)\n",
    "df.info()"
   ]
  },
  {
   "cell_type": "code",
   "execution_count": 8,
   "id": "e40414be-c1a5-401e-ba44-6f7bd509c0a7",
   "metadata": {},
   "outputs": [
    {
     "data": {
      "text/html": [
       "<div>\n",
       "<style scoped>\n",
       "    .dataframe tbody tr th:only-of-type {\n",
       "        vertical-align: middle;\n",
       "    }\n",
       "\n",
       "    .dataframe tbody tr th {\n",
       "        vertical-align: top;\n",
       "    }\n",
       "\n",
       "    .dataframe thead th {\n",
       "        text-align: right;\n",
       "    }\n",
       "</style>\n",
       "<table border=\"1\" class=\"dataframe\">\n",
       "  <thead>\n",
       "    <tr style=\"text-align: right;\">\n",
       "      <th></th>\n",
       "      <th>winningSideCT</th>\n",
       "    </tr>\n",
       "  </thead>\n",
       "  <tbody>\n",
       "    <tr>\n",
       "      <th>0</th>\n",
       "      <td>0</td>\n",
       "    </tr>\n",
       "    <tr>\n",
       "      <th>1</th>\n",
       "      <td>0</td>\n",
       "    </tr>\n",
       "    <tr>\n",
       "      <th>2</th>\n",
       "      <td>0</td>\n",
       "    </tr>\n",
       "    <tr>\n",
       "      <th>3</th>\n",
       "      <td>0</td>\n",
       "    </tr>\n",
       "    <tr>\n",
       "      <th>4</th>\n",
       "      <td>0</td>\n",
       "    </tr>\n",
       "    <tr>\n",
       "      <th>...</th>\n",
       "      <td>...</td>\n",
       "    </tr>\n",
       "    <tr>\n",
       "      <th>7137125</th>\n",
       "      <td>1</td>\n",
       "    </tr>\n",
       "    <tr>\n",
       "      <th>7137126</th>\n",
       "      <td>1</td>\n",
       "    </tr>\n",
       "    <tr>\n",
       "      <th>7137127</th>\n",
       "      <td>1</td>\n",
       "    </tr>\n",
       "    <tr>\n",
       "      <th>7137128</th>\n",
       "      <td>1</td>\n",
       "    </tr>\n",
       "    <tr>\n",
       "      <th>7137129</th>\n",
       "      <td>1</td>\n",
       "    </tr>\n",
       "  </tbody>\n",
       "</table>\n",
       "<p>7137130 rows × 1 columns</p>\n",
       "</div>"
      ],
      "text/plain": [
       "         winningSideCT\n",
       "0                    0\n",
       "1                    0\n",
       "2                    0\n",
       "3                    0\n",
       "4                    0\n",
       "...                ...\n",
       "7137125              1\n",
       "7137126              1\n",
       "7137127              1\n",
       "7137128              1\n",
       "7137129              1\n",
       "\n",
       "[7137130 rows x 1 columns]"
      ]
     },
     "execution_count": 8,
     "metadata": {},
     "output_type": "execute_result"
    }
   ],
   "source": [
    "y = y[filtr].drop(['matchName'], axis='columns')\n",
    "y = y.reset_index(drop=True)\n",
    "y"
   ]
  },
  {
   "cell_type": "code",
   "execution_count": 9,
   "id": "a4d3159d-f32c-4d5a-852c-51702d4127b0",
   "metadata": {
    "tags": []
   },
   "outputs": [
    {
     "data": {
      "text/plain": [
       "1494"
      ]
     },
     "execution_count": 9,
     "metadata": {},
     "output_type": "execute_result"
    }
   ],
   "source": [
    "groupped = df.groupby(['demoId'])\n",
    "samples_indexes = groupped.indices\n",
    "len(samples_indexes)"
   ]
  },
  {
   "cell_type": "code",
   "execution_count": 10,
   "id": "9e0e4347-c54a-4603-a2e0-d0dc48c8a1ea",
   "metadata": {},
   "outputs": [
    {
     "data": {
      "text/plain": [
       "((5709205,), (1427925,))"
      ]
     },
     "execution_count": 10,
     "metadata": {},
     "output_type": "execute_result"
    }
   ],
   "source": [
    "maps = len(samples_indexes.keys())\n",
    "np.random.seed(12)\n",
    "train_ind = np.random.choice(maps, size=int(0.8*maps), replace=False)\n",
    "train_indexes = np.array([])\n",
    "valid_indexes = np.array([])\n",
    "for i, key in enumerate(samples_indexes):\n",
    "    if i in train_ind:\n",
    "        train_indexes = np.concatenate((train_indexes, samples_indexes[key]))\n",
    "    else:\n",
    "        valid_indexes = np.concatenate((valid_indexes, samples_indexes[key]))\n",
    "\n",
    "train_indexes.shape, valid_indexes.shape"
   ]
  },
  {
   "cell_type": "code",
   "execution_count": 11,
   "id": "75532030-1729-42a1-a275-1bfda4a97cb0",
   "metadata": {},
   "outputs": [
    {
     "data": {
      "text/plain": [
       "((7137130, 99), (7137130,))"
      ]
     },
     "execution_count": 11,
     "metadata": {},
     "output_type": "execute_result"
    }
   ],
   "source": [
    "X = df.drop(['demoId', 'roundNum', 'matchName'], axis='columns')\n",
    "y = y.squeeze()\n",
    "X.shape, y.shape"
   ]
  },
  {
   "cell_type": "code",
   "execution_count": 12,
   "id": "88ab23db-e3f7-4763-a041-bff407cfe105",
   "metadata": {},
   "outputs": [
    {
     "data": {
      "text/plain": [
       "((5709205, 99), (1427925, 99))"
      ]
     },
     "execution_count": 12,
     "metadata": {},
     "output_type": "execute_result"
    }
   ],
   "source": [
    "X_train, y_train = X.iloc[train_indexes], y.iloc[train_indexes]\n",
    "X_val, y_val = X.iloc[valid_indexes], y.iloc[valid_indexes]\n",
    "X_train.shape, X_val.shape"
   ]
  },
  {
   "cell_type": "code",
   "execution_count": 13,
   "id": "6277603c-29f3-4a03-bc67-bda488962bb7",
   "metadata": {},
   "outputs": [
    {
     "data": {
      "text/plain": [
       "(620392, 99)"
      ]
     },
     "execution_count": 13,
     "metadata": {},
     "output_type": "execute_result"
    }
   ],
   "source": [
    "X_test = pd.read_parquet(\"data/states_another_mod_test.parquet\", columns=select_feat())\n",
    "y_test = pd.read_parquet(\"data/states_another_mod_test.parquet\", columns=[\"winningSideCT\"])\n",
    "y_test = y_test.squeeze()\n",
    "X_test.shape"
   ]
  },
  {
   "cell_type": "code",
   "execution_count": 14,
   "id": "9c500ba1-4640-4815-a54f-15c03c74c07b",
   "metadata": {},
   "outputs": [
    {
     "data": {
      "text/plain": [
       "(1    0.518687\n",
       " 0    0.481313\n",
       " Name: winningSideCT, dtype: float64,\n",
       " 1    0.522383\n",
       " 0    0.477617\n",
       " Name: winningSideCT, dtype: float64,\n",
       " 1    0.5046\n",
       " 0    0.4954\n",
       " Name: winningSideCT, dtype: float64)"
      ]
     },
     "execution_count": 14,
     "metadata": {},
     "output_type": "execute_result"
    }
   ],
   "source": [
    "y_train.value_counts(normalize=True), y_val.value_counts(normalize=True), y_test.value_counts(normalize=True)"
   ]
  },
  {
   "cell_type": "code",
   "execution_count": 15,
   "id": "d8046a85-ae43-470a-b4ba-63e4d8ce6910",
   "metadata": {},
   "outputs": [],
   "source": [
    "cols = X_train.columns.tolist()\n",
    "scaler = StandardScaler()\n",
    "norm_train = scaler.fit_transform(X_train)\n",
    "norm_valid = scaler.transform(X_val)\n",
    "norm_test = scaler.transform(X_test)"
   ]
  },
  {
   "cell_type": "code",
   "execution_count": 16,
   "id": "c2ce6981-1618-4d49-8a50-3953ab1aa44a",
   "metadata": {},
   "outputs": [],
   "source": [
    "os.makedirs(\"model_deep\", exist_ok=True)"
   ]
  },
  {
   "cell_type": "code",
   "execution_count": 17,
   "id": "b9315cf1-6ec4-476c-a8e0-1c6d7adecb6d",
   "metadata": {},
   "outputs": [],
   "source": [
    "early_stopping = EarlyStopping(\n",
    "    monitor='val_loss',\n",
    "    min_delta=0.0001,\n",
    "    patience=30,\n",
    "    verbose=0,\n",
    "    mode='min',\n",
    "    baseline=None,\n",
    "    restore_best_weights=True,\n",
    ")\n",
    "\n",
    "model_checkpoint_callback = ModelCheckpoint(\n",
    "    filepath=\"model_deep/multi_layer.tf\",\n",
    "    monitor='val_loss',\n",
    "    mode='min',\n",
    "    save_best_only=True)\n",
    "\n",
    "logger = CSVLogger(\n",
    "    \"model_deep/perceptron_log.csv\", separator=',', append=True\n",
    ")"
   ]
  },
  {
   "cell_type": "code",
   "execution_count": 18,
   "id": "bfe1d499-cf88-416d-b37d-120ab2335e75",
   "metadata": {
    "tags": []
   },
   "outputs": [
    {
     "name": "stdout",
     "output_type": "stream",
     "text": [
      "Epoch 1/1000\n",
      "2788/2788 [==============================] - 13s 4ms/step - loss: 0.5008 - binary_accuracy: 0.7609 - auc: 0.8597 - val_loss: 0.4686 - val_binary_accuracy: 0.7666 - val_auc: 0.8631\n",
      "INFO:tensorflow:Assets written to: model_deep\\multi_layer.tf\\assets\n",
      "Epoch 2/1000\n",
      "2788/2788 [==============================] - 10s 4ms/step - loss: 0.4735 - binary_accuracy: 0.7610 - auc: 0.8601 - val_loss: 0.4686 - val_binary_accuracy: 0.7619 - val_auc: 0.8630\n",
      "INFO:tensorflow:Assets written to: model_deep\\multi_layer.tf\\assets\n",
      "Epoch 3/1000\n",
      "2788/2788 [==============================] - 10s 4ms/step - loss: 0.4731 - binary_accuracy: 0.7611 - auc: 0.8601 - val_loss: 0.4674 - val_binary_accuracy: 0.7677 - val_auc: 0.8636\n",
      "INFO:tensorflow:Assets written to: model_deep\\multi_layer.tf\\assets\n",
      "Epoch 4/1000\n",
      "2788/2788 [==============================] - 10s 4ms/step - loss: 0.4729 - binary_accuracy: 0.7610 - auc: 0.8601 - val_loss: 0.4687 - val_binary_accuracy: 0.7623 - val_auc: 0.8630\n",
      "Epoch 5/1000\n",
      "2788/2788 [==============================] - 10s 4ms/step - loss: 0.4728 - binary_accuracy: 0.7610 - auc: 0.8601 - val_loss: 0.4686 - val_binary_accuracy: 0.7628 - val_auc: 0.8630\n",
      "Epoch 6/1000\n",
      "2788/2788 [==============================] - 10s 4ms/step - loss: 0.4727 - binary_accuracy: 0.7611 - auc: 0.8602 - val_loss: 0.4662 - val_binary_accuracy: 0.7680 - val_auc: 0.8646\n",
      "INFO:tensorflow:Assets written to: model_deep\\multi_layer.tf\\assets\n",
      "Epoch 7/1000\n",
      "2788/2788 [==============================] - 10s 3ms/step - loss: 0.4726 - binary_accuracy: 0.7611 - auc: 0.8602 - val_loss: 0.4671 - val_binary_accuracy: 0.7654 - val_auc: 0.8637\n",
      "Epoch 8/1000\n",
      "2788/2788 [==============================] - 10s 4ms/step - loss: 0.4726 - binary_accuracy: 0.7612 - auc: 0.8602 - val_loss: 0.4669 - val_binary_accuracy: 0.7660 - val_auc: 0.8637\n",
      "Epoch 9/1000\n",
      "2788/2788 [==============================] - 10s 4ms/step - loss: 0.4725 - binary_accuracy: 0.7611 - auc: 0.8602 - val_loss: 0.4679 - val_binary_accuracy: 0.7648 - val_auc: 0.8630\n",
      "Epoch 10/1000\n",
      "2788/2788 [==============================] - 10s 4ms/step - loss: 0.4725 - binary_accuracy: 0.7611 - auc: 0.8602 - val_loss: 0.4678 - val_binary_accuracy: 0.7630 - val_auc: 0.8633\n",
      "Epoch 11/1000\n",
      "2788/2788 [==============================] - 10s 4ms/step - loss: 0.4725 - binary_accuracy: 0.7611 - auc: 0.8602 - val_loss: 0.4673 - val_binary_accuracy: 0.7648 - val_auc: 0.8628\n",
      "Epoch 12/1000\n",
      "2788/2788 [==============================] - 10s 4ms/step - loss: 0.4724 - binary_accuracy: 0.7611 - auc: 0.8602 - val_loss: 0.4668 - val_binary_accuracy: 0.7669 - val_auc: 0.8638\n",
      "Epoch 13/1000\n",
      "2788/2788 [==============================] - 10s 4ms/step - loss: 0.4724 - binary_accuracy: 0.7611 - auc: 0.8602 - val_loss: 0.4672 - val_binary_accuracy: 0.7659 - val_auc: 0.8634\n",
      "Epoch 14/1000\n",
      "2788/2788 [==============================] - 10s 4ms/step - loss: 0.4723 - binary_accuracy: 0.7612 - auc: 0.8602 - val_loss: 0.4684 - val_binary_accuracy: 0.7669 - val_auc: 0.8630\n",
      "Epoch 15/1000\n",
      "2788/2788 [==============================] - 10s 4ms/step - loss: 0.4723 - binary_accuracy: 0.7612 - auc: 0.8603 - val_loss: 0.4667 - val_binary_accuracy: 0.7669 - val_auc: 0.8640\n",
      "Epoch 16/1000\n",
      "2788/2788 [==============================] - 10s 4ms/step - loss: 0.4723 - binary_accuracy: 0.7612 - auc: 0.8603 - val_loss: 0.4676 - val_binary_accuracy: 0.7617 - val_auc: 0.8627\n",
      "Epoch 17/1000\n",
      "2788/2788 [==============================] - 10s 4ms/step - loss: 0.4722 - binary_accuracy: 0.7613 - auc: 0.8603 - val_loss: 0.4667 - val_binary_accuracy: 0.7642 - val_auc: 0.8637\n",
      "Epoch 18/1000\n",
      "2788/2788 [==============================] - 10s 4ms/step - loss: 0.4722 - binary_accuracy: 0.7612 - auc: 0.8603 - val_loss: 0.4667 - val_binary_accuracy: 0.7664 - val_auc: 0.8638\n",
      "Epoch 19/1000\n",
      "2788/2788 [==============================] - 10s 4ms/step - loss: 0.4722 - binary_accuracy: 0.7611 - auc: 0.8603 - val_loss: 0.4663 - val_binary_accuracy: 0.7663 - val_auc: 0.8641\n",
      "Epoch 20/1000\n",
      "2788/2788 [==============================] - 10s 4ms/step - loss: 0.4722 - binary_accuracy: 0.7613 - auc: 0.8603 - val_loss: 0.4673 - val_binary_accuracy: 0.7641 - val_auc: 0.8633\n",
      "Epoch 21/1000\n",
      "2788/2788 [==============================] - 10s 4ms/step - loss: 0.4722 - binary_accuracy: 0.7613 - auc: 0.8604 - val_loss: 0.4673 - val_binary_accuracy: 0.7648 - val_auc: 0.8632\n",
      "Epoch 22/1000\n",
      "2788/2788 [==============================] - 10s 4ms/step - loss: 0.4722 - binary_accuracy: 0.7613 - auc: 0.8603 - val_loss: 0.4665 - val_binary_accuracy: 0.7674 - val_auc: 0.8637\n",
      "Epoch 23/1000\n",
      "2788/2788 [==============================] - 10s 4ms/step - loss: 0.4721 - binary_accuracy: 0.7614 - auc: 0.8604 - val_loss: 0.4670 - val_binary_accuracy: 0.7651 - val_auc: 0.8633\n",
      "Epoch 24/1000\n",
      "2788/2788 [==============================] - 10s 4ms/step - loss: 0.4721 - binary_accuracy: 0.7613 - auc: 0.8604 - val_loss: 0.4674 - val_binary_accuracy: 0.7662 - val_auc: 0.8634\n",
      "Epoch 25/1000\n",
      "2788/2788 [==============================] - 10s 4ms/step - loss: 0.4721 - binary_accuracy: 0.7613 - auc: 0.8604 - val_loss: 0.4667 - val_binary_accuracy: 0.7652 - val_auc: 0.8638\n",
      "Epoch 26/1000\n",
      "2788/2788 [==============================] - 10s 4ms/step - loss: 0.4721 - binary_accuracy: 0.7613 - auc: 0.8604 - val_loss: 0.4671 - val_binary_accuracy: 0.7666 - val_auc: 0.8634\n",
      "Epoch 27/1000\n",
      "2788/2788 [==============================] - 10s 4ms/step - loss: 0.4721 - binary_accuracy: 0.7614 - auc: 0.8604 - val_loss: 0.4665 - val_binary_accuracy: 0.7670 - val_auc: 0.8637\n",
      "Epoch 28/1000\n",
      "2788/2788 [==============================] - 10s 4ms/step - loss: 0.4721 - binary_accuracy: 0.7613 - auc: 0.8604 - val_loss: 0.4669 - val_binary_accuracy: 0.7659 - val_auc: 0.8636\n",
      "Epoch 29/1000\n",
      "2788/2788 [==============================] - 10s 4ms/step - loss: 0.4721 - binary_accuracy: 0.7614 - auc: 0.8604 - val_loss: 0.4678 - val_binary_accuracy: 0.7632 - val_auc: 0.8628\n",
      "Epoch 30/1000\n",
      "2788/2788 [==============================] - 10s 4ms/step - loss: 0.4721 - binary_accuracy: 0.7613 - auc: 0.8604 - val_loss: 0.4667 - val_binary_accuracy: 0.7664 - val_auc: 0.8639\n",
      "Epoch 31/1000\n",
      "2788/2788 [==============================] - 10s 4ms/step - loss: 0.4721 - binary_accuracy: 0.7614 - auc: 0.8604 - val_loss: 0.4668 - val_binary_accuracy: 0.7664 - val_auc: 0.8637\n",
      "Epoch 32/1000\n",
      "2788/2788 [==============================] - 10s 4ms/step - loss: 0.4721 - binary_accuracy: 0.7614 - auc: 0.8604 - val_loss: 0.4674 - val_binary_accuracy: 0.7649 - val_auc: 0.8634\n",
      "Epoch 33/1000\n",
      "2788/2788 [==============================] - 10s 4ms/step - loss: 0.4720 - binary_accuracy: 0.7614 - auc: 0.8604 - val_loss: 0.4674 - val_binary_accuracy: 0.7661 - val_auc: 0.8631\n",
      "Epoch 34/1000\n",
      "2788/2788 [==============================] - 10s 4ms/step - loss: 0.4720 - binary_accuracy: 0.7615 - auc: 0.8604 - val_loss: 0.4676 - val_binary_accuracy: 0.7656 - val_auc: 0.8629\n",
      "Epoch 35/1000\n",
      "2788/2788 [==============================] - 10s 4ms/step - loss: 0.4720 - binary_accuracy: 0.7614 - auc: 0.8605 - val_loss: 0.4669 - val_binary_accuracy: 0.7642 - val_auc: 0.8633\n",
      "Epoch 36/1000\n",
      "2788/2788 [==============================] - 10s 4ms/step - loss: 0.4720 - binary_accuracy: 0.7614 - auc: 0.8604 - val_loss: 0.4671 - val_binary_accuracy: 0.7664 - val_auc: 0.8636\n"
     ]
    }
   ],
   "source": [
    "model = Sequential()\n",
    "model.add(InputLayer(input_shape=(norm_train.shape[-1])))\n",
    "model.add(Dense(128, activation='relu', kernel_regularizer='l2'))\n",
    "model.add(Dense(1, activation='sigmoid', kernel_regularizer='l2'))\n",
    "\n",
    "model.compile(optimizer=\"Adam\", loss=BinaryCrossentropy(), metrics=[BinaryAccuracy(), AUC()])\n",
    "history = model.fit(x=norm_train,\n",
    "                    y=y_train,\n",
    "                    batch_size=2048,\n",
    "                    epochs=1000,\n",
    "                    validation_data=(norm_valid, y_val),\n",
    "                    callbacks=[early_stopping, model_checkpoint_callback, logger])"
   ]
  },
  {
   "cell_type": "code",
   "execution_count": 19,
   "id": "6c1baf3a-4166-47e5-8372-d99925448de7",
   "metadata": {
    "tags": []
   },
   "outputs": [
    {
     "name": "stdout",
     "output_type": "stream",
     "text": [
      "INFO:tensorflow:Assets written to: models/model.tf\\assets\n"
     ]
    },
    {
     "data": {
      "image/png": "[encoded data removed]",
      "text/plain": [
       "<Figure size 640x480 with 1 Axes>"
      ]
     },
     "metadata": {},
     "output_type": "display_data"
    },
    {
     "data": {
      "image/png": "[encoded data removed]",
      "text/plain": [
       "<Figure size 640x480 with 1 Axes>"
      ]
     },
     "metadata": {},
     "output_type": "display_data"
    }
   ],
   "source": [
    "run_name = \"Multi Layer Perceptron - ESTA\"\n",
    "additional_description = \"Multi Layer Perceptron\"\n",
    "with mlflow.start_run(run_name=run_name, description=additional_description) as run:\n",
    "        mlflow.log_param(\"X_train.shape\", norm_train.shape)\n",
    "        mlflow.log_param(\"X_test.shape\", norm_test.shape)\n",
    "\n",
    "        y_proba = model.predict(norm_test)\n",
    "        y_true = y_test\n",
    "        features_names = cols\n",
    "        metrics = {}\n",
    "        for threshold in np.arange(0.1, 1, 0.05):\n",
    "            y_pred = (y_proba >= threshold).astype(int)\n",
    "            metrics[f\"accuracy_{threshold:.2f}\"] = accuracy_score(y_true=y_true, y_pred=y_pred)\n",
    "            metrics[f\"precision_{threshold:.2f}\"] = precision_score(y_true=y_true, y_pred=y_pred)\n",
    "            metrics[f\"recall_{threshold:.2f}\"] = recall_score(y_true=y_true, y_pred=y_pred)\n",
    "            metrics[f\"f1_{threshold:.2f}\"] = f1_score(y_true=y_true, y_pred=y_pred)\n",
    "        metrics[\"roc_auc\"] = roc_auc_score(y_true=y_true, y_score=y_proba)\n",
    "        metrics[\"log_loss\"] = log_loss(y_true=y_true, y_pred=y_proba)\n",
    "        mlflow.log_metrics(metrics)\n",
    "        \n",
    "        if os.path.exists('artifacts'):\n",
    "            shutil.rmtree('artifacts')\n",
    "            os.makedirs('artifacts')\n",
    "        \n",
    "        if os.path.exists('models'):\n",
    "            shutil.rmtree('models')\n",
    "            os.makedirs('models')\n",
    "            \n",
    "        with open(\"artifacts/features.txt\", 'w') as f:\n",
    "            f.write(str(features_names))\n",
    "            \n",
    "        model.save('models/model.tf')\n",
    "\n",
    "        with open(\"models/scaler.pkl\", \"wb\") as f:\n",
    "            pickle.dump(scaler, f)\n",
    "            \n",
    "        roc_plot = RocCurveDisplay.from_predictions(y_pred=y_proba, y_true=y_true)\n",
    "        roc_plot.figure_.savefig('artifacts/roc_auc.png')\n",
    "        plt.show()\n",
    "        \n",
    "        calibration_curve = CalibrationDisplay.from_predictions(y_prob=y_proba, y_true=y_true, n_bins=10)\n",
    "        calibration_curve.figure_.savefig('artifacts/calibration_curve.png')\n",
    "        plt.show()\n",
    "        \n",
    "        mlflow.log_artifacts(\"artifacts\", artifact_path=\"plots_data\")\n",
    "        mlflow.log_artifacts(\"models\", artifact_path=\"model\")"
   ]
  },
  {
   "cell_type": "code",
   "execution_count": 20,
   "id": "987f8638-6897-441c-bf9f-6a277cf4b1f5",
   "metadata": {
    "tags": []
   },
   "outputs": [
    {
     "data": {
      "text/plain": [
       "(620392, 100)"
      ]
     },
     "execution_count": 20,
     "metadata": {},
     "output_type": "execute_result"
    }
   ],
   "source": [
    "test_df = pd.read_parquet(\"data/states_another_mod_test.parquet\", columns=select_feat() + [\"filename\"])\n",
    "past = test_df['filename'].str.startswith(\"IEM-Katowice\")\n",
    "future = test_df['filename'].str.startswith(\"BLAST-Premier-Spring-Final-2022\")\n",
    "test_y = pd.read_parquet(\"data/states_another_mod_test.parquet\", columns=[\"winningSideCT\"])\n",
    "test_y = test_y.squeeze()\n",
    "test_df.shape"
   ]
  },
  {
   "cell_type": "code",
   "execution_count": 21,
   "id": "14c803b6-8160-4995-bec9-b570f8167e3c",
   "metadata": {},
   "outputs": [
    {
     "data": {
      "text/plain": [
       "(620392, 99)"
      ]
     },
     "execution_count": 21,
     "metadata": {},
     "output_type": "execute_result"
    }
   ],
   "source": [
    "test_set = test_df.drop(\"filename\", axis=\"columns\")\n",
    "test_set = scaler.fit_transform(test_set)\n",
    "test_set.shape"
   ]
  },
  {
   "cell_type": "code",
   "execution_count": 22,
   "id": "9db72ac4-00f7-4491-9c31-70ce16600d74",
   "metadata": {},
   "outputs": [
    {
     "data": {
      "text/plain": [
       "{'LogLoss (all)': 0.46876810875801295,\n",
       " 'LogLoss (future)': 0.4699464495365301,\n",
       " 'LogLoss (past)': 0.4676693784077154,\n",
       " 'AUC-ROC (all)': 0.8495904555172672,\n",
       " 'AUC-ROC (future)': 0.8515347801347402,\n",
       " 'AUC-ROC (past)': 0.8470425557675663}"
      ]
     },
     "execution_count": 22,
     "metadata": {},
     "output_type": "execute_result"
    }
   ],
   "source": [
    "results = []\n",
    "y_true = test_y\n",
    "y_pred = model.predict(test_set)\n",
    "results = {\n",
    "        \"LogLoss (all)\": log_loss(y_true, y_pred),\n",
    "        \"LogLoss (future)\": log_loss(y_true[future], y_pred[future]),\n",
    "        \"LogLoss (past)\": log_loss(y_true[past], y_pred[past]),\n",
    "        \"AUC-ROC (all)\": roc_auc_score(y_true, y_pred),\n",
    "        \"AUC-ROC (future)\": roc_auc_score(y_true[future], y_pred[future]),\n",
    "        \"AUC-ROC (past)\": roc_auc_score(y_true[past], y_pred[past])\n",
    "}\n",
    "results"
   ]
  }
 ],
 "metadata": {
  "kernelspec": {
   "display_name": "Python 3 (ipykernel)",
   "language": "python",
   "name": "python3"
  },
  "language_info": {
   "codemirror_mode": {
    "name": "ipython",
    "version": 3
   },
   "file_extension": ".py",
   "mimetype": "text/x-python",
   "name": "python",
   "nbconvert_exporter": "python",
   "pygments_lexer": "ipython3",
   "version": "3.9.13"
  }
 },
 "nbformat": 4,
 "nbformat_minor": 5
}
