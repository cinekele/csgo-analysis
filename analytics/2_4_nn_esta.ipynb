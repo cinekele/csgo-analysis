{
 "cells": [
  {
   "cell_type": "code",
   "execution_count": 1,
   "id": "61024691-50fd-4fdb-9585-6d72d16c209e",
   "metadata": {},
   "outputs": [
    {
     "name": "stdout",
     "output_type": "stream",
     "text": [
      "Experiment_id: 1\n",
      "Artifact Location: file:///C:/Users/Piotrek/Documents/Inzynierka/csgo-analysis/mlruns/1\n",
      "Tags: {}\n",
      "Lifecycle_stage: active\n"
     ]
    }
   ],
   "source": [
    "%run 0_3_configure_mlflow.ipynb"
   ]
  },
  {
   "cell_type": "code",
   "execution_count": 2,
   "id": "1f701eff-5bab-41d4-9768-ace06e1274a0",
   "metadata": {},
   "outputs": [],
   "source": [
    "import pandas as pd\n",
    "import numpy as np\n",
    "import matplotlib.pyplot as plt\n",
    "import pickle\n",
    "import shap\n",
    "import os\n",
    "import shutil\n",
    "\n",
    "from sklearn.metrics import accuracy_score, precision_score, recall_score, log_loss, f1_score, roc_auc_score, RocCurveDisplay\n",
    "from sklearn.calibration import CalibrationDisplay\n",
    "from sklearn.preprocessing import StandardScaler\n",
    "from sklearn.model_selection import StratifiedKFold, train_test_split\n",
    "from skopt import BayesSearchCV\n",
    "from skopt.space import Real, Categorical, Integer\n",
    "from tensorflow.keras import Sequential\n",
    "from tensorflow.keras.layers import InputLayer, GRU, Dense, Masking, Flatten\n",
    "from tensorflow.keras.losses import BinaryCrossentropy\n",
    "from tensorflow.keras.metrics import AUC, BinaryAccuracy\n",
    "from tensorflow.keras.utils import Sequence\n",
    "from tensorflow.keras.callbacks import EarlyStopping, ModelCheckpoint, CSVLogger"
   ]
  },
  {
   "cell_type": "markdown",
   "id": "d861d74a-b111-4654-add5-d3ccf48e1157",
   "metadata": {},
   "source": [
    "# Wczytanie danych"
   ]
  },
  {
   "cell_type": "code",
   "execution_count": 3,
   "id": "992db637-fab9-4e6e-8b30-60b95a0b1383",
   "metadata": {},
   "outputs": [],
   "source": [
    "def select_feat():\n",
    "    columns = [\n",
    "        'seconds', 'ctAlivePlayers', 'ctEqVal', 'tAlivePlayers', 'tEqVal',\n",
    "       'ct_armor', 't_armor', 'ct_hp', 't_hp', 'ct_hasHelmet', 't_hasHelmet', 'ct_DecoyGrenade',\n",
    "       't_DecoyGrenade', 'ct_Flashbang', 't_Flashbang', 'ct_HEGrenade',\n",
    "       't_HEGrenade', 'ct_SmokeGrenade', 't_SmokeGrenade', 'ct_fireGrenades',\n",
    "       't_fireGrenades', 'ct_isBlinded', 't_isBlinded', 'ct_hasDefuse',\n",
    "       't_hasBomb', 'ct_isDefusing', 't_isPlanting', 'ct_spottedPlayers',\n",
    "       't_spottedPlayers', 'ct_grouppedPlayers',\n",
    "       'ct_meanDist', 'ct_minDist', 't_meanDist','t_minDist',\n",
    "       't_grouppedPlayers', 'ct_conquerMap', 't_conquerMap', 'ct_activeWeapon_Pistol',\n",
    "       'ct_activeWeapon_EnhancedPistols', 'ct_activeWeapon_Deagle',\n",
    "       'ct_activeWeapon_SMG', 'ct_activeWeapon_WeakAssaultRifle',\n",
    "       'ct_activeWeapon_LunetRifle', 'ct_activeWeapon_SniperRifle',\n",
    "       'ct_activeWeapon_AssaultRifle', 'ct_activeWeapon_Others',\n",
    "       't_activeWeapon_Pistol', 't_activeWeapon_EnhancedPistols',\n",
    "       't_activeWeapon_Deagle', 't_activeWeapon_SMG',\n",
    "       't_activeWeapon_WeakAssaultRifle', 't_activeWeapon_LunetRifle',\n",
    "       't_activeWeapon_SniperRifle', 't_activeWeapon_AssaultRifle',\n",
    "       't_activeWeapon_Others', 'ct_mainWeapon_Pistol',\n",
    "       'ct_mainWeapon_EnhancedPistols', 'ct_mainWeapon_Deagle',\n",
    "       'ct_mainWeapon_SMG', 'ct_mainWeapon_WeakAssaultRifle',\n",
    "       'ct_mainWeapon_LunetRifle', 'ct_mainWeapon_SniperRifle',\n",
    "       'ct_mainWeapon_AssaultRifle', 't_mainWeapon_Pistol', 't_mainWeapon_EnhancedPistols',\n",
    "       't_mainWeapon_Deagle', 't_mainWeapon_SMG',\n",
    "       't_mainWeapon_WeakAssaultRifle', 't_mainWeapon_LunetRifle',\n",
    "       't_mainWeapon_SniperRifle', 't_mainWeapon_AssaultRifle', \n",
    "       'ct_secondaryWeapon_Pistol','ct_secondaryWeapon_EnhancedPistols', 'ct_secondaryWeapon_Deagle',\n",
    "       't_secondaryWeapon_Pistol', 't_secondaryWeapon_EnhancedPistols',\n",
    "       't_secondaryWeapon_Deagle', 'ctMinDistToA',\n",
    "       'ctMinDistToB', 'tMinDistToA', 'tMinDistToB', 'ctMeanDistToA',\n",
    "       'ctMeanDistToB', 'tMeanDistToA', 'tMeanDistToB', 'ctMeanKills',\n",
    "       'tMeanKills', 'tScore', 'ctScore', 'de_ancient', \n",
    "       'de_dust2', 'de_inferno', 'de_mirage', 'de_nuke', 'de_overpass',\n",
    "       'de_vertigo','bombsite_A', 'bombsite_B', 'bombsite_not_planted'\n",
    "    ]\n",
    "    return columns"
   ]
  },
  {
   "cell_type": "code",
   "execution_count": 4,
   "id": "92b76881-cf58-4666-bc4e-0d046dca4c1a",
   "metadata": {
    "collapsed": true,
    "jupyter": {
     "outputs_hidden": true
    },
    "tags": []
   },
   "outputs": [
    {
     "data": {
      "text/html": [
       "<div>\n",
       "<style scoped>\n",
       "    .dataframe tbody tr th:only-of-type {\n",
       "        vertical-align: middle;\n",
       "    }\n",
       "\n",
       "    .dataframe tbody tr th {\n",
       "        vertical-align: top;\n",
       "    }\n",
       "\n",
       "    .dataframe thead th {\n",
       "        text-align: right;\n",
       "    }\n",
       "</style>\n",
       "<table border=\"1\" class=\"dataframe\">\n",
       "  <thead>\n",
       "    <tr style=\"text-align: right;\">\n",
       "      <th></th>\n",
       "      <th>seconds</th>\n",
       "      <th>ctAlivePlayers</th>\n",
       "      <th>ctEqVal</th>\n",
       "      <th>tAlivePlayers</th>\n",
       "      <th>tEqVal</th>\n",
       "      <th>ct_armor</th>\n",
       "      <th>t_armor</th>\n",
       "      <th>ct_hp</th>\n",
       "      <th>t_hp</th>\n",
       "      <th>ct_hasHelmet</th>\n",
       "      <th>...</th>\n",
       "      <th>de_inferno</th>\n",
       "      <th>de_mirage</th>\n",
       "      <th>de_nuke</th>\n",
       "      <th>de_overpass</th>\n",
       "      <th>de_vertigo</th>\n",
       "      <th>bombsite_A</th>\n",
       "      <th>bombsite_B</th>\n",
       "      <th>bombsite_not_planted</th>\n",
       "      <th>demoId</th>\n",
       "      <th>roundNum</th>\n",
       "    </tr>\n",
       "  </thead>\n",
       "  <tbody>\n",
       "    <tr>\n",
       "      <th>0</th>\n",
       "      <td>0.007874</td>\n",
       "      <td>5</td>\n",
       "      <td>4400</td>\n",
       "      <td>5</td>\n",
       "      <td>4250</td>\n",
       "      <td>400</td>\n",
       "      <td>300</td>\n",
       "      <td>500</td>\n",
       "      <td>500</td>\n",
       "      <td>0</td>\n",
       "      <td>...</td>\n",
       "      <td>0</td>\n",
       "      <td>0</td>\n",
       "      <td>1</td>\n",
       "      <td>0</td>\n",
       "      <td>0</td>\n",
       "      <td>0</td>\n",
       "      <td>0</td>\n",
       "      <td>1</td>\n",
       "      <td>00330e8b-ba01-4d3f-a6c1-66881b879dac</td>\n",
       "      <td>1</td>\n",
       "    </tr>\n",
       "    <tr>\n",
       "      <th>1</th>\n",
       "      <td>0.511811</td>\n",
       "      <td>5</td>\n",
       "      <td>4400</td>\n",
       "      <td>5</td>\n",
       "      <td>4250</td>\n",
       "      <td>400</td>\n",
       "      <td>300</td>\n",
       "      <td>500</td>\n",
       "      <td>500</td>\n",
       "      <td>0</td>\n",
       "      <td>...</td>\n",
       "      <td>0</td>\n",
       "      <td>0</td>\n",
       "      <td>1</td>\n",
       "      <td>0</td>\n",
       "      <td>0</td>\n",
       "      <td>0</td>\n",
       "      <td>0</td>\n",
       "      <td>1</td>\n",
       "      <td>00330e8b-ba01-4d3f-a6c1-66881b879dac</td>\n",
       "      <td>1</td>\n",
       "    </tr>\n",
       "    <tr>\n",
       "      <th>2</th>\n",
       "      <td>1.015748</td>\n",
       "      <td>5</td>\n",
       "      <td>4400</td>\n",
       "      <td>5</td>\n",
       "      <td>4250</td>\n",
       "      <td>400</td>\n",
       "      <td>300</td>\n",
       "      <td>500</td>\n",
       "      <td>500</td>\n",
       "      <td>0</td>\n",
       "      <td>...</td>\n",
       "      <td>0</td>\n",
       "      <td>0</td>\n",
       "      <td>1</td>\n",
       "      <td>0</td>\n",
       "      <td>0</td>\n",
       "      <td>0</td>\n",
       "      <td>0</td>\n",
       "      <td>1</td>\n",
       "      <td>00330e8b-ba01-4d3f-a6c1-66881b879dac</td>\n",
       "      <td>1</td>\n",
       "    </tr>\n",
       "    <tr>\n",
       "      <th>3</th>\n",
       "      <td>1.519685</td>\n",
       "      <td>5</td>\n",
       "      <td>4400</td>\n",
       "      <td>5</td>\n",
       "      <td>4250</td>\n",
       "      <td>400</td>\n",
       "      <td>300</td>\n",
       "      <td>500</td>\n",
       "      <td>500</td>\n",
       "      <td>0</td>\n",
       "      <td>...</td>\n",
       "      <td>0</td>\n",
       "      <td>0</td>\n",
       "      <td>1</td>\n",
       "      <td>0</td>\n",
       "      <td>0</td>\n",
       "      <td>0</td>\n",
       "      <td>0</td>\n",
       "      <td>1</td>\n",
       "      <td>00330e8b-ba01-4d3f-a6c1-66881b879dac</td>\n",
       "      <td>1</td>\n",
       "    </tr>\n",
       "    <tr>\n",
       "      <th>4</th>\n",
       "      <td>2.023622</td>\n",
       "      <td>5</td>\n",
       "      <td>4400</td>\n",
       "      <td>5</td>\n",
       "      <td>4250</td>\n",
       "      <td>400</td>\n",
       "      <td>300</td>\n",
       "      <td>500</td>\n",
       "      <td>500</td>\n",
       "      <td>0</td>\n",
       "      <td>...</td>\n",
       "      <td>0</td>\n",
       "      <td>0</td>\n",
       "      <td>1</td>\n",
       "      <td>0</td>\n",
       "      <td>0</td>\n",
       "      <td>0</td>\n",
       "      <td>0</td>\n",
       "      <td>1</td>\n",
       "      <td>00330e8b-ba01-4d3f-a6c1-66881b879dac</td>\n",
       "      <td>1</td>\n",
       "    </tr>\n",
       "    <tr>\n",
       "      <th>...</th>\n",
       "      <td>...</td>\n",
       "      <td>...</td>\n",
       "      <td>...</td>\n",
       "      <td>...</td>\n",
       "      <td>...</td>\n",
       "      <td>...</td>\n",
       "      <td>...</td>\n",
       "      <td>...</td>\n",
       "      <td>...</td>\n",
       "      <td>...</td>\n",
       "      <td>...</td>\n",
       "      <td>...</td>\n",
       "      <td>...</td>\n",
       "      <td>...</td>\n",
       "      <td>...</td>\n",
       "      <td>...</td>\n",
       "      <td>...</td>\n",
       "      <td>...</td>\n",
       "      <td>...</td>\n",
       "      <td>...</td>\n",
       "      <td>...</td>\n",
       "    </tr>\n",
       "    <tr>\n",
       "      <th>7464293</th>\n",
       "      <td>81.464567</td>\n",
       "      <td>3</td>\n",
       "      <td>26800</td>\n",
       "      <td>1</td>\n",
       "      <td>24300</td>\n",
       "      <td>290</td>\n",
       "      <td>94</td>\n",
       "      <td>233</td>\n",
       "      <td>74</td>\n",
       "      <td>3</td>\n",
       "      <td>...</td>\n",
       "      <td>0</td>\n",
       "      <td>0</td>\n",
       "      <td>0</td>\n",
       "      <td>0</td>\n",
       "      <td>1</td>\n",
       "      <td>0</td>\n",
       "      <td>0</td>\n",
       "      <td>1</td>\n",
       "      <td>ff910f54-0bed-4fdf-afa8-b481be09a788</td>\n",
       "      <td>26</td>\n",
       "    </tr>\n",
       "    <tr>\n",
       "      <th>7464294</th>\n",
       "      <td>81.968504</td>\n",
       "      <td>3</td>\n",
       "      <td>26800</td>\n",
       "      <td>1</td>\n",
       "      <td>24300</td>\n",
       "      <td>290</td>\n",
       "      <td>94</td>\n",
       "      <td>233</td>\n",
       "      <td>74</td>\n",
       "      <td>3</td>\n",
       "      <td>...</td>\n",
       "      <td>0</td>\n",
       "      <td>0</td>\n",
       "      <td>0</td>\n",
       "      <td>0</td>\n",
       "      <td>1</td>\n",
       "      <td>0</td>\n",
       "      <td>0</td>\n",
       "      <td>1</td>\n",
       "      <td>ff910f54-0bed-4fdf-afa8-b481be09a788</td>\n",
       "      <td>26</td>\n",
       "    </tr>\n",
       "    <tr>\n",
       "      <th>7464295</th>\n",
       "      <td>82.472441</td>\n",
       "      <td>3</td>\n",
       "      <td>26800</td>\n",
       "      <td>1</td>\n",
       "      <td>24300</td>\n",
       "      <td>286</td>\n",
       "      <td>94</td>\n",
       "      <td>206</td>\n",
       "      <td>74</td>\n",
       "      <td>3</td>\n",
       "      <td>...</td>\n",
       "      <td>0</td>\n",
       "      <td>0</td>\n",
       "      <td>0</td>\n",
       "      <td>0</td>\n",
       "      <td>1</td>\n",
       "      <td>0</td>\n",
       "      <td>0</td>\n",
       "      <td>1</td>\n",
       "      <td>ff910f54-0bed-4fdf-afa8-b481be09a788</td>\n",
       "      <td>26</td>\n",
       "    </tr>\n",
       "    <tr>\n",
       "      <th>7464296</th>\n",
       "      <td>82.976378</td>\n",
       "      <td>2</td>\n",
       "      <td>26800</td>\n",
       "      <td>1</td>\n",
       "      <td>24300</td>\n",
       "      <td>194</td>\n",
       "      <td>94</td>\n",
       "      <td>159</td>\n",
       "      <td>74</td>\n",
       "      <td>2</td>\n",
       "      <td>...</td>\n",
       "      <td>0</td>\n",
       "      <td>0</td>\n",
       "      <td>0</td>\n",
       "      <td>0</td>\n",
       "      <td>1</td>\n",
       "      <td>0</td>\n",
       "      <td>0</td>\n",
       "      <td>1</td>\n",
       "      <td>ff910f54-0bed-4fdf-afa8-b481be09a788</td>\n",
       "      <td>26</td>\n",
       "    </tr>\n",
       "    <tr>\n",
       "      <th>7464297</th>\n",
       "      <td>83.480315</td>\n",
       "      <td>2</td>\n",
       "      <td>26800</td>\n",
       "      <td>1</td>\n",
       "      <td>24300</td>\n",
       "      <td>194</td>\n",
       "      <td>90</td>\n",
       "      <td>159</td>\n",
       "      <td>47</td>\n",
       "      <td>2</td>\n",
       "      <td>...</td>\n",
       "      <td>0</td>\n",
       "      <td>0</td>\n",
       "      <td>0</td>\n",
       "      <td>0</td>\n",
       "      <td>1</td>\n",
       "      <td>0</td>\n",
       "      <td>0</td>\n",
       "      <td>1</td>\n",
       "      <td>ff910f54-0bed-4fdf-afa8-b481be09a788</td>\n",
       "      <td>26</td>\n",
       "    </tr>\n",
       "  </tbody>\n",
       "</table>\n",
       "<p>7464298 rows × 101 columns</p>\n",
       "</div>"
      ],
      "text/plain": [
       "           seconds  ctAlivePlayers  ctEqVal  tAlivePlayers  tEqVal  ct_armor  \\\n",
       "0         0.007874               5     4400              5    4250       400   \n",
       "1         0.511811               5     4400              5    4250       400   \n",
       "2         1.015748               5     4400              5    4250       400   \n",
       "3         1.519685               5     4400              5    4250       400   \n",
       "4         2.023622               5     4400              5    4250       400   \n",
       "...            ...             ...      ...            ...     ...       ...   \n",
       "7464293  81.464567               3    26800              1   24300       290   \n",
       "7464294  81.968504               3    26800              1   24300       290   \n",
       "7464295  82.472441               3    26800              1   24300       286   \n",
       "7464296  82.976378               2    26800              1   24300       194   \n",
       "7464297  83.480315               2    26800              1   24300       194   \n",
       "\n",
       "         t_armor  ct_hp  t_hp  ct_hasHelmet  ...  de_inferno  de_mirage  \\\n",
       "0            300    500   500             0  ...           0          0   \n",
       "1            300    500   500             0  ...           0          0   \n",
       "2            300    500   500             0  ...           0          0   \n",
       "3            300    500   500             0  ...           0          0   \n",
       "4            300    500   500             0  ...           0          0   \n",
       "...          ...    ...   ...           ...  ...         ...        ...   \n",
       "7464293       94    233    74             3  ...           0          0   \n",
       "7464294       94    233    74             3  ...           0          0   \n",
       "7464295       94    206    74             3  ...           0          0   \n",
       "7464296       94    159    74             2  ...           0          0   \n",
       "7464297       90    159    47             2  ...           0          0   \n",
       "\n",
       "         de_nuke  de_overpass  de_vertigo  bombsite_A  bombsite_B  \\\n",
       "0              1            0           0           0           0   \n",
       "1              1            0           0           0           0   \n",
       "2              1            0           0           0           0   \n",
       "3              1            0           0           0           0   \n",
       "4              1            0           0           0           0   \n",
       "...          ...          ...         ...         ...         ...   \n",
       "7464293        0            0           1           0           0   \n",
       "7464294        0            0           1           0           0   \n",
       "7464295        0            0           1           0           0   \n",
       "7464296        0            0           1           0           0   \n",
       "7464297        0            0           1           0           0   \n",
       "\n",
       "         bombsite_not_planted                                demoId  roundNum  \n",
       "0                           1  00330e8b-ba01-4d3f-a6c1-66881b879dac         1  \n",
       "1                           1  00330e8b-ba01-4d3f-a6c1-66881b879dac         1  \n",
       "2                           1  00330e8b-ba01-4d3f-a6c1-66881b879dac         1  \n",
       "3                           1  00330e8b-ba01-4d3f-a6c1-66881b879dac         1  \n",
       "4                           1  00330e8b-ba01-4d3f-a6c1-66881b879dac         1  \n",
       "...                       ...                                   ...       ...  \n",
       "7464293                     1  ff910f54-0bed-4fdf-afa8-b481be09a788        26  \n",
       "7464294                     1  ff910f54-0bed-4fdf-afa8-b481be09a788        26  \n",
       "7464295                     1  ff910f54-0bed-4fdf-afa8-b481be09a788        26  \n",
       "7464296                     1  ff910f54-0bed-4fdf-afa8-b481be09a788        26  \n",
       "7464297                     1  ff910f54-0bed-4fdf-afa8-b481be09a788        26  \n",
       "\n",
       "[7464298 rows x 101 columns]"
      ]
     },
     "execution_count": 4,
     "metadata": {},
     "output_type": "execute_result"
    }
   ],
   "source": [
    "df = pd.read_parquet('data/ESTA_states_prepared.parquet', columns=select_feat() + ['demoId', 'roundNum'])\n",
    "df"
   ]
  },
  {
   "cell_type": "code",
   "execution_count": 5,
   "id": "770bba4a-7798-44f8-a9bd-9c29e6649eb2",
   "metadata": {},
   "outputs": [
    {
     "name": "stdout",
     "output_type": "stream",
     "text": [
      "<class 'pandas.core.frame.DataFrame'>\n",
      "Int64Index: 7464298 entries, 0 to 7464297\n",
      "Columns: 101 entries, seconds to roundNum\n",
      "dtypes: float64(17), int32(6), int64(67), object(1), uint8(10)\n",
      "memory usage: 5.0+ GB\n"
     ]
    }
   ],
   "source": [
    "df.info()"
   ]
  },
  {
   "cell_type": "code",
   "execution_count": 6,
   "id": "4578a3bd-6a13-4484-90ba-79d24522e6fa",
   "metadata": {},
   "outputs": [
    {
     "data": {
      "text/plain": [
       "0          0\n",
       "1          0\n",
       "2          0\n",
       "3          0\n",
       "4          0\n",
       "          ..\n",
       "7464293    1\n",
       "7464294    1\n",
       "7464295    1\n",
       "7464296    1\n",
       "7464297    1\n",
       "Name: winningSideCT, Length: 7464298, dtype: int32"
      ]
     },
     "execution_count": 6,
     "metadata": {},
     "output_type": "execute_result"
    }
   ],
   "source": [
    "y = pd.read_parquet(\"data/ESTA_states_prepared.parquet\", columns=[\"winningSideCT\"])\n",
    "y = y.squeeze()\n",
    "y"
   ]
  },
  {
   "cell_type": "markdown",
   "id": "f64226fb-b737-464f-97ff-24fe76105cc8",
   "metadata": {
    "tags": []
   },
   "source": [
    "## Podział"
   ]
  },
  {
   "cell_type": "code",
   "execution_count": 7,
   "id": "433393ce-16cb-490b-8a28-922f97edff82",
   "metadata": {
    "tags": []
   },
   "outputs": [
    {
     "data": {
      "text/plain": [
       "41074"
      ]
     },
     "execution_count": 7,
     "metadata": {},
     "output_type": "execute_result"
    }
   ],
   "source": [
    "groupped = df.groupby(['demoId', 'roundNum'])\n",
    "demo_indexes = groupped.indices\n",
    "np.random.seed(25)\n",
    "samples_indexes = [values[np.random.randint(1, values.size)]\n",
    "                  for key, values in demo_indexes.items()]\n",
    "len(samples_indexes)"
   ]
  },
  {
   "cell_type": "code",
   "execution_count": 8,
   "id": "2d65761f-ba17-4d76-81c7-7b9083611f69",
   "metadata": {},
   "outputs": [
    {
     "data": {
      "text/plain": [
       "((41074, 99), (41074,))"
      ]
     },
     "execution_count": 8,
     "metadata": {},
     "output_type": "execute_result"
    }
   ],
   "source": [
    "X = df.drop(['demoId', 'roundNum'], axis='columns').iloc[samples_indexes]\n",
    "y = y.iloc[samples_indexes]\n",
    "X.shape, y.shape"
   ]
  },
  {
   "cell_type": "code",
   "execution_count": 9,
   "id": "afb70649-024a-4abc-9fae-de612f6d0d33",
   "metadata": {},
   "outputs": [
    {
     "data": {
      "text/plain": [
       "1    22158\n",
       "0    18916\n",
       "Name: winningSideCT, dtype: int64"
      ]
     },
     "execution_count": 9,
     "metadata": {},
     "output_type": "execute_result"
    }
   ],
   "source": [
    "y.value_counts()"
   ]
  },
  {
   "cell_type": "code",
   "execution_count": 10,
   "id": "fcbfddd9-eb43-4f05-b946-be93d620b524",
   "metadata": {},
   "outputs": [
    {
     "data": {
      "text/plain": [
       "((28751, 99), (4108, 99), (8215, 99))"
      ]
     },
     "execution_count": 10,
     "metadata": {},
     "output_type": "execute_result"
    }
   ],
   "source": [
    "X_train, X_test, y_train, y_test = train_test_split(X, y, test_size=0.2, random_state=1)\n",
    "X_train, X_val, y_train, y_val = train_test_split(X_train, y_train, test_size=0.125, random_state=1) # 0.125 x 0.8 = 0.1\n",
    "X_train.shape, X_val.shape, X_test.shape"
   ]
  },
  {
   "cell_type": "code",
   "execution_count": 11,
   "id": "d8046a85-ae43-470a-b4ba-63e4d8ce6910",
   "metadata": {},
   "outputs": [],
   "source": [
    "cols = X_train.columns.tolist()\n",
    "scaler = StandardScaler()\n",
    "norm_train = scaler.fit_transform(X_train)\n",
    "norm_valid = scaler.transform(X_val)\n",
    "norm_test = scaler.transform(X_test)"
   ]
  },
  {
   "cell_type": "code",
   "execution_count": 12,
   "id": "c2ce6981-1618-4d49-8a50-3953ab1aa44a",
   "metadata": {},
   "outputs": [],
   "source": [
    "os.makedirs(\"model_deep\", exist_ok=True)"
   ]
  },
  {
   "cell_type": "code",
   "execution_count": 13,
   "id": "b9315cf1-6ec4-476c-a8e0-1c6d7adecb6d",
   "metadata": {},
   "outputs": [],
   "source": [
    "early_stopping = EarlyStopping(\n",
    "    monitor='val_loss',\n",
    "    min_delta=0.0001,\n",
    "    patience=30,\n",
    "    verbose=0,\n",
    "    mode='min',\n",
    "    baseline=None,\n",
    "    restore_best_weights=True,\n",
    ")\n",
    "\n",
    "model_checkpoint_callback = ModelCheckpoint(\n",
    "    filepath=\"model_deep/multi_layer.tf\",\n",
    "    monitor='val_loss',\n",
    "    mode='min',\n",
    "    save_best_only=True)\n",
    "\n",
    "logger = CSVLogger(\n",
    "    \"model_deep/perceptron_log.csv\", separator=',', append=True\n",
    ")"
   ]
  },
  {
   "cell_type": "code",
   "execution_count": 15,
   "id": "bfe1d499-cf88-416d-b37d-120ab2335e75",
   "metadata": {
    "collapsed": true,
    "jupyter": {
     "outputs_hidden": true
    },
    "tags": []
   },
   "outputs": [
    {
     "name": "stdout",
     "output_type": "stream",
     "text": [
      "Epoch 1/1000\n",
      "15/15 [==============================] - 2s 14ms/step - loss: 1.7004 - binary_accuracy: 0.6512 - auc_1: 0.7132 - val_loss: 1.4756 - val_binary_accuracy: 0.7541 - val_auc_1: 0.8441\n",
      "INFO:tensorflow:Assets written to: model_deep\\multi_layer.tf\\assets\n",
      "Epoch 2/1000\n",
      "15/15 [==============================] - 0s 7ms/step - loss: 1.3847 - binary_accuracy: 0.7616 - auc_1: 0.8552 - val_loss: 1.2735 - val_binary_accuracy: 0.7700 - val_auc_1: 0.8643\n",
      "INFO:tensorflow:Assets written to: model_deep\\multi_layer.tf\\assets\n",
      "Epoch 3/1000\n",
      "15/15 [==============================] - 0s 7ms/step - loss: 1.2005 - binary_accuracy: 0.7724 - auc_1: 0.8677 - val_loss: 1.1134 - val_binary_accuracy: 0.7724 - val_auc_1: 0.8696\n",
      "INFO:tensorflow:Assets written to: model_deep\\multi_layer.tf\\assets\n",
      "Epoch 4/1000\n",
      "15/15 [==============================] - 0s 8ms/step - loss: 1.0528 - binary_accuracy: 0.7756 - auc_1: 0.8725 - val_loss: 0.9825 - val_binary_accuracy: 0.7770 - val_auc_1: 0.8722\n",
      "INFO:tensorflow:Assets written to: model_deep\\multi_layer.tf\\assets\n",
      "Epoch 5/1000\n",
      "15/15 [==============================] - 0s 8ms/step - loss: 0.9320 - binary_accuracy: 0.7808 - auc_1: 0.8749 - val_loss: 0.8757 - val_binary_accuracy: 0.7780 - val_auc_1: 0.8745\n",
      "INFO:tensorflow:Assets written to: model_deep\\multi_layer.tf\\assets\n",
      "Epoch 6/1000\n",
      "15/15 [==============================] - 0s 19ms/step - loss: 0.8341 - binary_accuracy: 0.7822 - auc_1: 0.8770 - val_loss: 0.7902 - val_binary_accuracy: 0.7829 - val_auc_1: 0.8760\n",
      "INFO:tensorflow:Assets written to: model_deep\\multi_layer.tf\\assets\n",
      "Epoch 7/1000\n",
      "15/15 [==============================] - 0s 4ms/step - loss: 0.7558 - binary_accuracy: 0.7837 - auc_1: 0.8788 - val_loss: 0.7221 - val_binary_accuracy: 0.7807 - val_auc_1: 0.8765\n",
      "INFO:tensorflow:Assets written to: model_deep\\multi_layer.tf\\assets\n",
      "Epoch 8/1000\n",
      "15/15 [==============================] - 0s 4ms/step - loss: 0.6929 - binary_accuracy: 0.7854 - auc_1: 0.8800 - val_loss: 0.6671 - val_binary_accuracy: 0.7802 - val_auc_1: 0.8770\n",
      "INFO:tensorflow:Assets written to: model_deep\\multi_layer.tf\\assets\n",
      "Epoch 9/1000\n",
      "15/15 [==============================] - 0s 4ms/step - loss: 0.6429 - binary_accuracy: 0.7846 - auc_1: 0.8807 - val_loss: 0.6241 - val_binary_accuracy: 0.7819 - val_auc_1: 0.8776\n",
      "INFO:tensorflow:Assets written to: model_deep\\multi_layer.tf\\assets\n",
      "Epoch 10/1000\n",
      "15/15 [==============================] - 0s 4ms/step - loss: 0.6029 - binary_accuracy: 0.7867 - auc_1: 0.8816 - val_loss: 0.5885 - val_binary_accuracy: 0.7831 - val_auc_1: 0.8783\n",
      "INFO:tensorflow:Assets written to: model_deep\\multi_layer.tf\\assets\n",
      "Epoch 11/1000\n",
      "15/15 [==============================] - 0s 4ms/step - loss: 0.5713 - binary_accuracy: 0.7859 - auc_1: 0.8819 - val_loss: 0.5599 - val_binary_accuracy: 0.7872 - val_auc_1: 0.8793\n",
      "INFO:tensorflow:Assets written to: model_deep\\multi_layer.tf\\assets\n",
      "Epoch 12/1000\n",
      "15/15 [==============================] - 0s 4ms/step - loss: 0.5464 - binary_accuracy: 0.7872 - auc_1: 0.8823 - val_loss: 0.5392 - val_binary_accuracy: 0.7841 - val_auc_1: 0.8795\n",
      "INFO:tensorflow:Assets written to: model_deep\\multi_layer.tf\\assets\n",
      "Epoch 13/1000\n",
      "15/15 [==============================] - 0s 8ms/step - loss: 0.5269 - binary_accuracy: 0.7861 - auc_1: 0.8826 - val_loss: 0.5219 - val_binary_accuracy: 0.7833 - val_auc_1: 0.8805\n",
      "INFO:tensorflow:Assets written to: model_deep\\multi_layer.tf\\assets\n",
      "Epoch 14/1000\n",
      "15/15 [==============================] - 0s 4ms/step - loss: 0.5116 - binary_accuracy: 0.7860 - auc_1: 0.8823 - val_loss: 0.5078 - val_binary_accuracy: 0.7824 - val_auc_1: 0.8798\n",
      "INFO:tensorflow:Assets written to: model_deep\\multi_layer.tf\\assets\n",
      "Epoch 15/1000\n",
      "15/15 [==============================] - 0s 4ms/step - loss: 0.4988 - binary_accuracy: 0.7865 - auc_1: 0.8833 - val_loss: 0.4976 - val_binary_accuracy: 0.7826 - val_auc_1: 0.8796\n",
      "INFO:tensorflow:Assets written to: model_deep\\multi_layer.tf\\assets\n",
      "Epoch 16/1000\n",
      "15/15 [==============================] - 0s 4ms/step - loss: 0.4888 - binary_accuracy: 0.7864 - auc_1: 0.8830 - val_loss: 0.4890 - val_binary_accuracy: 0.7848 - val_auc_1: 0.8799\n",
      "INFO:tensorflow:Assets written to: model_deep\\multi_layer.tf\\assets\n",
      "Epoch 17/1000\n",
      "15/15 [==============================] - 0s 5ms/step - loss: 0.4811 - binary_accuracy: 0.7872 - auc_1: 0.8832 - val_loss: 0.4817 - val_binary_accuracy: 0.7846 - val_auc_1: 0.8797\n",
      "INFO:tensorflow:Assets written to: model_deep\\multi_layer.tf\\assets\n",
      "Epoch 18/1000\n",
      "15/15 [==============================] - 0s 5ms/step - loss: 0.4747 - binary_accuracy: 0.7868 - auc_1: 0.8833 - val_loss: 0.4760 - val_binary_accuracy: 0.7821 - val_auc_1: 0.8799\n",
      "INFO:tensorflow:Assets written to: model_deep\\multi_layer.tf\\assets\n",
      "Epoch 19/1000\n",
      "15/15 [==============================] - 0s 7ms/step - loss: 0.4708 - binary_accuracy: 0.7863 - auc_1: 0.8829 - val_loss: 0.4736 - val_binary_accuracy: 0.7826 - val_auc_1: 0.8797\n",
      "INFO:tensorflow:Assets written to: model_deep\\multi_layer.tf\\assets\n",
      "Epoch 20/1000\n",
      "15/15 [==============================] - 0s 5ms/step - loss: 0.4667 - binary_accuracy: 0.7860 - auc_1: 0.8822 - val_loss: 0.4690 - val_binary_accuracy: 0.7836 - val_auc_1: 0.8792\n",
      "INFO:tensorflow:Assets written to: model_deep\\multi_layer.tf\\assets\n",
      "Epoch 21/1000\n",
      "15/15 [==============================] - 0s 5ms/step - loss: 0.4639 - binary_accuracy: 0.7867 - auc_1: 0.8828 - val_loss: 0.4658 - val_binary_accuracy: 0.7814 - val_auc_1: 0.8802\n",
      "INFO:tensorflow:Assets written to: model_deep\\multi_layer.tf\\assets\n",
      "Epoch 22/1000\n",
      "15/15 [==============================] - 0s 15ms/step - loss: 0.4602 - binary_accuracy: 0.7861 - auc_1: 0.8830 - val_loss: 0.4631 - val_binary_accuracy: 0.7812 - val_auc_1: 0.8801\n",
      "INFO:tensorflow:Assets written to: model_deep\\multi_layer.tf\\assets\n",
      "Epoch 23/1000\n",
      "15/15 [==============================] - 0s 4ms/step - loss: 0.4576 - binary_accuracy: 0.7877 - auc_1: 0.8833 - val_loss: 0.4611 - val_binary_accuracy: 0.7819 - val_auc_1: 0.8801\n",
      "INFO:tensorflow:Assets written to: model_deep\\multi_layer.tf\\assets\n",
      "Epoch 24/1000\n",
      "15/15 [==============================] - 0s 4ms/step - loss: 0.4560 - binary_accuracy: 0.7867 - auc_1: 0.8831 - val_loss: 0.4598 - val_binary_accuracy: 0.7804 - val_auc_1: 0.8793\n",
      "INFO:tensorflow:Assets written to: model_deep\\multi_layer.tf\\assets\n",
      "Epoch 25/1000\n",
      "15/15 [==============================] - 0s 4ms/step - loss: 0.4548 - binary_accuracy: 0.7877 - auc_1: 0.8828 - val_loss: 0.4586 - val_binary_accuracy: 0.7831 - val_auc_1: 0.8804\n",
      "INFO:tensorflow:Assets written to: model_deep\\multi_layer.tf\\assets\n",
      "Epoch 26/1000\n",
      "15/15 [==============================] - 0s 4ms/step - loss: 0.4533 - binary_accuracy: 0.7878 - auc_1: 0.8828 - val_loss: 0.4577 - val_binary_accuracy: 0.7812 - val_auc_1: 0.8793\n",
      "INFO:tensorflow:Assets written to: model_deep\\multi_layer.tf\\assets\n",
      "Epoch 27/1000\n",
      "15/15 [==============================] - 0s 4ms/step - loss: 0.4525 - binary_accuracy: 0.7873 - auc_1: 0.8828 - val_loss: 0.4554 - val_binary_accuracy: 0.7838 - val_auc_1: 0.8805\n",
      "INFO:tensorflow:Assets written to: model_deep\\multi_layer.tf\\assets\n",
      "Epoch 28/1000\n",
      "15/15 [==============================] - 0s 4ms/step - loss: 0.4525 - binary_accuracy: 0.7866 - auc_1: 0.8819 - val_loss: 0.4552 - val_binary_accuracy: 0.7836 - val_auc_1: 0.8801\n",
      "INFO:tensorflow:Assets written to: model_deep\\multi_layer.tf\\assets\n",
      "Epoch 29/1000\n",
      "15/15 [==============================] - 0s 4ms/step - loss: 0.4513 - binary_accuracy: 0.7865 - auc_1: 0.8823 - val_loss: 0.4551 - val_binary_accuracy: 0.7824 - val_auc_1: 0.8798\n",
      "INFO:tensorflow:Assets written to: model_deep\\multi_layer.tf\\assets\n",
      "Epoch 30/1000\n",
      "15/15 [==============================] - 0s 4ms/step - loss: 0.4509 - binary_accuracy: 0.7859 - auc_1: 0.8818 - val_loss: 0.4544 - val_binary_accuracy: 0.7821 - val_auc_1: 0.8797\n",
      "INFO:tensorflow:Assets written to: model_deep\\multi_layer.tf\\assets\n",
      "Epoch 31/1000\n",
      "15/15 [==============================] - 0s 4ms/step - loss: 0.4501 - binary_accuracy: 0.7860 - auc_1: 0.8820 - val_loss: 0.4529 - val_binary_accuracy: 0.7851 - val_auc_1: 0.8799\n",
      "INFO:tensorflow:Assets written to: model_deep\\multi_layer.tf\\assets\n",
      "Epoch 32/1000\n",
      "15/15 [==============================] - 0s 6ms/step - loss: 0.4489 - binary_accuracy: 0.7868 - auc_1: 0.8826 - val_loss: 0.4516 - val_binary_accuracy: 0.7797 - val_auc_1: 0.8802\n",
      "INFO:tensorflow:Assets written to: model_deep\\multi_layer.tf\\assets\n",
      "Epoch 33/1000\n",
      "15/15 [==============================] - 0s 5ms/step - loss: 0.4497 - binary_accuracy: 0.7862 - auc_1: 0.8815 - val_loss: 0.4533 - val_binary_accuracy: 0.7799 - val_auc_1: 0.8793\n",
      "Epoch 34/1000\n",
      "15/15 [==============================] - 0s 5ms/step - loss: 0.4490 - binary_accuracy: 0.7857 - auc_1: 0.8821 - val_loss: 0.4510 - val_binary_accuracy: 0.7816 - val_auc_1: 0.8805\n",
      "INFO:tensorflow:Assets written to: model_deep\\multi_layer.tf\\assets\n",
      "Epoch 35/1000\n",
      "15/15 [==============================] - 0s 9ms/step - loss: 0.4487 - binary_accuracy: 0.7875 - auc_1: 0.8818 - val_loss: 0.4523 - val_binary_accuracy: 0.7816 - val_auc_1: 0.8793\n",
      "Epoch 36/1000\n",
      "15/15 [==============================] - 0s 5ms/step - loss: 0.4481 - binary_accuracy: 0.7844 - auc_1: 0.8820 - val_loss: 0.4511 - val_binary_accuracy: 0.7833 - val_auc_1: 0.8804\n",
      "Epoch 37/1000\n",
      "15/15 [==============================] - 0s 5ms/step - loss: 0.4475 - binary_accuracy: 0.7859 - auc_1: 0.8821 - val_loss: 0.4515 - val_binary_accuracy: 0.7816 - val_auc_1: 0.8789\n",
      "Epoch 38/1000\n",
      "15/15 [==============================] - 0s 5ms/step - loss: 0.4482 - binary_accuracy: 0.7861 - auc_1: 0.8820 - val_loss: 0.4517 - val_binary_accuracy: 0.7836 - val_auc_1: 0.8794\n",
      "Epoch 39/1000\n",
      "15/15 [==============================] - 0s 5ms/step - loss: 0.4480 - binary_accuracy: 0.7847 - auc_1: 0.8816 - val_loss: 0.4511 - val_binary_accuracy: 0.7846 - val_auc_1: 0.8803\n",
      "Epoch 40/1000\n",
      "15/15 [==============================] - 0s 5ms/step - loss: 0.4473 - binary_accuracy: 0.7864 - auc_1: 0.8819 - val_loss: 0.4515 - val_binary_accuracy: 0.7778 - val_auc_1: 0.8789\n",
      "Epoch 41/1000\n",
      "15/15 [==============================] - 0s 5ms/step - loss: 0.4475 - binary_accuracy: 0.7863 - auc_1: 0.8819 - val_loss: 0.4509 - val_binary_accuracy: 0.7824 - val_auc_1: 0.8800\n",
      "INFO:tensorflow:Assets written to: model_deep\\multi_layer.tf\\assets\n",
      "Epoch 42/1000\n",
      "15/15 [==============================] - 0s 4ms/step - loss: 0.4466 - binary_accuracy: 0.7860 - auc_1: 0.8822 - val_loss: 0.4501 - val_binary_accuracy: 0.7836 - val_auc_1: 0.8800\n",
      "INFO:tensorflow:Assets written to: model_deep\\multi_layer.tf\\assets\n",
      "Epoch 43/1000\n",
      "15/15 [==============================] - 0s 5ms/step - loss: 0.4466 - binary_accuracy: 0.7865 - auc_1: 0.8820 - val_loss: 0.4505 - val_binary_accuracy: 0.7807 - val_auc_1: 0.8800\n",
      "Epoch 44/1000\n",
      "15/15 [==============================] - 0s 8ms/step - loss: 0.4482 - binary_accuracy: 0.7855 - auc_1: 0.8809 - val_loss: 0.4506 - val_binary_accuracy: 0.7782 - val_auc_1: 0.8791\n",
      "Epoch 45/1000\n",
      "15/15 [==============================] - 0s 7ms/step - loss: 0.4469 - binary_accuracy: 0.7863 - auc_1: 0.8812 - val_loss: 0.4482 - val_binary_accuracy: 0.7809 - val_auc_1: 0.8804\n",
      "INFO:tensorflow:Assets written to: model_deep\\multi_layer.tf\\assets\n",
      "Epoch 46/1000\n",
      "15/15 [==============================] - 0s 4ms/step - loss: 0.4465 - binary_accuracy: 0.7852 - auc_1: 0.8818 - val_loss: 0.4498 - val_binary_accuracy: 0.7829 - val_auc_1: 0.8798\n",
      "Epoch 47/1000\n",
      "15/15 [==============================] - 0s 5ms/step - loss: 0.4458 - binary_accuracy: 0.7863 - auc_1: 0.8822 - val_loss: 0.4491 - val_binary_accuracy: 0.7826 - val_auc_1: 0.8798\n",
      "Epoch 48/1000\n",
      "15/15 [==============================] - 0s 5ms/step - loss: 0.4460 - binary_accuracy: 0.7852 - auc_1: 0.8818 - val_loss: 0.4488 - val_binary_accuracy: 0.7865 - val_auc_1: 0.8803\n",
      "Epoch 49/1000\n",
      "15/15 [==============================] - 0s 5ms/step - loss: 0.4461 - binary_accuracy: 0.7859 - auc_1: 0.8817 - val_loss: 0.4501 - val_binary_accuracy: 0.7838 - val_auc_1: 0.8798\n",
      "Epoch 50/1000\n",
      "15/15 [==============================] - 0s 5ms/step - loss: 0.4469 - binary_accuracy: 0.7870 - auc_1: 0.8812 - val_loss: 0.4485 - val_binary_accuracy: 0.7821 - val_auc_1: 0.8810\n",
      "Epoch 51/1000\n",
      "15/15 [==============================] - 0s 5ms/step - loss: 0.4474 - binary_accuracy: 0.7856 - auc_1: 0.8809 - val_loss: 0.4500 - val_binary_accuracy: 0.7799 - val_auc_1: 0.8792\n",
      "Epoch 52/1000\n",
      "15/15 [==============================] - 0s 5ms/step - loss: 0.4475 - binary_accuracy: 0.7859 - auc_1: 0.8803 - val_loss: 0.4484 - val_binary_accuracy: 0.7826 - val_auc_1: 0.8810\n",
      "Epoch 53/1000\n",
      "15/15 [==============================] - 0s 5ms/step - loss: 0.4461 - binary_accuracy: 0.7864 - auc_1: 0.8819 - val_loss: 0.4494 - val_binary_accuracy: 0.7814 - val_auc_1: 0.8799\n",
      "Epoch 54/1000\n",
      "15/15 [==============================] - 0s 5ms/step - loss: 0.4456 - binary_accuracy: 0.7862 - auc_1: 0.8817 - val_loss: 0.4477 - val_binary_accuracy: 0.7797 - val_auc_1: 0.8804\n",
      "INFO:tensorflow:Assets written to: model_deep\\multi_layer.tf\\assets\n",
      "Epoch 55/1000\n",
      "15/15 [==============================] - 0s 7ms/step - loss: 0.4457 - binary_accuracy: 0.7861 - auc_1: 0.8815 - val_loss: 0.4477 - val_binary_accuracy: 0.7807 - val_auc_1: 0.8811\n",
      "Epoch 56/1000\n",
      "15/15 [==============================] - 0s 4ms/step - loss: 0.4450 - binary_accuracy: 0.7867 - auc_1: 0.8822 - val_loss: 0.4492 - val_binary_accuracy: 0.7831 - val_auc_1: 0.8800\n",
      "Epoch 57/1000\n",
      "15/15 [==============================] - 0s 5ms/step - loss: 0.4453 - binary_accuracy: 0.7846 - auc_1: 0.8818 - val_loss: 0.4489 - val_binary_accuracy: 0.7858 - val_auc_1: 0.8799\n",
      "Epoch 58/1000\n",
      "15/15 [==============================] - 0s 6ms/step - loss: 0.4452 - binary_accuracy: 0.7862 - auc_1: 0.8818 - val_loss: 0.4489 - val_binary_accuracy: 0.7775 - val_auc_1: 0.8787\n",
      "Epoch 59/1000\n",
      "15/15 [==============================] - 0s 6ms/step - loss: 0.4457 - binary_accuracy: 0.7859 - auc_1: 0.8812 - val_loss: 0.4477 - val_binary_accuracy: 0.7833 - val_auc_1: 0.8805\n",
      "Epoch 60/1000\n",
      "15/15 [==============================] - 0s 5ms/step - loss: 0.4450 - binary_accuracy: 0.7871 - auc_1: 0.8818 - val_loss: 0.4471 - val_binary_accuracy: 0.7846 - val_auc_1: 0.8809\n",
      "INFO:tensorflow:Assets written to: model_deep\\multi_layer.tf\\assets\n",
      "Epoch 61/1000\n",
      "15/15 [==============================] - 0s 4ms/step - loss: 0.4459 - binary_accuracy: 0.7866 - auc_1: 0.8813 - val_loss: 0.4480 - val_binary_accuracy: 0.7848 - val_auc_1: 0.8806\n",
      "Epoch 62/1000\n",
      "15/15 [==============================] - 0s 4ms/step - loss: 0.4449 - binary_accuracy: 0.7863 - auc_1: 0.8818 - val_loss: 0.4486 - val_binary_accuracy: 0.7807 - val_auc_1: 0.8809\n",
      "Epoch 63/1000\n",
      "15/15 [==============================] - 0s 4ms/step - loss: 0.4460 - binary_accuracy: 0.7859 - auc_1: 0.8813 - val_loss: 0.4489 - val_binary_accuracy: 0.7782 - val_auc_1: 0.8787\n",
      "Epoch 64/1000\n",
      "15/15 [==============================] - 0s 4ms/step - loss: 0.4461 - binary_accuracy: 0.7849 - auc_1: 0.8808 - val_loss: 0.4485 - val_binary_accuracy: 0.7829 - val_auc_1: 0.8799\n",
      "Epoch 65/1000\n",
      "15/15 [==============================] - 0s 4ms/step - loss: 0.4458 - binary_accuracy: 0.7859 - auc_1: 0.8809 - val_loss: 0.4501 - val_binary_accuracy: 0.7799 - val_auc_1: 0.8783\n",
      "Epoch 66/1000\n",
      "15/15 [==============================] - 0s 4ms/step - loss: 0.4466 - binary_accuracy: 0.7854 - auc_1: 0.8805 - val_loss: 0.4489 - val_binary_accuracy: 0.7816 - val_auc_1: 0.8789\n",
      "Epoch 67/1000\n",
      "15/15 [==============================] - 0s 4ms/step - loss: 0.4456 - binary_accuracy: 0.7852 - auc_1: 0.8811 - val_loss: 0.4479 - val_binary_accuracy: 0.7809 - val_auc_1: 0.8795\n",
      "Epoch 68/1000\n",
      "15/15 [==============================] - 0s 4ms/step - loss: 0.4451 - binary_accuracy: 0.7846 - auc_1: 0.8811 - val_loss: 0.4484 - val_binary_accuracy: 0.7802 - val_auc_1: 0.8799\n",
      "Epoch 69/1000\n",
      "15/15 [==============================] - 0s 4ms/step - loss: 0.4451 - binary_accuracy: 0.7855 - auc_1: 0.8815 - val_loss: 0.4476 - val_binary_accuracy: 0.7824 - val_auc_1: 0.8802\n",
      "Epoch 70/1000\n",
      "15/15 [==============================] - 0s 4ms/step - loss: 0.4453 - binary_accuracy: 0.7855 - auc_1: 0.8812 - val_loss: 0.4473 - val_binary_accuracy: 0.7819 - val_auc_1: 0.8803\n",
      "Epoch 71/1000\n",
      "15/15 [==============================] - 0s 4ms/step - loss: 0.4462 - binary_accuracy: 0.7852 - auc_1: 0.8806 - val_loss: 0.4504 - val_binary_accuracy: 0.7787 - val_auc_1: 0.8790\n",
      "Epoch 72/1000\n",
      "15/15 [==============================] - 0s 4ms/step - loss: 0.4476 - binary_accuracy: 0.7857 - auc_1: 0.8794 - val_loss: 0.4477 - val_binary_accuracy: 0.7812 - val_auc_1: 0.8797\n",
      "Epoch 73/1000\n",
      "15/15 [==============================] - 0s 5ms/step - loss: 0.4460 - binary_accuracy: 0.7847 - auc_1: 0.8806 - val_loss: 0.4468 - val_binary_accuracy: 0.7816 - val_auc_1: 0.8800\n",
      "INFO:tensorflow:Assets written to: model_deep\\multi_layer.tf\\assets\n",
      "Epoch 74/1000\n",
      "15/15 [==============================] - 0s 5ms/step - loss: 0.4456 - binary_accuracy: 0.7857 - auc_1: 0.8812 - val_loss: 0.4475 - val_binary_accuracy: 0.7824 - val_auc_1: 0.8801\n",
      "Epoch 75/1000\n",
      "15/15 [==============================] - 0s 5ms/step - loss: 0.4446 - binary_accuracy: 0.7869 - auc_1: 0.8817 - val_loss: 0.4490 - val_binary_accuracy: 0.7799 - val_auc_1: 0.8791\n",
      "Epoch 76/1000\n",
      "15/15 [==============================] - 0s 5ms/step - loss: 0.4449 - binary_accuracy: 0.7846 - auc_1: 0.8812 - val_loss: 0.4473 - val_binary_accuracy: 0.7809 - val_auc_1: 0.8805\n",
      "Epoch 77/1000\n",
      "15/15 [==============================] - 0s 4ms/step - loss: 0.4453 - binary_accuracy: 0.7864 - auc_1: 0.8812 - val_loss: 0.4485 - val_binary_accuracy: 0.7787 - val_auc_1: 0.8792\n",
      "Epoch 78/1000\n",
      "15/15 [==============================] - 0s 4ms/step - loss: 0.4460 - binary_accuracy: 0.7854 - auc_1: 0.8809 - val_loss: 0.4482 - val_binary_accuracy: 0.7812 - val_auc_1: 0.8797\n",
      "Epoch 79/1000\n",
      "15/15 [==============================] - 0s 4ms/step - loss: 0.4465 - binary_accuracy: 0.7844 - auc_1: 0.8804 - val_loss: 0.4496 - val_binary_accuracy: 0.7775 - val_auc_1: 0.8790\n",
      "Epoch 80/1000\n",
      "15/15 [==============================] - 0s 4ms/step - loss: 0.4451 - binary_accuracy: 0.7847 - auc_1: 0.8810 - val_loss: 0.4474 - val_binary_accuracy: 0.7846 - val_auc_1: 0.8806\n",
      "Epoch 81/1000\n",
      "15/15 [==============================] - 0s 5ms/step - loss: 0.4463 - binary_accuracy: 0.7856 - auc_1: 0.8807 - val_loss: 0.4474 - val_binary_accuracy: 0.7743 - val_auc_1: 0.8791\n",
      "Epoch 82/1000\n",
      "15/15 [==============================] - 0s 4ms/step - loss: 0.4459 - binary_accuracy: 0.7853 - auc_1: 0.8809 - val_loss: 0.4485 - val_binary_accuracy: 0.7812 - val_auc_1: 0.8801\n",
      "Epoch 83/1000\n",
      "15/15 [==============================] - 0s 4ms/step - loss: 0.4464 - binary_accuracy: 0.7828 - auc_1: 0.8805 - val_loss: 0.4482 - val_binary_accuracy: 0.7809 - val_auc_1: 0.8798\n",
      "Epoch 84/1000\n",
      "15/15 [==============================] - 0s 4ms/step - loss: 0.4460 - binary_accuracy: 0.7829 - auc_1: 0.8804 - val_loss: 0.4481 - val_binary_accuracy: 0.7816 - val_auc_1: 0.8798\n",
      "Epoch 85/1000\n",
      "15/15 [==============================] - 0s 4ms/step - loss: 0.4451 - binary_accuracy: 0.7868 - auc_1: 0.8815 - val_loss: 0.4482 - val_binary_accuracy: 0.7799 - val_auc_1: 0.8785\n",
      "Epoch 86/1000\n",
      "15/15 [==============================] - 0s 4ms/step - loss: 0.4449 - binary_accuracy: 0.7863 - auc_1: 0.8813 - val_loss: 0.4470 - val_binary_accuracy: 0.7846 - val_auc_1: 0.8804\n",
      "Epoch 87/1000\n",
      "15/15 [==============================] - 0s 4ms/step - loss: 0.4449 - binary_accuracy: 0.7851 - auc_1: 0.8814 - val_loss: 0.4472 - val_binary_accuracy: 0.7833 - val_auc_1: 0.8796\n",
      "Epoch 88/1000\n",
      "15/15 [==============================] - 0s 4ms/step - loss: 0.4454 - binary_accuracy: 0.7861 - auc_1: 0.8805 - val_loss: 0.4475 - val_binary_accuracy: 0.7802 - val_auc_1: 0.8793\n",
      "Epoch 89/1000\n",
      "15/15 [==============================] - 0s 4ms/step - loss: 0.4450 - binary_accuracy: 0.7847 - auc_1: 0.8813 - val_loss: 0.4472 - val_binary_accuracy: 0.7814 - val_auc_1: 0.8796\n",
      "Epoch 90/1000\n",
      "15/15 [==============================] - 0s 4ms/step - loss: 0.4452 - binary_accuracy: 0.7864 - auc_1: 0.8811 - val_loss: 0.4477 - val_binary_accuracy: 0.7814 - val_auc_1: 0.8799\n",
      "Epoch 91/1000\n",
      "15/15 [==============================] - 0s 4ms/step - loss: 0.4445 - binary_accuracy: 0.7861 - auc_1: 0.8813 - val_loss: 0.4467 - val_binary_accuracy: 0.7838 - val_auc_1: 0.8800\n",
      "INFO:tensorflow:Assets written to: model_deep\\multi_layer.tf\\assets\n",
      "Epoch 92/1000\n",
      "15/15 [==============================] - 0s 4ms/step - loss: 0.4443 - binary_accuracy: 0.7864 - auc_1: 0.8817 - val_loss: 0.4479 - val_binary_accuracy: 0.7790 - val_auc_1: 0.8793\n",
      "Epoch 93/1000\n",
      "15/15 [==============================] - 0s 5ms/step - loss: 0.4446 - binary_accuracy: 0.7852 - auc_1: 0.8812 - val_loss: 0.4474 - val_binary_accuracy: 0.7787 - val_auc_1: 0.8799\n",
      "Epoch 94/1000\n",
      "15/15 [==============================] - 0s 4ms/step - loss: 0.4447 - binary_accuracy: 0.7860 - auc_1: 0.8811 - val_loss: 0.4464 - val_binary_accuracy: 0.7807 - val_auc_1: 0.8802\n",
      "INFO:tensorflow:Assets written to: model_deep\\multi_layer.tf\\assets\n",
      "Epoch 95/1000\n",
      "15/15 [==============================] - 0s 4ms/step - loss: 0.4461 - binary_accuracy: 0.7835 - auc_1: 0.8800 - val_loss: 0.4480 - val_binary_accuracy: 0.7765 - val_auc_1: 0.8785\n",
      "Epoch 96/1000\n",
      "15/15 [==============================] - 0s 4ms/step - loss: 0.4450 - binary_accuracy: 0.7842 - auc_1: 0.8806 - val_loss: 0.4485 - val_binary_accuracy: 0.7816 - val_auc_1: 0.8789\n",
      "Epoch 97/1000\n",
      "15/15 [==============================] - 0s 4ms/step - loss: 0.4449 - binary_accuracy: 0.7849 - auc_1: 0.8810 - val_loss: 0.4477 - val_binary_accuracy: 0.7804 - val_auc_1: 0.8791\n",
      "Epoch 98/1000\n",
      "15/15 [==============================] - 0s 4ms/step - loss: 0.4451 - binary_accuracy: 0.7852 - auc_1: 0.8808 - val_loss: 0.4474 - val_binary_accuracy: 0.7819 - val_auc_1: 0.8798\n",
      "Epoch 99/1000\n",
      "15/15 [==============================] - 0s 4ms/step - loss: 0.4449 - binary_accuracy: 0.7861 - auc_1: 0.8810 - val_loss: 0.4470 - val_binary_accuracy: 0.7797 - val_auc_1: 0.8801\n",
      "Epoch 100/1000\n",
      "15/15 [==============================] - 0s 4ms/step - loss: 0.4452 - binary_accuracy: 0.7848 - auc_1: 0.8808 - val_loss: 0.4471 - val_binary_accuracy: 0.7802 - val_auc_1: 0.8803\n",
      "Epoch 101/1000\n",
      "15/15 [==============================] - 0s 4ms/step - loss: 0.4453 - binary_accuracy: 0.7836 - auc_1: 0.8807 - val_loss: 0.4478 - val_binary_accuracy: 0.7787 - val_auc_1: 0.8785\n",
      "Epoch 102/1000\n",
      "15/15 [==============================] - 0s 5ms/step - loss: 0.4449 - binary_accuracy: 0.7856 - auc_1: 0.8811 - val_loss: 0.4487 - val_binary_accuracy: 0.7804 - val_auc_1: 0.8799\n",
      "Epoch 103/1000\n",
      "15/15 [==============================] - 0s 7ms/step - loss: 0.4453 - binary_accuracy: 0.7863 - auc_1: 0.8808 - val_loss: 0.4456 - val_binary_accuracy: 0.7831 - val_auc_1: 0.8808\n",
      "INFO:tensorflow:Assets written to: model_deep\\multi_layer.tf\\assets\n",
      "Epoch 104/1000\n",
      "15/15 [==============================] - 0s 4ms/step - loss: 0.4451 - binary_accuracy: 0.7851 - auc_1: 0.8811 - val_loss: 0.4463 - val_binary_accuracy: 0.7838 - val_auc_1: 0.8802\n",
      "Epoch 105/1000\n",
      "15/15 [==============================] - 0s 4ms/step - loss: 0.4453 - binary_accuracy: 0.7856 - auc_1: 0.8804 - val_loss: 0.4480 - val_binary_accuracy: 0.7778 - val_auc_1: 0.8786\n",
      "Epoch 106/1000\n",
      "15/15 [==============================] - 0s 7ms/step - loss: 0.4449 - binary_accuracy: 0.7863 - auc_1: 0.8812 - val_loss: 0.4478 - val_binary_accuracy: 0.7799 - val_auc_1: 0.8789\n",
      "Epoch 107/1000\n",
      "15/15 [==============================] - 0s 7ms/step - loss: 0.4445 - binary_accuracy: 0.7851 - auc_1: 0.8811 - val_loss: 0.4462 - val_binary_accuracy: 0.7816 - val_auc_1: 0.8807\n",
      "Epoch 108/1000\n",
      "15/15 [==============================] - 0s 4ms/step - loss: 0.4448 - binary_accuracy: 0.7872 - auc_1: 0.8812 - val_loss: 0.4467 - val_binary_accuracy: 0.7816 - val_auc_1: 0.8797\n",
      "Epoch 109/1000\n",
      "15/15 [==============================] - 0s 4ms/step - loss: 0.4450 - binary_accuracy: 0.7841 - auc_1: 0.8807 - val_loss: 0.4463 - val_binary_accuracy: 0.7790 - val_auc_1: 0.8798\n",
      "Epoch 110/1000\n",
      "15/15 [==============================] - 0s 4ms/step - loss: 0.4452 - binary_accuracy: 0.7844 - auc_1: 0.8808 - val_loss: 0.4475 - val_binary_accuracy: 0.7843 - val_auc_1: 0.8800\n",
      "Epoch 111/1000\n",
      "15/15 [==============================] - 0s 4ms/step - loss: 0.4447 - binary_accuracy: 0.7854 - auc_1: 0.8811 - val_loss: 0.4487 - val_binary_accuracy: 0.7824 - val_auc_1: 0.8793\n",
      "Epoch 112/1000\n",
      "15/15 [==============================] - 0s 4ms/step - loss: 0.4456 - binary_accuracy: 0.7844 - auc_1: 0.8800 - val_loss: 0.4468 - val_binary_accuracy: 0.7809 - val_auc_1: 0.8799\n",
      "Epoch 113/1000\n",
      "15/15 [==============================] - 0s 4ms/step - loss: 0.4443 - binary_accuracy: 0.7867 - auc_1: 0.8814 - val_loss: 0.4466 - val_binary_accuracy: 0.7814 - val_auc_1: 0.8799\n",
      "Epoch 114/1000\n",
      "15/15 [==============================] - 0s 4ms/step - loss: 0.4440 - binary_accuracy: 0.7855 - auc_1: 0.8816 - val_loss: 0.4458 - val_binary_accuracy: 0.7819 - val_auc_1: 0.8805\n",
      "Epoch 115/1000\n",
      "15/15 [==============================] - 0s 4ms/step - loss: 0.4446 - binary_accuracy: 0.7871 - auc_1: 0.8813 - val_loss: 0.4489 - val_binary_accuracy: 0.7787 - val_auc_1: 0.8789\n",
      "Epoch 116/1000\n",
      "15/15 [==============================] - 0s 4ms/step - loss: 0.4448 - binary_accuracy: 0.7861 - auc_1: 0.8807 - val_loss: 0.4483 - val_binary_accuracy: 0.7753 - val_auc_1: 0.8786\n",
      "Epoch 117/1000\n",
      "15/15 [==============================] - 0s 4ms/step - loss: 0.4450 - binary_accuracy: 0.7864 - auc_1: 0.8808 - val_loss: 0.4470 - val_binary_accuracy: 0.7756 - val_auc_1: 0.8791\n",
      "Epoch 118/1000\n",
      "15/15 [==============================] - 0s 4ms/step - loss: 0.4446 - binary_accuracy: 0.7862 - auc_1: 0.8812 - val_loss: 0.4464 - val_binary_accuracy: 0.7785 - val_auc_1: 0.8792\n",
      "Epoch 119/1000\n",
      "15/15 [==============================] - 0s 4ms/step - loss: 0.4452 - binary_accuracy: 0.7849 - auc_1: 0.8804 - val_loss: 0.4482 - val_binary_accuracy: 0.7836 - val_auc_1: 0.8796\n",
      "Epoch 120/1000\n",
      "15/15 [==============================] - 0s 4ms/step - loss: 0.4448 - binary_accuracy: 0.7857 - auc_1: 0.8809 - val_loss: 0.4477 - val_binary_accuracy: 0.7821 - val_auc_1: 0.8796\n",
      "Epoch 121/1000\n",
      "15/15 [==============================] - 0s 4ms/step - loss: 0.4444 - binary_accuracy: 0.7872 - auc_1: 0.8814 - val_loss: 0.4476 - val_binary_accuracy: 0.7809 - val_auc_1: 0.8797\n",
      "Epoch 122/1000\n",
      "15/15 [==============================] - 0s 5ms/step - loss: 0.4450 - binary_accuracy: 0.7852 - auc_1: 0.8807 - val_loss: 0.4460 - val_binary_accuracy: 0.7816 - val_auc_1: 0.8798\n",
      "Epoch 123/1000\n",
      "15/15 [==============================] - 0s 4ms/step - loss: 0.4449 - binary_accuracy: 0.7853 - auc_1: 0.8809 - val_loss: 0.4463 - val_binary_accuracy: 0.7838 - val_auc_1: 0.8802\n",
      "Epoch 124/1000\n",
      "15/15 [==============================] - 0s 4ms/step - loss: 0.4450 - binary_accuracy: 0.7847 - auc_1: 0.8807 - val_loss: 0.4480 - val_binary_accuracy: 0.7807 - val_auc_1: 0.8793\n",
      "Epoch 125/1000\n",
      "15/15 [==============================] - 0s 4ms/step - loss: 0.4459 - binary_accuracy: 0.7836 - auc_1: 0.8800 - val_loss: 0.4477 - val_binary_accuracy: 0.7809 - val_auc_1: 0.8797\n",
      "Epoch 126/1000\n",
      "15/15 [==============================] - 0s 4ms/step - loss: 0.4456 - binary_accuracy: 0.7841 - auc_1: 0.8805 - val_loss: 0.4475 - val_binary_accuracy: 0.7782 - val_auc_1: 0.8791\n",
      "Epoch 127/1000\n",
      "15/15 [==============================] - 0s 4ms/step - loss: 0.4444 - binary_accuracy: 0.7852 - auc_1: 0.8810 - val_loss: 0.4453 - val_binary_accuracy: 0.7814 - val_auc_1: 0.8811\n",
      "INFO:tensorflow:Assets written to: model_deep\\multi_layer.tf\\assets\n",
      "Epoch 128/1000\n",
      "15/15 [==============================] - 0s 4ms/step - loss: 0.4450 - binary_accuracy: 0.7870 - auc_1: 0.8808 - val_loss: 0.4491 - val_binary_accuracy: 0.7773 - val_auc_1: 0.8780\n",
      "Epoch 129/1000\n",
      "15/15 [==============================] - 0s 4ms/step - loss: 0.4463 - binary_accuracy: 0.7829 - auc_1: 0.8801 - val_loss: 0.4480 - val_binary_accuracy: 0.7858 - val_auc_1: 0.8798\n",
      "Epoch 130/1000\n",
      "15/15 [==============================] - 0s 4ms/step - loss: 0.4445 - binary_accuracy: 0.7857 - auc_1: 0.8810 - val_loss: 0.4480 - val_binary_accuracy: 0.7812 - val_auc_1: 0.8797\n",
      "Epoch 131/1000\n",
      "15/15 [==============================] - 0s 5ms/step - loss: 0.4447 - binary_accuracy: 0.7846 - auc_1: 0.8806 - val_loss: 0.4468 - val_binary_accuracy: 0.7795 - val_auc_1: 0.8799\n",
      "Epoch 132/1000\n",
      "15/15 [==============================] - 0s 4ms/step - loss: 0.4440 - binary_accuracy: 0.7851 - auc_1: 0.8814 - val_loss: 0.4473 - val_binary_accuracy: 0.7792 - val_auc_1: 0.8790\n",
      "Epoch 133/1000\n",
      "15/15 [==============================] - 0s 4ms/step - loss: 0.4450 - binary_accuracy: 0.7840 - auc_1: 0.8803 - val_loss: 0.4458 - val_binary_accuracy: 0.7836 - val_auc_1: 0.8805\n",
      "Epoch 134/1000\n",
      "15/15 [==============================] - 0s 4ms/step - loss: 0.4443 - binary_accuracy: 0.7843 - auc_1: 0.8806 - val_loss: 0.4460 - val_binary_accuracy: 0.7795 - val_auc_1: 0.8794\n",
      "Epoch 135/1000\n",
      "15/15 [==============================] - 0s 4ms/step - loss: 0.4448 - binary_accuracy: 0.7862 - auc_1: 0.8805 - val_loss: 0.4474 - val_binary_accuracy: 0.7780 - val_auc_1: 0.8791\n",
      "Epoch 136/1000\n",
      "15/15 [==============================] - 0s 4ms/step - loss: 0.4454 - binary_accuracy: 0.7838 - auc_1: 0.8805 - val_loss: 0.4472 - val_binary_accuracy: 0.7780 - val_auc_1: 0.8797\n",
      "Epoch 137/1000\n",
      "15/15 [==============================] - 0s 4ms/step - loss: 0.4454 - binary_accuracy: 0.7855 - auc_1: 0.8807 - val_loss: 0.4471 - val_binary_accuracy: 0.7814 - val_auc_1: 0.8799\n",
      "Epoch 138/1000\n",
      "15/15 [==============================] - 0s 4ms/step - loss: 0.4443 - binary_accuracy: 0.7856 - auc_1: 0.8809 - val_loss: 0.4456 - val_binary_accuracy: 0.7853 - val_auc_1: 0.8805\n",
      "Epoch 139/1000\n",
      "15/15 [==============================] - 0s 4ms/step - loss: 0.4457 - binary_accuracy: 0.7840 - auc_1: 0.8797 - val_loss: 0.4480 - val_binary_accuracy: 0.7799 - val_auc_1: 0.8790\n",
      "Epoch 140/1000\n",
      "15/15 [==============================] - 0s 4ms/step - loss: 0.4444 - binary_accuracy: 0.7844 - auc_1: 0.8810 - val_loss: 0.4473 - val_binary_accuracy: 0.7831 - val_auc_1: 0.8795\n",
      "Epoch 141/1000\n",
      "15/15 [==============================] - 0s 4ms/step - loss: 0.4445 - binary_accuracy: 0.7851 - auc_1: 0.8809 - val_loss: 0.4476 - val_binary_accuracy: 0.7819 - val_auc_1: 0.8796\n",
      "Epoch 142/1000\n",
      "15/15 [==============================] - 0s 4ms/step - loss: 0.4441 - binary_accuracy: 0.7868 - auc_1: 0.8812 - val_loss: 0.4460 - val_binary_accuracy: 0.7807 - val_auc_1: 0.8805\n",
      "Epoch 143/1000\n",
      "15/15 [==============================] - 0s 5ms/step - loss: 0.4440 - binary_accuracy: 0.7861 - auc_1: 0.8813 - val_loss: 0.4462 - val_binary_accuracy: 0.7782 - val_auc_1: 0.8804\n",
      "Epoch 144/1000\n",
      "15/15 [==============================] - 0s 5ms/step - loss: 0.4445 - binary_accuracy: 0.7848 - auc_1: 0.8808 - val_loss: 0.4476 - val_binary_accuracy: 0.7787 - val_auc_1: 0.8783\n",
      "Epoch 145/1000\n",
      "15/15 [==============================] - 0s 5ms/step - loss: 0.4462 - binary_accuracy: 0.7806 - auc_1: 0.8799 - val_loss: 0.4487 - val_binary_accuracy: 0.7843 - val_auc_1: 0.8794\n",
      "Epoch 146/1000\n",
      "15/15 [==============================] - 0s 4ms/step - loss: 0.4460 - binary_accuracy: 0.7829 - auc_1: 0.8800 - val_loss: 0.4483 - val_binary_accuracy: 0.7843 - val_auc_1: 0.8797\n",
      "Epoch 147/1000\n",
      "15/15 [==============================] - 0s 4ms/step - loss: 0.4453 - binary_accuracy: 0.7846 - auc_1: 0.8799 - val_loss: 0.4456 - val_binary_accuracy: 0.7836 - val_auc_1: 0.8803\n",
      "Epoch 148/1000\n",
      "15/15 [==============================] - 0s 4ms/step - loss: 0.4447 - binary_accuracy: 0.7850 - auc_1: 0.8805 - val_loss: 0.4488 - val_binary_accuracy: 0.7787 - val_auc_1: 0.8789\n",
      "Epoch 149/1000\n",
      "15/15 [==============================] - 0s 4ms/step - loss: 0.4442 - binary_accuracy: 0.7863 - auc_1: 0.8812 - val_loss: 0.4460 - val_binary_accuracy: 0.7816 - val_auc_1: 0.8802\n",
      "Epoch 150/1000\n",
      "15/15 [==============================] - 0s 4ms/step - loss: 0.4447 - binary_accuracy: 0.7845 - auc_1: 0.8810 - val_loss: 0.4489 - val_binary_accuracy: 0.7809 - val_auc_1: 0.8786\n",
      "Epoch 151/1000\n",
      "15/15 [==============================] - 0s 4ms/step - loss: 0.4461 - binary_accuracy: 0.7844 - auc_1: 0.8798 - val_loss: 0.4471 - val_binary_accuracy: 0.7795 - val_auc_1: 0.8792\n",
      "Epoch 152/1000\n",
      "15/15 [==============================] - 0s 4ms/step - loss: 0.4444 - binary_accuracy: 0.7866 - auc_1: 0.8809 - val_loss: 0.4472 - val_binary_accuracy: 0.7797 - val_auc_1: 0.8789\n",
      "Epoch 153/1000\n",
      "15/15 [==============================] - 0s 4ms/step - loss: 0.4445 - binary_accuracy: 0.7848 - auc_1: 0.8815 - val_loss: 0.4470 - val_binary_accuracy: 0.7809 - val_auc_1: 0.8793\n",
      "Epoch 154/1000\n",
      "15/15 [==============================] - 0s 4ms/step - loss: 0.4446 - binary_accuracy: 0.7859 - auc_1: 0.8813 - val_loss: 0.4463 - val_binary_accuracy: 0.7814 - val_auc_1: 0.8803\n",
      "Epoch 155/1000\n",
      "15/15 [==============================] - 0s 5ms/step - loss: 0.4443 - binary_accuracy: 0.7859 - auc_1: 0.8808 - val_loss: 0.4467 - val_binary_accuracy: 0.7829 - val_auc_1: 0.8798\n",
      "Epoch 156/1000\n",
      "15/15 [==============================] - 0s 5ms/step - loss: 0.4440 - binary_accuracy: 0.7836 - auc_1: 0.8811 - val_loss: 0.4479 - val_binary_accuracy: 0.7819 - val_auc_1: 0.8794\n",
      "Epoch 157/1000\n",
      "15/15 [==============================] - 0s 4ms/step - loss: 0.4445 - binary_accuracy: 0.7848 - auc_1: 0.8808 - val_loss: 0.4467 - val_binary_accuracy: 0.7799 - val_auc_1: 0.8800\n"
     ]
    }
   ],
   "source": [
    "model = Sequential()\n",
    "model.add(InputLayer(input_shape=(norm_train.shape[-1])))\n",
    "model.add(Dense(128, activation='relu', kernel_regularizer='l2'))\n",
    "model.add(Dense(1, activation='sigmoid', kernel_regularizer='l2'))\n",
    "\n",
    "model.compile(optimizer=\"Adam\", loss=BinaryCrossentropy(), metrics=[BinaryAccuracy(), AUC()])\n",
    "history = model.fit(x=norm_train,\n",
    "                    y=y_train,\n",
    "                    batch_size=2048,\n",
    "                    epochs=1000,\n",
    "                    validation_data=(norm_valid, y_val),\n",
    "                    callbacks=[early_stopping, model_checkpoint_callback, logger])"
   ]
  },
  {
   "cell_type": "code",
   "execution_count": 16,
   "id": "6c1baf3a-4166-47e5-8372-d99925448de7",
   "metadata": {
    "tags": []
   },
   "outputs": [
    {
     "name": "stdout",
     "output_type": "stream",
     "text": [
      "INFO:tensorflow:Assets written to: models/model.tf\\assets\n"
     ]
    },
    {
     "data": {
      "image/png": "[encoded data removed]",
      "text/plain": [
       "<Figure size 640x480 with 1 Axes>"
      ]
     },
     "metadata": {},
     "output_type": "display_data"
    },
    {
     "data": {
      "image/png": "[encoded data removed]",
      "text/plain": [
       "<Figure size 640x480 with 1 Axes>"
      ]
     },
     "metadata": {},
     "output_type": "display_data"
    }
   ],
   "source": [
    "run_name = \"Multi Layer Perceptron - ESTA\"\n",
    "additional_description = \"Multi Layer Perceptron\"\n",
    "with mlflow.start_run(run_name=run_name, description=additional_description) as run:\n",
    "        mlflow.log_param(\"X_train.shape\", norm_train.shape)\n",
    "        mlflow.log_param(\"X_test.shape\", norm_test.shape)\n",
    "\n",
    "        y_proba = model.predict(norm_test)\n",
    "        y_true = y_test\n",
    "        features_names = cols\n",
    "        metrics = {}\n",
    "        for threshold in np.arange(0.1, 1, 0.05):\n",
    "            y_pred = (y_proba >= threshold).astype(int)\n",
    "            metrics[f\"accuracy_{threshold:.2f}\"] = accuracy_score(y_true=y_true, y_pred=y_pred)\n",
    "            metrics[f\"precision_{threshold:.2f}\"] = precision_score(y_true=y_true, y_pred=y_pred)\n",
    "            metrics[f\"recall_{threshold:.2f}\"] = recall_score(y_true=y_true, y_pred=y_pred)\n",
    "            metrics[f\"f1_{threshold:.2f}\"] = f1_score(y_true=y_true, y_pred=y_pred)\n",
    "        metrics[\"roc_auc\"] = roc_auc_score(y_true=y_true, y_score=y_proba)\n",
    "        metrics[\"log_loss\"] = log_loss(y_true=y_true, y_pred=y_proba)\n",
    "        mlflow.log_metrics(metrics)\n",
    "        \n",
    "        if os.path.exists('artifacts'):\n",
    "            shutil.rmtree('artifacts')\n",
    "            os.makedirs('artifacts')\n",
    "        \n",
    "        if os.path.exists('models'):\n",
    "            shutil.rmtree('models')\n",
    "            os.makedirs('models')\n",
    "            \n",
    "        with open(\"artifacts/features.txt\", 'w') as f:\n",
    "            f.write(str(features_names))\n",
    "            \n",
    "        model.save('models/model.tf')\n",
    "\n",
    "        roc_plot = RocCurveDisplay.from_predictions(y_pred=y_proba, y_true=y_true)\n",
    "        roc_plot.figure_.savefig('artifacts/roc_auc.png')\n",
    "        plt.show()\n",
    "        \n",
    "        calibration_curve = CalibrationDisplay.from_predictions(y_prob=y_proba, y_true=y_true, n_bins=10)\n",
    "        calibration_curve.figure_.savefig('artifacts/calibration_curve.png')\n",
    "        plt.show()\n",
    "        \n",
    "        mlflow.log_artifacts(\"artifacts\", artifact_path=\"plots_data\")\n",
    "        mlflow.log_artifacts(\"models\", artifact_path=\"model\")"
   ]
  },
  {
   "cell_type": "code",
   "execution_count": 17,
   "id": "987f8638-6897-441c-bf9f-6a277cf4b1f5",
   "metadata": {
    "tags": []
   },
   "outputs": [
    {
     "data": {
      "text/plain": [
       "(620392, 100)"
      ]
     },
     "execution_count": 17,
     "metadata": {},
     "output_type": "execute_result"
    }
   ],
   "source": [
    "test_df = pd.read_parquet(\"data/states_another_mod_test.parquet\", columns=select_feat() + [\"filename\"])\n",
    "past = test_df['filename'].str.startswith(\"IEM-Katowice\")\n",
    "future = test_df['filename'].str.startswith(\"BLAST-Premier-Spring-Final-2022\")\n",
    "test_y = pd.read_parquet(\"data/states_another_mod_test.parquet\", columns=[\"winningSideCT\"])\n",
    "test_y = test_y.squeeze()\n",
    "test_df.shape"
   ]
  },
  {
   "cell_type": "code",
   "execution_count": 19,
   "id": "14c803b6-8160-4995-bec9-b570f8167e3c",
   "metadata": {},
   "outputs": [
    {
     "data": {
      "text/plain": [
       "(620392, 99)"
      ]
     },
     "execution_count": 19,
     "metadata": {},
     "output_type": "execute_result"
    }
   ],
   "source": [
    "test_set = test_df.drop(\"filename\", axis=\"columns\")\n",
    "test_set = scaler.fit_transform(test_set)\n",
    "test_set.shape"
   ]
  },
  {
   "cell_type": "code",
   "execution_count": 22,
   "id": "9db72ac4-00f7-4491-9c31-70ce16600d74",
   "metadata": {},
   "outputs": [
    {
     "data": {
      "text/plain": [
       "{'LogLoss (all)': 0.47458299565974393,\n",
       " 'LogLoss (future)': 0.47630394417800087,\n",
       " 'LogLoss (past)': 0.4729783169430419,\n",
       " 'AUC-ROC (all)': 0.8492606942087579,\n",
       " 'AUC-ROC (future)': 0.85204551326014,\n",
       " 'AUC-ROC (past)': 0.8458100825149664}"
      ]
     },
     "execution_count": 22,
     "metadata": {},
     "output_type": "execute_result"
    }
   ],
   "source": [
    "results = []\n",
    "y_true = test_y\n",
    "y_pred = model.predict(test_set)\n",
    "results = {\n",
    "        \"LogLoss (all)\": log_loss(y_true, y_pred),\n",
    "        \"LogLoss (future)\": log_loss(y_true[future], y_pred[future]),\n",
    "        \"LogLoss (past)\": log_loss(y_true[past], y_pred[past]),\n",
    "        \"AUC-ROC (all)\": roc_auc_score(y_true, y_pred),\n",
    "        \"AUC-ROC (future)\": roc_auc_score(y_true[future], y_pred[future]),\n",
    "        \"AUC-ROC (past)\": roc_auc_score(y_true[past], y_pred[past])\n",
    "}\n",
    "results"
   ]
  },
  {
   "cell_type": "markdown",
   "id": "12e88ff3-b04d-4898-ac85-45472c8c937b",
   "metadata": {
    "tags": []
   },
   "source": [
    "# Większy sampling"
   ]
  },
  {
   "cell_type": "markdown",
   "id": "03dcc095-9b6c-41d6-a698-deb14029bc7a",
   "metadata": {
    "tags": []
   },
   "source": [
    "## Podział"
   ]
  },
  {
   "cell_type": "code",
   "execution_count": 23,
   "id": "68dd7a9d-1ab1-49e9-808d-ef2e39d70112",
   "metadata": {
    "tags": []
   },
   "outputs": [
    {
     "data": {
      "text/plain": [
       "41074"
      ]
     },
     "execution_count": 23,
     "metadata": {},
     "output_type": "execute_result"
    }
   ],
   "source": [
    "groupped = df.groupby(['demoId', 'roundNum'])\n",
    "demo_indexes = groupped.indices\n",
    "np.random.seed(25)\n",
    "how_many = 10\n",
    "samples_indexes = {key: [values[np.random.randint(1, values.size)]\n",
    "                   for i in range(how_many)]\n",
    "                      for key, values in demo_indexes.items()}\n",
    "len(samples_indexes)"
   ]
  },
  {
   "cell_type": "code",
   "execution_count": 24,
   "id": "2f135329-c825-4dcc-987d-d70b05904b2b",
   "metadata": {},
   "outputs": [
    {
     "data": {
      "text/plain": [
       "(82150,)"
      ]
     },
     "execution_count": 24,
     "metadata": {},
     "output_type": "execute_result"
    }
   ],
   "source": [
    "maps = len(samples_indexes.keys())\n",
    "np.random.seed(12)\n",
    "train_ind = np.random.choice(maps, size=int(0.8*maps), replace=False)\n",
    "train_indexes = np.array([])\n",
    "test_indexes = np.array([])\n",
    "for i, key in enumerate(samples_indexes):\n",
    "    if i not in train_ind:\n",
    "        test_indexes = np.concatenate((test_indexes, samples_indexes[key]))\n",
    "\n",
    "test_indexes.shape"
   ]
  },
  {
   "cell_type": "code",
   "execution_count": 25,
   "id": "bc690285-b12b-4b69-8b1f-7ddd6413226b",
   "metadata": {},
   "outputs": [
    {
     "data": {
      "text/plain": [
       "((287510,), (123230,))"
      ]
     },
     "execution_count": 25,
     "metadata": {},
     "output_type": "execute_result"
    }
   ],
   "source": [
    "maps = len(samples_indexes.keys())\n",
    "np.random.seed(12)\n",
    "train_ind = np.random.choice(train_ind, size=int(0.875*train_ind.size), replace=False)\n",
    "train_indexes = np.array([])\n",
    "valid_indexes = np.array([])\n",
    "for i, key in enumerate(samples_indexes):\n",
    "    if i in train_ind:\n",
    "        train_indexes = np.concatenate((train_indexes, samples_indexes[key]))\n",
    "    else:\n",
    "        valid_indexes = np.concatenate((valid_indexes, samples_indexes[key]))\n",
    "\n",
    "train_indexes.shape, valid_indexes.shape"
   ]
  },
  {
   "cell_type": "code",
   "execution_count": 26,
   "id": "07b2b76b-494a-496c-bc11-27c9879f441a",
   "metadata": {},
   "outputs": [],
   "source": [
    "X = df.drop(['demoId', 'roundNum'], axis='columns')\n",
    "y = pd.read_parquet(\"data/ESTA_states_prepared.parquet\", columns=[\"winningSideCT\"])\n",
    "y = y.squeeze()"
   ]
  },
  {
   "cell_type": "code",
   "execution_count": 27,
   "id": "a260ed62-99af-4ff5-85a1-17f279989642",
   "metadata": {},
   "outputs": [
    {
     "data": {
      "text/plain": [
       "1    3875902\n",
       "0    3588396\n",
       "Name: winningSideCT, dtype: int64"
      ]
     },
     "execution_count": 27,
     "metadata": {},
     "output_type": "execute_result"
    }
   ],
   "source": [
    "y.value_counts()"
   ]
  },
  {
   "cell_type": "code",
   "execution_count": 28,
   "id": "db59536e-d7a8-4d48-a178-ab98c7d1747e",
   "metadata": {},
   "outputs": [
    {
     "data": {
      "text/plain": [
       "((287510, 99), (123230, 99), (82150, 99))"
      ]
     },
     "execution_count": 28,
     "metadata": {},
     "output_type": "execute_result"
    }
   ],
   "source": [
    "X_train, X_test, y_train, y_test = X.iloc[train_indexes], X.iloc[test_indexes], y.iloc[train_indexes], y.iloc[test_indexes]\n",
    "X_val, y_val = X.iloc[valid_indexes], y.iloc[valid_indexes]\n",
    "X_train.shape, X_val.shape, X_test.shape"
   ]
  },
  {
   "cell_type": "code",
   "execution_count": 29,
   "id": "bf46fe0b-cfd7-47ae-ba2a-fb72eecd7590",
   "metadata": {},
   "outputs": [],
   "source": [
    "cols = X_train.columns.tolist()\n",
    "scaler = StandardScaler()\n",
    "norm_train = scaler.fit_transform(X_train)\n",
    "norm_valid = scaler.transform(X_val)\n",
    "norm_test = scaler.transform(X_test)"
   ]
  },
  {
   "cell_type": "code",
   "execution_count": 30,
   "id": "a5f13c67-8c9d-4c34-8995-91decdd5b6c5",
   "metadata": {},
   "outputs": [],
   "source": [
    "os.makedirs(\"model_deep\", exist_ok=True)"
   ]
  },
  {
   "cell_type": "code",
   "execution_count": 31,
   "id": "aabd6e0d-13b8-4c3e-b311-abaa9fb544bd",
   "metadata": {},
   "outputs": [],
   "source": [
    "early_stopping = EarlyStopping(\n",
    "    monitor='val_loss',\n",
    "    min_delta=0.0001,\n",
    "    patience=30,\n",
    "    verbose=0,\n",
    "    mode='min',\n",
    "    baseline=None,\n",
    "    restore_best_weights=True,\n",
    ")\n",
    "\n",
    "model_checkpoint_callback = ModelCheckpoint(\n",
    "    filepath=\"model_deep/multi_layer.tf\",\n",
    "    monitor='val_loss',\n",
    "    mode='min',\n",
    "    save_best_only=True)\n",
    "\n",
    "logger = CSVLogger(\n",
    "    \"model_deep/perceptron_log.csv\", separator=',', append=True\n",
    ")"
   ]
  },
  {
   "cell_type": "code",
   "execution_count": 32,
   "id": "8cc41789-d990-4e0b-ac59-e65fe4c181c6",
   "metadata": {
    "tags": []
   },
   "outputs": [
    {
     "name": "stdout",
     "output_type": "stream",
     "text": [
      "Epoch 1/1000\n",
      "141/141 [==============================] - 1s 7ms/step - loss: 0.9343 - binary_accuracy: 0.7711 - auc_2: 0.8661 - val_loss: 0.5565 - val_binary_accuracy: 0.7818 - val_auc_2: 0.8758\n",
      "INFO:tensorflow:Assets written to: model_deep\\multi_layer.tf\\assets\n",
      "Epoch 2/1000\n",
      "141/141 [==============================] - 1s 5ms/step - loss: 0.4847 - binary_accuracy: 0.7842 - auc_2: 0.8803 - val_loss: 0.4615 - val_binary_accuracy: 0.7818 - val_auc_2: 0.8769\n",
      "INFO:tensorflow:Assets written to: model_deep\\multi_layer.tf\\assets\n",
      "Epoch 3/1000\n",
      "141/141 [==============================] - 1s 4ms/step - loss: 0.4511 - binary_accuracy: 0.7841 - auc_2: 0.8803 - val_loss: 0.4550 - val_binary_accuracy: 0.7797 - val_auc_2: 0.8760\n",
      "INFO:tensorflow:Assets written to: model_deep\\multi_layer.tf\\assets\n",
      "Epoch 4/1000\n",
      "141/141 [==============================] - 1s 4ms/step - loss: 0.4474 - binary_accuracy: 0.7840 - auc_2: 0.8801 - val_loss: 0.4517 - val_binary_accuracy: 0.7812 - val_auc_2: 0.8770\n",
      "INFO:tensorflow:Assets written to: model_deep\\multi_layer.tf\\assets\n",
      "Epoch 5/1000\n",
      "141/141 [==============================] - 1s 4ms/step - loss: 0.4466 - binary_accuracy: 0.7829 - auc_2: 0.8797 - val_loss: 0.4514 - val_binary_accuracy: 0.7811 - val_auc_2: 0.8768\n",
      "INFO:tensorflow:Assets written to: model_deep\\multi_layer.tf\\assets\n",
      "Epoch 6/1000\n",
      "141/141 [==============================] - 1s 4ms/step - loss: 0.4456 - binary_accuracy: 0.7836 - auc_2: 0.8799 - val_loss: 0.4512 - val_binary_accuracy: 0.7805 - val_auc_2: 0.8762\n",
      "INFO:tensorflow:Assets written to: model_deep\\multi_layer.tf\\assets\n",
      "Epoch 7/1000\n",
      "141/141 [==============================] - 1s 4ms/step - loss: 0.4456 - binary_accuracy: 0.7832 - auc_2: 0.8796 - val_loss: 0.4510 - val_binary_accuracy: 0.7807 - val_auc_2: 0.8766\n",
      "INFO:tensorflow:Assets written to: model_deep\\multi_layer.tf\\assets\n",
      "Epoch 8/1000\n",
      "141/141 [==============================] - 1s 4ms/step - loss: 0.4454 - binary_accuracy: 0.7833 - auc_2: 0.8795 - val_loss: 0.4508 - val_binary_accuracy: 0.7809 - val_auc_2: 0.8764\n",
      "INFO:tensorflow:Assets written to: model_deep\\multi_layer.tf\\assets\n",
      "Epoch 9/1000\n",
      "141/141 [==============================] - 1s 4ms/step - loss: 0.4453 - binary_accuracy: 0.7833 - auc_2: 0.8795 - val_loss: 0.4505 - val_binary_accuracy: 0.7811 - val_auc_2: 0.8764\n",
      "INFO:tensorflow:Assets written to: model_deep\\multi_layer.tf\\assets\n",
      "Epoch 10/1000\n",
      "141/141 [==============================] - 1s 4ms/step - loss: 0.4452 - binary_accuracy: 0.7830 - auc_2: 0.8793 - val_loss: 0.4506 - val_binary_accuracy: 0.7808 - val_auc_2: 0.8764\n",
      "Epoch 11/1000\n",
      "141/141 [==============================] - 1s 4ms/step - loss: 0.4452 - binary_accuracy: 0.7830 - auc_2: 0.8793 - val_loss: 0.4508 - val_binary_accuracy: 0.7796 - val_auc_2: 0.8759\n",
      "Epoch 12/1000\n",
      "141/141 [==============================] - 1s 5ms/step - loss: 0.4450 - binary_accuracy: 0.7834 - auc_2: 0.8794 - val_loss: 0.4517 - val_binary_accuracy: 0.7781 - val_auc_2: 0.8756\n",
      "Epoch 13/1000\n",
      "141/141 [==============================] - 1s 4ms/step - loss: 0.4450 - binary_accuracy: 0.7827 - auc_2: 0.8792 - val_loss: 0.4502 - val_binary_accuracy: 0.7810 - val_auc_2: 0.8763\n",
      "INFO:tensorflow:Assets written to: model_deep\\multi_layer.tf\\assets\n",
      "Epoch 14/1000\n",
      "141/141 [==============================] - 1s 4ms/step - loss: 0.4449 - binary_accuracy: 0.7832 - auc_2: 0.8794 - val_loss: 0.4508 - val_binary_accuracy: 0.7801 - val_auc_2: 0.8757\n",
      "Epoch 15/1000\n",
      "141/141 [==============================] - 1s 4ms/step - loss: 0.4447 - binary_accuracy: 0.7828 - auc_2: 0.8794 - val_loss: 0.4517 - val_binary_accuracy: 0.7770 - val_auc_2: 0.8749\n",
      "Epoch 16/1000\n",
      "141/141 [==============================] - 1s 4ms/step - loss: 0.4450 - binary_accuracy: 0.7822 - auc_2: 0.8791 - val_loss: 0.4509 - val_binary_accuracy: 0.7801 - val_auc_2: 0.8759\n",
      "Epoch 17/1000\n",
      "141/141 [==============================] - 1s 4ms/step - loss: 0.4448 - binary_accuracy: 0.7830 - auc_2: 0.8792 - val_loss: 0.4505 - val_binary_accuracy: 0.7790 - val_auc_2: 0.8757\n",
      "Epoch 18/1000\n",
      "141/141 [==============================] - 0s 4ms/step - loss: 0.4446 - binary_accuracy: 0.7831 - auc_2: 0.8793 - val_loss: 0.4512 - val_binary_accuracy: 0.7791 - val_auc_2: 0.8757\n",
      "Epoch 19/1000\n",
      "141/141 [==============================] - 1s 4ms/step - loss: 0.4446 - binary_accuracy: 0.7833 - auc_2: 0.8794 - val_loss: 0.4505 - val_binary_accuracy: 0.7802 - val_auc_2: 0.8758\n",
      "Epoch 20/1000\n",
      "141/141 [==============================] - 1s 4ms/step - loss: 0.4447 - binary_accuracy: 0.7829 - auc_2: 0.8792 - val_loss: 0.4499 - val_binary_accuracy: 0.7809 - val_auc_2: 0.8765\n",
      "INFO:tensorflow:Assets written to: model_deep\\multi_layer.tf\\assets\n",
      "Epoch 21/1000\n",
      "141/141 [==============================] - 1s 5ms/step - loss: 0.4448 - binary_accuracy: 0.7827 - auc_2: 0.8793 - val_loss: 0.4507 - val_binary_accuracy: 0.7790 - val_auc_2: 0.8750\n",
      "Epoch 22/1000\n",
      "141/141 [==============================] - 1s 4ms/step - loss: 0.4446 - binary_accuracy: 0.7827 - auc_2: 0.8793 - val_loss: 0.4493 - val_binary_accuracy: 0.7817 - val_auc_2: 0.8768\n",
      "INFO:tensorflow:Assets written to: model_deep\\multi_layer.tf\\assets\n",
      "Epoch 23/1000\n",
      "141/141 [==============================] - 1s 4ms/step - loss: 0.4447 - binary_accuracy: 0.7826 - auc_2: 0.8793 - val_loss: 0.4506 - val_binary_accuracy: 0.7799 - val_auc_2: 0.8762\n",
      "Epoch 24/1000\n",
      "141/141 [==============================] - 1s 4ms/step - loss: 0.4446 - binary_accuracy: 0.7827 - auc_2: 0.8792 - val_loss: 0.4505 - val_binary_accuracy: 0.7806 - val_auc_2: 0.8757\n",
      "Epoch 25/1000\n",
      "141/141 [==============================] - 1s 4ms/step - loss: 0.4446 - binary_accuracy: 0.7832 - auc_2: 0.8793 - val_loss: 0.4504 - val_binary_accuracy: 0.7802 - val_auc_2: 0.8757\n",
      "Epoch 26/1000\n",
      "141/141 [==============================] - 1s 4ms/step - loss: 0.4446 - binary_accuracy: 0.7828 - auc_2: 0.8793 - val_loss: 0.4513 - val_binary_accuracy: 0.7791 - val_auc_2: 0.8751\n",
      "Epoch 27/1000\n",
      "141/141 [==============================] - 1s 4ms/step - loss: 0.4445 - binary_accuracy: 0.7828 - auc_2: 0.8792 - val_loss: 0.4518 - val_binary_accuracy: 0.7769 - val_auc_2: 0.8745\n",
      "Epoch 28/1000\n",
      "141/141 [==============================] - 1s 4ms/step - loss: 0.4447 - binary_accuracy: 0.7828 - auc_2: 0.8791 - val_loss: 0.4491 - val_binary_accuracy: 0.7822 - val_auc_2: 0.8767\n",
      "INFO:tensorflow:Assets written to: model_deep\\multi_layer.tf\\assets\n",
      "Epoch 29/1000\n",
      "141/141 [==============================] - 1s 5ms/step - loss: 0.4445 - binary_accuracy: 0.7827 - auc_2: 0.8793 - val_loss: 0.4493 - val_binary_accuracy: 0.7818 - val_auc_2: 0.8766\n",
      "Epoch 30/1000\n",
      "141/141 [==============================] - 1s 4ms/step - loss: 0.4444 - binary_accuracy: 0.7832 - auc_2: 0.8794 - val_loss: 0.4495 - val_binary_accuracy: 0.7807 - val_auc_2: 0.8767\n",
      "Epoch 31/1000\n",
      "141/141 [==============================] - 1s 4ms/step - loss: 0.4443 - binary_accuracy: 0.7833 - auc_2: 0.8794 - val_loss: 0.4502 - val_binary_accuracy: 0.7800 - val_auc_2: 0.8760\n",
      "Epoch 32/1000\n",
      "141/141 [==============================] - 1s 4ms/step - loss: 0.4443 - binary_accuracy: 0.7829 - auc_2: 0.8793 - val_loss: 0.4502 - val_binary_accuracy: 0.7800 - val_auc_2: 0.8761\n",
      "Epoch 33/1000\n",
      "141/141 [==============================] - 1s 4ms/step - loss: 0.4444 - binary_accuracy: 0.7832 - auc_2: 0.8794 - val_loss: 0.4502 - val_binary_accuracy: 0.7799 - val_auc_2: 0.8754\n",
      "Epoch 34/1000\n",
      "141/141 [==============================] - 1s 4ms/step - loss: 0.4443 - binary_accuracy: 0.7830 - auc_2: 0.8794 - val_loss: 0.4498 - val_binary_accuracy: 0.7807 - val_auc_2: 0.8760\n",
      "Epoch 35/1000\n",
      "141/141 [==============================] - 1s 4ms/step - loss: 0.4444 - binary_accuracy: 0.7827 - auc_2: 0.8792 - val_loss: 0.4500 - val_binary_accuracy: 0.7802 - val_auc_2: 0.8760\n",
      "Epoch 36/1000\n",
      "141/141 [==============================] - 1s 4ms/step - loss: 0.4443 - binary_accuracy: 0.7831 - auc_2: 0.8793 - val_loss: 0.4495 - val_binary_accuracy: 0.7807 - val_auc_2: 0.8764\n",
      "Epoch 37/1000\n",
      "141/141 [==============================] - 1s 4ms/step - loss: 0.4444 - binary_accuracy: 0.7827 - auc_2: 0.8792 - val_loss: 0.4500 - val_binary_accuracy: 0.7798 - val_auc_2: 0.8760\n",
      "Epoch 38/1000\n",
      "141/141 [==============================] - 1s 4ms/step - loss: 0.4444 - binary_accuracy: 0.7828 - auc_2: 0.8793 - val_loss: 0.4505 - val_binary_accuracy: 0.7777 - val_auc_2: 0.8757\n",
      "Epoch 39/1000\n",
      "141/141 [==============================] - 1s 4ms/step - loss: 0.4441 - binary_accuracy: 0.7832 - auc_2: 0.8795 - val_loss: 0.4512 - val_binary_accuracy: 0.7786 - val_auc_2: 0.8748\n",
      "Epoch 40/1000\n",
      "141/141 [==============================] - 1s 4ms/step - loss: 0.4443 - binary_accuracy: 0.7829 - auc_2: 0.8793 - val_loss: 0.4510 - val_binary_accuracy: 0.7784 - val_auc_2: 0.8752\n",
      "Epoch 41/1000\n",
      "141/141 [==============================] - 1s 4ms/step - loss: 0.4444 - binary_accuracy: 0.7822 - auc_2: 0.8792 - val_loss: 0.4499 - val_binary_accuracy: 0.7795 - val_auc_2: 0.8757\n",
      "Epoch 42/1000\n",
      "141/141 [==============================] - 1s 4ms/step - loss: 0.4443 - binary_accuracy: 0.7828 - auc_2: 0.8792 - val_loss: 0.4500 - val_binary_accuracy: 0.7796 - val_auc_2: 0.8758\n",
      "Epoch 43/1000\n",
      "141/141 [==============================] - 1s 4ms/step - loss: 0.4443 - binary_accuracy: 0.7834 - auc_2: 0.8793 - val_loss: 0.4500 - val_binary_accuracy: 0.7792 - val_auc_2: 0.8759\n",
      "Epoch 44/1000\n",
      "141/141 [==============================] - 1s 4ms/step - loss: 0.4442 - binary_accuracy: 0.7827 - auc_2: 0.8792 - val_loss: 0.4499 - val_binary_accuracy: 0.7791 - val_auc_2: 0.8758\n",
      "Epoch 45/1000\n",
      "141/141 [==============================] - 1s 4ms/step - loss: 0.4440 - binary_accuracy: 0.7829 - auc_2: 0.8794 - val_loss: 0.4493 - val_binary_accuracy: 0.7816 - val_auc_2: 0.8766\n",
      "Epoch 46/1000\n",
      "141/141 [==============================] - 1s 4ms/step - loss: 0.4440 - binary_accuracy: 0.7830 - auc_2: 0.8794 - val_loss: 0.4496 - val_binary_accuracy: 0.7801 - val_auc_2: 0.8758\n",
      "Epoch 47/1000\n",
      "141/141 [==============================] - 1s 4ms/step - loss: 0.4442 - binary_accuracy: 0.7829 - auc_2: 0.8793 - val_loss: 0.4498 - val_binary_accuracy: 0.7789 - val_auc_2: 0.8756\n",
      "Epoch 48/1000\n",
      "141/141 [==============================] - 1s 5ms/step - loss: 0.4440 - binary_accuracy: 0.7828 - auc_2: 0.8794 - val_loss: 0.4494 - val_binary_accuracy: 0.7817 - val_auc_2: 0.8763\n",
      "Epoch 49/1000\n",
      "141/141 [==============================] - 1s 4ms/step - loss: 0.4440 - binary_accuracy: 0.7833 - auc_2: 0.8794 - val_loss: 0.4495 - val_binary_accuracy: 0.7797 - val_auc_2: 0.8760\n",
      "Epoch 50/1000\n",
      "141/141 [==============================] - 1s 4ms/step - loss: 0.4441 - binary_accuracy: 0.7829 - auc_2: 0.8793 - val_loss: 0.4493 - val_binary_accuracy: 0.7811 - val_auc_2: 0.8763\n",
      "Epoch 51/1000\n",
      "141/141 [==============================] - 1s 4ms/step - loss: 0.4442 - binary_accuracy: 0.7830 - auc_2: 0.8792 - val_loss: 0.4493 - val_binary_accuracy: 0.7799 - val_auc_2: 0.8762\n",
      "Epoch 52/1000\n",
      "141/141 [==============================] - 1s 4ms/step - loss: 0.4442 - binary_accuracy: 0.7828 - auc_2: 0.8793 - val_loss: 0.4492 - val_binary_accuracy: 0.7795 - val_auc_2: 0.8763\n",
      "Epoch 53/1000\n",
      "141/141 [==============================] - 1s 4ms/step - loss: 0.4440 - binary_accuracy: 0.7835 - auc_2: 0.8794 - val_loss: 0.4506 - val_binary_accuracy: 0.7780 - val_auc_2: 0.8751\n",
      "Epoch 54/1000\n",
      "141/141 [==============================] - 1s 4ms/step - loss: 0.4440 - binary_accuracy: 0.7829 - auc_2: 0.8793 - val_loss: 0.4500 - val_binary_accuracy: 0.7776 - val_auc_2: 0.8758\n",
      "Epoch 55/1000\n",
      "141/141 [==============================] - 1s 4ms/step - loss: 0.4441 - binary_accuracy: 0.7828 - auc_2: 0.8792 - val_loss: 0.4502 - val_binary_accuracy: 0.7799 - val_auc_2: 0.8759\n",
      "Epoch 56/1000\n",
      "141/141 [==============================] - 1s 4ms/step - loss: 0.4439 - binary_accuracy: 0.7829 - auc_2: 0.8794 - val_loss: 0.4501 - val_binary_accuracy: 0.7796 - val_auc_2: 0.8757\n",
      "Epoch 57/1000\n",
      "141/141 [==============================] - 1s 4ms/step - loss: 0.4441 - binary_accuracy: 0.7830 - auc_2: 0.8793 - val_loss: 0.4507 - val_binary_accuracy: 0.7770 - val_auc_2: 0.8751\n",
      "Epoch 58/1000\n",
      "141/141 [==============================] - 1s 4ms/step - loss: 0.4442 - binary_accuracy: 0.7827 - auc_2: 0.8792 - val_loss: 0.4502 - val_binary_accuracy: 0.7800 - val_auc_2: 0.8761\n"
     ]
    }
   ],
   "source": [
    "model = Sequential()\n",
    "model.add(InputLayer(input_shape=(norm_train.shape[-1])))\n",
    "model.add(Dense(128, activation='relu', kernel_regularizer='l2'))\n",
    "model.add(Dense(1, activation='sigmoid', kernel_regularizer='l2'))\n",
    "\n",
    "model.compile(optimizer=\"Adam\", loss=BinaryCrossentropy(), metrics=[BinaryAccuracy(), AUC()])\n",
    "history = model.fit(x=norm_train,\n",
    "                    y=y_train,\n",
    "                    batch_size=2048,\n",
    "                    epochs=1000,\n",
    "                    validation_data=(norm_valid, y_val),\n",
    "                    callbacks=[early_stopping, model_checkpoint_callback, logger])"
   ]
  },
  {
   "cell_type": "code",
   "execution_count": 33,
   "id": "45f32186-43a7-4cd8-8018-129c8700b5da",
   "metadata": {
    "tags": []
   },
   "outputs": [
    {
     "name": "stdout",
     "output_type": "stream",
     "text": [
      "INFO:tensorflow:Assets written to: models/model.tf\\assets\n"
     ]
    },
    {
     "data": {
      "image/png": "[encoded data removed]",
      "text/plain": [
       "<Figure size 640x480 with 1 Axes>"
      ]
     },
     "metadata": {},
     "output_type": "display_data"
    },
    {
     "data": {
      "image/png": "[encoded data removed]",
      "text/plain": [
       "<Figure size 640x480 with 1 Axes>"
      ]
     },
     "metadata": {},
     "output_type": "display_data"
    }
   ],
   "source": [
    "run_name = \"Multi Layer Perceptron - ESTA 10 samples\"\n",
    "additional_description = \"Multi Layer Perceptron\"\n",
    "with mlflow.start_run(run_name=run_name, description=additional_description) as run:\n",
    "        mlflow.log_param(\"X_train.shape\", norm_train.shape)\n",
    "        mlflow.log_param(\"X_test.shape\", norm_test.shape)\n",
    "\n",
    "        y_proba = model.predict(norm_test)\n",
    "        y_true = y_test\n",
    "        features_names = cols\n",
    "        metrics = {}\n",
    "        for threshold in np.arange(0.1, 1, 0.05):\n",
    "            y_pred = (y_proba >= threshold).astype(int)\n",
    "            metrics[f\"accuracy_{threshold:.2f}\"] = accuracy_score(y_true=y_true, y_pred=y_pred)\n",
    "            metrics[f\"precision_{threshold:.2f}\"] = precision_score(y_true=y_true, y_pred=y_pred)\n",
    "            metrics[f\"recall_{threshold:.2f}\"] = recall_score(y_true=y_true, y_pred=y_pred)\n",
    "            metrics[f\"f1_{threshold:.2f}\"] = f1_score(y_true=y_true, y_pred=y_pred)\n",
    "        metrics[\"roc_auc\"] = roc_auc_score(y_true=y_true, y_score=y_proba)\n",
    "        metrics[\"log_loss\"] = log_loss(y_true=y_true, y_pred=y_proba)\n",
    "        mlflow.log_metrics(metrics)\n",
    "        \n",
    "        if os.path.exists('artifacts'):\n",
    "            shutil.rmtree('artifacts')\n",
    "            os.makedirs('artifacts')\n",
    "        \n",
    "        if os.path.exists('models'):\n",
    "            shutil.rmtree('models')\n",
    "            os.makedirs('models')\n",
    "            \n",
    "        with open(\"artifacts/features.txt\", 'w') as f:\n",
    "            f.write(str(features_names))\n",
    "            \n",
    "        model.save('models/model.tf')\n",
    "\n",
    "        roc_plot = RocCurveDisplay.from_predictions(y_pred=y_proba, y_true=y_true)\n",
    "        roc_plot.figure_.savefig('artifacts/roc_auc.png')\n",
    "        plt.show()\n",
    "        \n",
    "        calibration_curve = CalibrationDisplay.from_predictions(y_prob=y_proba, y_true=y_true, n_bins=10)\n",
    "        calibration_curve.figure_.savefig('artifacts/calibration_curve.png')\n",
    "        plt.show()\n",
    "        \n",
    "        mlflow.log_artifacts(\"artifacts\", artifact_path=\"plots_data\")\n",
    "        mlflow.log_artifacts(\"models\", artifact_path=\"model\")"
   ]
  },
  {
   "cell_type": "code",
   "execution_count": 34,
   "id": "0127968a-4d4b-4cd3-829e-da5c8982200a",
   "metadata": {
    "tags": []
   },
   "outputs": [
    {
     "data": {
      "text/plain": [
       "(620392, 100)"
      ]
     },
     "execution_count": 34,
     "metadata": {},
     "output_type": "execute_result"
    }
   ],
   "source": [
    "test_df = pd.read_parquet(\"data/states_another_mod_test.parquet\", columns=select_feat() + [\"filename\"])\n",
    "past = test_df['filename'].str.startswith(\"IEM-Katowice\")\n",
    "future = test_df['filename'].str.startswith(\"BLAST-Premier-Spring-Final-2022\")\n",
    "test_y = pd.read_parquet(\"data/states_another_mod_test.parquet\", columns=[\"winningSideCT\"])\n",
    "test_y = test_y.squeeze()\n",
    "test_df.shape"
   ]
  },
  {
   "cell_type": "code",
   "execution_count": 35,
   "id": "4bf38ebc-af74-4cf0-a590-f8ade09a36f6",
   "metadata": {},
   "outputs": [
    {
     "data": {
      "text/plain": [
       "(620392, 99)"
      ]
     },
     "execution_count": 35,
     "metadata": {},
     "output_type": "execute_result"
    }
   ],
   "source": [
    "test_set = test_df.drop(\"filename\", axis=\"columns\")\n",
    "test_set = scaler.fit_transform(test_set)\n",
    "test_set.shape"
   ]
  },
  {
   "cell_type": "code",
   "execution_count": 36,
   "id": "4f07b86d-6437-4968-82bf-530107889e2d",
   "metadata": {},
   "outputs": [
    {
     "data": {
      "text/plain": [
       "{'LogLoss (all)': 0.47369623971313723,\n",
       " 'LogLoss (future)': 0.4734274935436232,\n",
       " 'LogLoss (past)': 0.47394682899796436,\n",
       " 'AUC-ROC (all)': 0.8495413314726281,\n",
       " 'AUC-ROC (future)': 0.8531864090839258,\n",
       " 'AUC-ROC (past)': 0.8452586175413814}"
      ]
     },
     "execution_count": 36,
     "metadata": {},
     "output_type": "execute_result"
    }
   ],
   "source": [
    "results = []\n",
    "y_true = test_y\n",
    "y_pred = model.predict(test_set)\n",
    "results = {\n",
    "        \"LogLoss (all)\": log_loss(y_true, y_pred),\n",
    "        \"LogLoss (future)\": log_loss(y_true[future], y_pred[future]),\n",
    "        \"LogLoss (past)\": log_loss(y_true[past], y_pred[past]),\n",
    "        \"AUC-ROC (all)\": roc_auc_score(y_true, y_pred),\n",
    "        \"AUC-ROC (future)\": roc_auc_score(y_true[future], y_pred[future]),\n",
    "        \"AUC-ROC (past)\": roc_auc_score(y_true[past], y_pred[past])\n",
    "}\n",
    "results"
   ]
  },
  {
   "cell_type": "markdown",
   "id": "a29da07e-45c6-4fcc-8313-2a659e6cc8cd",
   "metadata": {},
   "source": [
    "# All dataset"
   ]
  },
  {
   "cell_type": "code",
   "execution_count": 37,
   "id": "c20e6e39-7ff9-45dc-a32b-e8795c3c76f8",
   "metadata": {
    "tags": []
   },
   "outputs": [
    {
     "data": {
      "text/plain": [
       "1558"
      ]
     },
     "execution_count": 37,
     "metadata": {},
     "output_type": "execute_result"
    }
   ],
   "source": [
    "groupped = df.groupby(['demoId'])\n",
    "samples_indexes = groupped.indices\n",
    "len(samples_indexes)"
   ]
  },
  {
   "cell_type": "code",
   "execution_count": 38,
   "id": "a7a932e7-1524-4b8d-8a1d-0bf889912dab",
   "metadata": {},
   "outputs": [
    {
     "data": {
      "text/plain": [
       "(1500668,)"
      ]
     },
     "execution_count": 38,
     "metadata": {},
     "output_type": "execute_result"
    }
   ],
   "source": [
    "maps = len(samples_indexes.keys())\n",
    "np.random.seed(12)\n",
    "train_ind = np.random.choice(maps, size=int(0.8*maps), replace=False)\n",
    "train_indexes = np.array([])\n",
    "test_indexes = np.array([])\n",
    "for i, key in enumerate(samples_indexes):\n",
    "    if i not in train_ind:\n",
    "        test_indexes = np.concatenate((test_indexes, samples_indexes[key]))\n",
    "\n",
    "test_indexes.shape"
   ]
  },
  {
   "cell_type": "code",
   "execution_count": 39,
   "id": "64e5c276-d9f3-42e7-b740-fb25dd026af1",
   "metadata": {},
   "outputs": [
    {
     "data": {
      "text/plain": [
       "((5226658,), (2237640,))"
      ]
     },
     "execution_count": 39,
     "metadata": {},
     "output_type": "execute_result"
    }
   ],
   "source": [
    "maps = len(samples_indexes.keys())\n",
    "np.random.seed(12)\n",
    "train_ind = np.random.choice(train_ind, size=int(0.875*train_ind.size), replace=False)\n",
    "train_indexes = np.array([])\n",
    "valid_indexes = np.array([])\n",
    "for i, key in enumerate(samples_indexes):\n",
    "    if i in train_ind:\n",
    "        train_indexes = np.concatenate((train_indexes, samples_indexes[key]))\n",
    "    else:\n",
    "        valid_indexes = np.concatenate((valid_indexes, samples_indexes[key]))\n",
    "\n",
    "train_indexes.shape, valid_indexes.shape"
   ]
  },
  {
   "cell_type": "code",
   "execution_count": 40,
   "id": "38a184e3-53cc-4af1-9ff9-b7289477f7e6",
   "metadata": {},
   "outputs": [],
   "source": [
    "X = df.drop(['demoId', 'roundNum'], axis='columns')\n",
    "y = pd.read_parquet(\"data/ESTA_states_prepared.parquet\", columns=[\"winningSideCT\"])\n",
    "y = y.squeeze()"
   ]
  },
  {
   "cell_type": "code",
   "execution_count": 41,
   "id": "6516b956-0386-4d03-ac2a-16e298f67f9e",
   "metadata": {},
   "outputs": [
    {
     "data": {
      "text/plain": [
       "1    3875902\n",
       "0    3588396\n",
       "Name: winningSideCT, dtype: int64"
      ]
     },
     "execution_count": 41,
     "metadata": {},
     "output_type": "execute_result"
    }
   ],
   "source": [
    "y.value_counts()"
   ]
  },
  {
   "cell_type": "code",
   "execution_count": 42,
   "id": "0c68c601-19bd-4056-bb63-24edd7ae87e6",
   "metadata": {},
   "outputs": [
    {
     "data": {
      "text/plain": [
       "((5226658, 99), (2237640, 99), (1500668, 99))"
      ]
     },
     "execution_count": 42,
     "metadata": {},
     "output_type": "execute_result"
    }
   ],
   "source": [
    "X_train, X_test, y_train, y_test = X.iloc[train_indexes], X.iloc[test_indexes], y.iloc[train_indexes], y.iloc[test_indexes]\n",
    "X_val, y_val = X.iloc[valid_indexes], y.iloc[valid_indexes]\n",
    "X_train.shape, X_val.shape, X_test.shape"
   ]
  },
  {
   "cell_type": "code",
   "execution_count": 43,
   "id": "6c0aefac-0352-4f44-a73a-f50f0e4f9bfc",
   "metadata": {},
   "outputs": [
    {
     "data": {
      "text/plain": [
       "(1    0.519761\n",
       " 0    0.480239\n",
       " Name: winningSideCT, dtype: float64,\n",
       " 1    0.518086\n",
       " 0    0.481914\n",
       " Name: winningSideCT, dtype: float64,\n",
       " 1    0.511272\n",
       " 0    0.488728\n",
       " Name: winningSideCT, dtype: float64)"
      ]
     },
     "execution_count": 43,
     "metadata": {},
     "output_type": "execute_result"
    }
   ],
   "source": [
    "y_train.value_counts(normalize=True), y_val.value_counts(normalize=True), y_test.value_counts(normalize=True)"
   ]
  },
  {
   "cell_type": "code",
   "execution_count": 44,
   "id": "7a983ad3-3df5-463e-9359-e9902b00aec7",
   "metadata": {},
   "outputs": [],
   "source": [
    "cols = X_train.columns.tolist()\n",
    "scaler = StandardScaler()\n",
    "norm_train = scaler.fit_transform(X_train)\n",
    "norm_valid = scaler.transform(X_val)\n",
    "norm_test = scaler.transform(X_test)"
   ]
  },
  {
   "cell_type": "code",
   "execution_count": 45,
   "id": "6fb37c97-fd32-4e61-8b3c-b831a5df1567",
   "metadata": {},
   "outputs": [],
   "source": [
    "os.makedirs(\"model_deep\", exist_ok=True)"
   ]
  },
  {
   "cell_type": "code",
   "execution_count": 46,
   "id": "b4649d81-50e3-4c22-bbe1-471e11a7f3bc",
   "metadata": {},
   "outputs": [],
   "source": [
    "early_stopping = EarlyStopping(\n",
    "    monitor='val_loss',\n",
    "    min_delta=0.0001,\n",
    "    patience=30,\n",
    "    verbose=0,\n",
    "    mode='min',\n",
    "    baseline=None,\n",
    "    restore_best_weights=True,\n",
    ")\n",
    "\n",
    "model_checkpoint_callback = ModelCheckpoint(\n",
    "    filepath=\"model_deep/multi_layer.tf\",\n",
    "    monitor='val_loss',\n",
    "    mode='min',\n",
    "    save_best_only=True)\n",
    "\n",
    "logger = CSVLogger(\n",
    "    \"model_deep/perceptron_log.csv\", separator=',', append=True\n",
    ")"
   ]
  },
  {
   "cell_type": "code",
   "execution_count": 47,
   "id": "6b3d7c6f-bfc9-498b-815f-d168d0a30a36",
   "metadata": {
    "tags": []
   },
   "outputs": [
    {
     "name": "stdout",
     "output_type": "stream",
     "text": [
      "Epoch 1/1000\n",
      "523/523 [==============================] - 3s 5ms/step - loss: 0.6166 - binary_accuracy: 0.7605 - auc_3: 0.8582 - val_loss: 0.4756 - val_binary_accuracy: 0.7635 - val_auc_3: 0.8608\n",
      "INFO:tensorflow:Assets written to: model_deep\\multi_layer.tf\\assets\n",
      "Epoch 2/1000\n",
      "523/523 [==============================] - 2s 5ms/step - loss: 0.4718 - binary_accuracy: 0.7639 - auc_3: 0.8623 - val_loss: 0.4743 - val_binary_accuracy: 0.7624 - val_auc_3: 0.8604\n",
      "INFO:tensorflow:Assets written to: model_deep\\multi_layer.tf\\assets\n",
      "Epoch 3/1000\n",
      "523/523 [==============================] - 2s 5ms/step - loss: 0.4713 - binary_accuracy: 0.7635 - auc_3: 0.8620 - val_loss: 0.4744 - val_binary_accuracy: 0.7620 - val_auc_3: 0.8598\n",
      "Epoch 4/1000\n",
      "523/523 [==============================] - 2s 4ms/step - loss: 0.4711 - binary_accuracy: 0.7634 - auc_3: 0.8619 - val_loss: 0.4738 - val_binary_accuracy: 0.7626 - val_auc_3: 0.8604\n",
      "INFO:tensorflow:Assets written to: model_deep\\multi_layer.tf\\assets\n",
      "Epoch 5/1000\n",
      "523/523 [==============================] - 2s 4ms/step - loss: 0.4709 - binary_accuracy: 0.7633 - auc_3: 0.8618 - val_loss: 0.4734 - val_binary_accuracy: 0.7620 - val_auc_3: 0.8605\n",
      "INFO:tensorflow:Assets written to: model_deep\\multi_layer.tf\\assets\n",
      "Epoch 6/1000\n",
      "523/523 [==============================] - 2s 5ms/step - loss: 0.4709 - binary_accuracy: 0.7632 - auc_3: 0.8617 - val_loss: 0.4743 - val_binary_accuracy: 0.7620 - val_auc_3: 0.8594\n",
      "Epoch 7/1000\n",
      "523/523 [==============================] - 2s 5ms/step - loss: 0.4708 - binary_accuracy: 0.7631 - auc_3: 0.8617 - val_loss: 0.4729 - val_binary_accuracy: 0.7632 - val_auc_3: 0.8606\n",
      "INFO:tensorflow:Assets written to: model_deep\\multi_layer.tf\\assets\n",
      "Epoch 8/1000\n",
      "523/523 [==============================] - 2s 5ms/step - loss: 0.4707 - binary_accuracy: 0.7631 - auc_3: 0.8616 - val_loss: 0.4735 - val_binary_accuracy: 0.7627 - val_auc_3: 0.8600\n",
      "Epoch 9/1000\n",
      "523/523 [==============================] - 2s 4ms/step - loss: 0.4707 - binary_accuracy: 0.7630 - auc_3: 0.8616 - val_loss: 0.4731 - val_binary_accuracy: 0.7625 - val_auc_3: 0.8603\n",
      "Epoch 10/1000\n",
      "523/523 [==============================] - 2s 4ms/step - loss: 0.4707 - binary_accuracy: 0.7629 - auc_3: 0.8615 - val_loss: 0.4726 - val_binary_accuracy: 0.7623 - val_auc_3: 0.8605\n",
      "INFO:tensorflow:Assets written to: model_deep\\multi_layer.tf\\assets\n",
      "Epoch 11/1000\n",
      "523/523 [==============================] - 2s 4ms/step - loss: 0.4707 - binary_accuracy: 0.7630 - auc_3: 0.8616 - val_loss: 0.4731 - val_binary_accuracy: 0.7629 - val_auc_3: 0.8602\n",
      "Epoch 12/1000\n",
      "523/523 [==============================] - 2s 4ms/step - loss: 0.4707 - binary_accuracy: 0.7629 - auc_3: 0.8615 - val_loss: 0.4732 - val_binary_accuracy: 0.7612 - val_auc_3: 0.8600\n",
      "Epoch 13/1000\n",
      "523/523 [==============================] - 2s 5ms/step - loss: 0.4707 - binary_accuracy: 0.7628 - auc_3: 0.8615 - val_loss: 0.4724 - val_binary_accuracy: 0.7637 - val_auc_3: 0.8608\n",
      "INFO:tensorflow:Assets written to: model_deep\\multi_layer.tf\\assets\n",
      "Epoch 14/1000\n",
      "523/523 [==============================] - 2s 4ms/step - loss: 0.4706 - binary_accuracy: 0.7628 - auc_3: 0.8615 - val_loss: 0.4728 - val_binary_accuracy: 0.7620 - val_auc_3: 0.8607\n",
      "Epoch 15/1000\n",
      "523/523 [==============================] - 2s 4ms/step - loss: 0.4706 - binary_accuracy: 0.7630 - auc_3: 0.8615 - val_loss: 0.4724 - val_binary_accuracy: 0.7635 - val_auc_3: 0.8607\n",
      "INFO:tensorflow:Assets written to: model_deep\\multi_layer.tf\\assets\n",
      "Epoch 16/1000\n",
      "523/523 [==============================] - 2s 5ms/step - loss: 0.4706 - binary_accuracy: 0.7628 - auc_3: 0.8615 - val_loss: 0.4733 - val_binary_accuracy: 0.7629 - val_auc_3: 0.8601\n",
      "Epoch 17/1000\n",
      "523/523 [==============================] - 3s 5ms/step - loss: 0.4706 - binary_accuracy: 0.7628 - auc_3: 0.8615 - val_loss: 0.4731 - val_binary_accuracy: 0.7610 - val_auc_3: 0.8600\n",
      "Epoch 18/1000\n",
      "523/523 [==============================] - 3s 5ms/step - loss: 0.4706 - binary_accuracy: 0.7629 - auc_3: 0.8615 - val_loss: 0.4729 - val_binary_accuracy: 0.7627 - val_auc_3: 0.8603\n",
      "Epoch 19/1000\n",
      "523/523 [==============================] - 3s 5ms/step - loss: 0.4706 - binary_accuracy: 0.7629 - auc_3: 0.8616 - val_loss: 0.4729 - val_binary_accuracy: 0.7614 - val_auc_3: 0.8602\n",
      "Epoch 20/1000\n",
      "523/523 [==============================] - 3s 5ms/step - loss: 0.4706 - binary_accuracy: 0.7629 - auc_3: 0.8616 - val_loss: 0.4731 - val_binary_accuracy: 0.7617 - val_auc_3: 0.8603\n",
      "Epoch 21/1000\n",
      "523/523 [==============================] - 3s 5ms/step - loss: 0.4706 - binary_accuracy: 0.7629 - auc_3: 0.8615 - val_loss: 0.4727 - val_binary_accuracy: 0.7617 - val_auc_3: 0.8604\n",
      "Epoch 22/1000\n",
      "523/523 [==============================] - 3s 5ms/step - loss: 0.4706 - binary_accuracy: 0.7629 - auc_3: 0.8615 - val_loss: 0.4733 - val_binary_accuracy: 0.7620 - val_auc_3: 0.8600\n",
      "Epoch 23/1000\n",
      "523/523 [==============================] - 3s 5ms/step - loss: 0.4706 - binary_accuracy: 0.7629 - auc_3: 0.8615 - val_loss: 0.4726 - val_binary_accuracy: 0.7619 - val_auc_3: 0.8604\n",
      "Epoch 24/1000\n",
      "523/523 [==============================] - 3s 5ms/step - loss: 0.4706 - binary_accuracy: 0.7629 - auc_3: 0.8615 - val_loss: 0.4730 - val_binary_accuracy: 0.7602 - val_auc_3: 0.8599\n",
      "Epoch 25/1000\n",
      "523/523 [==============================] - 3s 5ms/step - loss: 0.4705 - binary_accuracy: 0.7629 - auc_3: 0.8616 - val_loss: 0.4729 - val_binary_accuracy: 0.7606 - val_auc_3: 0.8603\n",
      "Epoch 26/1000\n",
      "523/523 [==============================] - 2s 5ms/step - loss: 0.4705 - binary_accuracy: 0.7629 - auc_3: 0.8616 - val_loss: 0.4729 - val_binary_accuracy: 0.7615 - val_auc_3: 0.8603\n",
      "Epoch 27/1000\n",
      "523/523 [==============================] - 2s 4ms/step - loss: 0.4705 - binary_accuracy: 0.7629 - auc_3: 0.8616 - val_loss: 0.4726 - val_binary_accuracy: 0.7620 - val_auc_3: 0.8605\n",
      "Epoch 28/1000\n",
      "523/523 [==============================] - 2s 4ms/step - loss: 0.4705 - binary_accuracy: 0.7630 - auc_3: 0.8616 - val_loss: 0.4727 - val_binary_accuracy: 0.7625 - val_auc_3: 0.8604\n",
      "Epoch 29/1000\n",
      "523/523 [==============================] - 2s 4ms/step - loss: 0.4705 - binary_accuracy: 0.7630 - auc_3: 0.8616 - val_loss: 0.4725 - val_binary_accuracy: 0.7623 - val_auc_3: 0.8606\n",
      "Epoch 30/1000\n",
      "523/523 [==============================] - 2s 5ms/step - loss: 0.4705 - binary_accuracy: 0.7629 - auc_3: 0.8616 - val_loss: 0.4726 - val_binary_accuracy: 0.7631 - val_auc_3: 0.8605\n",
      "Epoch 31/1000\n",
      "523/523 [==============================] - 2s 4ms/step - loss: 0.4705 - binary_accuracy: 0.7630 - auc_3: 0.8616 - val_loss: 0.4725 - val_binary_accuracy: 0.7628 - val_auc_3: 0.8604\n",
      "Epoch 32/1000\n",
      "523/523 [==============================] - 2s 4ms/step - loss: 0.4705 - binary_accuracy: 0.7629 - auc_3: 0.8616 - val_loss: 0.4723 - val_binary_accuracy: 0.7626 - val_auc_3: 0.8607\n",
      "INFO:tensorflow:Assets written to: model_deep\\multi_layer.tf\\assets\n",
      "Epoch 33/1000\n",
      "523/523 [==============================] - 2s 4ms/step - loss: 0.4705 - binary_accuracy: 0.7629 - auc_3: 0.8616 - val_loss: 0.4729 - val_binary_accuracy: 0.7630 - val_auc_3: 0.8603\n",
      "Epoch 34/1000\n",
      "523/523 [==============================] - 2s 5ms/step - loss: 0.4705 - binary_accuracy: 0.7631 - auc_3: 0.8616 - val_loss: 0.4726 - val_binary_accuracy: 0.7623 - val_auc_3: 0.8605\n",
      "Epoch 35/1000\n",
      "523/523 [==============================] - 2s 5ms/step - loss: 0.4705 - binary_accuracy: 0.7630 - auc_3: 0.8616 - val_loss: 0.4732 - val_binary_accuracy: 0.7616 - val_auc_3: 0.8602\n",
      "Epoch 36/1000\n",
      "523/523 [==============================] - 2s 5ms/step - loss: 0.4705 - binary_accuracy: 0.7630 - auc_3: 0.8616 - val_loss: 0.4727 - val_binary_accuracy: 0.7622 - val_auc_3: 0.8604\n",
      "Epoch 37/1000\n",
      "523/523 [==============================] - 2s 5ms/step - loss: 0.4705 - binary_accuracy: 0.7629 - auc_3: 0.8616 - val_loss: 0.4724 - val_binary_accuracy: 0.7614 - val_auc_3: 0.8605\n",
      "Epoch 38/1000\n",
      "523/523 [==============================] - 2s 4ms/step - loss: 0.4704 - binary_accuracy: 0.7630 - auc_3: 0.8616 - val_loss: 0.4729 - val_binary_accuracy: 0.7624 - val_auc_3: 0.8605\n",
      "Epoch 39/1000\n",
      "523/523 [==============================] - 2s 4ms/step - loss: 0.4704 - binary_accuracy: 0.7630 - auc_3: 0.8616 - val_loss: 0.4723 - val_binary_accuracy: 0.7623 - val_auc_3: 0.8606\n",
      "Epoch 40/1000\n",
      "523/523 [==============================] - 2s 5ms/step - loss: 0.4705 - binary_accuracy: 0.7630 - auc_3: 0.8616 - val_loss: 0.4726 - val_binary_accuracy: 0.7620 - val_auc_3: 0.8604\n",
      "Epoch 41/1000\n",
      "523/523 [==============================] - 2s 5ms/step - loss: 0.4705 - binary_accuracy: 0.7629 - auc_3: 0.8615 - val_loss: 0.4724 - val_binary_accuracy: 0.7617 - val_auc_3: 0.8607\n",
      "Epoch 42/1000\n",
      "523/523 [==============================] - 2s 5ms/step - loss: 0.4704 - binary_accuracy: 0.7630 - auc_3: 0.8616 - val_loss: 0.4730 - val_binary_accuracy: 0.7609 - val_auc_3: 0.8604\n",
      "Epoch 43/1000\n",
      "523/523 [==============================] - 2s 5ms/step - loss: 0.4704 - binary_accuracy: 0.7630 - auc_3: 0.8616 - val_loss: 0.4732 - val_binary_accuracy: 0.7609 - val_auc_3: 0.8600\n",
      "Epoch 44/1000\n",
      "523/523 [==============================] - 3s 5ms/step - loss: 0.4705 - binary_accuracy: 0.7629 - auc_3: 0.8616 - val_loss: 0.4726 - val_binary_accuracy: 0.7628 - val_auc_3: 0.8604\n",
      "Epoch 45/1000\n",
      "523/523 [==============================] - 2s 4ms/step - loss: 0.4704 - binary_accuracy: 0.7630 - auc_3: 0.8616 - val_loss: 0.4723 - val_binary_accuracy: 0.7626 - val_auc_3: 0.8608\n",
      "Epoch 46/1000\n",
      "523/523 [==============================] - 2s 4ms/step - loss: 0.4704 - binary_accuracy: 0.7629 - auc_3: 0.8616 - val_loss: 0.4730 - val_binary_accuracy: 0.7621 - val_auc_3: 0.8603\n",
      "Epoch 47/1000\n",
      "523/523 [==============================] - 2s 4ms/step - loss: 0.4704 - binary_accuracy: 0.7630 - auc_3: 0.8616 - val_loss: 0.4729 - val_binary_accuracy: 0.7627 - val_auc_3: 0.8602\n",
      "Epoch 48/1000\n",
      "523/523 [==============================] - 3s 5ms/step - loss: 0.4704 - binary_accuracy: 0.7629 - auc_3: 0.8616 - val_loss: 0.4724 - val_binary_accuracy: 0.7624 - val_auc_3: 0.8607\n",
      "Epoch 49/1000\n",
      "523/523 [==============================] - 2s 4ms/step - loss: 0.4705 - binary_accuracy: 0.7629 - auc_3: 0.8615 - val_loss: 0.4726 - val_binary_accuracy: 0.7625 - val_auc_3: 0.8605\n",
      "Epoch 50/1000\n",
      "523/523 [==============================] - 2s 4ms/step - loss: 0.4704 - binary_accuracy: 0.7630 - auc_3: 0.8616 - val_loss: 0.4729 - val_binary_accuracy: 0.7610 - val_auc_3: 0.8602\n",
      "Epoch 51/1000\n",
      "523/523 [==============================] - 2s 4ms/step - loss: 0.4704 - binary_accuracy: 0.7629 - auc_3: 0.8616 - val_loss: 0.4722 - val_binary_accuracy: 0.7633 - val_auc_3: 0.8608\n",
      "INFO:tensorflow:Assets written to: model_deep\\multi_layer.tf\\assets\n",
      "Epoch 52/1000\n",
      "523/523 [==============================] - 2s 4ms/step - loss: 0.4704 - binary_accuracy: 0.7630 - auc_3: 0.8616 - val_loss: 0.4726 - val_binary_accuracy: 0.7626 - val_auc_3: 0.8607\n",
      "Epoch 53/1000\n",
      "523/523 [==============================] - 2s 4ms/step - loss: 0.4704 - binary_accuracy: 0.7629 - auc_3: 0.8616 - val_loss: 0.4726 - val_binary_accuracy: 0.7622 - val_auc_3: 0.8604\n",
      "Epoch 54/1000\n",
      "523/523 [==============================] - 2s 4ms/step - loss: 0.4704 - binary_accuracy: 0.7630 - auc_3: 0.8616 - val_loss: 0.4728 - val_binary_accuracy: 0.7619 - val_auc_3: 0.8604\n",
      "Epoch 55/1000\n",
      "523/523 [==============================] - 2s 5ms/step - loss: 0.4704 - binary_accuracy: 0.7628 - auc_3: 0.8615 - val_loss: 0.4725 - val_binary_accuracy: 0.7628 - val_auc_3: 0.8607\n",
      "Epoch 56/1000\n",
      "523/523 [==============================] - 2s 4ms/step - loss: 0.4704 - binary_accuracy: 0.7628 - auc_3: 0.8615 - val_loss: 0.4728 - val_binary_accuracy: 0.7627 - val_auc_3: 0.8602\n",
      "Epoch 57/1000\n",
      "523/523 [==============================] - 2s 4ms/step - loss: 0.4704 - binary_accuracy: 0.7629 - auc_3: 0.8616 - val_loss: 0.4725 - val_binary_accuracy: 0.7625 - val_auc_3: 0.8605\n",
      "Epoch 58/1000\n",
      "523/523 [==============================] - 2s 4ms/step - loss: 0.4704 - binary_accuracy: 0.7629 - auc_3: 0.8616 - val_loss: 0.4728 - val_binary_accuracy: 0.7626 - val_auc_3: 0.8604\n",
      "Epoch 59/1000\n",
      "523/523 [==============================] - 2s 4ms/step - loss: 0.4704 - binary_accuracy: 0.7628 - auc_3: 0.8616 - val_loss: 0.4724 - val_binary_accuracy: 0.7623 - val_auc_3: 0.8607\n",
      "Epoch 60/1000\n",
      "523/523 [==============================] - 2s 4ms/step - loss: 0.4704 - binary_accuracy: 0.7629 - auc_3: 0.8616 - val_loss: 0.4732 - val_binary_accuracy: 0.7623 - val_auc_3: 0.8599\n",
      "Epoch 61/1000\n",
      "523/523 [==============================] - 2s 4ms/step - loss: 0.4704 - binary_accuracy: 0.7629 - auc_3: 0.8616 - val_loss: 0.4725 - val_binary_accuracy: 0.7626 - val_auc_3: 0.8605\n",
      "Epoch 62/1000\n",
      "523/523 [==============================] - 2s 5ms/step - loss: 0.4704 - binary_accuracy: 0.7629 - auc_3: 0.8616 - val_loss: 0.4729 - val_binary_accuracy: 0.7623 - val_auc_3: 0.8602\n"
     ]
    }
   ],
   "source": [
    "model = Sequential()\n",
    "model.add(InputLayer(input_shape=(norm_train.shape[-1])))\n",
    "model.add(Dense(128, activation='relu', kernel_regularizer='l2'))\n",
    "model.add(Dense(1, activation='sigmoid', kernel_regularizer='l2'))\n",
    "\n",
    "model.compile(optimizer=\"Adam\", loss=BinaryCrossentropy(), metrics=[BinaryAccuracy(), AUC()])\n",
    "history = model.fit(x=norm_train,\n",
    "                    y=y_train,\n",
    "                    batch_size=10000,\n",
    "                    epochs=1000,\n",
    "                    validation_data=(norm_valid, y_val),\n",
    "                    callbacks=[early_stopping, model_checkpoint_callback, logger])"
   ]
  },
  {
   "cell_type": "code",
   "execution_count": 48,
   "id": "3ea5f064-fc50-4d5c-a0a5-91d577c1c631",
   "metadata": {
    "tags": []
   },
   "outputs": [
    {
     "name": "stdout",
     "output_type": "stream",
     "text": [
      "INFO:tensorflow:Assets written to: models/model.tf\\assets\n"
     ]
    },
    {
     "data": {
      "image/png": "[encoded data removed]",
      "text/plain": [
       "<Figure size 640x480 with 1 Axes>"
      ]
     },
     "metadata": {},
     "output_type": "display_data"
    },
    {
     "data": {
      "image/png": "[encoded data removed]",
      "text/plain": [
       "<Figure size 640x480 with 1 Axes>"
      ]
     },
     "metadata": {},
     "output_type": "display_data"
    }
   ],
   "source": [
    "run_name = \"Multi Layer Perceptron - ESTA All Dataset\"\n",
    "additional_description = \"Multi Layer Perceptron\"\n",
    "with mlflow.start_run(run_name=run_name, description=additional_description) as run:\n",
    "        mlflow.log_param(\"X_train.shape\", norm_train.shape)\n",
    "        mlflow.log_param(\"X_test.shape\", norm_test.shape)\n",
    "\n",
    "        y_proba = model.predict(norm_test)\n",
    "        y_true = y_test\n",
    "        features_names = cols\n",
    "        metrics = {}\n",
    "        for threshold in np.arange(0.1, 1, 0.05):\n",
    "            y_pred = (y_proba >= threshold).astype(int)\n",
    "            metrics[f\"accuracy_{threshold:.2f}\"] = accuracy_score(y_true=y_true, y_pred=y_pred)\n",
    "            metrics[f\"precision_{threshold:.2f}\"] = precision_score(y_true=y_true, y_pred=y_pred)\n",
    "            metrics[f\"recall_{threshold:.2f}\"] = recall_score(y_true=y_true, y_pred=y_pred)\n",
    "            metrics[f\"f1_{threshold:.2f}\"] = f1_score(y_true=y_true, y_pred=y_pred)\n",
    "        metrics[\"roc_auc\"] = roc_auc_score(y_true=y_true, y_score=y_proba)\n",
    "        metrics[\"log_loss\"] = log_loss(y_true=y_true, y_pred=y_proba)\n",
    "        mlflow.log_metrics(metrics)\n",
    "        \n",
    "        if os.path.exists('artifacts'):\n",
    "            shutil.rmtree('artifacts')\n",
    "            os.makedirs('artifacts')\n",
    "        \n",
    "        if os.path.exists('models'):\n",
    "            shutil.rmtree('models')\n",
    "            os.makedirs('models')\n",
    "            \n",
    "        with open(\"artifacts/features.txt\", 'w') as f:\n",
    "            f.write(str(features_names))\n",
    "            \n",
    "        model.save('models/model.tf')\n",
    "\n",
    "        roc_plot = RocCurveDisplay.from_predictions(y_pred=y_proba, y_true=y_true)\n",
    "        roc_plot.figure_.savefig('artifacts/roc_auc.png')\n",
    "        plt.show()\n",
    "        \n",
    "        calibration_curve = CalibrationDisplay.from_predictions(y_prob=y_proba, y_true=y_true, n_bins=10)\n",
    "        calibration_curve.figure_.savefig('artifacts/calibration_curve.png')\n",
    "        plt.show()\n",
    "        \n",
    "        mlflow.log_artifacts(\"artifacts\", artifact_path=\"plots_data\")\n",
    "        mlflow.log_artifacts(\"models\", artifact_path=\"model\")"
   ]
  },
  {
   "cell_type": "code",
   "execution_count": 51,
   "id": "aa4abcab-1059-4989-918b-af8a2756c23f",
   "metadata": {
    "tags": []
   },
   "outputs": [
    {
     "data": {
      "text/plain": [
       "(620392, 100)"
      ]
     },
     "execution_count": 51,
     "metadata": {},
     "output_type": "execute_result"
    }
   ],
   "source": [
    "test_df = pd.read_parquet(\"data/states_another_mod_test.parquet\", columns=select_feat() + [\"filename\"])\n",
    "past = test_df['filename'].str.startswith(\"IEM-Katowice\")\n",
    "future = test_df['filename'].str.startswith(\"BLAST-Premier-Spring-Final-2022\")\n",
    "test_y = pd.read_parquet(\"data/states_another_mod_test.parquet\", columns=[\"winningSideCT\"])\n",
    "test_y = test_y.squeeze()\n",
    "test_df.shape"
   ]
  },
  {
   "cell_type": "code",
   "execution_count": 52,
   "id": "9236057d-61c2-4b70-9fb1-68877fd97c18",
   "metadata": {},
   "outputs": [
    {
     "data": {
      "text/plain": [
       "(620392, 99)"
      ]
     },
     "execution_count": 52,
     "metadata": {},
     "output_type": "execute_result"
    }
   ],
   "source": [
    "test_set = test_df.drop(\"filename\", axis=\"columns\")\n",
    "test_set = scaler.fit_transform(test_set)\n",
    "test_set.shape"
   ]
  },
  {
   "cell_type": "code",
   "execution_count": 53,
   "id": "7ee2a6d0-e769-444c-9a5d-951846061181",
   "metadata": {},
   "outputs": [
    {
     "data": {
      "text/plain": [
       "{'LogLoss (all)': 0.4691799452488191,\n",
       " 'LogLoss (future)': 0.4707177326200744,\n",
       " 'LogLoss (past)': 0.46774605304385886,\n",
       " 'AUC-ROC (all)': 0.8492394022138687,\n",
       " 'AUC-ROC (future)': 0.8504051707752497,\n",
       " 'AUC-ROC (past)': 0.8474622206481062}"
      ]
     },
     "execution_count": 53,
     "metadata": {},
     "output_type": "execute_result"
    }
   ],
   "source": [
    "results = []\n",
    "y_true = test_y\n",
    "y_pred = model.predict(test_set)\n",
    "results = {\n",
    "        \"LogLoss (all)\": log_loss(y_true, y_pred),\n",
    "        \"LogLoss (future)\": log_loss(y_true[future], y_pred[future]),\n",
    "        \"LogLoss (past)\": log_loss(y_true[past], y_pred[past]),\n",
    "        \"AUC-ROC (all)\": roc_auc_score(y_true, y_pred),\n",
    "        \"AUC-ROC (future)\": roc_auc_score(y_true[future], y_pred[future]),\n",
    "        \"AUC-ROC (past)\": roc_auc_score(y_true[past], y_pred[past])\n",
    "}\n",
    "results"
   ]
  }
 ],
 "metadata": {
  "kernelspec": {
   "display_name": "Python 3 (ipykernel)",
   "language": "python",
   "name": "python3"
  },
  "language_info": {
   "codemirror_mode": {
    "name": "ipython",
    "version": 3
   },
   "file_extension": ".py",
   "mimetype": "text/x-python",
   "name": "python",
   "nbconvert_exporter": "python",
   "pygments_lexer": "ipython3",
   "version": "3.9.13"
  }
 },
 "nbformat": 4,
 "nbformat_minor": 5
}
