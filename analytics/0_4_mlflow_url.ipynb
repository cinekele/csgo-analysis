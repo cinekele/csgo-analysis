{
 "cells": [
  {
   "cell_type": "markdown",
   "id": "c0b7db71-8c92-4a67-adfc-8e572a89d5e5",
   "metadata": {},
   "source": [
    "# MLFLOW URL"
   ]
  },
  {
   "cell_type": "code",
   "execution_count": null,
   "id": "f7e7fc1f-0846-4ef3-90bd-b584d5475d3d",
   "metadata": {},
   "outputs": [],
   "source": [
    "!mlflow ui"
   ]
  },
  {
   "cell_type": "markdown",
   "id": "76a2ba8b-3b36-43d1-b70c-647ad0b2bed4",
   "metadata": {},
   "source": [
    "## [MlFlowUrl](http://localhost:5000)"
   ]
  }
 ],
 "metadata": {
  "kernelspec": {
   "display_name": "python3 (tf_gpu)",
   "language": "python",
   "name": "conda-env-tf_gpu-py"
  },
  "language_info": {
   "codemirror_mode": {
    "name": "ipython",
    "version": 3
   },
   "file_extension": ".py",
   "mimetype": "text/x-python",
   "name": "python",
   "nbconvert_exporter": "python",
   "pygments_lexer": "ipython3",
   "version": "3.9.13"
  }
 },
 "nbformat": 4,
 "nbformat_minor": 5
}
