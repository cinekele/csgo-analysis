{
 "cells": [
  {
   "cell_type": "markdown",
   "id": "17483420-a880-4ba5-b33a-0366c879f908",
   "metadata": {},
   "source": [
    "# Importy"
   ]
  },
  {
   "cell_type": "code",
   "execution_count": 1,
   "id": "fa37ae65-2a82-4f57-9a2b-4a17b089ab14",
   "metadata": {},
   "outputs": [],
   "source": [
    "from awpy import DemoParser\n",
    "from awpy.analytics.states import generate_vector_state\n",
    "from tqdm.notebook import tqdm\n",
    "import pandas as pd\n",
    "import patoolib\n",
    "import os\n",
    "import shutil\n",
    "import warnings\n",
    "warnings.filterwarnings(\"ignore\")"
   ]
  },
  {
   "cell_type": "markdown",
   "id": "341bddc8-3244-4d6d-af7a-b0a50904d3e8",
   "metadata": {},
   "source": [
    "# Funkcje do wyciągania feature'ów"
   ]
  },
  {
   "cell_type": "code",
   "execution_count": 2,
   "id": "4ef91f98-0f83-4cb7-ac4f-a632e0d20dcf",
   "metadata": {},
   "outputs": [],
   "source": [
    "def get_team_data(frame, team, mapping):\n",
    "    team_frame = frame[team]\n",
    "    team_data = {}\n",
    "    team_data[team + 'Name'] = team_frame['teamName']\n",
    "    team_data[team + 'EqVal'] = team_frame['teamEqVal']\n",
    "    team_data[team + 'AlivePlayers'] = team_frame['alivePlayers']\n",
    "    team_data[team + 'TotalUtility'] = team_frame['totalUtility']\n",
    "    \n",
    "    for player in team_frame['players']:\n",
    "        mapped_player = mapping[player['steamID']]\n",
    "        for key_player in player:\n",
    "            if key_player != 'inventory':\n",
    "                team_data[f'{team}{mapped_player}_{key_player}'] = player[key_player]\n",
    "            elif key_player == 'inventory':\n",
    "                team_data[f\"{team}{mapped_player}_Smoke Grenade\"] = 0 \n",
    "                team_data[f\"{team}{mapped_player}_Flashbang\"] = 0\n",
    "                team_data[f\"{team}{mapped_player}_Decoy Grenade\"] = 0\n",
    "                team_data[f\"{team}{mapped_player}_fireGrenades\"] = 0\n",
    "                team_data[f\"{team}{mapped_player}_HE Grenade\"] = 0\n",
    "                if player[key_player] is None:\n",
    "                    team_data[f'{team}{mapped_player}_mainWeapon'] = ''\n",
    "                    team_data[f'{team}{mapped_player}_secondaryWeapon'] = ''\n",
    "                else:\n",
    "                    for weapon in player[key_player]:\n",
    "                        if weapon['weaponClass'] == 'Pistols':\n",
    "                            team_data[f'{team}{mapped_player}_secondaryWeapon'] = weapon['weaponName']\n",
    "                        elif weapon['weaponClass'] == 'Grenade':\n",
    "                            if weapon['weaponName'] in {\"Molotov\", \"Incendiary Grenade\"}:\n",
    "                                team_data[f\"{team}{mapped_player}_fireGrenades\"] = weapon['ammoInMagazine'] + weapon['ammoInReserve']\n",
    "                            else:\n",
    "                                team_data[f\"{team}{mapped_player}_{weapon['weaponName']}\"] = weapon['ammoInMagazine'] + weapon['ammoInReserve']\n",
    "                        else:\n",
    "                            team_data[f'{team}{mapped_player}_mainWeapon'] = weapon['weaponName']\n",
    "                    if f'{team}{mapped_player}_mainWeapon' not in team_data and f'{team}{mapped_player}_secondaryWeapon' not in team_data:\n",
    "                        team_data[f'{team}{mapped_player}_mainWeapon'] = ''\n",
    "                    elif f'{team}{mapped_player}_mainWeapon' not in team_data:\n",
    "                        team_data[f'{team}{mapped_player}_mainWeapon'] = team_data[f'{team}{mapped_player}_secondaryWeapon']\n",
    "    return team_data\n",
    "\n",
    "def get_frame_data(frame, mapping):\n",
    "    frame_data = {**get_team_data(frame, 'ct', mapping), **get_team_data(frame, 't', mapping)}\n",
    "    frame_data['bombPlanted'] = frame['bombPlanted']\n",
    "    frame_data['bombsite'] = frame['bombsite']\n",
    "    frame_data['tick'] = frame['tick']\n",
    "    frame_data['seconds'] = frame['seconds']\n",
    "    frame_data['clockTime'] = frame['clockTime']\n",
    "    bomb_data = frame['bomb']\n",
    "    for key in bomb_data:\n",
    "        frame_data[f\"bomb_{key}\"] = bomb_data[key]\n",
    "    return frame_data\n",
    "\n",
    "\n",
    "def create_mapping(round_):\n",
    "    ct_players = round_['ctSide']\n",
    "    map_steam_id = {}\n",
    "    for i, player in enumerate(ct_players['players']):\n",
    "        map_steam_id[player['steamID']] = f'Player_{i + 1}'\n",
    "    \n",
    "    t_players = round_['tSide']\n",
    "    for i, player in enumerate(t_players['players']):\n",
    "        map_steam_id[player['steamID']] = f'Player_{i + 1}'\n",
    "    \n",
    "    return map_steam_id"
   ]
  },
  {
   "cell_type": "code",
   "execution_count": 3,
   "id": "bc247bc7-f50a-4c15-b327-a9be5a796708",
   "metadata": {},
   "outputs": [],
   "source": [
    "def get_match_data(data):\n",
    "    data_list = []\n",
    "    mapping = create_mapping(data['gameRounds'][0])\n",
    "    for round_ in data['gameRounds']:\n",
    "        for frame in round_['frames']:\n",
    "            converted_vector = get_frame_data(frame, mapping)\n",
    "            converted_vector['roundNum'] = round_['roundNum']\n",
    "            data_list.append(converted_vector)\n",
    "        last_tick = round_['endTick']\n",
    "    res = pd.DataFrame(data_list)\n",
    "    res.fillna(method='ffill', inplace=True)\n",
    "    return res"
   ]
  },
  {
   "cell_type": "markdown",
   "id": "819bf10b-2390-459f-8ebd-3cf909c09514",
   "metadata": {},
   "source": [
    "# Konfiguracja folderów"
   ]
  },
  {
   "cell_type": "code",
   "execution_count": 4,
   "id": "f48b39ea-783c-4800-8833-e5c756995192",
   "metadata": {},
   "outputs": [],
   "source": [
    "directory = r'../Demka' # Katalog z demkami\n",
    "temp_directory = r'csgo_tmp' # Tymczasowy katalog z przetwarzanym meczem"
   ]
  },
  {
   "cell_type": "code",
   "execution_count": 5,
   "id": "5a1dc0fe-d7d5-4009-bdf0-75efd8129d7f",
   "metadata": {},
   "outputs": [],
   "source": [
    "if os.path.exists(temp_directory):\n",
    "    shutil.rmtree(temp_directory)"
   ]
  },
  {
   "cell_type": "markdown",
   "id": "4fab8294-ab40-4043-a992-026decb3e802",
   "metadata": {},
   "source": [
    "# Przejście po meczach"
   ]
  },
  {
   "cell_type": "code",
   "execution_count": 6,
   "id": "7e03a53b-c864-4559-badf-282a6a9bcfef",
   "metadata": {
    "collapsed": true,
    "jupyter": {
     "outputs_hidden": true
    },
    "tags": []
   },
   "outputs": [
    {
     "data": {
      "application/vnd.jupyter.widget-view+json": {
       "model_id": "93e9ff5c3e694e8ba9e2ce183c57353a",
       "version_major": 2,
       "version_minor": 0
      },
      "text/plain": [
       "Match:   0%|          | 0/72 [00:00<?, ?it/s]"
      ]
     },
     "metadata": {},
     "output_type": "display_data"
    },
    {
     "name": "stdout",
     "output_type": "stream",
     "text": [
      "patool: Extracting ../Demka\\PGL-Major-Antwerp-2022-bad-news-eagles-vs-imperial-bo3_2356153.rar ...\n",
      "patool: running \"C:\\Program Files\\7-Zip\\7z.EXE\" x -ocsgo_tmp -- ../Demka\\PGL-Major-Antwerp-2022-bad-news-eagles-vs-imperial-bo3_2356153.rar\n",
      "patool: ... ../Demka\\PGL-Major-Antwerp-2022-bad-news-eagles-vs-imperial-bo3_2356153.rar extracted to `csgo_tmp'.\n"
     ]
    },
    {
     "data": {
      "application/vnd.jupyter.widget-view+json": {
       "model_id": "85d1e6b75aa6436cad7810594d70c18d",
       "version_major": 2,
       "version_minor": 0
      },
      "text/plain": [
       "Map:   0%|          | 0/2 [00:00<?, ?it/s]"
      ]
     },
     "metadata": {},
     "output_type": "display_data"
    },
    {
     "name": "stderr",
     "output_type": "stream",
     "text": [
      "A parse rate lower than 64 may be slow depending on the tickrate of the demo, which is usually 64 for MM and 128 for pro demos.\n",
      "A parse rate lower than 64 may be slow depending on the tickrate of the demo, which is usually 64 for MM and 128 for pro demos.\n"
     ]
    },
    {
     "name": "stdout",
     "output_type": "stream",
     "text": [
      "patool: Extracting ../Demka\\PGL-Major-Antwerp-2022-big-vs-furia-vertigo_2356149.rar ...\n",
      "patool: running \"C:\\Program Files\\7-Zip\\7z.EXE\" x -ocsgo_tmp -- ../Demka\\PGL-Major-Antwerp-2022-big-vs-furia-vertigo_2356149.rar\n",
      "patool: ... ../Demka\\PGL-Major-Antwerp-2022-big-vs-furia-vertigo_2356149.rar extracted to `csgo_tmp'.\n"
     ]
    },
    {
     "data": {
      "application/vnd.jupyter.widget-view+json": {
       "model_id": "da08c92602ac4796952f951b0d8c9c99",
       "version_major": 2,
       "version_minor": 0
      },
      "text/plain": [
       "Map:   0%|          | 0/1 [00:00<?, ?it/s]"
      ]
     },
     "metadata": {},
     "output_type": "display_data"
    },
    {
     "name": "stderr",
     "output_type": "stream",
     "text": [
      "A parse rate lower than 64 may be slow depending on the tickrate of the demo, which is usually 64 for MM and 128 for pro demos.\n"
     ]
    },
    {
     "name": "stdout",
     "output_type": "stream",
     "text": [
      "patool: Extracting ../Demka\\PGL-Major-Antwerp-2022-big-vs-imperial-nuke_2356137.rar ...\n",
      "patool: running \"C:\\Program Files\\7-Zip\\7z.EXE\" x -ocsgo_tmp -- ../Demka\\PGL-Major-Antwerp-2022-big-vs-imperial-nuke_2356137.rar\n",
      "patool: ... ../Demka\\PGL-Major-Antwerp-2022-big-vs-imperial-nuke_2356137.rar extracted to `csgo_tmp'.\n"
     ]
    },
    {
     "data": {
      "application/vnd.jupyter.widget-view+json": {
       "model_id": "c5d336d34094425485f50081c9d4cbb7",
       "version_major": 2,
       "version_minor": 0
      },
      "text/plain": [
       "Map:   0%|          | 0/1 [00:00<?, ?it/s]"
      ]
     },
     "metadata": {},
     "output_type": "display_data"
    },
    {
     "name": "stderr",
     "output_type": "stream",
     "text": [
      "A parse rate lower than 64 may be slow depending on the tickrate of the demo, which is usually 64 for MM and 128 for pro demos.\n"
     ]
    },
    {
     "name": "stdout",
     "output_type": "stream",
     "text": [
      "patool: Extracting ../Demka\\PGL-Major-Antwerp-2022-big-vs-natus-vincere-ancient_2356140.rar ...\n",
      "patool: running \"C:\\Program Files\\7-Zip\\7z.EXE\" x -ocsgo_tmp -- ../Demka\\PGL-Major-Antwerp-2022-big-vs-natus-vincere-ancient_2356140.rar\n",
      "patool: ... ../Demka\\PGL-Major-Antwerp-2022-big-vs-natus-vincere-ancient_2356140.rar extracted to `csgo_tmp'.\n"
     ]
    },
    {
     "data": {
      "application/vnd.jupyter.widget-view+json": {
       "model_id": "7dff528c322e44e394b150ef779172d8",
       "version_major": 2,
       "version_minor": 0
      },
      "text/plain": [
       "Map:   0%|          | 0/1 [00:00<?, ?it/s]"
      ]
     },
     "metadata": {},
     "output_type": "display_data"
    },
    {
     "name": "stderr",
     "output_type": "stream",
     "text": [
      "A parse rate lower than 64 may be slow depending on the tickrate of the demo, which is usually 64 for MM and 128 for pro demos.\n"
     ]
    },
    {
     "name": "stdout",
     "output_type": "stream",
     "text": [
      "patool: Extracting ../Demka\\PGL-Major-Antwerp-2022-big-vs-vitality-bo3_2356157.rar ...\n",
      "patool: running \"C:\\Program Files\\7-Zip\\7z.EXE\" x -ocsgo_tmp -- ../Demka\\PGL-Major-Antwerp-2022-big-vs-vitality-bo3_2356157.rar\n",
      "patool: ... ../Demka\\PGL-Major-Antwerp-2022-big-vs-vitality-bo3_2356157.rar extracted to `csgo_tmp'.\n"
     ]
    },
    {
     "data": {
      "application/vnd.jupyter.widget-view+json": {
       "model_id": "bae4a65641b94018b7e4ef3cd253af66",
       "version_major": 2,
       "version_minor": 0
      },
      "text/plain": [
       "Map:   0%|          | 0/3 [00:00<?, ?it/s]"
      ]
     },
     "metadata": {},
     "output_type": "display_data"
    },
    {
     "name": "stderr",
     "output_type": "stream",
     "text": [
      "A parse rate lower than 64 may be slow depending on the tickrate of the demo, which is usually 64 for MM and 128 for pro demos.\n",
      "A parse rate lower than 64 may be slow depending on the tickrate of the demo, which is usually 64 for MM and 128 for pro demos.\n",
      "A parse rate lower than 64 may be slow depending on the tickrate of the demo, which is usually 64 for MM and 128 for pro demos.\n"
     ]
    },
    {
     "name": "stdout",
     "output_type": "stream",
     "text": [
      "patool: Extracting ../Demka\\PGL-Major-Antwerp-2022-Challengers-Stage-astralis-vs-ihc-nuke_2356099.rar ...\n",
      "patool: running \"C:\\Program Files\\7-Zip\\7z.EXE\" x -ocsgo_tmp -- ../Demka\\PGL-Major-Antwerp-2022-Challengers-Stage-astralis-vs-ihc-nuke_2356099.rar\n",
      "patool: ... ../Demka\\PGL-Major-Antwerp-2022-Challengers-Stage-astralis-vs-ihc-nuke_2356099.rar extracted to `csgo_tmp'.\n"
     ]
    },
    {
     "data": {
      "application/vnd.jupyter.widget-view+json": {
       "model_id": "df98c9eed1aa47fd950fe9fbd4a9d4a8",
       "version_major": 2,
       "version_minor": 0
      },
      "text/plain": [
       "Map:   0%|          | 0/1 [00:00<?, ?it/s]"
      ]
     },
     "metadata": {},
     "output_type": "display_data"
    },
    {
     "name": "stderr",
     "output_type": "stream",
     "text": [
      "A parse rate lower than 64 may be slow depending on the tickrate of the demo, which is usually 64 for MM and 128 for pro demos.\n"
     ]
    },
    {
     "name": "stdout",
     "output_type": "stream",
     "text": [
      "patool: Extracting ../Demka\\PGL-Major-Antwerp-2022-Challengers-Stage-astralis-vs-liquid-bo3_2356127.rar ...\n",
      "patool: running \"C:\\Program Files\\7-Zip\\7z.EXE\" x -ocsgo_tmp -- ../Demka\\PGL-Major-Antwerp-2022-Challengers-Stage-astralis-vs-liquid-bo3_2356127.rar\n",
      "patool: ... ../Demka\\PGL-Major-Antwerp-2022-Challengers-Stage-astralis-vs-liquid-bo3_2356127.rar extracted to `csgo_tmp'.\n"
     ]
    },
    {
     "data": {
      "application/vnd.jupyter.widget-view+json": {
       "model_id": "5c4e4730a2d242c39e6601be7061a598",
       "version_major": 2,
       "version_minor": 0
      },
      "text/plain": [
       "Map:   0%|          | 0/2 [00:00<?, ?it/s]"
      ]
     },
     "metadata": {},
     "output_type": "display_data"
    },
    {
     "name": "stderr",
     "output_type": "stream",
     "text": [
      "A parse rate lower than 64 may be slow depending on the tickrate of the demo, which is usually 64 for MM and 128 for pro demos.\n",
      "A parse rate lower than 64 may be slow depending on the tickrate of the demo, which is usually 64 for MM and 128 for pro demos.\n"
     ]
    },
    {
     "name": "stdout",
     "output_type": "stream",
     "text": [
      "patool: Extracting ../Demka\\PGL-Major-Antwerp-2022-Challengers-Stage-astralis-vs-mibr-overpass_2356114.rar ...\n",
      "patool: running \"C:\\Program Files\\7-Zip\\7z.EXE\" x -ocsgo_tmp -- ../Demka\\PGL-Major-Antwerp-2022-Challengers-Stage-astralis-vs-mibr-overpass_2356114.rar\n",
      "patool: ... ../Demka\\PGL-Major-Antwerp-2022-Challengers-Stage-astralis-vs-mibr-overpass_2356114.rar extracted to `csgo_tmp'.\n"
     ]
    },
    {
     "data": {
      "application/vnd.jupyter.widget-view+json": {
       "model_id": "74835af4c8fe4e90a6a19843fa10ad9d",
       "version_major": 2,
       "version_minor": 0
      },
      "text/plain": [
       "Map:   0%|          | 0/1 [00:00<?, ?it/s]"
      ]
     },
     "metadata": {},
     "output_type": "display_data"
    },
    {
     "name": "stderr",
     "output_type": "stream",
     "text": [
      "A parse rate lower than 64 may be slow depending on the tickrate of the demo, which is usually 64 for MM and 128 for pro demos.\n"
     ]
    },
    {
     "name": "stdout",
     "output_type": "stream",
     "text": [
      "patool: Extracting ../Demka\\PGL-Major-Antwerp-2022-Challengers-Stage-astralis-vs-spirit-bo3_2356121.rar ...\n",
      "patool: running \"C:\\Program Files\\7-Zip\\7z.EXE\" x -ocsgo_tmp -- ../Demka\\PGL-Major-Antwerp-2022-Challengers-Stage-astralis-vs-spirit-bo3_2356121.rar\n",
      "patool: ... ../Demka\\PGL-Major-Antwerp-2022-Challengers-Stage-astralis-vs-spirit-bo3_2356121.rar extracted to `csgo_tmp'.\n"
     ]
    },
    {
     "data": {
      "application/vnd.jupyter.widget-view+json": {
       "model_id": "99120f7822054426b6752450091b9d87",
       "version_major": 2,
       "version_minor": 0
      },
      "text/plain": [
       "Map:   0%|          | 0/2 [00:00<?, ?it/s]"
      ]
     },
     "metadata": {},
     "output_type": "display_data"
    },
    {
     "name": "stderr",
     "output_type": "stream",
     "text": [
      "A parse rate lower than 64 may be slow depending on the tickrate of the demo, which is usually 64 for MM and 128 for pro demos.\n",
      "A parse rate lower than 64 may be slow depending on the tickrate of the demo, which is usually 64 for MM and 128 for pro demos.\n"
     ]
    },
    {
     "name": "stdout",
     "output_type": "stream",
     "text": [
      "patool: Extracting ../Demka\\PGL-Major-Antwerp-2022-Challengers-Stage-astralis-vs-vitality-mirage_2356108.rar ...\n",
      "patool: running \"C:\\Program Files\\7-Zip\\7z.EXE\" x -ocsgo_tmp -- ../Demka\\PGL-Major-Antwerp-2022-Challengers-Stage-astralis-vs-vitality-mirage_2356108.rar\n",
      "patool: ... ../Demka\\PGL-Major-Antwerp-2022-Challengers-Stage-astralis-vs-vitality-mirage_2356108.rar extracted to `csgo_tmp'.\n"
     ]
    },
    {
     "data": {
      "application/vnd.jupyter.widget-view+json": {
       "model_id": "a67d531e05db4e0a8d819f13368ae776",
       "version_major": 2,
       "version_minor": 0
      },
      "text/plain": [
       "Map:   0%|          | 0/1 [00:00<?, ?it/s]"
      ]
     },
     "metadata": {},
     "output_type": "display_data"
    },
    {
     "name": "stderr",
     "output_type": "stream",
     "text": [
      "A parse rate lower than 64 may be slow depending on the tickrate of the demo, which is usually 64 for MM and 128 for pro demos.\n"
     ]
    },
    {
     "name": "stdout",
     "output_type": "stream",
     "text": [
      "patool: Extracting ../Demka\\PGL-Major-Antwerp-2022-Challengers-Stage-bad-news-eagles-vs-eternal-fire-dust2_2356101.rar ...\n",
      "patool: running \"C:\\Program Files\\7-Zip\\7z.EXE\" x -ocsgo_tmp -- ../Demka\\PGL-Major-Antwerp-2022-Challengers-Stage-bad-news-eagles-vs-eternal-fire-dust2_2356101.rar\n",
      "patool: ... ../Demka\\PGL-Major-Antwerp-2022-Challengers-Stage-bad-news-eagles-vs-eternal-fire-dust2_2356101.rar extracted to `csgo_tmp'.\n"
     ]
    },
    {
     "data": {
      "application/vnd.jupyter.widget-view+json": {
       "model_id": "c44132aa0470410eb9c80980d0789c01",
       "version_major": 2,
       "version_minor": 0
      },
      "text/plain": [
       "Map:   0%|          | 0/1 [00:00<?, ?it/s]"
      ]
     },
     "metadata": {},
     "output_type": "display_data"
    },
    {
     "name": "stderr",
     "output_type": "stream",
     "text": [
      "A parse rate lower than 64 may be slow depending on the tickrate of the demo, which is usually 64 for MM and 128 for pro demos.\n"
     ]
    },
    {
     "name": "stdout",
     "output_type": "stream",
     "text": [
      "patool: Extracting ../Demka\\PGL-Major-Antwerp-2022-Challengers-Stage-bad-news-eagles-vs-imperial-vertigo_2356115.rar ...\n",
      "patool: running \"C:\\Program Files\\7-Zip\\7z.EXE\" x -ocsgo_tmp -- ../Demka\\PGL-Major-Antwerp-2022-Challengers-Stage-bad-news-eagles-vs-imperial-vertigo_2356115.rar\n",
      "patool: ... ../Demka\\PGL-Major-Antwerp-2022-Challengers-Stage-bad-news-eagles-vs-imperial-vertigo_2356115.rar extracted to `csgo_tmp'.\n"
     ]
    },
    {
     "data": {
      "application/vnd.jupyter.widget-view+json": {
       "model_id": "559206b7c7d04545adc3eebd29ce152f",
       "version_major": 2,
       "version_minor": 0
      },
      "text/plain": [
       "Map:   0%|          | 0/1 [00:00<?, ?it/s]"
      ]
     },
     "metadata": {},
     "output_type": "display_data"
    },
    {
     "name": "stderr",
     "output_type": "stream",
     "text": [
      "A parse rate lower than 64 may be slow depending on the tickrate of the demo, which is usually 64 for MM and 128 for pro demos.\n"
     ]
    },
    {
     "name": "stdout",
     "output_type": "stream",
     "text": [
      "patool: Extracting ../Demka\\PGL-Major-Antwerp-2022-Challengers-Stage-bad-news-eagles-vs-mibr-bo3_2356129.rar ...\n",
      "patool: running \"C:\\Program Files\\7-Zip\\7z.EXE\" x -ocsgo_tmp -- ../Demka\\PGL-Major-Antwerp-2022-Challengers-Stage-bad-news-eagles-vs-mibr-bo3_2356129.rar\n",
      "patool: ... ../Demka\\PGL-Major-Antwerp-2022-Challengers-Stage-bad-news-eagles-vs-mibr-bo3_2356129.rar extracted to `csgo_tmp'.\n"
     ]
    },
    {
     "data": {
      "application/vnd.jupyter.widget-view+json": {
       "model_id": "a39633421cb340eea55d8fac45207691",
       "version_major": 2,
       "version_minor": 0
      },
      "text/plain": [
       "Map:   0%|          | 0/3 [00:00<?, ?it/s]"
      ]
     },
     "metadata": {},
     "output_type": "display_data"
    },
    {
     "name": "stderr",
     "output_type": "stream",
     "text": [
      "A parse rate lower than 64 may be slow depending on the tickrate of the demo, which is usually 64 for MM and 128 for pro demos.\n",
      "A parse rate lower than 64 may be slow depending on the tickrate of the demo, which is usually 64 for MM and 128 for pro demos.\n",
      "A parse rate lower than 64 may be slow depending on the tickrate of the demo, which is usually 64 for MM and 128 for pro demos.\n"
     ]
    },
    {
     "name": "stdout",
     "output_type": "stream",
     "text": [
      "patool: Extracting ../Demka\\PGL-Major-Antwerp-2022-Challengers-Stage-complexity-vs-ihc-nuke_2356110.rar ...\n",
      "patool: running \"C:\\Program Files\\7-Zip\\7z.EXE\" x -ocsgo_tmp -- ../Demka\\PGL-Major-Antwerp-2022-Challengers-Stage-complexity-vs-ihc-nuke_2356110.rar\n",
      "patool: ... ../Demka\\PGL-Major-Antwerp-2022-Challengers-Stage-complexity-vs-ihc-nuke_2356110.rar extracted to `csgo_tmp'.\n"
     ]
    },
    {
     "data": {
      "application/vnd.jupyter.widget-view+json": {
       "model_id": "099917edc688481daf41bc633912b78a",
       "version_major": 2,
       "version_minor": 0
      },
      "text/plain": [
       "Map:   0%|          | 0/1 [00:00<?, ?it/s]"
      ]
     },
     "metadata": {},
     "output_type": "display_data"
    },
    {
     "name": "stderr",
     "output_type": "stream",
     "text": [
      "A parse rate lower than 64 may be slow depending on the tickrate of the demo, which is usually 64 for MM and 128 for pro demos.\n"
     ]
    },
    {
     "name": "stdout",
     "output_type": "stream",
     "text": [
      "patool: Extracting ../Demka\\PGL-Major-Antwerp-2022-Challengers-Stage-complexity-vs-liquid-bo3_2356125.rar ...\n",
      "patool: running \"C:\\Program Files\\7-Zip\\7z.EXE\" x -ocsgo_tmp -- ../Demka\\PGL-Major-Antwerp-2022-Challengers-Stage-complexity-vs-liquid-bo3_2356125.rar\n",
      "patool: ... ../Demka\\PGL-Major-Antwerp-2022-Challengers-Stage-complexity-vs-liquid-bo3_2356125.rar extracted to `csgo_tmp'.\n"
     ]
    },
    {
     "data": {
      "application/vnd.jupyter.widget-view+json": {
       "model_id": "c32c92e2ea694d58a65bb9626bd20225",
       "version_major": 2,
       "version_minor": 0
      },
      "text/plain": [
       "Map:   0%|          | 0/2 [00:00<?, ?it/s]"
      ]
     },
     "metadata": {},
     "output_type": "display_data"
    },
    {
     "name": "stderr",
     "output_type": "stream",
     "text": [
      "A parse rate lower than 64 may be slow depending on the tickrate of the demo, which is usually 64 for MM and 128 for pro demos.\n",
      "A parse rate lower than 64 may be slow depending on the tickrate of the demo, which is usually 64 for MM and 128 for pro demos.\n"
     ]
    },
    {
     "name": "stdout",
     "output_type": "stream",
     "text": [
      "patool: Extracting ../Demka\\PGL-Major-Antwerp-2022-Challengers-Stage-complexity-vs-outsiders-overpass_2356116.rar ...\n",
      "patool: running \"C:\\Program Files\\7-Zip\\7z.EXE\" x -ocsgo_tmp -- ../Demka\\PGL-Major-Antwerp-2022-Challengers-Stage-complexity-vs-outsiders-overpass_2356116.rar\n",
      "patool: ... ../Demka\\PGL-Major-Antwerp-2022-Challengers-Stage-complexity-vs-outsiders-overpass_2356116.rar extracted to `csgo_tmp'.\n"
     ]
    },
    {
     "data": {
      "application/vnd.jupyter.widget-view+json": {
       "model_id": "514ada8ad3cb4f4d8c28f33e2c53d932",
       "version_major": 2,
       "version_minor": 0
      },
      "text/plain": [
       "Map:   0%|          | 0/1 [00:00<?, ?it/s]"
      ]
     },
     "metadata": {},
     "output_type": "display_data"
    },
    {
     "name": "stderr",
     "output_type": "stream",
     "text": [
      "A parse rate lower than 64 may be slow depending on the tickrate of the demo, which is usually 64 for MM and 128 for pro demos.\n"
     ]
    },
    {
     "name": "stdout",
     "output_type": "stream",
     "text": [
      "patool: Extracting ../Demka\\PGL-Major-Antwerp-2022-Challengers-Stage-ence-vs-9z-mirage_2356104.rar ...\n",
      "patool: running \"C:\\Program Files\\7-Zip\\7z.EXE\" x -ocsgo_tmp -- ../Demka\\PGL-Major-Antwerp-2022-Challengers-Stage-ence-vs-9z-mirage_2356104.rar\n",
      "patool: ... ../Demka\\PGL-Major-Antwerp-2022-Challengers-Stage-ence-vs-9z-mirage_2356104.rar extracted to `csgo_tmp'.\n"
     ]
    },
    {
     "data": {
      "application/vnd.jupyter.widget-view+json": {
       "model_id": "af5a169202ab4e94997e34ad7caa4022",
       "version_major": 2,
       "version_minor": 0
      },
      "text/plain": [
       "Map:   0%|          | 0/1 [00:00<?, ?it/s]"
      ]
     },
     "metadata": {},
     "output_type": "display_data"
    },
    {
     "name": "stderr",
     "output_type": "stream",
     "text": [
      "A parse rate lower than 64 may be slow depending on the tickrate of the demo, which is usually 64 for MM and 128 for pro demos.\n"
     ]
    },
    {
     "name": "stdout",
     "output_type": "stream",
     "text": [
      "patool: Extracting ../Demka\\PGL-Major-Antwerp-2022-Challengers-Stage-ence-vs-bad-news-eagles-bo3_2356123.rar ...\n",
      "patool: running \"C:\\Program Files\\7-Zip\\7z.EXE\" x -ocsgo_tmp -- ../Demka\\PGL-Major-Antwerp-2022-Challengers-Stage-ence-vs-bad-news-eagles-bo3_2356123.rar\n",
      "patool: ... ../Demka\\PGL-Major-Antwerp-2022-Challengers-Stage-ence-vs-bad-news-eagles-bo3_2356123.rar extracted to `csgo_tmp'.\n"
     ]
    },
    {
     "data": {
      "application/vnd.jupyter.widget-view+json": {
       "model_id": "b7d71a5576004f5ab16dce5e0aafe0a7",
       "version_major": 2,
       "version_minor": 0
      },
      "text/plain": [
       "Map:   0%|          | 0/2 [00:00<?, ?it/s]"
      ]
     },
     "metadata": {},
     "output_type": "display_data"
    },
    {
     "name": "stderr",
     "output_type": "stream",
     "text": [
      "A parse rate lower than 64 may be slow depending on the tickrate of the demo, which is usually 64 for MM and 128 for pro demos.\n",
      "A parse rate lower than 64 may be slow depending on the tickrate of the demo, which is usually 64 for MM and 128 for pro demos.\n"
     ]
    },
    {
     "name": "stdout",
     "output_type": "stream",
     "text": [
      "patool: Extracting ../Demka\\PGL-Major-Antwerp-2022-Challengers-Stage-ence-vs-g2-bo3_2356118.rar ...\n",
      "patool: running \"C:\\Program Files\\7-Zip\\7z.EXE\" x -ocsgo_tmp -- ../Demka\\PGL-Major-Antwerp-2022-Challengers-Stage-ence-vs-g2-bo3_2356118.rar\n",
      "patool: ... ../Demka\\PGL-Major-Antwerp-2022-Challengers-Stage-ence-vs-g2-bo3_2356118.rar extracted to `csgo_tmp'.\n"
     ]
    },
    {
     "data": {
      "application/vnd.jupyter.widget-view+json": {
       "model_id": "62e4e666d52443e3b854dd86777840e4",
       "version_major": 2,
       "version_minor": 0
      },
      "text/plain": [
       "Map:   0%|          | 0/3 [00:00<?, ?it/s]"
      ]
     },
     "metadata": {},
     "output_type": "display_data"
    },
    {
     "name": "stderr",
     "output_type": "stream",
     "text": [
      "A parse rate lower than 64 may be slow depending on the tickrate of the demo, which is usually 64 for MM and 128 for pro demos.\n",
      "A parse rate lower than 64 may be slow depending on the tickrate of the demo, which is usually 64 for MM and 128 for pro demos.\n",
      "A parse rate lower than 64 may be slow depending on the tickrate of the demo, which is usually 64 for MM and 128 for pro demos.\n"
     ]
    },
    {
     "name": "stdout",
     "output_type": "stream",
     "text": [
      "patool: Extracting ../Demka\\PGL-Major-Antwerp-2022-Challengers-Stage-ence-vs-outsiders-vertigo_2356107.rar ...\n",
      "patool: running \"C:\\Program Files\\7-Zip\\7z.EXE\" x -ocsgo_tmp -- ../Demka\\PGL-Major-Antwerp-2022-Challengers-Stage-ence-vs-outsiders-vertigo_2356107.rar\n",
      "patool: ... ../Demka\\PGL-Major-Antwerp-2022-Challengers-Stage-ence-vs-outsiders-vertigo_2356107.rar extracted to `csgo_tmp'.\n"
     ]
    },
    {
     "data": {
      "application/vnd.jupyter.widget-view+json": {
       "model_id": "7c1e1197c0644a9092599a1c54b46854",
       "version_major": 2,
       "version_minor": 0
      },
      "text/plain": [
       "Map:   0%|          | 0/1 [00:00<?, ?it/s]"
      ]
     },
     "metadata": {},
     "output_type": "display_data"
    },
    {
     "name": "stderr",
     "output_type": "stream",
     "text": [
      "A parse rate lower than 64 may be slow depending on the tickrate of the demo, which is usually 64 for MM and 128 for pro demos.\n"
     ]
    },
    {
     "name": "stdout",
     "output_type": "stream",
     "text": [
      "patool: Extracting ../Demka\\PGL-Major-Antwerp-2022-Challengers-Stage-eternal-fire-vs-renegades-vertigo_2356109.rar ...\n",
      "patool: running \"C:\\Program Files\\7-Zip\\7z.EXE\" x -ocsgo_tmp -- ../Demka\\PGL-Major-Antwerp-2022-Challengers-Stage-eternal-fire-vs-renegades-vertigo_2356109.rar\n",
      "patool: ... ../Demka\\PGL-Major-Antwerp-2022-Challengers-Stage-eternal-fire-vs-renegades-vertigo_2356109.rar extracted to `csgo_tmp'.\n"
     ]
    },
    {
     "data": {
      "application/vnd.jupyter.widget-view+json": {
       "model_id": "64bb73be02e44c1193b0bf20409deef2",
       "version_major": 2,
       "version_minor": 0
      },
      "text/plain": [
       "Map:   0%|          | 0/1 [00:00<?, ?it/s]"
      ]
     },
     "metadata": {},
     "output_type": "display_data"
    },
    {
     "name": "stderr",
     "output_type": "stream",
     "text": [
      "A parse rate lower than 64 may be slow depending on the tickrate of the demo, which is usually 64 for MM and 128 for pro demos.\n"
     ]
    },
    {
     "name": "stdout",
     "output_type": "stream",
     "text": [
      "patool: Extracting ../Demka\\PGL-Major-Antwerp-2022-Challengers-Stage-forze-vs-bad-news-eagles-inferno_2356106.rar ...\n",
      "patool: running \"C:\\Program Files\\7-Zip\\7z.EXE\" x -ocsgo_tmp -- ../Demka\\PGL-Major-Antwerp-2022-Challengers-Stage-forze-vs-bad-news-eagles-inferno_2356106.rar\n",
      "patool: ... ../Demka\\PGL-Major-Antwerp-2022-Challengers-Stage-forze-vs-bad-news-eagles-inferno_2356106.rar extracted to `csgo_tmp'.\n"
     ]
    },
    {
     "data": {
      "application/vnd.jupyter.widget-view+json": {
       "model_id": "d9e0b007e03243f7badb2b08101f2c85",
       "version_major": 2,
       "version_minor": 0
      },
      "text/plain": [
       "Map:   0%|          | 0/1 [00:00<?, ?it/s]"
      ]
     },
     "metadata": {},
     "output_type": "display_data"
    },
    {
     "name": "stderr",
     "output_type": "stream",
     "text": [
      "A parse rate lower than 64 may be slow depending on the tickrate of the demo, which is usually 64 for MM and 128 for pro demos.\n"
     ]
    },
    {
     "name": "stdout",
     "output_type": "stream",
     "text": [
      "patool: Extracting ../Demka\\PGL-Major-Antwerp-2022-Challengers-Stage-forze-vs-imperial-bo3_2356128.rar ...\n",
      "patool: running \"C:\\Program Files\\7-Zip\\7z.EXE\" x -ocsgo_tmp -- ../Demka\\PGL-Major-Antwerp-2022-Challengers-Stage-forze-vs-imperial-bo3_2356128.rar\n",
      "patool: ... ../Demka\\PGL-Major-Antwerp-2022-Challengers-Stage-forze-vs-imperial-bo3_2356128.rar extracted to `csgo_tmp'.\n"
     ]
    },
    {
     "data": {
      "application/vnd.jupyter.widget-view+json": {
       "model_id": "184b1c9d75e54c1eb3c5ec7ca3952592",
       "version_major": 2,
       "version_minor": 0
      },
      "text/plain": [
       "Map:   0%|          | 0/2 [00:00<?, ?it/s]"
      ]
     },
     "metadata": {},
     "output_type": "display_data"
    },
    {
     "name": "stderr",
     "output_type": "stream",
     "text": [
      "A parse rate lower than 64 may be slow depending on the tickrate of the demo, which is usually 64 for MM and 128 for pro demos.\n",
      "A parse rate lower than 64 may be slow depending on the tickrate of the demo, which is usually 64 for MM and 128 for pro demos.\n"
     ]
    },
    {
     "name": "stdout",
     "output_type": "stream",
     "text": [
      "patool: Extracting ../Demka\\PGL-Major-Antwerp-2022-Challengers-Stage-forze-vs-outsiders-bo3_2356122.rar ...\n",
      "patool: running \"C:\\Program Files\\7-Zip\\7z.EXE\" x -ocsgo_tmp -- ../Demka\\PGL-Major-Antwerp-2022-Challengers-Stage-forze-vs-outsiders-bo3_2356122.rar\n",
      "patool: ... ../Demka\\PGL-Major-Antwerp-2022-Challengers-Stage-forze-vs-outsiders-bo3_2356122.rar extracted to `csgo_tmp'.\n"
     ]
    },
    {
     "data": {
      "application/vnd.jupyter.widget-view+json": {
       "model_id": "de085498bca5496c98855225d34f6797",
       "version_major": 2,
       "version_minor": 0
      },
      "text/plain": [
       "Map:   0%|          | 0/3 [00:00<?, ?it/s]"
      ]
     },
     "metadata": {},
     "output_type": "display_data"
    },
    {
     "name": "stderr",
     "output_type": "stream",
     "text": [
      "A parse rate lower than 64 may be slow depending on the tickrate of the demo, which is usually 64 for MM and 128 for pro demos.\n",
      "A parse rate lower than 64 may be slow depending on the tickrate of the demo, which is usually 64 for MM and 128 for pro demos.\n",
      "A parse rate lower than 64 may be slow depending on the tickrate of the demo, which is usually 64 for MM and 128 for pro demos.\n"
     ]
    },
    {
     "name": "stdout",
     "output_type": "stream",
     "text": [
      "patool: Extracting ../Demka\\PGL-Major-Antwerp-2022-Challengers-Stage-forze-vs-renegades-nuke_2356102.rar ...\n",
      "patool: running \"C:\\Program Files\\7-Zip\\7z.EXE\" x -ocsgo_tmp -- ../Demka\\PGL-Major-Antwerp-2022-Challengers-Stage-forze-vs-renegades-nuke_2356102.rar\n",
      "patool: ... ../Demka\\PGL-Major-Antwerp-2022-Challengers-Stage-forze-vs-renegades-nuke_2356102.rar extracted to `csgo_tmp'.\n"
     ]
    },
    {
     "data": {
      "application/vnd.jupyter.widget-view+json": {
       "model_id": "e31fda14c68e4c06b181d7022bfca43c",
       "version_major": 2,
       "version_minor": 0
      },
      "text/plain": [
       "Map:   0%|          | 0/1 [00:00<?, ?it/s]"
      ]
     },
     "metadata": {},
     "output_type": "display_data"
    },
    {
     "name": "stderr",
     "output_type": "stream",
     "text": [
      "A parse rate lower than 64 may be slow depending on the tickrate of the demo, which is usually 64 for MM and 128 for pro demos.\n"
     ]
    },
    {
     "name": "stdout",
     "output_type": "stream",
     "text": [
      "patool: Extracting ../Demka\\PGL-Major-Antwerp-2022-Challengers-Stage-g2-vs-liquid-inferno_2356098.rar ...\n",
      "patool: running \"C:\\Program Files\\7-Zip\\7z.EXE\" x -ocsgo_tmp -- ../Demka\\PGL-Major-Antwerp-2022-Challengers-Stage-g2-vs-liquid-inferno_2356098.rar\n",
      "patool: ... ../Demka\\PGL-Major-Antwerp-2022-Challengers-Stage-g2-vs-liquid-inferno_2356098.rar extracted to `csgo_tmp'.\n"
     ]
    },
    {
     "data": {
      "application/vnd.jupyter.widget-view+json": {
       "model_id": "f99a02c87fbd4193b043ad5d8f5cc335",
       "version_major": 2,
       "version_minor": 0
      },
      "text/plain": [
       "Map:   0%|          | 0/1 [00:00<?, ?it/s]"
      ]
     },
     "metadata": {},
     "output_type": "display_data"
    },
    {
     "name": "stderr",
     "output_type": "stream",
     "text": [
      "A parse rate lower than 64 may be slow depending on the tickrate of the demo, which is usually 64 for MM and 128 for pro demos.\n"
     ]
    },
    {
     "name": "stdout",
     "output_type": "stream",
     "text": [
      "patool: Extracting ../Demka\\PGL-Major-Antwerp-2022-Challengers-Stage-g2-vs-spirit-dust2_2356105.rar ...\n",
      "patool: running \"C:\\Program Files\\7-Zip\\7z.EXE\" x -ocsgo_tmp -- ../Demka\\PGL-Major-Antwerp-2022-Challengers-Stage-g2-vs-spirit-dust2_2356105.rar\n",
      "patool: ... ../Demka\\PGL-Major-Antwerp-2022-Challengers-Stage-g2-vs-spirit-dust2_2356105.rar extracted to `csgo_tmp'.\n"
     ]
    },
    {
     "data": {
      "application/vnd.jupyter.widget-view+json": {
       "model_id": "b21d1a2107f44e2f9c509f3a4e526ce7",
       "version_major": 2,
       "version_minor": 0
      },
      "text/plain": [
       "Map:   0%|          | 0/1 [00:00<?, ?it/s]"
      ]
     },
     "metadata": {},
     "output_type": "display_data"
    },
    {
     "name": "stderr",
     "output_type": "stream",
     "text": [
      "A parse rate lower than 64 may be slow depending on the tickrate of the demo, which is usually 64 for MM and 128 for pro demos.\n"
     ]
    },
    {
     "name": "stdout",
     "output_type": "stream",
     "text": [
      "patool: Extracting ../Demka\\PGL-Major-Antwerp-2022-Challengers-Stage-imperial-vs-ihc-bo3_2356124.rar ...\n",
      "patool: running \"C:\\Program Files\\7-Zip\\7z.EXE\" x -ocsgo_tmp -- ../Demka\\PGL-Major-Antwerp-2022-Challengers-Stage-imperial-vs-ihc-bo3_2356124.rar\n",
      "patool: ... ../Demka\\PGL-Major-Antwerp-2022-Challengers-Stage-imperial-vs-ihc-bo3_2356124.rar extracted to `csgo_tmp'.\n"
     ]
    },
    {
     "data": {
      "application/vnd.jupyter.widget-view+json": {
       "model_id": "4891194300ea47cda83cc9c12df1b005",
       "version_major": 2,
       "version_minor": 0
      },
      "text/plain": [
       "Map:   0%|          | 0/3 [00:00<?, ?it/s]"
      ]
     },
     "metadata": {},
     "output_type": "display_data"
    },
    {
     "name": "stderr",
     "output_type": "stream",
     "text": [
      "A parse rate lower than 64 may be slow depending on the tickrate of the demo, which is usually 64 for MM and 128 for pro demos.\n",
      "A parse rate lower than 64 may be slow depending on the tickrate of the demo, which is usually 64 for MM and 128 for pro demos.\n",
      "A parse rate lower than 64 may be slow depending on the tickrate of the demo, which is usually 64 for MM and 128 for pro demos.\n"
     ]
    },
    {
     "name": "stdout",
     "output_type": "stream",
     "text": [
      "patool: Extracting ../Demka\\PGL-Major-Antwerp-2022-Challengers-Stage-imperial-vs-liquid-inferno_2356111.rar ...\n",
      "patool: running \"C:\\Program Files\\7-Zip\\7z.EXE\" x -ocsgo_tmp -- ../Demka\\PGL-Major-Antwerp-2022-Challengers-Stage-imperial-vs-liquid-inferno_2356111.rar\n",
      "patool: ... ../Demka\\PGL-Major-Antwerp-2022-Challengers-Stage-imperial-vs-liquid-inferno_2356111.rar extracted to `csgo_tmp'.\n"
     ]
    },
    {
     "data": {
      "application/vnd.jupyter.widget-view+json": {
       "model_id": "f64afa566cd744beb78f756745ad48ff",
       "version_major": 2,
       "version_minor": 0
      },
      "text/plain": [
       "Map:   0%|          | 0/1 [00:00<?, ?it/s]"
      ]
     },
     "metadata": {},
     "output_type": "display_data"
    },
    {
     "name": "stderr",
     "output_type": "stream",
     "text": [
      "A parse rate lower than 64 may be slow depending on the tickrate of the demo, which is usually 64 for MM and 128 for pro demos.\n"
     ]
    },
    {
     "name": "stdout",
     "output_type": "stream",
     "text": [
      "patool: Extracting ../Demka\\PGL-Major-Antwerp-2022-Challengers-Stage-imperial-vs-spirit-dust2_2356103.rar ...\n",
      "patool: running \"C:\\Program Files\\7-Zip\\7z.EXE\" x -ocsgo_tmp -- ../Demka\\PGL-Major-Antwerp-2022-Challengers-Stage-imperial-vs-spirit-dust2_2356103.rar\n",
      "patool: ... ../Demka\\PGL-Major-Antwerp-2022-Challengers-Stage-imperial-vs-spirit-dust2_2356103.rar extracted to `csgo_tmp'.\n"
     ]
    },
    {
     "data": {
      "application/vnd.jupyter.widget-view+json": {
       "model_id": "c09e97330e824f169068e289b4daefd6",
       "version_major": 2,
       "version_minor": 0
      },
      "text/plain": [
       "Map:   0%|          | 0/1 [00:00<?, ?it/s]"
      ]
     },
     "metadata": {},
     "output_type": "display_data"
    },
    {
     "name": "stderr",
     "output_type": "stream",
     "text": [
      "A parse rate lower than 64 may be slow depending on the tickrate of the demo, which is usually 64 for MM and 128 for pro demos.\n"
     ]
    },
    {
     "name": "stdout",
     "output_type": "stream",
     "text": [
      "patool: Extracting ../Demka\\PGL-Major-Antwerp-2022-Challengers-Stage-liquid-vs-9z-bo3_2356120.rar ...\n",
      "patool: running \"C:\\Program Files\\7-Zip\\7z.EXE\" x -ocsgo_tmp -- ../Demka\\PGL-Major-Antwerp-2022-Challengers-Stage-liquid-vs-9z-bo3_2356120.rar\n",
      "patool: ... ../Demka\\PGL-Major-Antwerp-2022-Challengers-Stage-liquid-vs-9z-bo3_2356120.rar extracted to `csgo_tmp'.\n"
     ]
    },
    {
     "data": {
      "application/vnd.jupyter.widget-view+json": {
       "model_id": "5357a53df91e47d18f6eafdec18eac15",
       "version_major": 2,
       "version_minor": 0
      },
      "text/plain": [
       "Map:   0%|          | 0/2 [00:00<?, ?it/s]"
      ]
     },
     "metadata": {},
     "output_type": "display_data"
    },
    {
     "name": "stderr",
     "output_type": "stream",
     "text": [
      "A parse rate lower than 64 may be slow depending on the tickrate of the demo, which is usually 64 for MM and 128 for pro demos.\n",
      "A parse rate lower than 64 may be slow depending on the tickrate of the demo, which is usually 64 for MM and 128 for pro demos.\n"
     ]
    },
    {
     "name": "stdout",
     "output_type": "stream",
     "text": [
      "patool: Extracting ../Demka\\PGL-Major-Antwerp-2022-Challengers-Stage-mibr-vs-9z-overpass_2356112.rar ...\n",
      "patool: running \"C:\\Program Files\\7-Zip\\7z.EXE\" x -ocsgo_tmp -- ../Demka\\PGL-Major-Antwerp-2022-Challengers-Stage-mibr-vs-9z-overpass_2356112.rar\n",
      "patool: ... ../Demka\\PGL-Major-Antwerp-2022-Challengers-Stage-mibr-vs-9z-overpass_2356112.rar extracted to `csgo_tmp'.\n"
     ]
    },
    {
     "data": {
      "application/vnd.jupyter.widget-view+json": {
       "model_id": "a0def28e81c64a408ec011e9c118a535",
       "version_major": 2,
       "version_minor": 0
      },
      "text/plain": [
       "Map:   0%|          | 0/1 [00:00<?, ?it/s]"
      ]
     },
     "metadata": {},
     "output_type": "display_data"
    },
    {
     "name": "stderr",
     "output_type": "stream",
     "text": [
      "A parse rate lower than 64 may be slow depending on the tickrate of the demo, which is usually 64 for MM and 128 for pro demos.\n"
     ]
    },
    {
     "name": "stdout",
     "output_type": "stream",
     "text": [
      "patool: Extracting ../Demka\\PGL-Major-Antwerp-2022-Challengers-Stage-mibr-vs-eternal-fire-bo3_2356126.rar ...\n",
      "patool: running \"C:\\Program Files\\7-Zip\\7z.EXE\" x -ocsgo_tmp -- ../Demka\\PGL-Major-Antwerp-2022-Challengers-Stage-mibr-vs-eternal-fire-bo3_2356126.rar\n",
      "patool: ... ../Demka\\PGL-Major-Antwerp-2022-Challengers-Stage-mibr-vs-eternal-fire-bo3_2356126.rar extracted to `csgo_tmp'.\n"
     ]
    },
    {
     "data": {
      "application/vnd.jupyter.widget-view+json": {
       "model_id": "3ee278f767384eef8f28ca2f0ff7ac6d",
       "version_major": 2,
       "version_minor": 0
      },
      "text/plain": [
       "Map:   0%|          | 0/2 [00:00<?, ?it/s]"
      ]
     },
     "metadata": {},
     "output_type": "display_data"
    },
    {
     "name": "stderr",
     "output_type": "stream",
     "text": [
      "A parse rate lower than 64 may be slow depending on the tickrate of the demo, which is usually 64 for MM and 128 for pro demos.\n",
      "A parse rate lower than 64 may be slow depending on the tickrate of the demo, which is usually 64 for MM and 128 for pro demos.\n"
     ]
    },
    {
     "name": "stdout",
     "output_type": "stream",
     "text": [
      "patool: Extracting ../Demka\\PGL-Major-Antwerp-2022-Challengers-Stage-mibr-vs-outsiders-dust2_2356100.rar ...\n",
      "patool: running \"C:\\Program Files\\7-Zip\\7z.EXE\" x -ocsgo_tmp -- ../Demka\\PGL-Major-Antwerp-2022-Challengers-Stage-mibr-vs-outsiders-dust2_2356100.rar\n",
      "patool: ... ../Demka\\PGL-Major-Antwerp-2022-Challengers-Stage-mibr-vs-outsiders-dust2_2356100.rar extracted to `csgo_tmp'.\n"
     ]
    },
    {
     "data": {
      "application/vnd.jupyter.widget-view+json": {
       "model_id": "3e41e1aa1c5e4aa998692d917738a33d",
       "version_major": 2,
       "version_minor": 0
      },
      "text/plain": [
       "Map:   0%|          | 0/1 [00:00<?, ?it/s]"
      ]
     },
     "metadata": {},
     "output_type": "display_data"
    },
    {
     "name": "stderr",
     "output_type": "stream",
     "text": [
      "A parse rate lower than 64 may be slow depending on the tickrate of the demo, which is usually 64 for MM and 128 for pro demos.\n"
     ]
    },
    {
     "name": "stdout",
     "output_type": "stream",
     "text": [
      "patool: Extracting ../Demka\\PGL-Major-Antwerp-2022-Challengers-Stage-renegades-vs-ihc-bo3_2356119.rar ...\n",
      "patool: running \"C:\\Program Files\\7-Zip\\7z.EXE\" x -ocsgo_tmp -- ../Demka\\PGL-Major-Antwerp-2022-Challengers-Stage-renegades-vs-ihc-bo3_2356119.rar\n",
      "patool: ... ../Demka\\PGL-Major-Antwerp-2022-Challengers-Stage-renegades-vs-ihc-bo3_2356119.rar extracted to `csgo_tmp'.\n"
     ]
    },
    {
     "data": {
      "application/vnd.jupyter.widget-view+json": {
       "model_id": "0b9a9c8747904f61bcff4fdabef7cecb",
       "version_major": 2,
       "version_minor": 0
      },
      "text/plain": [
       "Map:   0%|          | 0/2 [00:00<?, ?it/s]"
      ]
     },
     "metadata": {},
     "output_type": "display_data"
    },
    {
     "name": "stderr",
     "output_type": "stream",
     "text": [
      "A parse rate lower than 64 may be slow depending on the tickrate of the demo, which is usually 64 for MM and 128 for pro demos.\n",
      "A parse rate lower than 64 may be slow depending on the tickrate of the demo, which is usually 64 for MM and 128 for pro demos.\n"
     ]
    },
    {
     "name": "stdout",
     "output_type": "stream",
     "text": [
      "patool: Extracting ../Demka\\PGL-Major-Antwerp-2022-Challengers-Stage-spirit-vs-eternal-fire-dust2_2356113.rar ...\n",
      "patool: running \"C:\\Program Files\\7-Zip\\7z.EXE\" x -ocsgo_tmp -- ../Demka\\PGL-Major-Antwerp-2022-Challengers-Stage-spirit-vs-eternal-fire-dust2_2356113.rar\n",
      "patool: ... ../Demka\\PGL-Major-Antwerp-2022-Challengers-Stage-spirit-vs-eternal-fire-dust2_2356113.rar extracted to `csgo_tmp'.\n"
     ]
    },
    {
     "data": {
      "application/vnd.jupyter.widget-view+json": {
       "model_id": "fa0d23bba86b49a184ce7281517d7154",
       "version_major": 2,
       "version_minor": 0
      },
      "text/plain": [
       "Map:   0%|          | 0/1 [00:00<?, ?it/s]"
      ]
     },
     "metadata": {},
     "output_type": "display_data"
    },
    {
     "name": "stderr",
     "output_type": "stream",
     "text": [
      "A parse rate lower than 64 may be slow depending on the tickrate of the demo, which is usually 64 for MM and 128 for pro demos.\n"
     ]
    },
    {
     "name": "stdout",
     "output_type": "stream",
     "text": [
      "patool: Extracting ../Demka\\PGL-Major-Antwerp-2022-Challengers-Stage-vitality-vs-complexity-inferno_2356097.rar ...\n",
      "patool: running \"C:\\Program Files\\7-Zip\\7z.EXE\" x -ocsgo_tmp -- ../Demka\\PGL-Major-Antwerp-2022-Challengers-Stage-vitality-vs-complexity-inferno_2356097.rar\n",
      "patool: ... ../Demka\\PGL-Major-Antwerp-2022-Challengers-Stage-vitality-vs-complexity-inferno_2356097.rar extracted to `csgo_tmp'.\n"
     ]
    },
    {
     "data": {
      "application/vnd.jupyter.widget-view+json": {
       "model_id": "a4102c9201644b489a2817ea84b8331f",
       "version_major": 2,
       "version_minor": 0
      },
      "text/plain": [
       "Map:   0%|          | 0/1 [00:00<?, ?it/s]"
      ]
     },
     "metadata": {},
     "output_type": "display_data"
    },
    {
     "name": "stderr",
     "output_type": "stream",
     "text": [
      "A parse rate lower than 64 may be slow depending on the tickrate of the demo, which is usually 64 for MM and 128 for pro demos.\n"
     ]
    },
    {
     "name": "stdout",
     "output_type": "stream",
     "text": [
      "patool: Extracting ../Demka\\PGL-Major-Antwerp-2022-Challengers-Stage-vitality-vs-forze-bo3_2356117.rar ...\n",
      "patool: running \"C:\\Program Files\\7-Zip\\7z.EXE\" x -ocsgo_tmp -- ../Demka\\PGL-Major-Antwerp-2022-Challengers-Stage-vitality-vs-forze-bo3_2356117.rar\n",
      "patool: ... ../Demka\\PGL-Major-Antwerp-2022-Challengers-Stage-vitality-vs-forze-bo3_2356117.rar extracted to `csgo_tmp'.\n"
     ]
    },
    {
     "data": {
      "application/vnd.jupyter.widget-view+json": {
       "model_id": "0b8b964780624588a53ccfdbae6e8e41",
       "version_major": 2,
       "version_minor": 0
      },
      "text/plain": [
       "Map:   0%|          | 0/3 [00:00<?, ?it/s]"
      ]
     },
     "metadata": {},
     "output_type": "display_data"
    },
    {
     "name": "stderr",
     "output_type": "stream",
     "text": [
      "A parse rate lower than 64 may be slow depending on the tickrate of the demo, which is usually 64 for MM and 128 for pro demos.\n",
      "A parse rate lower than 64 may be slow depending on the tickrate of the demo, which is usually 64 for MM and 128 for pro demos.\n",
      "A parse rate lower than 64 may be slow depending on the tickrate of the demo, which is usually 64 for MM and 128 for pro demos.\n"
     ]
    },
    {
     "name": "stdout",
     "output_type": "stream",
     "text": [
      "patool: Extracting ../Demka\\PGL-Major-Antwerp-2022-cloud9-vs-faze-nuke_2356147.rar ...\n",
      "patool: running \"C:\\Program Files\\7-Zip\\7z.EXE\" x -ocsgo_tmp -- ../Demka\\PGL-Major-Antwerp-2022-cloud9-vs-faze-nuke_2356147.rar\n",
      "patool: ... ../Demka\\PGL-Major-Antwerp-2022-cloud9-vs-faze-nuke_2356147.rar extracted to `csgo_tmp'.\n"
     ]
    },
    {
     "data": {
      "application/vnd.jupyter.widget-view+json": {
       "model_id": "d15a5a45fc35450cb08f1de8289760a4",
       "version_major": 2,
       "version_minor": 0
      },
      "text/plain": [
       "Map:   0%|          | 0/1 [00:00<?, ?it/s]"
      ]
     },
     "metadata": {},
     "output_type": "display_data"
    },
    {
     "name": "stderr",
     "output_type": "stream",
     "text": [
      "A parse rate lower than 64 may be slow depending on the tickrate of the demo, which is usually 64 for MM and 128 for pro demos.\n"
     ]
    },
    {
     "name": "stdout",
     "output_type": "stream",
     "text": [
      "patool: Extracting ../Demka\\PGL-Major-Antwerp-2022-cloud9-vs-imperial-bo3_2356159.rar ...\n",
      "patool: running \"C:\\Program Files\\7-Zip\\7z.EXE\" x -ocsgo_tmp -- ../Demka\\PGL-Major-Antwerp-2022-cloud9-vs-imperial-bo3_2356159.rar\n",
      "patool: ... ../Demka\\PGL-Major-Antwerp-2022-cloud9-vs-imperial-bo3_2356159.rar extracted to `csgo_tmp'.\n"
     ]
    },
    {
     "data": {
      "application/vnd.jupyter.widget-view+json": {
       "model_id": "572e20cefeb646549f135828a9564af2",
       "version_major": 2,
       "version_minor": 0
      },
      "text/plain": [
       "Map:   0%|          | 0/3 [00:00<?, ?it/s]"
      ]
     },
     "metadata": {},
     "output_type": "display_data"
    },
    {
     "name": "stderr",
     "output_type": "stream",
     "text": [
      "A parse rate lower than 64 may be slow depending on the tickrate of the demo, which is usually 64 for MM and 128 for pro demos.\n",
      "A parse rate lower than 64 may be slow depending on the tickrate of the demo, which is usually 64 for MM and 128 for pro demos.\n",
      "A parse rate lower than 64 may be slow depending on the tickrate of the demo, which is usually 64 for MM and 128 for pro demos.\n"
     ]
    },
    {
     "name": "stdout",
     "output_type": "stream",
     "text": [
      "patool: Extracting ../Demka\\PGL-Major-Antwerp-2022-cloud9-vs-nip-inferno_2356141.rar ...\n",
      "patool: running \"C:\\Program Files\\7-Zip\\7z.EXE\" x -ocsgo_tmp -- ../Demka\\PGL-Major-Antwerp-2022-cloud9-vs-nip-inferno_2356141.rar\n",
      "patool: ... ../Demka\\PGL-Major-Antwerp-2022-cloud9-vs-nip-inferno_2356141.rar extracted to `csgo_tmp'.\n"
     ]
    },
    {
     "data": {
      "application/vnd.jupyter.widget-view+json": {
       "model_id": "fc64729be04e405ea3d8fd28b8457922",
       "version_major": 2,
       "version_minor": 0
      },
      "text/plain": [
       "Map:   0%|          | 0/1 [00:00<?, ?it/s]"
      ]
     },
     "metadata": {},
     "output_type": "display_data"
    },
    {
     "name": "stderr",
     "output_type": "stream",
     "text": [
      "A parse rate lower than 64 may be slow depending on the tickrate of the demo, which is usually 64 for MM and 128 for pro demos.\n"
     ]
    },
    {
     "name": "stdout",
     "output_type": "stream",
     "text": [
      "patool: Extracting ../Demka\\PGL-Major-Antwerp-2022-cloud9-vs-outsiders-mirage_2356135.rar ...\n",
      "patool: running \"C:\\Program Files\\7-Zip\\7z.EXE\" x -ocsgo_tmp -- ../Demka\\PGL-Major-Antwerp-2022-cloud9-vs-outsiders-mirage_2356135.rar\n",
      "patool: ... ../Demka\\PGL-Major-Antwerp-2022-cloud9-vs-outsiders-mirage_2356135.rar extracted to `csgo_tmp'.\n"
     ]
    },
    {
     "data": {
      "application/vnd.jupyter.widget-view+json": {
       "model_id": "0508ced68f564084905ca3e27bbea112",
       "version_major": 2,
       "version_minor": 0
      },
      "text/plain": [
       "Map:   0%|          | 0/1 [00:00<?, ?it/s]"
      ]
     },
     "metadata": {},
     "output_type": "display_data"
    },
    {
     "name": "stderr",
     "output_type": "stream",
     "text": [
      "A parse rate lower than 64 may be slow depending on the tickrate of the demo, which is usually 64 for MM and 128 for pro demos.\n"
     ]
    },
    {
     "name": "stdout",
     "output_type": "stream",
     "text": [
      "patool: Extracting ../Demka\\PGL-Major-Antwerp-2022-copenhagen-flames-vs-bad-news-eagles-ancient_2356134.rar ...\n",
      "patool: running \"C:\\Program Files\\7-Zip\\7z.EXE\" x -ocsgo_tmp -- ../Demka\\PGL-Major-Antwerp-2022-copenhagen-flames-vs-bad-news-eagles-ancient_2356134.rar\n",
      "patool: ... ../Demka\\PGL-Major-Antwerp-2022-copenhagen-flames-vs-bad-news-eagles-ancient_2356134.rar extracted to `csgo_tmp'.\n"
     ]
    },
    {
     "data": {
      "application/vnd.jupyter.widget-view+json": {
       "model_id": "8cc14ca74e044ff084c675313895be06",
       "version_major": 2,
       "version_minor": 0
      },
      "text/plain": [
       "Map:   0%|          | 0/1 [00:00<?, ?it/s]"
      ]
     },
     "metadata": {},
     "output_type": "display_data"
    },
    {
     "name": "stderr",
     "output_type": "stream",
     "text": [
      "A parse rate lower than 64 may be slow depending on the tickrate of the demo, which is usually 64 for MM and 128 for pro demos.\n"
     ]
    },
    {
     "name": "stdout",
     "output_type": "stream",
     "text": [
      "patool: Extracting ../Demka\\PGL-Major-Antwerp-2022-copenhagen-flames-vs-ence-ancient_2356139.rar ...\n",
      "patool: running \"C:\\Program Files\\7-Zip\\7z.EXE\" x -ocsgo_tmp -- ../Demka\\PGL-Major-Antwerp-2022-copenhagen-flames-vs-ence-ancient_2356139.rar\n",
      "patool: ... ../Demka\\PGL-Major-Antwerp-2022-copenhagen-flames-vs-ence-ancient_2356139.rar extracted to `csgo_tmp'.\n"
     ]
    },
    {
     "data": {
      "application/vnd.jupyter.widget-view+json": {
       "model_id": "c3f6fbf1047b4c8cb07313138395fe30",
       "version_major": 2,
       "version_minor": 0
      },
      "text/plain": [
       "Map:   0%|          | 0/1 [00:00<?, ?it/s]"
      ]
     },
     "metadata": {},
     "output_type": "display_data"
    },
    {
     "name": "stderr",
     "output_type": "stream",
     "text": [
      "A parse rate lower than 64 may be slow depending on the tickrate of the demo, which is usually 64 for MM and 128 for pro demos.\n"
     ]
    },
    {
     "name": "stdout",
     "output_type": "stream",
     "text": [
      "patool: Extracting ../Demka\\PGL-Major-Antwerp-2022-copenhagen-flames-vs-faze-bo3_2356154.rar ...\n",
      "patool: running \"C:\\Program Files\\7-Zip\\7z.EXE\" x -ocsgo_tmp -- ../Demka\\PGL-Major-Antwerp-2022-copenhagen-flames-vs-faze-bo3_2356154.rar\n",
      "patool: ... ../Demka\\PGL-Major-Antwerp-2022-copenhagen-flames-vs-faze-bo3_2356154.rar extracted to `csgo_tmp'.\n"
     ]
    },
    {
     "data": {
      "application/vnd.jupyter.widget-view+json": {
       "model_id": "668aaef175b442d09e25d1cbb691ed5e",
       "version_major": 2,
       "version_minor": 0
      },
      "text/plain": [
       "Map:   0%|          | 0/3 [00:00<?, ?it/s]"
      ]
     },
     "metadata": {},
     "output_type": "display_data"
    },
    {
     "name": "stderr",
     "output_type": "stream",
     "text": [
      "A parse rate lower than 64 may be slow depending on the tickrate of the demo, which is usually 64 for MM and 128 for pro demos.\n",
      "A parse rate lower than 64 may be slow depending on the tickrate of the demo, which is usually 64 for MM and 128 for pro demos.\n",
      "A parse rate lower than 64 may be slow depending on the tickrate of the demo, which is usually 64 for MM and 128 for pro demos.\n"
     ]
    },
    {
     "name": "stdout",
     "output_type": "stream",
     "text": [
      "patool: Extracting ../Demka\\PGL-Major-Antwerp-2022-copenhagen-flames-vs-imperial-bo3_2356162.rar ...\n",
      "patool: running \"C:\\Program Files\\7-Zip\\7z.EXE\" x -ocsgo_tmp -- ../Demka\\PGL-Major-Antwerp-2022-copenhagen-flames-vs-imperial-bo3_2356162.rar\n",
      "patool: ... ../Demka\\PGL-Major-Antwerp-2022-copenhagen-flames-vs-imperial-bo3_2356162.rar extracted to `csgo_tmp'.\n"
     ]
    },
    {
     "data": {
      "application/vnd.jupyter.widget-view+json": {
       "model_id": "e50285762dc240bca760e6091a3a6038",
       "version_major": 2,
       "version_minor": 0
      },
      "text/plain": [
       "Map:   0%|          | 0/2 [00:00<?, ?it/s]"
      ]
     },
     "metadata": {},
     "output_type": "display_data"
    },
    {
     "name": "stderr",
     "output_type": "stream",
     "text": [
      "A parse rate lower than 64 may be slow depending on the tickrate of the demo, which is usually 64 for MM and 128 for pro demos.\n",
      "A parse rate lower than 64 may be slow depending on the tickrate of the demo, which is usually 64 for MM and 128 for pro demos.\n"
     ]
    },
    {
     "name": "stdout",
     "output_type": "stream",
     "text": [
      "patool: Extracting ../Demka\\PGL-Major-Antwerp-2022-ence-vs-copenhagen-flames-bo3_2356165.rar ...\n",
      "patool: running \"C:\\Program Files\\7-Zip\\7z.EXE\" x -ocsgo_tmp -- ../Demka\\PGL-Major-Antwerp-2022-ence-vs-copenhagen-flames-bo3_2356165.rar\n",
      "patool: ... ../Demka\\PGL-Major-Antwerp-2022-ence-vs-copenhagen-flames-bo3_2356165.rar extracted to `csgo_tmp'.\n"
     ]
    },
    {
     "data": {
      "application/vnd.jupyter.widget-view+json": {
       "model_id": "6d08410499ec4031b71f6a7c8e01a28b",
       "version_major": 2,
       "version_minor": 0
      },
      "text/plain": [
       "Map:   0%|          | 0/2 [00:00<?, ?it/s]"
      ]
     },
     "metadata": {},
     "output_type": "display_data"
    },
    {
     "name": "stderr",
     "output_type": "stream",
     "text": [
      "A parse rate lower than 64 may be slow depending on the tickrate of the demo, which is usually 64 for MM and 128 for pro demos.\n",
      "A parse rate lower than 64 may be slow depending on the tickrate of the demo, which is usually 64 for MM and 128 for pro demos.\n"
     ]
    },
    {
     "name": "stdout",
     "output_type": "stream",
     "text": [
      "patool: Extracting ../Demka\\PGL-Major-Antwerp-2022-ence-vs-heroic-bo3_2356156.rar ...\n",
      "patool: running \"C:\\Program Files\\7-Zip\\7z.EXE\" x -ocsgo_tmp -- ../Demka\\PGL-Major-Antwerp-2022-ence-vs-heroic-bo3_2356156.rar\n",
      "patool: ... ../Demka\\PGL-Major-Antwerp-2022-ence-vs-heroic-bo3_2356156.rar extracted to `csgo_tmp'.\n"
     ]
    },
    {
     "data": {
      "application/vnd.jupyter.widget-view+json": {
       "model_id": "f522379fd3b54a66b2ab9b50f9539a24",
       "version_major": 2,
       "version_minor": 0
      },
      "text/plain": [
       "Map:   0%|          | 0/3 [00:00<?, ?it/s]"
      ]
     },
     "metadata": {},
     "output_type": "display_data"
    },
    {
     "name": "stderr",
     "output_type": "stream",
     "text": [
      "A parse rate lower than 64 may be slow depending on the tickrate of the demo, which is usually 64 for MM and 128 for pro demos.\n",
      "A parse rate lower than 64 may be slow depending on the tickrate of the demo, which is usually 64 for MM and 128 for pro demos.\n",
      "A parse rate lower than 64 may be slow depending on the tickrate of the demo, which is usually 64 for MM and 128 for pro demos.\n"
     ]
    },
    {
     "name": "stdout",
     "output_type": "stream",
     "text": [
      "patool: Extracting ../Demka\\PGL-Major-Antwerp-2022-ence-vs-natus-vincere-bo3_2356168.rar ...\n",
      "patool: running \"C:\\Program Files\\7-Zip\\7z.EXE\" x -ocsgo_tmp -- ../Demka\\PGL-Major-Antwerp-2022-ence-vs-natus-vincere-bo3_2356168.rar\n",
      "patool: ... ../Demka\\PGL-Major-Antwerp-2022-ence-vs-natus-vincere-bo3_2356168.rar extracted to `csgo_tmp'.\n"
     ]
    },
    {
     "data": {
      "application/vnd.jupyter.widget-view+json": {
       "model_id": "84405b4089b04707a1317ddd55197783",
       "version_major": 2,
       "version_minor": 0
      },
      "text/plain": [
       "Map:   0%|          | 0/2 [00:00<?, ?it/s]"
      ]
     },
     "metadata": {},
     "output_type": "display_data"
    },
    {
     "name": "stderr",
     "output_type": "stream",
     "text": [
      "A parse rate lower than 64 may be slow depending on the tickrate of the demo, which is usually 64 for MM and 128 for pro demos.\n",
      "A parse rate lower than 64 may be slow depending on the tickrate of the demo, which is usually 64 for MM and 128 for pro demos.\n"
     ]
    },
    {
     "name": "stdout",
     "output_type": "stream",
     "text": [
      "patool: Extracting ../Demka\\PGL-Major-Antwerp-2022-ence-vs-outsiders-mirage_2356148.rar ...\n",
      "patool: running \"C:\\Program Files\\7-Zip\\7z.EXE\" x -ocsgo_tmp -- ../Demka\\PGL-Major-Antwerp-2022-ence-vs-outsiders-mirage_2356148.rar\n",
      "patool: ... ../Demka\\PGL-Major-Antwerp-2022-ence-vs-outsiders-mirage_2356148.rar extracted to `csgo_tmp'.\n"
     ]
    },
    {
     "data": {
      "application/vnd.jupyter.widget-view+json": {
       "model_id": "56eba687407247bdbae2a743794ae404",
       "version_major": 2,
       "version_minor": 0
      },
      "text/plain": [
       "Map:   0%|          | 0/1 [00:00<?, ?it/s]"
      ]
     },
     "metadata": {},
     "output_type": "display_data"
    },
    {
     "name": "stderr",
     "output_type": "stream",
     "text": [
      "A parse rate lower than 64 may be slow depending on the tickrate of the demo, which is usually 64 for MM and 128 for pro demos.\n"
     ]
    },
    {
     "name": "stdout",
     "output_type": "stream",
     "text": [
      "patool: Extracting ../Demka\\PGL-Major-Antwerp-2022-faze-vs-bad-news-eagles-ancient_2356143.rar ...\n",
      "patool: running \"C:\\Program Files\\7-Zip\\7z.EXE\" x -ocsgo_tmp -- ../Demka\\PGL-Major-Antwerp-2022-faze-vs-bad-news-eagles-ancient_2356143.rar\n",
      "patool: ... ../Demka\\PGL-Major-Antwerp-2022-faze-vs-bad-news-eagles-ancient_2356143.rar extracted to `csgo_tmp'.\n"
     ]
    },
    {
     "data": {
      "application/vnd.jupyter.widget-view+json": {
       "model_id": "5b1f8270dd8c4e9e9939018987324cf5",
       "version_major": 2,
       "version_minor": 0
      },
      "text/plain": [
       "Map:   0%|          | 0/1 [00:00<?, ?it/s]"
      ]
     },
     "metadata": {},
     "output_type": "display_data"
    },
    {
     "name": "stderr",
     "output_type": "stream",
     "text": [
      "A parse rate lower than 64 may be slow depending on the tickrate of the demo, which is usually 64 for MM and 128 for pro demos.\n"
     ]
    },
    {
     "name": "stdout",
     "output_type": "stream",
     "text": [
      "patool: Extracting ../Demka\\PGL-Major-Antwerp-2022-faze-vs-ence-mirage_2356132.rar ...\n",
      "patool: running \"C:\\Program Files\\7-Zip\\7z.EXE\" x -ocsgo_tmp -- ../Demka\\PGL-Major-Antwerp-2022-faze-vs-ence-mirage_2356132.rar\n",
      "patool: ... ../Demka\\PGL-Major-Antwerp-2022-faze-vs-ence-mirage_2356132.rar extracted to `csgo_tmp'.\n"
     ]
    },
    {
     "data": {
      "application/vnd.jupyter.widget-view+json": {
       "model_id": "81b201e60e704206b7f2abf68f51e782",
       "version_major": 2,
       "version_minor": 0
      },
      "text/plain": [
       "Map:   0%|          | 0/1 [00:00<?, ?it/s]"
      ]
     },
     "metadata": {},
     "output_type": "display_data"
    },
    {
     "name": "stderr",
     "output_type": "stream",
     "text": [
      "A parse rate lower than 64 may be slow depending on the tickrate of the demo, which is usually 64 for MM and 128 for pro demos.\n"
     ]
    },
    {
     "name": "stdout",
     "output_type": "stream",
     "text": [
      "patool: Extracting ../Demka\\PGL-Major-Antwerp-2022-faze-vs-natus-vincere-bo3_2356169.rar ...\n",
      "patool: running \"C:\\Program Files\\7-Zip\\7z.EXE\" x -ocsgo_tmp -- ../Demka\\PGL-Major-Antwerp-2022-faze-vs-natus-vincere-bo3_2356169.rar\n",
      "patool: ... ../Demka\\PGL-Major-Antwerp-2022-faze-vs-natus-vincere-bo3_2356169.rar extracted to `csgo_tmp'.\n"
     ]
    },
    {
     "data": {
      "application/vnd.jupyter.widget-view+json": {
       "model_id": "8c8d407d9f504d49a4888d45bac2398e",
       "version_major": 2,
       "version_minor": 0
      },
      "text/plain": [
       "Map:   0%|          | 0/2 [00:00<?, ?it/s]"
      ]
     },
     "metadata": {},
     "output_type": "display_data"
    },
    {
     "name": "stderr",
     "output_type": "stream",
     "text": [
      "A parse rate lower than 64 may be slow depending on the tickrate of the demo, which is usually 64 for MM and 128 for pro demos.\n",
      "A parse rate lower than 64 may be slow depending on the tickrate of the demo, which is usually 64 for MM and 128 for pro demos.\n"
     ]
    },
    {
     "name": "stdout",
     "output_type": "stream",
     "text": [
      "patool: Extracting ../Demka\\PGL-Major-Antwerp-2022-faze-vs-spirit-bo3_2356167.rar ...\n",
      "patool: running \"C:\\Program Files\\7-Zip\\7z.EXE\" x -ocsgo_tmp -- ../Demka\\PGL-Major-Antwerp-2022-faze-vs-spirit-bo3_2356167.rar\n",
      "patool: ... ../Demka\\PGL-Major-Antwerp-2022-faze-vs-spirit-bo3_2356167.rar extracted to `csgo_tmp'.\n"
     ]
    },
    {
     "data": {
      "application/vnd.jupyter.widget-view+json": {
       "model_id": "a34577de77e74a4baf4a608e69c9dc49",
       "version_major": 2,
       "version_minor": 0
      },
      "text/plain": [
       "Map:   0%|          | 0/2 [00:00<?, ?it/s]"
      ]
     },
     "metadata": {},
     "output_type": "display_data"
    },
    {
     "name": "stderr",
     "output_type": "stream",
     "text": [
      "A parse rate lower than 64 may be slow depending on the tickrate of the demo, which is usually 64 for MM and 128 for pro demos.\n",
      "A parse rate lower than 64 may be slow depending on the tickrate of the demo, which is usually 64 for MM and 128 for pro demos.\n"
     ]
    },
    {
     "name": "stdout",
     "output_type": "stream",
     "text": [
      "patool: Extracting ../Demka\\PGL-Major-Antwerp-2022-furia-vs-liquid-ancient_2356144.rar ...\n",
      "patool: running \"C:\\Program Files\\7-Zip\\7z.EXE\" x -ocsgo_tmp -- ../Demka\\PGL-Major-Antwerp-2022-furia-vs-liquid-ancient_2356144.rar\n",
      "patool: ... ../Demka\\PGL-Major-Antwerp-2022-furia-vs-liquid-ancient_2356144.rar extracted to `csgo_tmp'.\n"
     ]
    },
    {
     "data": {
      "application/vnd.jupyter.widget-view+json": {
       "model_id": "b36ed4f99ade46d69608853e1dd00dd3",
       "version_major": 2,
       "version_minor": 0
      },
      "text/plain": [
       "Map:   0%|          | 0/1 [00:00<?, ?it/s]"
      ]
     },
     "metadata": {},
     "output_type": "display_data"
    },
    {
     "name": "stderr",
     "output_type": "stream",
     "text": [
      "A parse rate lower than 64 may be slow depending on the tickrate of the demo, which is usually 64 for MM and 128 for pro demos.\n"
     ]
    },
    {
     "name": "stdout",
     "output_type": "stream",
     "text": [
      "patool: Extracting ../Demka\\PGL-Major-Antwerp-2022-furia-vs-spirit-nuke_2356136.rar ...\n",
      "patool: running \"C:\\Program Files\\7-Zip\\7z.EXE\" x -ocsgo_tmp -- ../Demka\\PGL-Major-Antwerp-2022-furia-vs-spirit-nuke_2356136.rar\n",
      "patool: ... ../Demka\\PGL-Major-Antwerp-2022-furia-vs-spirit-nuke_2356136.rar extracted to `csgo_tmp'.\n"
     ]
    },
    {
     "data": {
      "application/vnd.jupyter.widget-view+json": {
       "model_id": "ebe046295b7d444cbea5d0d905c0c69c",
       "version_major": 2,
       "version_minor": 0
      },
      "text/plain": [
       "Map:   0%|          | 0/1 [00:00<?, ?it/s]"
      ]
     },
     "metadata": {},
     "output_type": "display_data"
    },
    {
     "name": "stderr",
     "output_type": "stream",
     "text": [
      "A parse rate lower than 64 may be slow depending on the tickrate of the demo, which is usually 64 for MM and 128 for pro demos.\n"
     ]
    },
    {
     "name": "stdout",
     "output_type": "stream",
     "text": [
      "patool: Extracting ../Demka\\PGL-Major-Antwerp-2022-g2-vs-furia-bo3_2356161.rar ...\n",
      "patool: running \"C:\\Program Files\\7-Zip\\7z.EXE\" x -ocsgo_tmp -- ../Demka\\PGL-Major-Antwerp-2022-g2-vs-furia-bo3_2356161.rar\n",
      "patool: ... ../Demka\\PGL-Major-Antwerp-2022-g2-vs-furia-bo3_2356161.rar extracted to `csgo_tmp'.\n"
     ]
    },
    {
     "data": {
      "application/vnd.jupyter.widget-view+json": {
       "model_id": "056ad053af1b49faadf0a6932abe2b61",
       "version_major": 2,
       "version_minor": 0
      },
      "text/plain": [
       "Map:   0%|          | 0/3 [00:00<?, ?it/s]"
      ]
     },
     "metadata": {},
     "output_type": "display_data"
    },
    {
     "name": "stderr",
     "output_type": "stream",
     "text": [
      "A parse rate lower than 64 may be slow depending on the tickrate of the demo, which is usually 64 for MM and 128 for pro demos.\n",
      "A parse rate lower than 64 may be slow depending on the tickrate of the demo, which is usually 64 for MM and 128 for pro demos.\n",
      "A parse rate lower than 64 may be slow depending on the tickrate of the demo, which is usually 64 for MM and 128 for pro demos.\n"
     ]
    },
    {
     "name": "stdout",
     "output_type": "stream",
     "text": [
      "patool: Extracting ../Demka\\PGL-Major-Antwerp-2022-g2-vs-imperial-mirage_2356145.rar ...\n",
      "patool: running \"C:\\Program Files\\7-Zip\\7z.EXE\" x -ocsgo_tmp -- ../Demka\\PGL-Major-Antwerp-2022-g2-vs-imperial-mirage_2356145.rar\n",
      "patool: ... ../Demka\\PGL-Major-Antwerp-2022-g2-vs-imperial-mirage_2356145.rar extracted to `csgo_tmp'.\n"
     ]
    },
    {
     "data": {
      "application/vnd.jupyter.widget-view+json": {
       "model_id": "bd2c27a4130b47a698c86b228f4baee2",
       "version_major": 2,
       "version_minor": 0
      },
      "text/plain": [
       "Map:   0%|          | 0/1 [00:00<?, ?it/s]"
      ]
     },
     "metadata": {},
     "output_type": "display_data"
    },
    {
     "name": "stderr",
     "output_type": "stream",
     "text": [
      "A parse rate lower than 64 may be slow depending on the tickrate of the demo, which is usually 64 for MM and 128 for pro demos.\n"
     ]
    },
    {
     "name": "stdout",
     "output_type": "stream",
     "text": [
      "patool: Extracting ../Demka\\PGL-Major-Antwerp-2022-g2-vs-outsiders-bo3_2356158.rar ...\n",
      "patool: running \"C:\\Program Files\\7-Zip\\7z.EXE\" x -ocsgo_tmp -- ../Demka\\PGL-Major-Antwerp-2022-g2-vs-outsiders-bo3_2356158.rar\n",
      "patool: ... ../Demka\\PGL-Major-Antwerp-2022-g2-vs-outsiders-bo3_2356158.rar extracted to `csgo_tmp'.\n"
     ]
    },
    {
     "data": {
      "application/vnd.jupyter.widget-view+json": {
       "model_id": "c87aca45a23042d181dce58af97d3041",
       "version_major": 2,
       "version_minor": 0
      },
      "text/plain": [
       "Map:   0%|          | 0/3 [00:00<?, ?it/s]"
      ]
     },
     "metadata": {},
     "output_type": "display_data"
    },
    {
     "name": "stderr",
     "output_type": "stream",
     "text": [
      "A parse rate lower than 64 may be slow depending on the tickrate of the demo, which is usually 64 for MM and 128 for pro demos.\n",
      "A parse rate lower than 64 may be slow depending on the tickrate of the demo, which is usually 64 for MM and 128 for pro demos.\n",
      "A parse rate lower than 64 may be slow depending on the tickrate of the demo, which is usually 64 for MM and 128 for pro demos.\n"
     ]
    },
    {
     "name": "stdout",
     "output_type": "stream",
     "text": [
      "patool: Extracting ../Demka\\PGL-Major-Antwerp-2022-heroic-vs-g2-vertigo_2356146.rar ...\n",
      "patool: running \"C:\\Program Files\\7-Zip\\7z.EXE\" x -ocsgo_tmp -- ../Demka\\PGL-Major-Antwerp-2022-heroic-vs-g2-vertigo_2356146.rar\n",
      "patool: ... ../Demka\\PGL-Major-Antwerp-2022-heroic-vs-g2-vertigo_2356146.rar extracted to `csgo_tmp'.\n"
     ]
    },
    {
     "data": {
      "application/vnd.jupyter.widget-view+json": {
       "model_id": "963a10a82bf54e749858c3c4951bf2cc",
       "version_major": 2,
       "version_minor": 0
      },
      "text/plain": [
       "Map:   0%|          | 0/1 [00:00<?, ?it/s]"
      ]
     },
     "metadata": {},
     "output_type": "display_data"
    },
    {
     "name": "stderr",
     "output_type": "stream",
     "text": [
      "A parse rate lower than 64 may be slow depending on the tickrate of the demo, which is usually 64 for MM and 128 for pro demos.\n"
     ]
    },
    {
     "name": "stdout",
     "output_type": "stream",
     "text": [
      "patool: Extracting ../Demka\\PGL-Major-Antwerp-2022-heroic-vs-spirit-nuke_2356138.rar ...\n",
      "patool: running \"C:\\Program Files\\7-Zip\\7z.EXE\" x -ocsgo_tmp -- ../Demka\\PGL-Major-Antwerp-2022-heroic-vs-spirit-nuke_2356138.rar\n",
      "patool: ... ../Demka\\PGL-Major-Antwerp-2022-heroic-vs-spirit-nuke_2356138.rar extracted to `csgo_tmp'.\n"
     ]
    },
    {
     "data": {
      "application/vnd.jupyter.widget-view+json": {
       "model_id": "2695d2db8d174a6a97e45acc249fab76",
       "version_major": 2,
       "version_minor": 0
      },
      "text/plain": [
       "Map:   0%|          | 0/1 [00:00<?, ?it/s]"
      ]
     },
     "metadata": {},
     "output_type": "display_data"
    },
    {
     "name": "stderr",
     "output_type": "stream",
     "text": [
      "A parse rate lower than 64 may be slow depending on the tickrate of the demo, which is usually 64 for MM and 128 for pro demos.\n"
     ]
    },
    {
     "name": "stdout",
     "output_type": "stream",
     "text": [
      "patool: Extracting ../Demka\\PGL-Major-Antwerp-2022-heroic-vs-vitality-bo3_2356160.rar ...\n",
      "patool: running \"C:\\Program Files\\7-Zip\\7z.EXE\" x -ocsgo_tmp -- ../Demka\\PGL-Major-Antwerp-2022-heroic-vs-vitality-bo3_2356160.rar\n",
      "patool: ... ../Demka\\PGL-Major-Antwerp-2022-heroic-vs-vitality-bo3_2356160.rar extracted to `csgo_tmp'.\n"
     ]
    },
    {
     "data": {
      "application/vnd.jupyter.widget-view+json": {
       "model_id": "84567ae1aa594b169a20dd586722433b",
       "version_major": 2,
       "version_minor": 0
      },
      "text/plain": [
       "Map:   0%|          | 0/3 [00:00<?, ?it/s]"
      ]
     },
     "metadata": {},
     "output_type": "display_data"
    },
    {
     "name": "stderr",
     "output_type": "stream",
     "text": [
      "A parse rate lower than 64 may be slow depending on the tickrate of the demo, which is usually 64 for MM and 128 for pro demos.\n",
      "A parse rate lower than 64 may be slow depending on the tickrate of the demo, which is usually 64 for MM and 128 for pro demos.\n",
      "A parse rate lower than 64 may be slow depending on the tickrate of the demo, which is usually 64 for MM and 128 for pro demos.\n"
     ]
    },
    {
     "name": "stdout",
     "output_type": "stream",
     "text": [
      "patool: Extracting ../Demka\\PGL-Major-Antwerp-2022-natus-vincere-vs-g2-mirage_2356133.rar ...\n",
      "patool: running \"C:\\Program Files\\7-Zip\\7z.EXE\" x -ocsgo_tmp -- ../Demka\\PGL-Major-Antwerp-2022-natus-vincere-vs-g2-mirage_2356133.rar\n",
      "patool: ... ../Demka\\PGL-Major-Antwerp-2022-natus-vincere-vs-g2-mirage_2356133.rar extracted to `csgo_tmp'.\n"
     ]
    },
    {
     "data": {
      "application/vnd.jupyter.widget-view+json": {
       "model_id": "db641952e4b5492d8c7cbf2f1ec42aea",
       "version_major": 2,
       "version_minor": 0
      },
      "text/plain": [
       "Map:   0%|          | 0/1 [00:00<?, ?it/s]"
      ]
     },
     "metadata": {},
     "output_type": "display_data"
    },
    {
     "name": "stderr",
     "output_type": "stream",
     "text": [
      "A parse rate lower than 64 may be slow depending on the tickrate of the demo, which is usually 64 for MM and 128 for pro demos.\n"
     ]
    },
    {
     "name": "stdout",
     "output_type": "stream",
     "text": [
      "patool: Extracting ../Demka\\PGL-Major-Antwerp-2022-natus-vincere-vs-heroic-bo3_2356166.rar ...\n",
      "patool: running \"C:\\Program Files\\7-Zip\\7z.EXE\" x -ocsgo_tmp -- ../Demka\\PGL-Major-Antwerp-2022-natus-vincere-vs-heroic-bo3_2356166.rar\n",
      "patool: ... ../Demka\\PGL-Major-Antwerp-2022-natus-vincere-vs-heroic-bo3_2356166.rar extracted to `csgo_tmp'.\n"
     ]
    },
    {
     "data": {
      "application/vnd.jupyter.widget-view+json": {
       "model_id": "38df000d7b5441d99afcdaa0c0f765c7",
       "version_major": 2,
       "version_minor": 0
      },
      "text/plain": [
       "Map:   0%|          | 0/3 [00:00<?, ?it/s]"
      ]
     },
     "metadata": {},
     "output_type": "display_data"
    },
    {
     "name": "stderr",
     "output_type": "stream",
     "text": [
      "A parse rate lower than 64 may be slow depending on the tickrate of the demo, which is usually 64 for MM and 128 for pro demos.\n",
      "A parse rate lower than 64 may be slow depending on the tickrate of the demo, which is usually 64 for MM and 128 for pro demos.\n",
      "A parse rate lower than 64 may be slow depending on the tickrate of the demo, which is usually 64 for MM and 128 for pro demos.\n"
     ]
    },
    {
     "name": "stdout",
     "output_type": "stream",
     "text": [
      "patool: Extracting ../Demka\\PGL-Major-Antwerp-2022-natus-vincere-vs-nip-bo3_2356151.rar ...\n",
      "patool: running \"C:\\Program Files\\7-Zip\\7z.EXE\" x -ocsgo_tmp -- ../Demka\\PGL-Major-Antwerp-2022-natus-vincere-vs-nip-bo3_2356151.rar\n",
      "patool: ... ../Demka\\PGL-Major-Antwerp-2022-natus-vincere-vs-nip-bo3_2356151.rar extracted to `csgo_tmp'.\n"
     ]
    },
    {
     "data": {
      "application/vnd.jupyter.widget-view+json": {
       "model_id": "235c4d28563c4261a283504b9612e43f",
       "version_major": 2,
       "version_minor": 0
      },
      "text/plain": [
       "Map:   0%|          | 0/3 [00:00<?, ?it/s]"
      ]
     },
     "metadata": {},
     "output_type": "display_data"
    },
    {
     "name": "stderr",
     "output_type": "stream",
     "text": [
      "A parse rate lower than 64 may be slow depending on the tickrate of the demo, which is usually 64 for MM and 128 for pro demos.\n",
      "A parse rate lower than 64 may be slow depending on the tickrate of the demo, which is usually 64 for MM and 128 for pro demos.\n",
      "A parse rate lower than 64 may be slow depending on the tickrate of the demo, which is usually 64 for MM and 128 for pro demos.\n"
     ]
    },
    {
     "name": "stdout",
     "output_type": "stream",
     "text": [
      "patool: Extracting ../Demka\\PGL-Major-Antwerp-2022-nip-vs-faze-bo3_2356163.rar ...\n",
      "patool: running \"C:\\Program Files\\7-Zip\\7z.EXE\" x -ocsgo_tmp -- ../Demka\\PGL-Major-Antwerp-2022-nip-vs-faze-bo3_2356163.rar\n",
      "patool: ... ../Demka\\PGL-Major-Antwerp-2022-nip-vs-faze-bo3_2356163.rar extracted to `csgo_tmp'.\n"
     ]
    },
    {
     "data": {
      "application/vnd.jupyter.widget-view+json": {
       "model_id": "2da2c00c7e2f43baa0e0b54dac99e8b9",
       "version_major": 2,
       "version_minor": 0
      },
      "text/plain": [
       "Map:   0%|          | 0/3 [00:00<?, ?it/s]"
      ]
     },
     "metadata": {},
     "output_type": "display_data"
    },
    {
     "name": "stderr",
     "output_type": "stream",
     "text": [
      "A parse rate lower than 64 may be slow depending on the tickrate of the demo, which is usually 64 for MM and 128 for pro demos.\n",
      "A parse rate lower than 64 may be slow depending on the tickrate of the demo, which is usually 64 for MM and 128 for pro demos.\n",
      "A parse rate lower than 64 may be slow depending on the tickrate of the demo, which is usually 64 for MM and 128 for pro demos.\n"
     ]
    },
    {
     "name": "stdout",
     "output_type": "stream",
     "text": [
      "patool: Extracting ../Demka\\PGL-Major-Antwerp-2022-nip-vs-furia-bo3_2356155.rar ...\n",
      "patool: running \"C:\\Program Files\\7-Zip\\7z.EXE\" x -ocsgo_tmp -- ../Demka\\PGL-Major-Antwerp-2022-nip-vs-furia-bo3_2356155.rar\n",
      "patool: ... ../Demka\\PGL-Major-Antwerp-2022-nip-vs-furia-bo3_2356155.rar extracted to `csgo_tmp'.\n"
     ]
    },
    {
     "data": {
      "application/vnd.jupyter.widget-view+json": {
       "model_id": "d0ad0e1b868340e787230e3087ad5e4e",
       "version_major": 2,
       "version_minor": 0
      },
      "text/plain": [
       "Map:   0%|          | 0/2 [00:00<?, ?it/s]"
      ]
     },
     "metadata": {},
     "output_type": "display_data"
    },
    {
     "name": "stderr",
     "output_type": "stream",
     "text": [
      "A parse rate lower than 64 may be slow depending on the tickrate of the demo, which is usually 64 for MM and 128 for pro demos.\n",
      "A parse rate lower than 64 may be slow depending on the tickrate of the demo, which is usually 64 for MM and 128 for pro demos.\n"
     ]
    },
    {
     "name": "stdout",
     "output_type": "stream",
     "text": [
      "patool: Extracting ../Demka\\PGL-Major-Antwerp-2022-nip-vs-vitality-overpass_2356131.rar ...\n",
      "patool: running \"C:\\Program Files\\7-Zip\\7z.EXE\" x -ocsgo_tmp -- ../Demka\\PGL-Major-Antwerp-2022-nip-vs-vitality-overpass_2356131.rar\n",
      "patool: ... ../Demka\\PGL-Major-Antwerp-2022-nip-vs-vitality-overpass_2356131.rar extracted to `csgo_tmp'.\n"
     ]
    },
    {
     "data": {
      "application/vnd.jupyter.widget-view+json": {
       "model_id": "7728a8e5d3c2429f896d7135ae922304",
       "version_major": 2,
       "version_minor": 0
      },
      "text/plain": [
       "Map:   0%|          | 0/1 [00:00<?, ?it/s]"
      ]
     },
     "metadata": {},
     "output_type": "display_data"
    },
    {
     "name": "stderr",
     "output_type": "stream",
     "text": [
      "A parse rate lower than 64 may be slow depending on the tickrate of the demo, which is usually 64 for MM and 128 for pro demos.\n"
     ]
    },
    {
     "name": "stdout",
     "output_type": "stream",
     "text": [
      "patool: Extracting ../Demka\\PGL-Major-Antwerp-2022-spirit-vs-copenhagen-flames-bo3_2356150.rar ...\n",
      "patool: running \"C:\\Program Files\\7-Zip\\7z.EXE\" x -ocsgo_tmp -- ../Demka\\PGL-Major-Antwerp-2022-spirit-vs-copenhagen-flames-bo3_2356150.rar\n",
      "patool: ... ../Demka\\PGL-Major-Antwerp-2022-spirit-vs-copenhagen-flames-bo3_2356150.rar extracted to `csgo_tmp'.\n"
     ]
    },
    {
     "data": {
      "application/vnd.jupyter.widget-view+json": {
       "model_id": "12b2d0c77cee4659b74328a05eee4033",
       "version_major": 2,
       "version_minor": 0
      },
      "text/plain": [
       "Map:   0%|          | 0/3 [00:00<?, ?it/s]"
      ]
     },
     "metadata": {},
     "output_type": "display_data"
    },
    {
     "name": "stderr",
     "output_type": "stream",
     "text": [
      "A parse rate lower than 64 may be slow depending on the tickrate of the demo, which is usually 64 for MM and 128 for pro demos.\n",
      "A parse rate lower than 64 may be slow depending on the tickrate of the demo, which is usually 64 for MM and 128 for pro demos.\n",
      "A parse rate lower than 64 may be slow depending on the tickrate of the demo, which is usually 64 for MM and 128 for pro demos.\n"
     ]
    },
    {
     "name": "stdout",
     "output_type": "stream",
     "text": [
      "patool: Extracting ../Demka\\PGL-Major-Antwerp-2022-spirit-vs-furia-bo3_2356164.rar ...\n",
      "patool: running \"C:\\Program Files\\7-Zip\\7z.EXE\" x -ocsgo_tmp -- ../Demka\\PGL-Major-Antwerp-2022-spirit-vs-furia-bo3_2356164.rar\n",
      "patool: ... ../Demka\\PGL-Major-Antwerp-2022-spirit-vs-furia-bo3_2356164.rar extracted to `csgo_tmp'.\n"
     ]
    },
    {
     "data": {
      "application/vnd.jupyter.widget-view+json": {
       "model_id": "ac7e94a8c9a24610a188ccafbcfb2266",
       "version_major": 2,
       "version_minor": 0
      },
      "text/plain": [
       "Map:   0%|          | 0/2 [00:00<?, ?it/s]"
      ]
     },
     "metadata": {},
     "output_type": "display_data"
    },
    {
     "name": "stderr",
     "output_type": "stream",
     "text": [
      "A parse rate lower than 64 may be slow depending on the tickrate of the demo, which is usually 64 for MM and 128 for pro demos.\n",
      "A parse rate lower than 64 may be slow depending on the tickrate of the demo, which is usually 64 for MM and 128 for pro demos.\n"
     ]
    },
    {
     "name": "stdout",
     "output_type": "stream",
     "text": [
      "patool: Extracting ../Demka\\PGL-Major-Antwerp-2022-vitality-vs-liquid-bo3_2356152.rar ...\n",
      "patool: running \"C:\\Program Files\\7-Zip\\7z.EXE\" x -ocsgo_tmp -- ../Demka\\PGL-Major-Antwerp-2022-vitality-vs-liquid-bo3_2356152.rar\n",
      "patool: ... ../Demka\\PGL-Major-Antwerp-2022-vitality-vs-liquid-bo3_2356152.rar extracted to `csgo_tmp'.\n"
     ]
    },
    {
     "data": {
      "application/vnd.jupyter.widget-view+json": {
       "model_id": "db5b18439ae5414e9a8e885d1a0b8f84",
       "version_major": 2,
       "version_minor": 0
      },
      "text/plain": [
       "Map:   0%|          | 0/2 [00:00<?, ?it/s]"
      ]
     },
     "metadata": {},
     "output_type": "display_data"
    },
    {
     "name": "stderr",
     "output_type": "stream",
     "text": [
      "A parse rate lower than 64 may be slow depending on the tickrate of the demo, which is usually 64 for MM and 128 for pro demos.\n",
      "A parse rate lower than 64 may be slow depending on the tickrate of the demo, which is usually 64 for MM and 128 for pro demos.\n"
     ]
    },
    {
     "name": "stdout",
     "output_type": "stream",
     "text": [
      "patool: Extracting ../Demka\\PGL-Major-Antwerp-2022-vitality-vs-outsiders-mirage_2356142.rar ...\n",
      "patool: running \"C:\\Program Files\\7-Zip\\7z.EXE\" x -ocsgo_tmp -- ../Demka\\PGL-Major-Antwerp-2022-vitality-vs-outsiders-mirage_2356142.rar\n",
      "patool: ... ../Demka\\PGL-Major-Antwerp-2022-vitality-vs-outsiders-mirage_2356142.rar extracted to `csgo_tmp'.\n"
     ]
    },
    {
     "data": {
      "application/vnd.jupyter.widget-view+json": {
       "model_id": "6ec8f580dab2429fbf258e0b44059f67",
       "version_major": 2,
       "version_minor": 0
      },
      "text/plain": [
       "Map:   0%|          | 0/1 [00:00<?, ?it/s]"
      ]
     },
     "metadata": {},
     "output_type": "display_data"
    },
    {
     "name": "stderr",
     "output_type": "stream",
     "text": [
      "A parse rate lower than 64 may be slow depending on the tickrate of the demo, which is usually 64 for MM and 128 for pro demos.\n"
     ]
    }
   ],
   "source": [
    "all_matches = []\n",
    "for file in tqdm(os.listdir(directory), desc=\"Match\", leave=True, position=0):\n",
    "    patoolib.extract_archive(os.path.join(directory, file), outdir=temp_directory)\n",
    "    for demo in tqdm(os.listdir(temp_directory)[0:40], desc=\"Map\", leave=False):\n",
    "        demo_parser = DemoParser(\n",
    "            demofile = os.path.join(temp_directory, demo), \n",
    "            demo_id = demo[:-4],\n",
    "            parse_rate=32, \n",
    "            trade_time=5, \n",
    "            buy_style=\"hltv\"\n",
    "        )\n",
    "        parsed_demo = demo_parser.parse()\n",
    "        match_df = get_match_data(parsed_demo)\n",
    "        all_matches.append(match_df)\n",
    "        os.remove(demo[:-4] + \".json\")\n",
    "    shutil.rmtree(temp_directory)"
   ]
  },
  {
   "cell_type": "code",
   "execution_count": 7,
   "id": "be551b8f-ae1f-4693-a90b-9624465aa15e",
   "metadata": {},
   "outputs": [],
   "source": [
    "merged_df = pd.concat(all_matches)\n",
    "merged_df.to_parquet('player_data.parquet.gzip', compression='gzip')"
   ]
  },
  {
   "cell_type": "code",
   "execution_count": 8,
   "id": "03f29da8-6a48-449e-bdaa-c3a23c3f62bd",
   "metadata": {},
   "outputs": [
    {
     "data": {
      "text/html": [
       "<div>\n",
       "<style scoped>\n",
       "    .dataframe tbody tr th:only-of-type {\n",
       "        vertical-align: middle;\n",
       "    }\n",
       "\n",
       "    .dataframe tbody tr th {\n",
       "        vertical-align: top;\n",
       "    }\n",
       "\n",
       "    .dataframe thead th {\n",
       "        text-align: right;\n",
       "    }\n",
       "</style>\n",
       "<table border=\"1\" class=\"dataframe\">\n",
       "  <thead>\n",
       "    <tr style=\"text-align: right;\">\n",
       "      <th></th>\n",
       "      <th>ctName</th>\n",
       "      <th>ctEqVal</th>\n",
       "      <th>ctAlivePlayers</th>\n",
       "      <th>ctTotalUtility</th>\n",
       "      <th>ctPlayer_2_steamID</th>\n",
       "      <th>ctPlayer_2_name</th>\n",
       "      <th>ctPlayer_2_team</th>\n",
       "      <th>ctPlayer_2_side</th>\n",
       "      <th>ctPlayer_2_x</th>\n",
       "      <th>ctPlayer_2_y</th>\n",
       "      <th>...</th>\n",
       "      <th>tPlayer_3_zoomLevel</th>\n",
       "      <th>bombPlanted</th>\n",
       "      <th>bombsite</th>\n",
       "      <th>tick</th>\n",
       "      <th>seconds</th>\n",
       "      <th>clockTime</th>\n",
       "      <th>bomb_x</th>\n",
       "      <th>bomb_y</th>\n",
       "      <th>bomb_z</th>\n",
       "      <th>roundNum</th>\n",
       "    </tr>\n",
       "  </thead>\n",
       "  <tbody>\n",
       "    <tr>\n",
       "      <th>0</th>\n",
       "      <td>Bad News Eagles</td>\n",
       "      <td>4100</td>\n",
       "      <td>5</td>\n",
       "      <td>0</td>\n",
       "      <td>76561198234835452</td>\n",
       "      <td>gxx-</td>\n",
       "      <td>Bad News Eagles</td>\n",
       "      <td>CT</td>\n",
       "      <td>2287.882324</td>\n",
       "      <td>2019.412842</td>\n",
       "      <td>...</td>\n",
       "      <td>0.0</td>\n",
       "      <td>False</td>\n",
       "      <td></td>\n",
       "      <td>911</td>\n",
       "      <td>0.125000</td>\n",
       "      <td>01:55</td>\n",
       "      <td>-1686.543457</td>\n",
       "      <td>484.882690</td>\n",
       "      <td>-61.769085</td>\n",
       "      <td>1</td>\n",
       "    </tr>\n",
       "    <tr>\n",
       "      <th>1</th>\n",
       "      <td>Bad News Eagles</td>\n",
       "      <td>4100</td>\n",
       "      <td>5</td>\n",
       "      <td>0</td>\n",
       "      <td>76561198234835452</td>\n",
       "      <td>gxx-</td>\n",
       "      <td>Bad News Eagles</td>\n",
       "      <td>CT</td>\n",
       "      <td>2266.610107</td>\n",
       "      <td>1977.265137</td>\n",
       "      <td>...</td>\n",
       "      <td>0.0</td>\n",
       "      <td>False</td>\n",
       "      <td></td>\n",
       "      <td>943</td>\n",
       "      <td>0.375000</td>\n",
       "      <td>01:55</td>\n",
       "      <td>-1655.148804</td>\n",
       "      <td>460.171936</td>\n",
       "      <td>-63.327736</td>\n",
       "      <td>1</td>\n",
       "    </tr>\n",
       "    <tr>\n",
       "      <th>2</th>\n",
       "      <td>Bad News Eagles</td>\n",
       "      <td>4100</td>\n",
       "      <td>5</td>\n",
       "      <td>0</td>\n",
       "      <td>76561198234835452</td>\n",
       "      <td>gxx-</td>\n",
       "      <td>Bad News Eagles</td>\n",
       "      <td>CT</td>\n",
       "      <td>2249.704834</td>\n",
       "      <td>1924.318359</td>\n",
       "      <td>...</td>\n",
       "      <td>0.0</td>\n",
       "      <td>False</td>\n",
       "      <td></td>\n",
       "      <td>975</td>\n",
       "      <td>0.625000</td>\n",
       "      <td>01:55</td>\n",
       "      <td>-1618.272583</td>\n",
       "      <td>416.995819</td>\n",
       "      <td>-64.436058</td>\n",
       "      <td>1</td>\n",
       "    </tr>\n",
       "    <tr>\n",
       "      <th>3</th>\n",
       "      <td>Bad News Eagles</td>\n",
       "      <td>4100</td>\n",
       "      <td>5</td>\n",
       "      <td>0</td>\n",
       "      <td>76561198234835452</td>\n",
       "      <td>gxx-</td>\n",
       "      <td>Bad News Eagles</td>\n",
       "      <td>CT</td>\n",
       "      <td>2207.921631</td>\n",
       "      <td>1887.511963</td>\n",
       "      <td>...</td>\n",
       "      <td>0.0</td>\n",
       "      <td>False</td>\n",
       "      <td></td>\n",
       "      <td>1007</td>\n",
       "      <td>0.875000</td>\n",
       "      <td>01:55</td>\n",
       "      <td>-1575.204834</td>\n",
       "      <td>374.794678</td>\n",
       "      <td>-66.670403</td>\n",
       "      <td>1</td>\n",
       "    </tr>\n",
       "    <tr>\n",
       "      <th>4</th>\n",
       "      <td>Bad News Eagles</td>\n",
       "      <td>4100</td>\n",
       "      <td>5</td>\n",
       "      <td>0</td>\n",
       "      <td>76561198234835452</td>\n",
       "      <td>gxx-</td>\n",
       "      <td>Bad News Eagles</td>\n",
       "      <td>CT</td>\n",
       "      <td>2151.189209</td>\n",
       "      <td>1862.758057</td>\n",
       "      <td>...</td>\n",
       "      <td>0.0</td>\n",
       "      <td>False</td>\n",
       "      <td></td>\n",
       "      <td>1039</td>\n",
       "      <td>1.125000</td>\n",
       "      <td>01:54</td>\n",
       "      <td>-1532.967651</td>\n",
       "      <td>341.931915</td>\n",
       "      <td>-66.130608</td>\n",
       "      <td>1</td>\n",
       "    </tr>\n",
       "    <tr>\n",
       "      <th>...</th>\n",
       "      <td>...</td>\n",
       "      <td>...</td>\n",
       "      <td>...</td>\n",
       "      <td>...</td>\n",
       "      <td>...</td>\n",
       "      <td>...</td>\n",
       "      <td>...</td>\n",
       "      <td>...</td>\n",
       "      <td>...</td>\n",
       "      <td>...</td>\n",
       "      <td>...</td>\n",
       "      <td>...</td>\n",
       "      <td>...</td>\n",
       "      <td>...</td>\n",
       "      <td>...</td>\n",
       "      <td>...</td>\n",
       "      <td>...</td>\n",
       "      <td>...</td>\n",
       "      <td>...</td>\n",
       "      <td>...</td>\n",
       "      <td>...</td>\n",
       "    </tr>\n",
       "    <tr>\n",
       "      <th>9177</th>\n",
       "      <td>Outsiders</td>\n",
       "      <td>30150</td>\n",
       "      <td>1</td>\n",
       "      <td>1</td>\n",
       "      <td>76561198127236290</td>\n",
       "      <td>Qikert</td>\n",
       "      <td>Outsiders</td>\n",
       "      <td>CT</td>\n",
       "      <td>-736.572754</td>\n",
       "      <td>-2503.424561</td>\n",
       "      <td>...</td>\n",
       "      <td>0.0</td>\n",
       "      <td>True</td>\n",
       "      <td>A</td>\n",
       "      <td>383373</td>\n",
       "      <td>19.921260</td>\n",
       "      <td>00:21</td>\n",
       "      <td>-272.218750</td>\n",
       "      <td>-2155.843750</td>\n",
       "      <td>-175.343750</td>\n",
       "      <td>24</td>\n",
       "    </tr>\n",
       "    <tr>\n",
       "      <th>9178</th>\n",
       "      <td>Outsiders</td>\n",
       "      <td>30150</td>\n",
       "      <td>1</td>\n",
       "      <td>1</td>\n",
       "      <td>76561198127236290</td>\n",
       "      <td>Qikert</td>\n",
       "      <td>Outsiders</td>\n",
       "      <td>CT</td>\n",
       "      <td>-736.572754</td>\n",
       "      <td>-2503.424561</td>\n",
       "      <td>...</td>\n",
       "      <td>0.0</td>\n",
       "      <td>True</td>\n",
       "      <td>A</td>\n",
       "      <td>383405</td>\n",
       "      <td>20.173228</td>\n",
       "      <td>00:20</td>\n",
       "      <td>-272.218750</td>\n",
       "      <td>-2155.843750</td>\n",
       "      <td>-175.343750</td>\n",
       "      <td>24</td>\n",
       "    </tr>\n",
       "    <tr>\n",
       "      <th>9179</th>\n",
       "      <td>Outsiders</td>\n",
       "      <td>30150</td>\n",
       "      <td>1</td>\n",
       "      <td>1</td>\n",
       "      <td>76561198127236290</td>\n",
       "      <td>Qikert</td>\n",
       "      <td>Outsiders</td>\n",
       "      <td>CT</td>\n",
       "      <td>-736.572754</td>\n",
       "      <td>-2503.424561</td>\n",
       "      <td>...</td>\n",
       "      <td>0.0</td>\n",
       "      <td>True</td>\n",
       "      <td>A</td>\n",
       "      <td>383437</td>\n",
       "      <td>20.425197</td>\n",
       "      <td>00:20</td>\n",
       "      <td>-272.218750</td>\n",
       "      <td>-2155.843750</td>\n",
       "      <td>-175.343750</td>\n",
       "      <td>24</td>\n",
       "    </tr>\n",
       "    <tr>\n",
       "      <th>9180</th>\n",
       "      <td>Outsiders</td>\n",
       "      <td>30150</td>\n",
       "      <td>1</td>\n",
       "      <td>1</td>\n",
       "      <td>76561198127236290</td>\n",
       "      <td>Qikert</td>\n",
       "      <td>Outsiders</td>\n",
       "      <td>CT</td>\n",
       "      <td>-736.572754</td>\n",
       "      <td>-2503.424561</td>\n",
       "      <td>...</td>\n",
       "      <td>0.0</td>\n",
       "      <td>True</td>\n",
       "      <td>A</td>\n",
       "      <td>383469</td>\n",
       "      <td>20.677165</td>\n",
       "      <td>00:20</td>\n",
       "      <td>-272.218750</td>\n",
       "      <td>-2155.843750</td>\n",
       "      <td>-175.343750</td>\n",
       "      <td>24</td>\n",
       "    </tr>\n",
       "    <tr>\n",
       "      <th>9181</th>\n",
       "      <td>Outsiders</td>\n",
       "      <td>30150</td>\n",
       "      <td>1</td>\n",
       "      <td>1</td>\n",
       "      <td>76561198127236290</td>\n",
       "      <td>Qikert</td>\n",
       "      <td>Outsiders</td>\n",
       "      <td>CT</td>\n",
       "      <td>-736.572754</td>\n",
       "      <td>-2503.424561</td>\n",
       "      <td>...</td>\n",
       "      <td>0.0</td>\n",
       "      <td>True</td>\n",
       "      <td>A</td>\n",
       "      <td>383501</td>\n",
       "      <td>20.929134</td>\n",
       "      <td>00:20</td>\n",
       "      <td>-272.218750</td>\n",
       "      <td>-2155.843750</td>\n",
       "      <td>-175.343750</td>\n",
       "      <td>24</td>\n",
       "    </tr>\n",
       "  </tbody>\n",
       "</table>\n",
       "<p>1242425 rows × 517 columns</p>\n",
       "</div>"
      ],
      "text/plain": [
       "               ctName  ctEqVal  ctAlivePlayers  ctTotalUtility  \\\n",
       "0     Bad News Eagles     4100               5               0   \n",
       "1     Bad News Eagles     4100               5               0   \n",
       "2     Bad News Eagles     4100               5               0   \n",
       "3     Bad News Eagles     4100               5               0   \n",
       "4     Bad News Eagles     4100               5               0   \n",
       "...               ...      ...             ...             ...   \n",
       "9177        Outsiders    30150               1               1   \n",
       "9178        Outsiders    30150               1               1   \n",
       "9179        Outsiders    30150               1               1   \n",
       "9180        Outsiders    30150               1               1   \n",
       "9181        Outsiders    30150               1               1   \n",
       "\n",
       "      ctPlayer_2_steamID ctPlayer_2_name  ctPlayer_2_team ctPlayer_2_side  \\\n",
       "0      76561198234835452            gxx-  Bad News Eagles              CT   \n",
       "1      76561198234835452            gxx-  Bad News Eagles              CT   \n",
       "2      76561198234835452            gxx-  Bad News Eagles              CT   \n",
       "3      76561198234835452            gxx-  Bad News Eagles              CT   \n",
       "4      76561198234835452            gxx-  Bad News Eagles              CT   \n",
       "...                  ...             ...              ...             ...   \n",
       "9177   76561198127236290          Qikert        Outsiders              CT   \n",
       "9178   76561198127236290          Qikert        Outsiders              CT   \n",
       "9179   76561198127236290          Qikert        Outsiders              CT   \n",
       "9180   76561198127236290          Qikert        Outsiders              CT   \n",
       "9181   76561198127236290          Qikert        Outsiders              CT   \n",
       "\n",
       "      ctPlayer_2_x  ctPlayer_2_y  ...  tPlayer_3_zoomLevel  bombPlanted  \\\n",
       "0      2287.882324   2019.412842  ...                  0.0        False   \n",
       "1      2266.610107   1977.265137  ...                  0.0        False   \n",
       "2      2249.704834   1924.318359  ...                  0.0        False   \n",
       "3      2207.921631   1887.511963  ...                  0.0        False   \n",
       "4      2151.189209   1862.758057  ...                  0.0        False   \n",
       "...            ...           ...  ...                  ...          ...   \n",
       "9177   -736.572754  -2503.424561  ...                  0.0         True   \n",
       "9178   -736.572754  -2503.424561  ...                  0.0         True   \n",
       "9179   -736.572754  -2503.424561  ...                  0.0         True   \n",
       "9180   -736.572754  -2503.424561  ...                  0.0         True   \n",
       "9181   -736.572754  -2503.424561  ...                  0.0         True   \n",
       "\n",
       "      bombsite    tick    seconds  clockTime       bomb_x       bomb_y  \\\n",
       "0                  911   0.125000      01:55 -1686.543457   484.882690   \n",
       "1                  943   0.375000      01:55 -1655.148804   460.171936   \n",
       "2                  975   0.625000      01:55 -1618.272583   416.995819   \n",
       "3                 1007   0.875000      01:55 -1575.204834   374.794678   \n",
       "4                 1039   1.125000      01:54 -1532.967651   341.931915   \n",
       "...        ...     ...        ...        ...          ...          ...   \n",
       "9177         A  383373  19.921260      00:21  -272.218750 -2155.843750   \n",
       "9178         A  383405  20.173228      00:20  -272.218750 -2155.843750   \n",
       "9179         A  383437  20.425197      00:20  -272.218750 -2155.843750   \n",
       "9180         A  383469  20.677165      00:20  -272.218750 -2155.843750   \n",
       "9181         A  383501  20.929134      00:20  -272.218750 -2155.843750   \n",
       "\n",
       "          bomb_z  roundNum  \n",
       "0     -61.769085         1  \n",
       "1     -63.327736         1  \n",
       "2     -64.436058         1  \n",
       "3     -66.670403         1  \n",
       "4     -66.130608         1  \n",
       "...          ...       ...  \n",
       "9177 -175.343750        24  \n",
       "9178 -175.343750        24  \n",
       "9179 -175.343750        24  \n",
       "9180 -175.343750        24  \n",
       "9181 -175.343750        24  \n",
       "\n",
       "[1242425 rows x 517 columns]"
      ]
     },
     "execution_count": 8,
     "metadata": {},
     "output_type": "execute_result"
    }
   ],
   "source": [
    "df = pd.read_parquet('player_data.parquet.gzip')\n",
    "df"
   ]
  },
  {
   "cell_type": "markdown",
   "id": "eeac7a98-74f1-4895-b161-2aed32eb183b",
   "metadata": {},
   "source": [
    "# Check danych"
   ]
  },
  {
   "cell_type": "code",
   "execution_count": 9,
   "id": "eef57f6a-e06d-496c-8b22-be283b305c63",
   "metadata": {},
   "outputs": [
    {
     "name": "stdout",
     "output_type": "stream",
     "text": [
      "<class 'pandas.core.frame.DataFrame'>\n",
      "Int64Index: 1242425 entries, 0 to 9181\n",
      "Columns: 517 entries, ctName to roundNum\n",
      "dtypes: bool(181), float64(186), int64(76), object(74)\n",
      "memory usage: 3.3+ GB\n"
     ]
    }
   ],
   "source": [
    "df.info()"
   ]
  },
  {
   "cell_type": "code",
   "execution_count": 10,
   "id": "9ca6f0f9-bd9f-4016-a1bd-fc92dc847948",
   "metadata": {},
   "outputs": [
    {
     "data": {
      "text/html": [
       "<div>\n",
       "<style scoped>\n",
       "    .dataframe tbody tr th:only-of-type {\n",
       "        vertical-align: middle;\n",
       "    }\n",
       "\n",
       "    .dataframe tbody tr th {\n",
       "        vertical-align: top;\n",
       "    }\n",
       "\n",
       "    .dataframe thead th {\n",
       "        text-align: right;\n",
       "    }\n",
       "</style>\n",
       "<table border=\"1\" class=\"dataframe\">\n",
       "  <thead>\n",
       "    <tr style=\"text-align: right;\">\n",
       "      <th></th>\n",
       "      <th>count</th>\n",
       "      <th>mean</th>\n",
       "      <th>std</th>\n",
       "      <th>min</th>\n",
       "      <th>25%</th>\n",
       "      <th>50%</th>\n",
       "      <th>75%</th>\n",
       "      <th>max</th>\n",
       "    </tr>\n",
       "  </thead>\n",
       "  <tbody>\n",
       "    <tr>\n",
       "      <th>ctEqVal</th>\n",
       "      <td>1242425.0</td>\n",
       "      <td>2.381138e+04</td>\n",
       "      <td>8.820094e+03</td>\n",
       "      <td>1.000000e+03</td>\n",
       "      <td>2.130000e+04</td>\n",
       "      <td>2.755000e+04</td>\n",
       "      <td>3.000000e+04</td>\n",
       "      <td>3.575000e+04</td>\n",
       "    </tr>\n",
       "    <tr>\n",
       "      <th>ctAlivePlayers</th>\n",
       "      <td>1242425.0</td>\n",
       "      <td>3.854691e+00</td>\n",
       "      <td>1.395288e+00</td>\n",
       "      <td>0.000000e+00</td>\n",
       "      <td>3.000000e+00</td>\n",
       "      <td>4.000000e+00</td>\n",
       "      <td>5.000000e+00</td>\n",
       "      <td>5.000000e+00</td>\n",
       "    </tr>\n",
       "    <tr>\n",
       "      <th>ctTotalUtility</th>\n",
       "      <td>1242425.0</td>\n",
       "      <td>5.461514e+00</td>\n",
       "      <td>5.006568e+00</td>\n",
       "      <td>0.000000e+00</td>\n",
       "      <td>1.000000e+00</td>\n",
       "      <td>4.000000e+00</td>\n",
       "      <td>8.000000e+00</td>\n",
       "      <td>2.000000e+01</td>\n",
       "    </tr>\n",
       "    <tr>\n",
       "      <th>ctPlayer_2_steamID</th>\n",
       "      <td>1242425.0</td>\n",
       "      <td>7.656120e+16</td>\n",
       "      <td>1.965545e+08</td>\n",
       "      <td>7.656120e+16</td>\n",
       "      <td>7.656120e+16</td>\n",
       "      <td>7.656120e+16</td>\n",
       "      <td>7.656120e+16</td>\n",
       "      <td>7.656120e+16</td>\n",
       "    </tr>\n",
       "    <tr>\n",
       "      <th>ctPlayer_2_x</th>\n",
       "      <td>1242425.0</td>\n",
       "      <td>-2.611313e+02</td>\n",
       "      <td>1.373396e+03</td>\n",
       "      <td>-3.959999e+03</td>\n",
       "      <td>-1.351887e+03</td>\n",
       "      <td>-3.426783e+02</td>\n",
       "      <td>7.820131e+02</td>\n",
       "      <td>3.498000e+03</td>\n",
       "    </tr>\n",
       "    <tr>\n",
       "      <th>...</th>\n",
       "      <td>...</td>\n",
       "      <td>...</td>\n",
       "      <td>...</td>\n",
       "      <td>...</td>\n",
       "      <td>...</td>\n",
       "      <td>...</td>\n",
       "      <td>...</td>\n",
       "      <td>...</td>\n",
       "    </tr>\n",
       "    <tr>\n",
       "      <th>seconds</th>\n",
       "      <td>1242425.0</td>\n",
       "      <td>4.014980e+01</td>\n",
       "      <td>2.880594e+01</td>\n",
       "      <td>0.000000e+00</td>\n",
       "      <td>1.643307e+01</td>\n",
       "      <td>3.440945e+01</td>\n",
       "      <td>5.978740e+01</td>\n",
       "      <td>1.460079e+02</td>\n",
       "    </tr>\n",
       "    <tr>\n",
       "      <th>bomb_x</th>\n",
       "      <td>1242425.0</td>\n",
       "      <td>-3.590560e+02</td>\n",
       "      <td>1.157639e+03</td>\n",
       "      <td>-3.959999e+03</td>\n",
       "      <td>-1.253614e+03</td>\n",
       "      <td>-3.606562e+02</td>\n",
       "      <td>5.701562e+02</td>\n",
       "      <td>2.634000e+03</td>\n",
       "    </tr>\n",
       "    <tr>\n",
       "      <th>bomb_y</th>\n",
       "      <td>1242425.0</td>\n",
       "      <td>-2.147858e+02</td>\n",
       "      <td>1.235652e+03</td>\n",
       "      <td>-3.400931e+03</td>\n",
       "      <td>-1.083375e+03</td>\n",
       "      <td>-2.583391e+02</td>\n",
       "      <td>6.016562e+02</td>\n",
       "      <td>3.512206e+03</td>\n",
       "    </tr>\n",
       "    <tr>\n",
       "      <th>bomb_z</th>\n",
       "      <td>1242425.0</td>\n",
       "      <td>1.671678e+03</td>\n",
       "      <td>4.144178e+03</td>\n",
       "      <td>-7.759688e+02</td>\n",
       "      <td>-1.659688e+02</td>\n",
       "      <td>3.002116e+01</td>\n",
       "      <td>1.600312e+02</td>\n",
       "      <td>1.198500e+04</td>\n",
       "    </tr>\n",
       "    <tr>\n",
       "      <th>roundNum</th>\n",
       "      <td>1242425.0</td>\n",
       "      <td>1.462239e+01</td>\n",
       "      <td>8.681544e+00</td>\n",
       "      <td>1.000000e+00</td>\n",
       "      <td>7.000000e+00</td>\n",
       "      <td>1.400000e+01</td>\n",
       "      <td>2.100000e+01</td>\n",
       "      <td>4.800000e+01</td>\n",
       "    </tr>\n",
       "  </tbody>\n",
       "</table>\n",
       "<p>262 rows × 8 columns</p>\n",
       "</div>"
      ],
      "text/plain": [
       "                        count          mean           std           min  \\\n",
       "ctEqVal             1242425.0  2.381138e+04  8.820094e+03  1.000000e+03   \n",
       "ctAlivePlayers      1242425.0  3.854691e+00  1.395288e+00  0.000000e+00   \n",
       "ctTotalUtility      1242425.0  5.461514e+00  5.006568e+00  0.000000e+00   \n",
       "ctPlayer_2_steamID  1242425.0  7.656120e+16  1.965545e+08  7.656120e+16   \n",
       "ctPlayer_2_x        1242425.0 -2.611313e+02  1.373396e+03 -3.959999e+03   \n",
       "...                       ...           ...           ...           ...   \n",
       "seconds             1242425.0  4.014980e+01  2.880594e+01  0.000000e+00   \n",
       "bomb_x              1242425.0 -3.590560e+02  1.157639e+03 -3.959999e+03   \n",
       "bomb_y              1242425.0 -2.147858e+02  1.235652e+03 -3.400931e+03   \n",
       "bomb_z              1242425.0  1.671678e+03  4.144178e+03 -7.759688e+02   \n",
       "roundNum            1242425.0  1.462239e+01  8.681544e+00  1.000000e+00   \n",
       "\n",
       "                             25%           50%           75%           max  \n",
       "ctEqVal             2.130000e+04  2.755000e+04  3.000000e+04  3.575000e+04  \n",
       "ctAlivePlayers      3.000000e+00  4.000000e+00  5.000000e+00  5.000000e+00  \n",
       "ctTotalUtility      1.000000e+00  4.000000e+00  8.000000e+00  2.000000e+01  \n",
       "ctPlayer_2_steamID  7.656120e+16  7.656120e+16  7.656120e+16  7.656120e+16  \n",
       "ctPlayer_2_x       -1.351887e+03 -3.426783e+02  7.820131e+02  3.498000e+03  \n",
       "...                          ...           ...           ...           ...  \n",
       "seconds             1.643307e+01  3.440945e+01  5.978740e+01  1.460079e+02  \n",
       "bomb_x             -1.253614e+03 -3.606562e+02  5.701562e+02  2.634000e+03  \n",
       "bomb_y             -1.083375e+03 -2.583391e+02  6.016562e+02  3.512206e+03  \n",
       "bomb_z             -1.659688e+02  3.002116e+01  1.600312e+02  1.198500e+04  \n",
       "roundNum            7.000000e+00  1.400000e+01  2.100000e+01  4.800000e+01  \n",
       "\n",
       "[262 rows x 8 columns]"
      ]
     },
     "execution_count": 10,
     "metadata": {},
     "output_type": "execute_result"
    }
   ],
   "source": [
    "df.describe().T"
   ]
  },
  {
   "cell_type": "code",
   "execution_count": 11,
   "id": "7ded7ab4-1663-4204-a59b-23c7bac9a279",
   "metadata": {},
   "outputs": [
    {
     "data": {
      "text/html": [
       "<div>\n",
       "<style scoped>\n",
       "    .dataframe tbody tr th:only-of-type {\n",
       "        vertical-align: middle;\n",
       "    }\n",
       "\n",
       "    .dataframe tbody tr th {\n",
       "        vertical-align: top;\n",
       "    }\n",
       "\n",
       "    .dataframe thead th {\n",
       "        text-align: right;\n",
       "    }\n",
       "</style>\n",
       "<table border=\"1\" class=\"dataframe\">\n",
       "  <thead>\n",
       "    <tr style=\"text-align: right;\">\n",
       "      <th></th>\n",
       "      <th>count</th>\n",
       "      <th>mean</th>\n",
       "      <th>std</th>\n",
       "      <th>min</th>\n",
       "      <th>25%</th>\n",
       "      <th>50%</th>\n",
       "      <th>75%</th>\n",
       "      <th>max</th>\n",
       "    </tr>\n",
       "  </thead>\n",
       "  <tbody>\n",
       "    <tr>\n",
       "      <th>ctPlayer_4_z</th>\n",
       "      <td>1242417.0</td>\n",
       "      <td>1715.421367</td>\n",
       "      <td>4184.247739</td>\n",
       "      <td>-775.96875</td>\n",
       "      <td>-165.96875</td>\n",
       "      <td>89.951195</td>\n",
       "      <td>171.978867</td>\n",
       "      <td>11964.197266</td>\n",
       "    </tr>\n",
       "  </tbody>\n",
       "</table>\n",
       "</div>"
      ],
      "text/plain": [
       "                  count         mean          std        min        25%  \\\n",
       "ctPlayer_4_z  1242417.0  1715.421367  4184.247739 -775.96875 -165.96875   \n",
       "\n",
       "                    50%         75%           max  \n",
       "ctPlayer_4_z  89.951195  171.978867  11964.197266  "
      ]
     },
     "execution_count": 11,
     "metadata": {},
     "output_type": "execute_result"
    }
   ],
   "source": [
    "df_desc = df.describe().T\n",
    "df_desc[df_desc['count'] != 1242425.0]"
   ]
  },
  {
   "cell_type": "code",
   "execution_count": 20,
   "id": "65c92848-99b0-47c6-bd1d-18e537797c84",
   "metadata": {},
   "outputs": [
    {
     "data": {
      "text/html": [
       "<div>\n",
       "<style scoped>\n",
       "    .dataframe tbody tr th:only-of-type {\n",
       "        vertical-align: middle;\n",
       "    }\n",
       "\n",
       "    .dataframe tbody tr th {\n",
       "        vertical-align: top;\n",
       "    }\n",
       "\n",
       "    .dataframe thead th {\n",
       "        text-align: right;\n",
       "    }\n",
       "</style>\n",
       "<table border=\"1\" class=\"dataframe\">\n",
       "  <thead>\n",
       "    <tr style=\"text-align: right;\">\n",
       "      <th></th>\n",
       "      <th>ctPlayer_4_steamID</th>\n",
       "      <th>ctPlayer_4_name</th>\n",
       "      <th>ctPlayer_4_team</th>\n",
       "      <th>ctPlayer_4_side</th>\n",
       "      <th>ctPlayer_4_x</th>\n",
       "      <th>ctPlayer_4_y</th>\n",
       "      <th>ctPlayer_4_z</th>\n",
       "      <th>ctPlayer_4_velocityX</th>\n",
       "      <th>ctPlayer_4_velocityY</th>\n",
       "      <th>ctPlayer_4_velocityZ</th>\n",
       "      <th>...</th>\n",
       "      <th>ctPlayer_4_equipmentValueFreezetimeEnd</th>\n",
       "      <th>ctPlayer_4_equipmentValueRoundStart</th>\n",
       "      <th>ctPlayer_4_cash</th>\n",
       "      <th>ctPlayer_4_cashSpendThisRound</th>\n",
       "      <th>ctPlayer_4_cashSpendTotal</th>\n",
       "      <th>ctPlayer_4_hasHelmet</th>\n",
       "      <th>ctPlayer_4_hasDefuse</th>\n",
       "      <th>ctPlayer_4_hasBomb</th>\n",
       "      <th>ctPlayer_4_ping</th>\n",
       "      <th>ctPlayer_4_zoomLevel</th>\n",
       "    </tr>\n",
       "  </thead>\n",
       "  <tbody>\n",
       "    <tr>\n",
       "      <th>0</th>\n",
       "      <td>76561198165327895</td>\n",
       "      <td>sinnopsyy</td>\n",
       "      <td>Bad News Eagles</td>\n",
       "      <td>CT</td>\n",
       "      <td>2467.358154</td>\n",
       "      <td>2086.319092</td>\n",
       "      <td>NaN</td>\n",
       "      <td>-34.922691</td>\n",
       "      <td>-113.908531</td>\n",
       "      <td>0.0</td>\n",
       "      <td>...</td>\n",
       "      <td>950</td>\n",
       "      <td>200</td>\n",
       "      <td>150</td>\n",
       "      <td>650</td>\n",
       "      <td>650</td>\n",
       "      <td>False</td>\n",
       "      <td>False</td>\n",
       "      <td>False</td>\n",
       "      <td>5</td>\n",
       "      <td>0</td>\n",
       "    </tr>\n",
       "    <tr>\n",
       "      <th>1</th>\n",
       "      <td>76561198165327895</td>\n",
       "      <td>sinnopsyy</td>\n",
       "      <td>Bad News Eagles</td>\n",
       "      <td>CT</td>\n",
       "      <td>2454.257324</td>\n",
       "      <td>2043.637695</td>\n",
       "      <td>NaN</td>\n",
       "      <td>-66.179916</td>\n",
       "      <td>-214.269150</td>\n",
       "      <td>0.0</td>\n",
       "      <td>...</td>\n",
       "      <td>950</td>\n",
       "      <td>200</td>\n",
       "      <td>150</td>\n",
       "      <td>650</td>\n",
       "      <td>650</td>\n",
       "      <td>False</td>\n",
       "      <td>False</td>\n",
       "      <td>False</td>\n",
       "      <td>5</td>\n",
       "      <td>0</td>\n",
       "    </tr>\n",
       "    <tr>\n",
       "      <th>2</th>\n",
       "      <td>76561198165327895</td>\n",
       "      <td>sinnopsyy</td>\n",
       "      <td>Bad News Eagles</td>\n",
       "      <td>CT</td>\n",
       "      <td>2436.208496</td>\n",
       "      <td>1985.858887</td>\n",
       "      <td>NaN</td>\n",
       "      <td>-75.526756</td>\n",
       "      <td>-238.318497</td>\n",
       "      <td>0.0</td>\n",
       "      <td>...</td>\n",
       "      <td>950</td>\n",
       "      <td>200</td>\n",
       "      <td>150</td>\n",
       "      <td>650</td>\n",
       "      <td>650</td>\n",
       "      <td>False</td>\n",
       "      <td>False</td>\n",
       "      <td>False</td>\n",
       "      <td>5</td>\n",
       "      <td>0</td>\n",
       "    </tr>\n",
       "    <tr>\n",
       "      <th>3</th>\n",
       "      <td>76561198165327895</td>\n",
       "      <td>sinnopsyy</td>\n",
       "      <td>Bad News Eagles</td>\n",
       "      <td>CT</td>\n",
       "      <td>2416.770752</td>\n",
       "      <td>1924.406372</td>\n",
       "      <td>NaN</td>\n",
       "      <td>-74.775276</td>\n",
       "      <td>-238.555374</td>\n",
       "      <td>0.0</td>\n",
       "      <td>...</td>\n",
       "      <td>950</td>\n",
       "      <td>200</td>\n",
       "      <td>150</td>\n",
       "      <td>650</td>\n",
       "      <td>650</td>\n",
       "      <td>False</td>\n",
       "      <td>False</td>\n",
       "      <td>False</td>\n",
       "      <td>5</td>\n",
       "      <td>0</td>\n",
       "    </tr>\n",
       "    <tr>\n",
       "      <th>4</th>\n",
       "      <td>76561198165327895</td>\n",
       "      <td>sinnopsyy</td>\n",
       "      <td>Bad News Eagles</td>\n",
       "      <td>CT</td>\n",
       "      <td>2398.150879</td>\n",
       "      <td>1864.744263</td>\n",
       "      <td>NaN</td>\n",
       "      <td>-74.300400</td>\n",
       "      <td>-238.703690</td>\n",
       "      <td>0.0</td>\n",
       "      <td>...</td>\n",
       "      <td>950</td>\n",
       "      <td>200</td>\n",
       "      <td>150</td>\n",
       "      <td>650</td>\n",
       "      <td>650</td>\n",
       "      <td>False</td>\n",
       "      <td>False</td>\n",
       "      <td>False</td>\n",
       "      <td>5</td>\n",
       "      <td>0</td>\n",
       "    </tr>\n",
       "    <tr>\n",
       "      <th>5</th>\n",
       "      <td>76561198165327895</td>\n",
       "      <td>sinnopsyy</td>\n",
       "      <td>Bad News Eagles</td>\n",
       "      <td>CT</td>\n",
       "      <td>2379.546631</td>\n",
       "      <td>1805.077637</td>\n",
       "      <td>NaN</td>\n",
       "      <td>-74.752846</td>\n",
       "      <td>-238.562393</td>\n",
       "      <td>0.0</td>\n",
       "      <td>...</td>\n",
       "      <td>950</td>\n",
       "      <td>200</td>\n",
       "      <td>150</td>\n",
       "      <td>650</td>\n",
       "      <td>650</td>\n",
       "      <td>False</td>\n",
       "      <td>False</td>\n",
       "      <td>False</td>\n",
       "      <td>5</td>\n",
       "      <td>0</td>\n",
       "    </tr>\n",
       "    <tr>\n",
       "      <th>6</th>\n",
       "      <td>76561198165327895</td>\n",
       "      <td>sinnopsyy</td>\n",
       "      <td>Bad News Eagles</td>\n",
       "      <td>CT</td>\n",
       "      <td>2362.048584</td>\n",
       "      <td>1745.091431</td>\n",
       "      <td>NaN</td>\n",
       "      <td>-58.982037</td>\n",
       "      <td>-242.942627</td>\n",
       "      <td>0.0</td>\n",
       "      <td>...</td>\n",
       "      <td>950</td>\n",
       "      <td>200</td>\n",
       "      <td>150</td>\n",
       "      <td>650</td>\n",
       "      <td>650</td>\n",
       "      <td>False</td>\n",
       "      <td>False</td>\n",
       "      <td>False</td>\n",
       "      <td>5</td>\n",
       "      <td>0</td>\n",
       "    </tr>\n",
       "    <tr>\n",
       "      <th>7</th>\n",
       "      <td>76561198165327895</td>\n",
       "      <td>sinnopsyy</td>\n",
       "      <td>Bad News Eagles</td>\n",
       "      <td>CT</td>\n",
       "      <td>2351.114502</td>\n",
       "      <td>1685.562988</td>\n",
       "      <td>NaN</td>\n",
       "      <td>-36.046459</td>\n",
       "      <td>-247.387650</td>\n",
       "      <td>0.0</td>\n",
       "      <td>...</td>\n",
       "      <td>950</td>\n",
       "      <td>200</td>\n",
       "      <td>150</td>\n",
       "      <td>650</td>\n",
       "      <td>650</td>\n",
       "      <td>False</td>\n",
       "      <td>False</td>\n",
       "      <td>False</td>\n",
       "      <td>5</td>\n",
       "      <td>0</td>\n",
       "    </tr>\n",
       "  </tbody>\n",
       "</table>\n",
       "<p>8 rows × 50 columns</p>\n",
       "</div>"
      ],
      "text/plain": [
       "   ctPlayer_4_steamID ctPlayer_4_name  ctPlayer_4_team ctPlayer_4_side  \\\n",
       "0   76561198165327895       sinnopsyy  Bad News Eagles              CT   \n",
       "1   76561198165327895       sinnopsyy  Bad News Eagles              CT   \n",
       "2   76561198165327895       sinnopsyy  Bad News Eagles              CT   \n",
       "3   76561198165327895       sinnopsyy  Bad News Eagles              CT   \n",
       "4   76561198165327895       sinnopsyy  Bad News Eagles              CT   \n",
       "5   76561198165327895       sinnopsyy  Bad News Eagles              CT   \n",
       "6   76561198165327895       sinnopsyy  Bad News Eagles              CT   \n",
       "7   76561198165327895       sinnopsyy  Bad News Eagles              CT   \n",
       "\n",
       "   ctPlayer_4_x  ctPlayer_4_y  ctPlayer_4_z  ctPlayer_4_velocityX  \\\n",
       "0   2467.358154   2086.319092           NaN            -34.922691   \n",
       "1   2454.257324   2043.637695           NaN            -66.179916   \n",
       "2   2436.208496   1985.858887           NaN            -75.526756   \n",
       "3   2416.770752   1924.406372           NaN            -74.775276   \n",
       "4   2398.150879   1864.744263           NaN            -74.300400   \n",
       "5   2379.546631   1805.077637           NaN            -74.752846   \n",
       "6   2362.048584   1745.091431           NaN            -58.982037   \n",
       "7   2351.114502   1685.562988           NaN            -36.046459   \n",
       "\n",
       "   ctPlayer_4_velocityY  ctPlayer_4_velocityZ  ...  \\\n",
       "0           -113.908531                   0.0  ...   \n",
       "1           -214.269150                   0.0  ...   \n",
       "2           -238.318497                   0.0  ...   \n",
       "3           -238.555374                   0.0  ...   \n",
       "4           -238.703690                   0.0  ...   \n",
       "5           -238.562393                   0.0  ...   \n",
       "6           -242.942627                   0.0  ...   \n",
       "7           -247.387650                   0.0  ...   \n",
       "\n",
       "   ctPlayer_4_equipmentValueFreezetimeEnd  \\\n",
       "0                                     950   \n",
       "1                                     950   \n",
       "2                                     950   \n",
       "3                                     950   \n",
       "4                                     950   \n",
       "5                                     950   \n",
       "6                                     950   \n",
       "7                                     950   \n",
       "\n",
       "   ctPlayer_4_equipmentValueRoundStart  ctPlayer_4_cash  \\\n",
       "0                                  200              150   \n",
       "1                                  200              150   \n",
       "2                                  200              150   \n",
       "3                                  200              150   \n",
       "4                                  200              150   \n",
       "5                                  200              150   \n",
       "6                                  200              150   \n",
       "7                                  200              150   \n",
       "\n",
       "   ctPlayer_4_cashSpendThisRound ctPlayer_4_cashSpendTotal  \\\n",
       "0                            650                       650   \n",
       "1                            650                       650   \n",
       "2                            650                       650   \n",
       "3                            650                       650   \n",
       "4                            650                       650   \n",
       "5                            650                       650   \n",
       "6                            650                       650   \n",
       "7                            650                       650   \n",
       "\n",
       "   ctPlayer_4_hasHelmet  ctPlayer_4_hasDefuse  ctPlayer_4_hasBomb  \\\n",
       "0                 False                 False               False   \n",
       "1                 False                 False               False   \n",
       "2                 False                 False               False   \n",
       "3                 False                 False               False   \n",
       "4                 False                 False               False   \n",
       "5                 False                 False               False   \n",
       "6                 False                 False               False   \n",
       "7                 False                 False               False   \n",
       "\n",
       "   ctPlayer_4_ping  ctPlayer_4_zoomLevel  \n",
       "0                5                     0  \n",
       "1                5                     0  \n",
       "2                5                     0  \n",
       "3                5                     0  \n",
       "4                5                     0  \n",
       "5                5                     0  \n",
       "6                5                     0  \n",
       "7                5                     0  \n",
       "\n",
       "[8 rows x 50 columns]"
      ]
     },
     "execution_count": 20,
     "metadata": {},
     "output_type": "execute_result"
    }
   ],
   "source": [
    "df.loc[df.ctPlayer_4_z.isna(), df.columns[df.columns.str.startswith('ctPlayer_4')]]"
   ]
  },
  {
   "cell_type": "code",
   "execution_count": 25,
   "id": "a394235a-2234-49b0-9301-3b598bf80c9f",
   "metadata": {},
   "outputs": [
    {
     "data": {
      "text/html": [
       "<div>\n",
       "<style scoped>\n",
       "    .dataframe tbody tr th:only-of-type {\n",
       "        vertical-align: middle;\n",
       "    }\n",
       "\n",
       "    .dataframe tbody tr th {\n",
       "        vertical-align: top;\n",
       "    }\n",
       "\n",
       "    .dataframe thead th {\n",
       "        text-align: right;\n",
       "    }\n",
       "</style>\n",
       "<table border=\"1\" class=\"dataframe\">\n",
       "  <thead>\n",
       "    <tr style=\"text-align: right;\">\n",
       "      <th></th>\n",
       "      <th>ctPlayer_2_x</th>\n",
       "      <th>ctPlayer_2_y</th>\n",
       "      <th>ctPlayer_2_z</th>\n",
       "      <th>ctPlayer_1_x</th>\n",
       "      <th>ctPlayer_1_y</th>\n",
       "      <th>ctPlayer_1_z</th>\n",
       "      <th>ctPlayer_4_x</th>\n",
       "      <th>ctPlayer_4_y</th>\n",
       "      <th>ctPlayer_4_z</th>\n",
       "      <th>ctPlayer_3_x</th>\n",
       "      <th>...</th>\n",
       "      <th>tPlayer_4_z</th>\n",
       "      <th>tPlayer_5_x</th>\n",
       "      <th>tPlayer_5_y</th>\n",
       "      <th>tPlayer_5_z</th>\n",
       "      <th>tPlayer_3_x</th>\n",
       "      <th>tPlayer_3_y</th>\n",
       "      <th>tPlayer_3_z</th>\n",
       "      <th>bomb_x</th>\n",
       "      <th>bomb_y</th>\n",
       "      <th>bomb_z</th>\n",
       "    </tr>\n",
       "  </thead>\n",
       "  <tbody>\n",
       "    <tr>\n",
       "      <th>0</th>\n",
       "      <td>2287.882324</td>\n",
       "      <td>2019.412842</td>\n",
       "      <td>128.031250</td>\n",
       "      <td>2406.093262</td>\n",
       "      <td>2359.477051</td>\n",
       "      <td>128.03125</td>\n",
       "      <td>2467.358154</td>\n",
       "      <td>2086.319092</td>\n",
       "      <td>NaN</td>\n",
       "      <td>2463.019531</td>\n",
       "      <td>...</td>\n",
       "      <td>-65.566566</td>\n",
       "      <td>-1546.392456</td>\n",
       "      <td>720.161194</td>\n",
       "      <td>-51.337925</td>\n",
       "      <td>-1686.543457</td>\n",
       "      <td>484.882690</td>\n",
       "      <td>-61.769085</td>\n",
       "      <td>-1686.543457</td>\n",
       "      <td>484.882690</td>\n",
       "      <td>-61.769085</td>\n",
       "    </tr>\n",
       "    <tr>\n",
       "      <th>1</th>\n",
       "      <td>2266.610107</td>\n",
       "      <td>1977.265137</td>\n",
       "      <td>128.031250</td>\n",
       "      <td>2376.409912</td>\n",
       "      <td>2394.062500</td>\n",
       "      <td>128.03125</td>\n",
       "      <td>2454.257324</td>\n",
       "      <td>2043.637695</td>\n",
       "      <td>NaN</td>\n",
       "      <td>2482.533203</td>\n",
       "      <td>...</td>\n",
       "      <td>-66.133408</td>\n",
       "      <td>-1542.945679</td>\n",
       "      <td>675.883423</td>\n",
       "      <td>-49.052753</td>\n",
       "      <td>-1655.148804</td>\n",
       "      <td>460.171936</td>\n",
       "      <td>-63.327736</td>\n",
       "      <td>-1655.148804</td>\n",
       "      <td>460.171936</td>\n",
       "      <td>-63.327736</td>\n",
       "    </tr>\n",
       "    <tr>\n",
       "      <th>2</th>\n",
       "      <td>2249.704834</td>\n",
       "      <td>1924.318359</td>\n",
       "      <td>128.031250</td>\n",
       "      <td>2336.987061</td>\n",
       "      <td>2439.998047</td>\n",
       "      <td>128.03125</td>\n",
       "      <td>2436.208496</td>\n",
       "      <td>1985.858887</td>\n",
       "      <td>NaN</td>\n",
       "      <td>2476.192627</td>\n",
       "      <td>...</td>\n",
       "      <td>-63.877693</td>\n",
       "      <td>-1541.271484</td>\n",
       "      <td>618.583313</td>\n",
       "      <td>-43.968750</td>\n",
       "      <td>-1618.272583</td>\n",
       "      <td>416.995819</td>\n",
       "      <td>-64.436058</td>\n",
       "      <td>-1618.272583</td>\n",
       "      <td>416.995819</td>\n",
       "      <td>-64.436058</td>\n",
       "    </tr>\n",
       "    <tr>\n",
       "      <th>3</th>\n",
       "      <td>2207.921631</td>\n",
       "      <td>1887.511963</td>\n",
       "      <td>128.031250</td>\n",
       "      <td>2296.283936</td>\n",
       "      <td>2487.427734</td>\n",
       "      <td>128.03125</td>\n",
       "      <td>2416.770752</td>\n",
       "      <td>1924.406372</td>\n",
       "      <td>NaN</td>\n",
       "      <td>2460.610107</td>\n",
       "      <td>...</td>\n",
       "      <td>-61.773483</td>\n",
       "      <td>-1551.063599</td>\n",
       "      <td>560.372864</td>\n",
       "      <td>-63.775856</td>\n",
       "      <td>-1575.204834</td>\n",
       "      <td>374.794678</td>\n",
       "      <td>-66.670403</td>\n",
       "      <td>-1575.204834</td>\n",
       "      <td>374.794678</td>\n",
       "      <td>-66.670403</td>\n",
       "    </tr>\n",
       "    <tr>\n",
       "      <th>4</th>\n",
       "      <td>2151.189209</td>\n",
       "      <td>1862.758057</td>\n",
       "      <td>128.031250</td>\n",
       "      <td>2255.088867</td>\n",
       "      <td>2534.416504</td>\n",
       "      <td>128.03125</td>\n",
       "      <td>2398.150879</td>\n",
       "      <td>1864.744263</td>\n",
       "      <td>NaN</td>\n",
       "      <td>2433.229248</td>\n",
       "      <td>...</td>\n",
       "      <td>-63.968750</td>\n",
       "      <td>-1549.699097</td>\n",
       "      <td>497.938171</td>\n",
       "      <td>-63.968750</td>\n",
       "      <td>-1532.967651</td>\n",
       "      <td>341.931915</td>\n",
       "      <td>-66.130608</td>\n",
       "      <td>-1532.967651</td>\n",
       "      <td>341.931915</td>\n",
       "      <td>-66.130608</td>\n",
       "    </tr>\n",
       "    <tr>\n",
       "      <th>5</th>\n",
       "      <td>2092.306641</td>\n",
       "      <td>1841.811035</td>\n",
       "      <td>128.031250</td>\n",
       "      <td>2205.211670</td>\n",
       "      <td>2571.833740</td>\n",
       "      <td>128.03125</td>\n",
       "      <td>2379.546631</td>\n",
       "      <td>1805.077637</td>\n",
       "      <td>NaN</td>\n",
       "      <td>2428.998291</td>\n",
       "      <td>...</td>\n",
       "      <td>-59.975212</td>\n",
       "      <td>-1549.159668</td>\n",
       "      <td>436.944672</td>\n",
       "      <td>-66.340149</td>\n",
       "      <td>-1512.703979</td>\n",
       "      <td>304.416290</td>\n",
       "      <td>-63.067162</td>\n",
       "      <td>-1512.703979</td>\n",
       "      <td>304.416290</td>\n",
       "      <td>-63.067162</td>\n",
       "    </tr>\n",
       "    <tr>\n",
       "      <th>6</th>\n",
       "      <td>2033.106567</td>\n",
       "      <td>1821.770752</td>\n",
       "      <td>151.481583</td>\n",
       "      <td>2150.758545</td>\n",
       "      <td>2602.493164</td>\n",
       "      <td>128.03125</td>\n",
       "      <td>2362.048584</td>\n",
       "      <td>1745.091431</td>\n",
       "      <td>NaN</td>\n",
       "      <td>2402.999268</td>\n",
       "      <td>...</td>\n",
       "      <td>-63.968750</td>\n",
       "      <td>-1545.333130</td>\n",
       "      <td>375.400543</td>\n",
       "      <td>-67.516357</td>\n",
       "      <td>-1462.986572</td>\n",
       "      <td>290.134979</td>\n",
       "      <td>-60.902756</td>\n",
       "      <td>-1462.986572</td>\n",
       "      <td>290.134979</td>\n",
       "      <td>-60.902756</td>\n",
       "    </tr>\n",
       "    <tr>\n",
       "      <th>7</th>\n",
       "      <td>1975.349365</td>\n",
       "      <td>1799.306152</td>\n",
       "      <td>160.031250</td>\n",
       "      <td>2095.008057</td>\n",
       "      <td>2630.368164</td>\n",
       "      <td>128.03125</td>\n",
       "      <td>2351.114502</td>\n",
       "      <td>1685.562988</td>\n",
       "      <td>NaN</td>\n",
       "      <td>2365.573975</td>\n",
       "      <td>...</td>\n",
       "      <td>-63.968750</td>\n",
       "      <td>-1546.992798</td>\n",
       "      <td>314.372131</td>\n",
       "      <td>-65.388214</td>\n",
       "      <td>-1436.327148</td>\n",
       "      <td>272.031616</td>\n",
       "      <td>-60.385487</td>\n",
       "      <td>-1436.327148</td>\n",
       "      <td>272.031616</td>\n",
       "      <td>-60.385487</td>\n",
       "    </tr>\n",
       "  </tbody>\n",
       "</table>\n",
       "<p>8 rows × 33 columns</p>\n",
       "</div>"
      ],
      "text/plain": [
       "   ctPlayer_2_x  ctPlayer_2_y  ctPlayer_2_z  ctPlayer_1_x  ctPlayer_1_y  \\\n",
       "0   2287.882324   2019.412842    128.031250   2406.093262   2359.477051   \n",
       "1   2266.610107   1977.265137    128.031250   2376.409912   2394.062500   \n",
       "2   2249.704834   1924.318359    128.031250   2336.987061   2439.998047   \n",
       "3   2207.921631   1887.511963    128.031250   2296.283936   2487.427734   \n",
       "4   2151.189209   1862.758057    128.031250   2255.088867   2534.416504   \n",
       "5   2092.306641   1841.811035    128.031250   2205.211670   2571.833740   \n",
       "6   2033.106567   1821.770752    151.481583   2150.758545   2602.493164   \n",
       "7   1975.349365   1799.306152    160.031250   2095.008057   2630.368164   \n",
       "\n",
       "   ctPlayer_1_z  ctPlayer_4_x  ctPlayer_4_y  ctPlayer_4_z  ctPlayer_3_x  ...  \\\n",
       "0     128.03125   2467.358154   2086.319092           NaN   2463.019531  ...   \n",
       "1     128.03125   2454.257324   2043.637695           NaN   2482.533203  ...   \n",
       "2     128.03125   2436.208496   1985.858887           NaN   2476.192627  ...   \n",
       "3     128.03125   2416.770752   1924.406372           NaN   2460.610107  ...   \n",
       "4     128.03125   2398.150879   1864.744263           NaN   2433.229248  ...   \n",
       "5     128.03125   2379.546631   1805.077637           NaN   2428.998291  ...   \n",
       "6     128.03125   2362.048584   1745.091431           NaN   2402.999268  ...   \n",
       "7     128.03125   2351.114502   1685.562988           NaN   2365.573975  ...   \n",
       "\n",
       "   tPlayer_4_z  tPlayer_5_x  tPlayer_5_y  tPlayer_5_z  tPlayer_3_x  \\\n",
       "0   -65.566566 -1546.392456   720.161194   -51.337925 -1686.543457   \n",
       "1   -66.133408 -1542.945679   675.883423   -49.052753 -1655.148804   \n",
       "2   -63.877693 -1541.271484   618.583313   -43.968750 -1618.272583   \n",
       "3   -61.773483 -1551.063599   560.372864   -63.775856 -1575.204834   \n",
       "4   -63.968750 -1549.699097   497.938171   -63.968750 -1532.967651   \n",
       "5   -59.975212 -1549.159668   436.944672   -66.340149 -1512.703979   \n",
       "6   -63.968750 -1545.333130   375.400543   -67.516357 -1462.986572   \n",
       "7   -63.968750 -1546.992798   314.372131   -65.388214 -1436.327148   \n",
       "\n",
       "   tPlayer_3_y  tPlayer_3_z       bomb_x      bomb_y     bomb_z  \n",
       "0   484.882690   -61.769085 -1686.543457  484.882690 -61.769085  \n",
       "1   460.171936   -63.327736 -1655.148804  460.171936 -63.327736  \n",
       "2   416.995819   -64.436058 -1618.272583  416.995819 -64.436058  \n",
       "3   374.794678   -66.670403 -1575.204834  374.794678 -66.670403  \n",
       "4   341.931915   -66.130608 -1532.967651  341.931915 -66.130608  \n",
       "5   304.416290   -63.067162 -1512.703979  304.416290 -63.067162  \n",
       "6   290.134979   -60.902756 -1462.986572  290.134979 -60.902756  \n",
       "7   272.031616   -60.385487 -1436.327148  272.031616 -60.385487  \n",
       "\n",
       "[8 rows x 33 columns]"
      ]
     },
     "execution_count": 25,
     "metadata": {},
     "output_type": "execute_result"
    }
   ],
   "source": [
    "df.loc[df.ctPlayer_4_z.isna(), df.columns[df.columns.str.endswith(('_x','_y','_z'))]]"
   ]
  },
  {
   "cell_type": "code",
   "execution_count": 28,
   "id": "8c84b289-ff49-4be9-afcd-402a434c7486",
   "metadata": {},
   "outputs": [
    {
     "data": {
      "text/plain": [
       "0    01:55\n",
       "1    01:55\n",
       "2    01:55\n",
       "3    01:55\n",
       "4    01:54\n",
       "5    01:54\n",
       "6    01:54\n",
       "7    01:54\n",
       "Name: clockTime, dtype: object"
      ]
     },
     "execution_count": 28,
     "metadata": {},
     "output_type": "execute_result"
    }
   ],
   "source": [
    "df.loc[df.ctPlayer_4_z.isna(), 'clockTime']"
   ]
  },
  {
   "cell_type": "markdown",
   "id": "6b9303e1-f590-4621-a0ca-41e0075282c4",
   "metadata": {},
   "source": [
    "Braki danych, bo najpewniej gracze wyszli z serwera po przegranym meczu (przynajmniej u mnie tak było)."
   ]
  }
 ],
 "metadata": {
  "kernelspec": {
   "display_name": "python3 (awpy)",
   "language": "python",
   "name": "conda-env-awpy-py"
  },
  "language_info": {
   "codemirror_mode": {
    "name": "ipython",
    "version": 3
   },
   "file_extension": ".py",
   "mimetype": "text/x-python",
   "name": "python",
   "nbconvert_exporter": "python",
   "pygments_lexer": "ipython3",
   "version": "3.8.13"
  }
 },
 "nbformat": 4,
 "nbformat_minor": 5
}
