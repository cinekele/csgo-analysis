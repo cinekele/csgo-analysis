{
 "cells": [
  {
   "cell_type": "code",
   "execution_count": 3,
   "id": "61024691-50fd-4fdb-9585-6d72d16c209e",
   "metadata": {},
   "outputs": [
    {
     "name": "stdout",
     "output_type": "stream",
     "text": [
      "Experiment_id: 1\n",
      "Artifact Location: file:///E:/Studia/Inzynierka/csgo-analysis/notebooks/mlruns/1\n",
      "Tags: {}\n",
      "Lifecycle_stage: active\n"
     ]
    }
   ],
   "source": [
    "%run 0_3_configure_mlflow.ipynb"
   ]
  },
  {
   "cell_type": "code",
   "execution_count": 4,
   "id": "1f701eff-5bab-41d4-9768-ace06e1274a0",
   "metadata": {},
   "outputs": [],
   "source": [
    "import pandas as pd\n",
    "import numpy as np\n",
    "import matplotlib.pyplot as plt\n",
    "import pickle\n",
    "import shap\n",
    "import os\n",
    "import shutil\n",
    "\n",
    "from sklearn.metrics import accuracy_score, precision_score, recall_score, log_loss, f1_score, roc_auc_score, RocCurveDisplay\n",
    "from sklearn.calibration import CalibrationDisplay\n",
    "from sklearn.preprocessing import StandardScaler\n",
    "from sklearn.model_selection import StratifiedKFold, train_test_split\n",
    "from skopt import BayesSearchCV\n",
    "from skopt.space import Real, Categorical, Integer\n",
    "from tensorflow.keras import Sequential\n",
    "from tensorflow.keras.layers import InputLayer, GRU, Dense, Masking, Flatten\n",
    "from tensorflow.keras.losses import BinaryCrossentropy\n",
    "from tensorflow.keras.metrics import AUC, BinaryAccuracy\n",
    "from tensorflow.keras.utils import Sequence\n",
    "from tensorflow.keras.callbacks import EarlyStopping, ModelCheckpoint, CSVLogger"
   ]
  },
  {
   "cell_type": "markdown",
   "id": "d861d74a-b111-4654-add5-d3ccf48e1157",
   "metadata": {
    "tags": []
   },
   "source": [
    "# Wczytanie danych"
   ]
  },
  {
   "cell_type": "code",
   "execution_count": 5,
   "id": "992db637-fab9-4e6e-8b30-60b95a0b1383",
   "metadata": {},
   "outputs": [],
   "source": [
    "def select_feat():\n",
    "    columns = [\n",
    "        'seconds', 'ctAlivePlayers', 'ctEqVal', 'tAlivePlayers', 'tEqVal',\n",
    "       'ct_armor', 't_armor', 'ct_hp', 't_hp', 'ct_hasHelmet', 't_hasHelmet', 'ct_DecoyGrenade',\n",
    "       't_DecoyGrenade', 'ct_Flashbang', 't_Flashbang', 'ct_HEGrenade',\n",
    "       't_HEGrenade', 'ct_SmokeGrenade', 't_SmokeGrenade', 'ct_fireGrenades',\n",
    "       't_fireGrenades', 'ct_isBlinded', 't_isBlinded', 'ct_hasDefuse',\n",
    "       't_hasBomb', 'ct_isDefusing', 't_isPlanting', 'ct_spottedPlayers',\n",
    "       't_spottedPlayers', 'ct_grouppedPlayers',\n",
    "       'ct_meanDist', 'ct_minDist', 't_meanDist','t_minDist',\n",
    "       't_grouppedPlayers', 'ct_conquerMap', 't_conquerMap', 'ct_activeWeapon_Pistol',\n",
    "       'ct_activeWeapon_EnhancedPistols', 'ct_activeWeapon_Deagle',\n",
    "       'ct_activeWeapon_SMG', 'ct_activeWeapon_WeakAssaultRifle',\n",
    "       'ct_activeWeapon_LunetRifle', 'ct_activeWeapon_SniperRifle',\n",
    "       'ct_activeWeapon_AssaultRifle', 'ct_activeWeapon_Others',\n",
    "       't_activeWeapon_Pistol', 't_activeWeapon_EnhancedPistols',\n",
    "       't_activeWeapon_Deagle', 't_activeWeapon_SMG',\n",
    "       't_activeWeapon_WeakAssaultRifle', 't_activeWeapon_LunetRifle',\n",
    "       't_activeWeapon_SniperRifle', 't_activeWeapon_AssaultRifle',\n",
    "       't_activeWeapon_Others', 'ct_mainWeapon_Pistol',\n",
    "       'ct_mainWeapon_EnhancedPistols', 'ct_mainWeapon_Deagle',\n",
    "       'ct_mainWeapon_SMG', 'ct_mainWeapon_WeakAssaultRifle',\n",
    "       'ct_mainWeapon_LunetRifle', 'ct_mainWeapon_SniperRifle',\n",
    "       'ct_mainWeapon_AssaultRifle', 't_mainWeapon_Pistol', 't_mainWeapon_EnhancedPistols',\n",
    "       't_mainWeapon_Deagle', 't_mainWeapon_SMG',\n",
    "       't_mainWeapon_WeakAssaultRifle', 't_mainWeapon_LunetRifle',\n",
    "       't_mainWeapon_SniperRifle', 't_mainWeapon_AssaultRifle', \n",
    "       'ct_secondaryWeapon_Pistol','ct_secondaryWeapon_EnhancedPistols', 'ct_secondaryWeapon_Deagle',\n",
    "       't_secondaryWeapon_Pistol', 't_secondaryWeapon_EnhancedPistols',\n",
    "       't_secondaryWeapon_Deagle', 'ctMinDistToA',\n",
    "       'ctMinDistToB', 'tMinDistToA', 'tMinDistToB', 'ctMeanDistToA',\n",
    "       'ctMeanDistToB', 'tMeanDistToA', 'tMeanDistToB', 'ctMeanKills',\n",
    "       'tMeanKills', 'tScore', 'ctScore', 'de_ancient', \n",
    "       'de_dust2', 'de_inferno', 'de_mirage', 'de_nuke', 'de_overpass',\n",
    "       'de_vertigo','bombsite_A', 'bombsite_B', 'bombsite_not_planted'\n",
    "    ]\n",
    "    return columns"
   ]
  },
  {
   "cell_type": "code",
   "execution_count": 6,
   "id": "92b76881-cf58-4666-bc4e-0d046dca4c1a",
   "metadata": {
    "tags": []
   },
   "outputs": [
    {
     "ename": "FileNotFoundError",
     "evalue": "[Errno 2] No such file or directory: 'data/ESTA_states_prepared.parquet'",
     "output_type": "error",
     "traceback": [
      "\u001b[1;31m---------------------------------------------------------------------------\u001b[0m",
      "\u001b[1;31mFileNotFoundError\u001b[0m                         Traceback (most recent call last)",
      "Cell \u001b[1;32mIn [6], line 1\u001b[0m\n\u001b[1;32m----> 1\u001b[0m df \u001b[38;5;241m=\u001b[39m \u001b[43mpd\u001b[49m\u001b[38;5;241;43m.\u001b[39;49m\u001b[43mread_parquet\u001b[49m\u001b[43m(\u001b[49m\u001b[38;5;124;43m'\u001b[39;49m\u001b[38;5;124;43mdata/ESTA_states_prepared.parquet\u001b[39;49m\u001b[38;5;124;43m'\u001b[39;49m\u001b[43m,\u001b[49m\u001b[43m \u001b[49m\u001b[43mcolumns\u001b[49m\u001b[38;5;241;43m=\u001b[39;49m\u001b[43mselect_feat\u001b[49m\u001b[43m(\u001b[49m\u001b[43m)\u001b[49m\u001b[43m \u001b[49m\u001b[38;5;241;43m+\u001b[39;49m\u001b[43m \u001b[49m\u001b[43m[\u001b[49m\u001b[38;5;124;43m'\u001b[39;49m\u001b[38;5;124;43mdemoId\u001b[39;49m\u001b[38;5;124;43m'\u001b[39;49m\u001b[43m,\u001b[49m\u001b[43m \u001b[49m\u001b[38;5;124;43m'\u001b[39;49m\u001b[38;5;124;43mroundNum\u001b[39;49m\u001b[38;5;124;43m'\u001b[39;49m\u001b[43m]\u001b[49m\u001b[43m)\u001b[49m\n\u001b[0;32m      2\u001b[0m df\n",
      "File \u001b[1;32m~\\Anaconda3\\envs\\tf_gpu\\lib\\site-packages\\pandas\\io\\parquet.py:493\u001b[0m, in \u001b[0;36mread_parquet\u001b[1;34m(path, engine, columns, storage_options, use_nullable_dtypes, **kwargs)\u001b[0m\n\u001b[0;32m    446\u001b[0m \u001b[38;5;124;03m\"\"\"\u001b[39;00m\n\u001b[0;32m    447\u001b[0m \u001b[38;5;124;03mLoad a parquet object from the file path, returning a DataFrame.\u001b[39;00m\n\u001b[0;32m    448\u001b[0m \n\u001b[1;32m   (...)\u001b[0m\n\u001b[0;32m    489\u001b[0m \u001b[38;5;124;03mDataFrame\u001b[39;00m\n\u001b[0;32m    490\u001b[0m \u001b[38;5;124;03m\"\"\"\u001b[39;00m\n\u001b[0;32m    491\u001b[0m impl \u001b[38;5;241m=\u001b[39m get_engine(engine)\n\u001b[1;32m--> 493\u001b[0m \u001b[38;5;28;01mreturn\u001b[39;00m impl\u001b[38;5;241m.\u001b[39mread(\n\u001b[0;32m    494\u001b[0m     path,\n\u001b[0;32m    495\u001b[0m     columns\u001b[38;5;241m=\u001b[39mcolumns,\n\u001b[0;32m    496\u001b[0m     storage_options\u001b[38;5;241m=\u001b[39mstorage_options,\n\u001b[0;32m    497\u001b[0m     use_nullable_dtypes\u001b[38;5;241m=\u001b[39muse_nullable_dtypes,\n\u001b[0;32m    498\u001b[0m     \u001b[38;5;241m*\u001b[39m\u001b[38;5;241m*\u001b[39mkwargs,\n\u001b[0;32m    499\u001b[0m )\n",
      "File \u001b[1;32m~\\Anaconda3\\envs\\tf_gpu\\lib\\site-packages\\pandas\\io\\parquet.py:233\u001b[0m, in \u001b[0;36mPyArrowImpl.read\u001b[1;34m(self, path, columns, use_nullable_dtypes, storage_options, **kwargs)\u001b[0m\n\u001b[0;32m    230\u001b[0m \u001b[38;5;28;01mif\u001b[39;00m manager \u001b[38;5;241m==\u001b[39m \u001b[38;5;124m\"\u001b[39m\u001b[38;5;124marray\u001b[39m\u001b[38;5;124m\"\u001b[39m:\n\u001b[0;32m    231\u001b[0m     to_pandas_kwargs[\u001b[38;5;124m\"\u001b[39m\u001b[38;5;124msplit_blocks\u001b[39m\u001b[38;5;124m\"\u001b[39m] \u001b[38;5;241m=\u001b[39m \u001b[38;5;28;01mTrue\u001b[39;00m  \u001b[38;5;66;03m# type: ignore[assignment]\u001b[39;00m\n\u001b[1;32m--> 233\u001b[0m path_or_handle, handles, kwargs[\u001b[38;5;124m\"\u001b[39m\u001b[38;5;124mfilesystem\u001b[39m\u001b[38;5;124m\"\u001b[39m] \u001b[38;5;241m=\u001b[39m \u001b[43m_get_path_or_handle\u001b[49m\u001b[43m(\u001b[49m\n\u001b[0;32m    234\u001b[0m \u001b[43m    \u001b[49m\u001b[43mpath\u001b[49m\u001b[43m,\u001b[49m\n\u001b[0;32m    235\u001b[0m \u001b[43m    \u001b[49m\u001b[43mkwargs\u001b[49m\u001b[38;5;241;43m.\u001b[39;49m\u001b[43mpop\u001b[49m\u001b[43m(\u001b[49m\u001b[38;5;124;43m\"\u001b[39;49m\u001b[38;5;124;43mfilesystem\u001b[39;49m\u001b[38;5;124;43m\"\u001b[39;49m\u001b[43m,\u001b[49m\u001b[43m \u001b[49m\u001b[38;5;28;43;01mNone\u001b[39;49;00m\u001b[43m)\u001b[49m\u001b[43m,\u001b[49m\n\u001b[0;32m    236\u001b[0m \u001b[43m    \u001b[49m\u001b[43mstorage_options\u001b[49m\u001b[38;5;241;43m=\u001b[39;49m\u001b[43mstorage_options\u001b[49m\u001b[43m,\u001b[49m\n\u001b[0;32m    237\u001b[0m \u001b[43m    \u001b[49m\u001b[43mmode\u001b[49m\u001b[38;5;241;43m=\u001b[39;49m\u001b[38;5;124;43m\"\u001b[39;49m\u001b[38;5;124;43mrb\u001b[39;49m\u001b[38;5;124;43m\"\u001b[39;49m\u001b[43m,\u001b[49m\n\u001b[0;32m    238\u001b[0m \u001b[43m\u001b[49m\u001b[43m)\u001b[49m\n\u001b[0;32m    239\u001b[0m \u001b[38;5;28;01mtry\u001b[39;00m:\n\u001b[0;32m    240\u001b[0m     result \u001b[38;5;241m=\u001b[39m \u001b[38;5;28mself\u001b[39m\u001b[38;5;241m.\u001b[39mapi\u001b[38;5;241m.\u001b[39mparquet\u001b[38;5;241m.\u001b[39mread_table(\n\u001b[0;32m    241\u001b[0m         path_or_handle, columns\u001b[38;5;241m=\u001b[39mcolumns, \u001b[38;5;241m*\u001b[39m\u001b[38;5;241m*\u001b[39mkwargs\n\u001b[0;32m    242\u001b[0m     )\u001b[38;5;241m.\u001b[39mto_pandas(\u001b[38;5;241m*\u001b[39m\u001b[38;5;241m*\u001b[39mto_pandas_kwargs)\n",
      "File \u001b[1;32m~\\Anaconda3\\envs\\tf_gpu\\lib\\site-packages\\pandas\\io\\parquet.py:102\u001b[0m, in \u001b[0;36m_get_path_or_handle\u001b[1;34m(path, fs, storage_options, mode, is_dir)\u001b[0m\n\u001b[0;32m     92\u001b[0m handles \u001b[38;5;241m=\u001b[39m \u001b[38;5;28;01mNone\u001b[39;00m\n\u001b[0;32m     93\u001b[0m \u001b[38;5;28;01mif\u001b[39;00m (\n\u001b[0;32m     94\u001b[0m     \u001b[38;5;129;01mnot\u001b[39;00m fs\n\u001b[0;32m     95\u001b[0m     \u001b[38;5;129;01mand\u001b[39;00m \u001b[38;5;129;01mnot\u001b[39;00m is_dir\n\u001b[1;32m   (...)\u001b[0m\n\u001b[0;32m    100\u001b[0m     \u001b[38;5;66;03m# fsspec resources can also point to directories\u001b[39;00m\n\u001b[0;32m    101\u001b[0m     \u001b[38;5;66;03m# this branch is used for example when reading from non-fsspec URLs\u001b[39;00m\n\u001b[1;32m--> 102\u001b[0m     handles \u001b[38;5;241m=\u001b[39m \u001b[43mget_handle\u001b[49m\u001b[43m(\u001b[49m\n\u001b[0;32m    103\u001b[0m \u001b[43m        \u001b[49m\u001b[43mpath_or_handle\u001b[49m\u001b[43m,\u001b[49m\u001b[43m \u001b[49m\u001b[43mmode\u001b[49m\u001b[43m,\u001b[49m\u001b[43m \u001b[49m\u001b[43mis_text\u001b[49m\u001b[38;5;241;43m=\u001b[39;49m\u001b[38;5;28;43;01mFalse\u001b[39;49;00m\u001b[43m,\u001b[49m\u001b[43m \u001b[49m\u001b[43mstorage_options\u001b[49m\u001b[38;5;241;43m=\u001b[39;49m\u001b[43mstorage_options\u001b[49m\n\u001b[0;32m    104\u001b[0m \u001b[43m    \u001b[49m\u001b[43m)\u001b[49m\n\u001b[0;32m    105\u001b[0m     fs \u001b[38;5;241m=\u001b[39m \u001b[38;5;28;01mNone\u001b[39;00m\n\u001b[0;32m    106\u001b[0m     path_or_handle \u001b[38;5;241m=\u001b[39m handles\u001b[38;5;241m.\u001b[39mhandle\n",
      "File \u001b[1;32m~\\Anaconda3\\envs\\tf_gpu\\lib\\site-packages\\pandas\\io\\common.py:795\u001b[0m, in \u001b[0;36mget_handle\u001b[1;34m(path_or_buf, mode, encoding, compression, memory_map, is_text, errors, storage_options)\u001b[0m\n\u001b[0;32m    786\u001b[0m         handle \u001b[38;5;241m=\u001b[39m \u001b[38;5;28mopen\u001b[39m(\n\u001b[0;32m    787\u001b[0m             handle,\n\u001b[0;32m    788\u001b[0m             ioargs\u001b[38;5;241m.\u001b[39mmode,\n\u001b[1;32m   (...)\u001b[0m\n\u001b[0;32m    791\u001b[0m             newline\u001b[38;5;241m=\u001b[39m\u001b[38;5;124m\"\u001b[39m\u001b[38;5;124m\"\u001b[39m,\n\u001b[0;32m    792\u001b[0m         )\n\u001b[0;32m    793\u001b[0m     \u001b[38;5;28;01melse\u001b[39;00m:\n\u001b[0;32m    794\u001b[0m         \u001b[38;5;66;03m# Binary mode\u001b[39;00m\n\u001b[1;32m--> 795\u001b[0m         handle \u001b[38;5;241m=\u001b[39m \u001b[38;5;28;43mopen\u001b[39;49m\u001b[43m(\u001b[49m\u001b[43mhandle\u001b[49m\u001b[43m,\u001b[49m\u001b[43m \u001b[49m\u001b[43mioargs\u001b[49m\u001b[38;5;241;43m.\u001b[39;49m\u001b[43mmode\u001b[49m\u001b[43m)\u001b[49m\n\u001b[0;32m    796\u001b[0m     handles\u001b[38;5;241m.\u001b[39mappend(handle)\n\u001b[0;32m    798\u001b[0m \u001b[38;5;66;03m# Convert BytesIO or file objects passed with an encoding\u001b[39;00m\n",
      "\u001b[1;31mFileNotFoundError\u001b[0m: [Errno 2] No such file or directory: 'data/ESTA_states_prepared.parquet'"
     ]
    }
   ],
   "source": [
    "df = pd.read_parquet('data/ESTA_states_prepared.parquet', columns=select_feat() + ['demoId', 'roundNum'])\n",
    "df"
   ]
  },
  {
   "cell_type": "code",
   "execution_count": null,
   "id": "770bba4a-7798-44f8-a9bd-9c29e6649eb2",
   "metadata": {},
   "outputs": [],
   "source": [
    "df.info()"
   ]
  },
  {
   "cell_type": "code",
   "execution_count": null,
   "id": "4578a3bd-6a13-4484-90ba-79d24522e6fa",
   "metadata": {},
   "outputs": [],
   "source": [
    "y = pd.read_parquet(\"data/ESTA_states_prepared.parquet\", columns=[\"winningSideCT\"])\n",
    "y = y.squeeze()\n",
    "y"
   ]
  },
  {
   "cell_type": "markdown",
   "id": "f64226fb-b737-464f-97ff-24fe76105cc8",
   "metadata": {
    "tags": []
   },
   "source": [
    "## Podział"
   ]
  },
  {
   "cell_type": "code",
   "execution_count": null,
   "id": "16915b23-4d82-4063-9eb5-6728b14fb42b",
   "metadata": {},
   "outputs": [],
   "source": [
    "groupped = df.groupby(['demoId', 'roundNum'])\n",
    "demo_indexes = groupped.indices\n",
    "for i in range(10):\n",
    "    print(i)\n",
    "    np.random.seed(i)\n",
    "    samples_indexes = [values[np.random.randint(1, values.size)]\n",
    "                      for key, values in demo_indexes.items()]\n",
    "    len(samples_indexes)\n",
    "\n",
    "    X = df.drop(['demoId', 'roundNum'], axis='columns').iloc[samples_indexes]\n",
    "    y = y.iloc[samples_indexes]\n",
    "    X.shape, y.shape\n",
    "\n",
    "    X_train, X_test, y_train, y_test = train_test_split(X, y, test_size=0.2, random_state=1)\n",
    "    X_train, X_val, y_train, y_val = train_test_split(X_train, y_train, test_size=0.125, random_state=1) # 0.125 x 0.8 = 0.1\n",
    "    X_train.shape, X_val.shape, X_test.shape\n",
    "\n",
    "    cols = X_train.columns.tolist()\n",
    "    scaler = StandardScaler()\n",
    "    norm_train = scaler.fit_transform(X_train)\n",
    "    norm_valid = scaler.transform(X_val)\n",
    "    norm_test = scaler.transform(X_test)\n",
    "\n",
    "    os.makedirs(\"model_deep\", exist_ok=True)\n",
    "\n",
    "    early_stopping = EarlyStopping(\n",
    "        monitor='val_loss',\n",
    "        min_delta=0.0001,\n",
    "        patience=30,\n",
    "        verbose=0,\n",
    "        mode='min',\n",
    "        baseline=None,\n",
    "        restore_best_weights=True,\n",
    "    )\n",
    "\n",
    "    model_checkpoint_callback = ModelCheckpoint(\n",
    "        filepath=\"model_deep/multi_layer.tf\",\n",
    "        monitor='val_loss',\n",
    "        mode='min',\n",
    "        save_best_only=True)\n",
    "\n",
    "    logger = CSVLogger(\n",
    "        \"model_deep/perceptron_log.csv\", separator=',', append=True\n",
    "    )\n",
    "\n",
    "    model = Sequential()\n",
    "    model.add(InputLayer(input_shape=(norm_train.shape[-1])))\n",
    "    model.add(Dense(512, activation='relu', kernel_regularizer='l2'))\n",
    "    model.add(Dense(256, activation='relu', kernel_regularizer='l2'))\n",
    "    model.add(Dense(1, activation='sigmoid', kernel_regularizer='l2'))\n",
    "\n",
    "    model.compile(optimizer=\"Adam\", loss=BinaryCrossentropy(), metrics=[BinaryAccuracy(), AUC()])\n",
    "    history = model.fit(x=norm_train,\n",
    "                        y=y_train,\n",
    "                        batch_size=2048,\n",
    "                        epochs=1000,\n",
    "                        validation_data=(norm_valid, y_val),\n",
    "                        callbacks=[early_stopping, model_checkpoint_callback, logger],\n",
    "                        verbose=0)\n",
    "\n",
    "    run_name = f\"Multi Layer Perceptron Complicated - ESTA #{i}\"\n",
    "    additional_description = \"Multi Layer Perceptron\"\n",
    "    with mlflow.start_run(run_name=run_name, description=additional_description) as run:\n",
    "            mlflow.log_param(\"X_train.shape\", norm_train.shape)\n",
    "            mlflow.log_param(\"X_test.shape\", norm_test.shape)\n",
    "\n",
    "            y_proba = model.predict(norm_test)\n",
    "            y_true = y_test\n",
    "            features_names = cols\n",
    "            metrics = {}\n",
    "            for threshold in np.arange(0.1, 1, 0.05):\n",
    "                y_pred = (y_proba >= threshold).astype(int)\n",
    "                metrics[f\"accuracy_{threshold:.2f}\"] = accuracy_score(y_true=y_true, y_pred=y_pred)\n",
    "                metrics[f\"precision_{threshold:.2f}\"] = precision_score(y_true=y_true, y_pred=y_pred)\n",
    "                metrics[f\"recall_{threshold:.2f}\"] = recall_score(y_true=y_true, y_pred=y_pred)\n",
    "                metrics[f\"f1_{threshold:.2f}\"] = f1_score(y_true=y_true, y_pred=y_pred)\n",
    "            metrics[\"roc_auc\"] = roc_auc_score(y_true=y_true, y_score=y_proba)\n",
    "            metrics[\"log_loss\"] = log_loss(y_true=y_true, y_pred=y_proba)\n",
    "            mlflow.log_metrics(metrics)\n",
    "\n",
    "            if os.path.exists('artifacts'):\n",
    "                shutil.rmtree('artifacts')\n",
    "                os.makedirs('artifacts')\n",
    "\n",
    "            if os.path.exists('models'):\n",
    "                shutil.rmtree('models')\n",
    "                os.makedirs('models')\n",
    "\n",
    "            with open(\"artifacts/features.txt\", 'w') as f:\n",
    "                f.write(str(features_names))\n",
    "\n",
    "            model.save('models/model.tf')\n",
    "\n",
    "            roc_plot = RocCurveDisplay.from_predictions(y_pred=y_proba, y_true=y_true)\n",
    "            roc_plot.figure_.savefig('artifacts/roc_auc.png')\n",
    "            plt.show()\n",
    "\n",
    "            calibration_curve = CalibrationDisplay.from_predictions(y_prob=y_proba, y_true=y_true, n_bins=10)\n",
    "            calibration_curve.figure_.savefig('artifacts/calibration_curve.png')\n",
    "            plt.show()\n",
    "\n",
    "            mlflow.log_artifacts(\"artifacts\", artifact_path=\"plots_data\")\n",
    "            mlflow.log_artifacts(\"models\", artifact_path=\"model\")\n",
    "\n",
    "    test_df = pd.read_parquet(\"data/states_another_mod_test.parquet\", columns=select_feat() + [\"filename\"])\n",
    "    past = test_df['filename'].str.startswith(\"IEM-Katowice\")\n",
    "    future = test_df['filename'].str.startswith(\"BLAST-Premier-Spring-Final-2022\")\n",
    "    test_y = pd.read_parquet(\"data/states_another_mod_test.parquet\", columns=[\"winningSideCT\"])\n",
    "    test_y = test_y.squeeze()\n",
    "    test_df.shape\n",
    "\n",
    "    test_set = test_df.drop(\"filename\", axis=\"columns\")\n",
    "    test_set = scaler.fit_transform(test_set)\n",
    "    test_set.shape\n",
    "\n",
    "    results = []\n",
    "    y_true = test_y\n",
    "    y_pred = model.predict(test_set)\n",
    "    results = {\n",
    "            \"LogLoss (all)\": log_loss(y_true, y_pred),\n",
    "            \"LogLoss (future)\": log_loss(y_true[future], y_pred[future]),\n",
    "            \"LogLoss (past)\": log_loss(y_true[past], y_pred[past]),\n",
    "            \"AUC-ROC (all)\": roc_auc_score(y_true, y_pred),\n",
    "            \"AUC-ROC (future)\": roc_auc_score(y_true[future], y_pred[future]),\n",
    "            \"AUC-ROC (past)\": roc_auc_score(y_true[past], y_pred[past])\n",
    "    }\n",
    "    results"
   ]
  },
  {
   "cell_type": "markdown",
   "id": "12e88ff3-b04d-4898-ac85-45472c8c937b",
   "metadata": {
    "tags": []
   },
   "source": [
    "# Większy sampling"
   ]
  },
  {
   "cell_type": "markdown",
   "id": "03dcc095-9b6c-41d6-a698-deb14029bc7a",
   "metadata": {
    "tags": []
   },
   "source": [
    "## Podział"
   ]
  },
  {
   "cell_type": "code",
   "execution_count": 19,
   "id": "68dd7a9d-1ab1-49e9-808d-ef2e39d70112",
   "metadata": {
    "tags": []
   },
   "outputs": [
    {
     "data": {
      "text/plain": [
       "41074"
      ]
     },
     "execution_count": 19,
     "metadata": {},
     "output_type": "execute_result"
    }
   ],
   "source": [
    "groupped = df.groupby(['demoId', 'roundNum'])\n",
    "demo_indexes = groupped.indices\n",
    "np.random.seed(25)\n",
    "how_many = 10\n",
    "samples_indexes = {key: [values[np.random.randint(1, values.size)]\n",
    "                   for i in range(how_many)]\n",
    "                      for key, values in demo_indexes.items()}\n",
    "len(samples_indexes)"
   ]
  },
  {
   "cell_type": "code",
   "execution_count": 20,
   "id": "2f135329-c825-4dcc-987d-d70b05904b2b",
   "metadata": {},
   "outputs": [
    {
     "data": {
      "text/plain": [
       "(82150,)"
      ]
     },
     "execution_count": 20,
     "metadata": {},
     "output_type": "execute_result"
    }
   ],
   "source": [
    "maps = len(samples_indexes.keys())\n",
    "np.random.seed(12)\n",
    "train_ind = np.random.choice(maps, size=int(0.8*maps), replace=False)\n",
    "train_indexes = np.array([])\n",
    "test_indexes = np.array([])\n",
    "for i, key in enumerate(samples_indexes):\n",
    "    if i not in train_ind:\n",
    "        test_indexes = np.concatenate((test_indexes, samples_indexes[key]))\n",
    "\n",
    "test_indexes.shape"
   ]
  },
  {
   "cell_type": "code",
   "execution_count": 21,
   "id": "bc690285-b12b-4b69-8b1f-7ddd6413226b",
   "metadata": {},
   "outputs": [
    {
     "data": {
      "text/plain": [
       "((287510,), (123230,))"
      ]
     },
     "execution_count": 21,
     "metadata": {},
     "output_type": "execute_result"
    }
   ],
   "source": [
    "maps = len(samples_indexes.keys())\n",
    "np.random.seed(12)\n",
    "train_ind = np.random.choice(train_ind, size=int(0.875*train_ind.size), replace=False)\n",
    "train_indexes = np.array([])\n",
    "valid_indexes = np.array([])\n",
    "for i, key in enumerate(samples_indexes):\n",
    "    if i in train_ind:\n",
    "        train_indexes = np.concatenate((train_indexes, samples_indexes[key]))\n",
    "    else:\n",
    "        valid_indexes = np.concatenate((valid_indexes, samples_indexes[key]))\n",
    "\n",
    "train_indexes.shape, valid_indexes.shape"
   ]
  },
  {
   "cell_type": "code",
   "execution_count": 22,
   "id": "07b2b76b-494a-496c-bc11-27c9879f441a",
   "metadata": {},
   "outputs": [],
   "source": [
    "X = df.drop(['demoId', 'roundNum'], axis='columns')\n",
    "y = pd.read_parquet(\"data/ESTA_states_prepared.parquet\", columns=[\"winningSideCT\"])\n",
    "y = y.squeeze()"
   ]
  },
  {
   "cell_type": "code",
   "execution_count": 23,
   "id": "a260ed62-99af-4ff5-85a1-17f279989642",
   "metadata": {},
   "outputs": [
    {
     "data": {
      "text/plain": [
       "1    3875902\n",
       "0    3588396\n",
       "Name: winningSideCT, dtype: int64"
      ]
     },
     "execution_count": 23,
     "metadata": {},
     "output_type": "execute_result"
    }
   ],
   "source": [
    "y.value_counts()"
   ]
  },
  {
   "cell_type": "code",
   "execution_count": 24,
   "id": "db59536e-d7a8-4d48-a178-ab98c7d1747e",
   "metadata": {},
   "outputs": [
    {
     "data": {
      "text/plain": [
       "((287510, 99), (123230, 99), (82150, 99))"
      ]
     },
     "execution_count": 24,
     "metadata": {},
     "output_type": "execute_result"
    }
   ],
   "source": [
    "X_train, X_test, y_train, y_test = X.iloc[train_indexes], X.iloc[test_indexes], y.iloc[train_indexes], y.iloc[test_indexes]\n",
    "X_val, y_val = X.iloc[valid_indexes], y.iloc[valid_indexes]\n",
    "X_train.shape, X_val.shape, X_test.shape"
   ]
  },
  {
   "cell_type": "code",
   "execution_count": 25,
   "id": "bf46fe0b-cfd7-47ae-ba2a-fb72eecd7590",
   "metadata": {},
   "outputs": [],
   "source": [
    "cols = X_train.columns.tolist()\n",
    "scaler = StandardScaler()\n",
    "norm_train = scaler.fit_transform(X_train)\n",
    "norm_valid = scaler.transform(X_val)\n",
    "norm_test = scaler.transform(X_test)"
   ]
  },
  {
   "cell_type": "code",
   "execution_count": 26,
   "id": "a5f13c67-8c9d-4c34-8995-91decdd5b6c5",
   "metadata": {},
   "outputs": [],
   "source": [
    "os.makedirs(\"model_deep\", exist_ok=True)"
   ]
  },
  {
   "cell_type": "code",
   "execution_count": 27,
   "id": "aabd6e0d-13b8-4c3e-b311-abaa9fb544bd",
   "metadata": {},
   "outputs": [],
   "source": [
    "early_stopping = EarlyStopping(\n",
    "    monitor='val_loss',\n",
    "    min_delta=0.0001,\n",
    "    patience=30,\n",
    "    verbose=0,\n",
    "    mode='min',\n",
    "    baseline=None,\n",
    "    restore_best_weights=True,\n",
    ")\n",
    "\n",
    "model_checkpoint_callback = ModelCheckpoint(\n",
    "    filepath=\"model_deep/multi_layer.tf\",\n",
    "    monitor='val_loss',\n",
    "    mode='min',\n",
    "    save_best_only=True)\n",
    "\n",
    "logger = CSVLogger(\n",
    "    \"model_deep/perceptron_log.csv\", separator=',', append=True\n",
    ")"
   ]
  },
  {
   "cell_type": "code",
   "execution_count": 28,
   "id": "8cc41789-d990-4e0b-ac59-e65fe4c181c6",
   "metadata": {
    "tags": []
   },
   "outputs": [
    {
     "name": "stdout",
     "output_type": "stream",
     "text": [
      "Epoch 1/1000\n",
      "141/141 [==============================] - 1s 6ms/step - loss: 1.5609 - binary_accuracy: 0.7788 - auc_1: 0.8746 - val_loss: 0.4870 - val_binary_accuracy: 0.7817 - val_auc_1: 0.8766\n",
      "INFO:tensorflow:Assets written to: model_deep\\multi_layer.tf\\assets\n",
      "Epoch 2/1000\n",
      "141/141 [==============================] - 1s 4ms/step - loss: 0.4674 - binary_accuracy: 0.7833 - auc_1: 0.8793 - val_loss: 0.4681 - val_binary_accuracy: 0.7806 - val_auc_1: 0.8763\n",
      "INFO:tensorflow:Assets written to: model_deep\\multi_layer.tf\\assets\n",
      "Epoch 3/1000\n",
      "141/141 [==============================] - 1s 4ms/step - loss: 0.4623 - binary_accuracy: 0.7824 - auc_1: 0.8786 - val_loss: 0.4666 - val_binary_accuracy: 0.7798 - val_auc_1: 0.8750\n",
      "INFO:tensorflow:Assets written to: model_deep\\multi_layer.tf\\assets\n",
      "Epoch 4/1000\n",
      "141/141 [==============================] - 1s 5ms/step - loss: 0.4606 - binary_accuracy: 0.7826 - auc_1: 0.8787 - val_loss: 0.4657 - val_binary_accuracy: 0.7808 - val_auc_1: 0.8766\n",
      "INFO:tensorflow:Assets written to: model_deep\\multi_layer.tf\\assets\n",
      "Epoch 5/1000\n",
      "141/141 [==============================] - 1s 4ms/step - loss: 0.4594 - binary_accuracy: 0.7821 - auc_1: 0.8788 - val_loss: 0.4641 - val_binary_accuracy: 0.7805 - val_auc_1: 0.8764\n",
      "INFO:tensorflow:Assets written to: model_deep\\multi_layer.tf\\assets\n",
      "Epoch 6/1000\n",
      "141/141 [==============================] - 1s 4ms/step - loss: 0.4594 - binary_accuracy: 0.7819 - auc_1: 0.8784 - val_loss: 0.4631 - val_binary_accuracy: 0.7800 - val_auc_1: 0.8762\n",
      "INFO:tensorflow:Assets written to: model_deep\\multi_layer.tf\\assets\n",
      "Epoch 7/1000\n",
      "141/141 [==============================] - 1s 4ms/step - loss: 0.4588 - binary_accuracy: 0.7821 - auc_1: 0.8785 - val_loss: 0.4625 - val_binary_accuracy: 0.7812 - val_auc_1: 0.8766\n",
      "INFO:tensorflow:Assets written to: model_deep\\multi_layer.tf\\assets\n",
      "Epoch 8/1000\n",
      "141/141 [==============================] - 1s 4ms/step - loss: 0.4581 - binary_accuracy: 0.7822 - auc_1: 0.8786 - val_loss: 0.4624 - val_binary_accuracy: 0.7786 - val_auc_1: 0.8757\n",
      "INFO:tensorflow:Assets written to: model_deep\\multi_layer.tf\\assets\n",
      "Epoch 9/1000\n",
      "141/141 [==============================] - 1s 4ms/step - loss: 0.4585 - binary_accuracy: 0.7820 - auc_1: 0.8782 - val_loss: 0.4680 - val_binary_accuracy: 0.7777 - val_auc_1: 0.8760\n",
      "Epoch 10/1000\n",
      "141/141 [==============================] - 1s 4ms/step - loss: 0.4580 - binary_accuracy: 0.7824 - auc_1: 0.8785 - val_loss: 0.4635 - val_binary_accuracy: 0.7803 - val_auc_1: 0.8760\n",
      "Epoch 11/1000\n",
      "141/141 [==============================] - 1s 4ms/step - loss: 0.4577 - binary_accuracy: 0.7822 - auc_1: 0.8785 - val_loss: 0.4642 - val_binary_accuracy: 0.7797 - val_auc_1: 0.8751\n",
      "Epoch 12/1000\n",
      "141/141 [==============================] - 1s 4ms/step - loss: 0.4574 - binary_accuracy: 0.7824 - auc_1: 0.8786 - val_loss: 0.4626 - val_binary_accuracy: 0.7807 - val_auc_1: 0.8756\n",
      "Epoch 13/1000\n",
      "141/141 [==============================] - 1s 4ms/step - loss: 0.4570 - binary_accuracy: 0.7826 - auc_1: 0.8788 - val_loss: 0.4621 - val_binary_accuracy: 0.7802 - val_auc_1: 0.8759\n",
      "INFO:tensorflow:Assets written to: model_deep\\multi_layer.tf\\assets\n",
      "Epoch 14/1000\n",
      "141/141 [==============================] - 1s 4ms/step - loss: 0.4573 - binary_accuracy: 0.7817 - auc_1: 0.8785 - val_loss: 0.4620 - val_binary_accuracy: 0.7804 - val_auc_1: 0.8761\n",
      "INFO:tensorflow:Assets written to: model_deep\\multi_layer.tf\\assets\n",
      "Epoch 15/1000\n",
      "141/141 [==============================] - 1s 4ms/step - loss: 0.4576 - binary_accuracy: 0.7819 - auc_1: 0.8783 - val_loss: 0.4612 - val_binary_accuracy: 0.7813 - val_auc_1: 0.8765\n",
      "INFO:tensorflow:Assets written to: model_deep\\multi_layer.tf\\assets\n",
      "Epoch 16/1000\n",
      "141/141 [==============================] - 1s 4ms/step - loss: 0.4570 - binary_accuracy: 0.7822 - auc_1: 0.8787 - val_loss: 0.4629 - val_binary_accuracy: 0.7809 - val_auc_1: 0.8762\n",
      "Epoch 17/1000\n",
      "141/141 [==============================] - 1s 4ms/step - loss: 0.4569 - binary_accuracy: 0.7822 - auc_1: 0.8786 - val_loss: 0.4643 - val_binary_accuracy: 0.7785 - val_auc_1: 0.8755\n",
      "Epoch 18/1000\n",
      "141/141 [==============================] - 1s 5ms/step - loss: 0.4565 - binary_accuracy: 0.7825 - auc_1: 0.8788 - val_loss: 0.4618 - val_binary_accuracy: 0.7792 - val_auc_1: 0.8755\n",
      "Epoch 19/1000\n",
      "141/141 [==============================] - 1s 4ms/step - loss: 0.4568 - binary_accuracy: 0.7820 - auc_1: 0.8785 - val_loss: 0.4619 - val_binary_accuracy: 0.7801 - val_auc_1: 0.8763\n",
      "Epoch 20/1000\n",
      "141/141 [==============================] - 1s 5ms/step - loss: 0.4570 - binary_accuracy: 0.7822 - auc_1: 0.8784 - val_loss: 0.4635 - val_binary_accuracy: 0.7770 - val_auc_1: 0.8737\n",
      "Epoch 21/1000\n",
      "141/141 [==============================] - 1s 5ms/step - loss: 0.4562 - binary_accuracy: 0.7827 - auc_1: 0.8788 - val_loss: 0.4619 - val_binary_accuracy: 0.7798 - val_auc_1: 0.8765\n",
      "Epoch 22/1000\n",
      "141/141 [==============================] - 1s 4ms/step - loss: 0.4569 - binary_accuracy: 0.7820 - auc_1: 0.8785 - val_loss: 0.4627 - val_binary_accuracy: 0.7798 - val_auc_1: 0.8757\n",
      "Epoch 23/1000\n",
      "141/141 [==============================] - 1s 4ms/step - loss: 0.4568 - binary_accuracy: 0.7826 - auc_1: 0.8786 - val_loss: 0.4624 - val_binary_accuracy: 0.7785 - val_auc_1: 0.8754\n",
      "Epoch 24/1000\n",
      "141/141 [==============================] - 1s 4ms/step - loss: 0.4565 - binary_accuracy: 0.7820 - auc_1: 0.8786 - val_loss: 0.4601 - val_binary_accuracy: 0.7808 - val_auc_1: 0.8764\n",
      "INFO:tensorflow:Assets written to: model_deep\\multi_layer.tf\\assets\n",
      "Epoch 25/1000\n",
      "141/141 [==============================] - 1s 4ms/step - loss: 0.4559 - binary_accuracy: 0.7827 - auc_1: 0.8790 - val_loss: 0.4622 - val_binary_accuracy: 0.7795 - val_auc_1: 0.8759\n",
      "Epoch 26/1000\n",
      "141/141 [==============================] - 1s 4ms/step - loss: 0.4561 - binary_accuracy: 0.7821 - auc_1: 0.8788 - val_loss: 0.4613 - val_binary_accuracy: 0.7809 - val_auc_1: 0.8765\n",
      "Epoch 27/1000\n",
      "141/141 [==============================] - 1s 4ms/step - loss: 0.4564 - binary_accuracy: 0.7822 - auc_1: 0.8786 - val_loss: 0.4614 - val_binary_accuracy: 0.7779 - val_auc_1: 0.8757\n",
      "Epoch 28/1000\n",
      "141/141 [==============================] - 1s 4ms/step - loss: 0.4565 - binary_accuracy: 0.7820 - auc_1: 0.8785 - val_loss: 0.4641 - val_binary_accuracy: 0.7790 - val_auc_1: 0.8761\n",
      "Epoch 29/1000\n",
      "141/141 [==============================] - 1s 4ms/step - loss: 0.4560 - binary_accuracy: 0.7826 - auc_1: 0.8789 - val_loss: 0.4614 - val_binary_accuracy: 0.7752 - val_auc_1: 0.8755\n",
      "Epoch 30/1000\n",
      "141/141 [==============================] - 1s 4ms/step - loss: 0.4557 - binary_accuracy: 0.7825 - auc_1: 0.8789 - val_loss: 0.4623 - val_binary_accuracy: 0.7794 - val_auc_1: 0.8747\n",
      "Epoch 31/1000\n",
      "141/141 [==============================] - 1s 5ms/step - loss: 0.4558 - binary_accuracy: 0.7826 - auc_1: 0.8789 - val_loss: 0.4655 - val_binary_accuracy: 0.7797 - val_auc_1: 0.8760\n",
      "Epoch 32/1000\n",
      "141/141 [==============================] - 1s 4ms/step - loss: 0.4558 - binary_accuracy: 0.7825 - auc_1: 0.8789 - val_loss: 0.4615 - val_binary_accuracy: 0.7803 - val_auc_1: 0.8765\n",
      "Epoch 33/1000\n",
      "141/141 [==============================] - 1s 4ms/step - loss: 0.4557 - binary_accuracy: 0.7831 - auc_1: 0.8791 - val_loss: 0.4612 - val_binary_accuracy: 0.7797 - val_auc_1: 0.8760\n",
      "Epoch 34/1000\n",
      "141/141 [==============================] - 1s 5ms/step - loss: 0.4559 - binary_accuracy: 0.7823 - auc_1: 0.8789 - val_loss: 0.4601 - val_binary_accuracy: 0.7807 - val_auc_1: 0.8764\n",
      "INFO:tensorflow:Assets written to: model_deep\\multi_layer.tf\\assets\n",
      "Epoch 35/1000\n",
      "141/141 [==============================] - 1s 4ms/step - loss: 0.4561 - binary_accuracy: 0.7823 - auc_1: 0.8787 - val_loss: 0.4627 - val_binary_accuracy: 0.7784 - val_auc_1: 0.8754\n",
      "Epoch 36/1000\n",
      "141/141 [==============================] - 1s 4ms/step - loss: 0.4559 - binary_accuracy: 0.7822 - auc_1: 0.8788 - val_loss: 0.4610 - val_binary_accuracy: 0.7787 - val_auc_1: 0.8761\n",
      "Epoch 37/1000\n",
      "141/141 [==============================] - 1s 5ms/step - loss: 0.4559 - binary_accuracy: 0.7829 - auc_1: 0.8788 - val_loss: 0.4609 - val_binary_accuracy: 0.7800 - val_auc_1: 0.8758\n",
      "Epoch 38/1000\n",
      "141/141 [==============================] - 1s 5ms/step - loss: 0.4559 - binary_accuracy: 0.7822 - auc_1: 0.8787 - val_loss: 0.4612 - val_binary_accuracy: 0.7793 - val_auc_1: 0.8759\n",
      "Epoch 39/1000\n",
      "141/141 [==============================] - 1s 4ms/step - loss: 0.4560 - binary_accuracy: 0.7822 - auc_1: 0.8788 - val_loss: 0.4608 - val_binary_accuracy: 0.7815 - val_auc_1: 0.8760\n",
      "Epoch 40/1000\n",
      "141/141 [==============================] - 1s 5ms/step - loss: 0.4556 - binary_accuracy: 0.7823 - auc_1: 0.8789 - val_loss: 0.4657 - val_binary_accuracy: 0.7779 - val_auc_1: 0.8764\n",
      "Epoch 41/1000\n",
      "141/141 [==============================] - 1s 5ms/step - loss: 0.4555 - binary_accuracy: 0.7823 - auc_1: 0.8790 - val_loss: 0.4615 - val_binary_accuracy: 0.7794 - val_auc_1: 0.8752\n",
      "Epoch 42/1000\n",
      "141/141 [==============================] - 1s 4ms/step - loss: 0.4559 - binary_accuracy: 0.7822 - auc_1: 0.8786 - val_loss: 0.4621 - val_binary_accuracy: 0.7770 - val_auc_1: 0.8752\n",
      "Epoch 43/1000\n",
      "141/141 [==============================] - 1s 4ms/step - loss: 0.4559 - binary_accuracy: 0.7828 - auc_1: 0.8788 - val_loss: 0.4613 - val_binary_accuracy: 0.7795 - val_auc_1: 0.8765\n",
      "Epoch 44/1000\n",
      "141/141 [==============================] - 1s 4ms/step - loss: 0.4554 - binary_accuracy: 0.7825 - auc_1: 0.8790 - val_loss: 0.4625 - val_binary_accuracy: 0.7749 - val_auc_1: 0.8759\n",
      "Epoch 45/1000\n",
      "141/141 [==============================] - 1s 4ms/step - loss: 0.4555 - binary_accuracy: 0.7827 - auc_1: 0.8789 - val_loss: 0.4635 - val_binary_accuracy: 0.7754 - val_auc_1: 0.8761\n",
      "Epoch 46/1000\n",
      "141/141 [==============================] - 1s 4ms/step - loss: 0.4554 - binary_accuracy: 0.7825 - auc_1: 0.8790 - val_loss: 0.4599 - val_binary_accuracy: 0.7806 - val_auc_1: 0.8761\n",
      "INFO:tensorflow:Assets written to: model_deep\\multi_layer.tf\\assets\n",
      "Epoch 47/1000\n",
      "141/141 [==============================] - 1s 4ms/step - loss: 0.4549 - binary_accuracy: 0.7829 - auc_1: 0.8793 - val_loss: 0.4615 - val_binary_accuracy: 0.7777 - val_auc_1: 0.8752\n",
      "Epoch 48/1000\n",
      "141/141 [==============================] - 1s 4ms/step - loss: 0.4558 - binary_accuracy: 0.7820 - auc_1: 0.8788 - val_loss: 0.4599 - val_binary_accuracy: 0.7808 - val_auc_1: 0.8766\n",
      "INFO:tensorflow:Assets written to: model_deep\\multi_layer.tf\\assets\n",
      "Epoch 49/1000\n",
      "141/141 [==============================] - 1s 5ms/step - loss: 0.4550 - binary_accuracy: 0.7827 - auc_1: 0.8793 - val_loss: 0.4604 - val_binary_accuracy: 0.7801 - val_auc_1: 0.8764\n",
      "Epoch 50/1000\n",
      "141/141 [==============================] - 1s 5ms/step - loss: 0.4555 - binary_accuracy: 0.7826 - auc_1: 0.8790 - val_loss: 0.4630 - val_binary_accuracy: 0.7794 - val_auc_1: 0.8760\n",
      "Epoch 51/1000\n",
      "141/141 [==============================] - 1s 4ms/step - loss: 0.4558 - binary_accuracy: 0.7821 - auc_1: 0.8787 - val_loss: 0.4622 - val_binary_accuracy: 0.7805 - val_auc_1: 0.8759\n",
      "Epoch 52/1000\n",
      "141/141 [==============================] - 1s 4ms/step - loss: 0.4548 - binary_accuracy: 0.7828 - auc_1: 0.8793 - val_loss: 0.4605 - val_binary_accuracy: 0.7805 - val_auc_1: 0.8762\n",
      "Epoch 53/1000\n",
      "141/141 [==============================] - 1s 4ms/step - loss: 0.4549 - binary_accuracy: 0.7828 - auc_1: 0.8793 - val_loss: 0.4606 - val_binary_accuracy: 0.7805 - val_auc_1: 0.8758\n",
      "Epoch 54/1000\n",
      "141/141 [==============================] - 1s 5ms/step - loss: 0.4549 - binary_accuracy: 0.7830 - auc_1: 0.8791 - val_loss: 0.4596 - val_binary_accuracy: 0.7807 - val_auc_1: 0.8766\n",
      "INFO:tensorflow:Assets written to: model_deep\\multi_layer.tf\\assets\n",
      "Epoch 55/1000\n",
      "141/141 [==============================] - 1s 4ms/step - loss: 0.4553 - binary_accuracy: 0.7825 - auc_1: 0.8789 - val_loss: 0.4608 - val_binary_accuracy: 0.7777 - val_auc_1: 0.8756\n",
      "Epoch 56/1000\n",
      "141/141 [==============================] - 1s 5ms/step - loss: 0.4551 - binary_accuracy: 0.7827 - auc_1: 0.8791 - val_loss: 0.4606 - val_binary_accuracy: 0.7795 - val_auc_1: 0.8761\n",
      "Epoch 57/1000\n",
      "141/141 [==============================] - 1s 4ms/step - loss: 0.4554 - binary_accuracy: 0.7822 - auc_1: 0.8789 - val_loss: 0.4613 - val_binary_accuracy: 0.7798 - val_auc_1: 0.8757\n",
      "Epoch 58/1000\n",
      "141/141 [==============================] - 1s 4ms/step - loss: 0.4549 - binary_accuracy: 0.7828 - auc_1: 0.8791 - val_loss: 0.4619 - val_binary_accuracy: 0.7755 - val_auc_1: 0.8762\n",
      "Epoch 59/1000\n",
      "141/141 [==============================] - 1s 5ms/step - loss: 0.4556 - binary_accuracy: 0.7821 - auc_1: 0.8787 - val_loss: 0.4610 - val_binary_accuracy: 0.7803 - val_auc_1: 0.8766\n",
      "Epoch 60/1000\n",
      "141/141 [==============================] - 1s 5ms/step - loss: 0.4551 - binary_accuracy: 0.7824 - auc_1: 0.8790 - val_loss: 0.4623 - val_binary_accuracy: 0.7798 - val_auc_1: 0.8763\n",
      "Epoch 61/1000\n",
      "141/141 [==============================] - 1s 5ms/step - loss: 0.4548 - binary_accuracy: 0.7831 - auc_1: 0.8793 - val_loss: 0.4604 - val_binary_accuracy: 0.7801 - val_auc_1: 0.8762\n",
      "Epoch 62/1000\n",
      "141/141 [==============================] - 1s 5ms/step - loss: 0.4549 - binary_accuracy: 0.7826 - auc_1: 0.8791 - val_loss: 0.4629 - val_binary_accuracy: 0.7762 - val_auc_1: 0.8763\n",
      "Epoch 63/1000\n",
      "141/141 [==============================] - 1s 5ms/step - loss: 0.4552 - binary_accuracy: 0.7825 - auc_1: 0.8790 - val_loss: 0.4601 - val_binary_accuracy: 0.7800 - val_auc_1: 0.8758\n",
      "Epoch 64/1000\n",
      "141/141 [==============================] - 1s 5ms/step - loss: 0.4553 - binary_accuracy: 0.7823 - auc_1: 0.8789 - val_loss: 0.4644 - val_binary_accuracy: 0.7786 - val_auc_1: 0.8762\n",
      "Epoch 65/1000\n",
      "141/141 [==============================] - 1s 5ms/step - loss: 0.4548 - binary_accuracy: 0.7831 - auc_1: 0.8793 - val_loss: 0.4600 - val_binary_accuracy: 0.7801 - val_auc_1: 0.8762\n",
      "Epoch 66/1000\n",
      "141/141 [==============================] - 1s 5ms/step - loss: 0.4553 - binary_accuracy: 0.7818 - auc_1: 0.8788 - val_loss: 0.4592 - val_binary_accuracy: 0.7800 - val_auc_1: 0.8764\n",
      "INFO:tensorflow:Assets written to: model_deep\\multi_layer.tf\\assets\n",
      "Epoch 67/1000\n",
      "141/141 [==============================] - 1s 4ms/step - loss: 0.4551 - binary_accuracy: 0.7825 - auc_1: 0.8790 - val_loss: 0.4597 - val_binary_accuracy: 0.7816 - val_auc_1: 0.8762\n",
      "Epoch 68/1000\n",
      "141/141 [==============================] - 1s 4ms/step - loss: 0.4551 - binary_accuracy: 0.7823 - auc_1: 0.8790 - val_loss: 0.4622 - val_binary_accuracy: 0.7803 - val_auc_1: 0.8766\n",
      "Epoch 69/1000\n",
      "141/141 [==============================] - 1s 4ms/step - loss: 0.4546 - binary_accuracy: 0.7830 - auc_1: 0.8793 - val_loss: 0.4600 - val_binary_accuracy: 0.7796 - val_auc_1: 0.8761\n",
      "Epoch 70/1000\n",
      "141/141 [==============================] - 1s 4ms/step - loss: 0.4546 - binary_accuracy: 0.7830 - auc_1: 0.8794 - val_loss: 0.4610 - val_binary_accuracy: 0.7767 - val_auc_1: 0.8757\n",
      "Epoch 71/1000\n",
      "141/141 [==============================] - 1s 5ms/step - loss: 0.4544 - binary_accuracy: 0.7834 - auc_1: 0.8795 - val_loss: 0.4611 - val_binary_accuracy: 0.7792 - val_auc_1: 0.8760\n",
      "Epoch 72/1000\n",
      "141/141 [==============================] - 1s 4ms/step - loss: 0.4549 - binary_accuracy: 0.7823 - auc_1: 0.8790 - val_loss: 0.4611 - val_binary_accuracy: 0.7778 - val_auc_1: 0.8764\n",
      "Epoch 73/1000\n",
      "141/141 [==============================] - 1s 5ms/step - loss: 0.4549 - binary_accuracy: 0.7825 - auc_1: 0.8791 - val_loss: 0.4595 - val_binary_accuracy: 0.7811 - val_auc_1: 0.8764\n",
      "Epoch 74/1000\n",
      "141/141 [==============================] - 1s 4ms/step - loss: 0.4548 - binary_accuracy: 0.7830 - auc_1: 0.8791 - val_loss: 0.4598 - val_binary_accuracy: 0.7792 - val_auc_1: 0.8759\n",
      "Epoch 75/1000\n",
      "141/141 [==============================] - 1s 4ms/step - loss: 0.4545 - binary_accuracy: 0.7832 - auc_1: 0.8794 - val_loss: 0.4605 - val_binary_accuracy: 0.7795 - val_auc_1: 0.8760\n",
      "Epoch 76/1000\n",
      "141/141 [==============================] - 1s 4ms/step - loss: 0.4546 - binary_accuracy: 0.7830 - auc_1: 0.8792 - val_loss: 0.4595 - val_binary_accuracy: 0.7805 - val_auc_1: 0.8763\n",
      "Epoch 77/1000\n",
      "141/141 [==============================] - 1s 5ms/step - loss: 0.4545 - binary_accuracy: 0.7825 - auc_1: 0.8793 - val_loss: 0.4595 - val_binary_accuracy: 0.7809 - val_auc_1: 0.8764\n",
      "Epoch 78/1000\n",
      "141/141 [==============================] - 1s 5ms/step - loss: 0.4546 - binary_accuracy: 0.7826 - auc_1: 0.8792 - val_loss: 0.4599 - val_binary_accuracy: 0.7811 - val_auc_1: 0.8762\n",
      "Epoch 79/1000\n",
      "141/141 [==============================] - 1s 4ms/step - loss: 0.4545 - binary_accuracy: 0.7827 - auc_1: 0.8793 - val_loss: 0.4604 - val_binary_accuracy: 0.7789 - val_auc_1: 0.8763\n",
      "Epoch 80/1000\n",
      "141/141 [==============================] - 1s 5ms/step - loss: 0.4546 - binary_accuracy: 0.7827 - auc_1: 0.8792 - val_loss: 0.4603 - val_binary_accuracy: 0.7793 - val_auc_1: 0.8760\n",
      "Epoch 81/1000\n",
      "141/141 [==============================] - 1s 5ms/step - loss: 0.4547 - binary_accuracy: 0.7825 - auc_1: 0.8792 - val_loss: 0.4609 - val_binary_accuracy: 0.7786 - val_auc_1: 0.8755\n",
      "Epoch 82/1000\n",
      "141/141 [==============================] - 1s 4ms/step - loss: 0.4550 - binary_accuracy: 0.7825 - auc_1: 0.8789 - val_loss: 0.4611 - val_binary_accuracy: 0.7786 - val_auc_1: 0.8757\n",
      "Epoch 83/1000\n",
      "141/141 [==============================] - 1s 4ms/step - loss: 0.4542 - binary_accuracy: 0.7831 - auc_1: 0.8794 - val_loss: 0.4605 - val_binary_accuracy: 0.7791 - val_auc_1: 0.8757\n",
      "Epoch 84/1000\n",
      "141/141 [==============================] - 1s 5ms/step - loss: 0.4547 - binary_accuracy: 0.7824 - auc_1: 0.8791 - val_loss: 0.4601 - val_binary_accuracy: 0.7798 - val_auc_1: 0.8764\n",
      "Epoch 85/1000\n",
      "141/141 [==============================] - 1s 5ms/step - loss: 0.4547 - binary_accuracy: 0.7829 - auc_1: 0.8792 - val_loss: 0.4607 - val_binary_accuracy: 0.7797 - val_auc_1: 0.8759\n",
      "Epoch 86/1000\n",
      "141/141 [==============================] - 1s 4ms/step - loss: 0.4547 - binary_accuracy: 0.7825 - auc_1: 0.8791 - val_loss: 0.4602 - val_binary_accuracy: 0.7790 - val_auc_1: 0.8755\n",
      "Epoch 87/1000\n",
      "141/141 [==============================] - 1s 4ms/step - loss: 0.4545 - binary_accuracy: 0.7829 - auc_1: 0.8792 - val_loss: 0.4621 - val_binary_accuracy: 0.7800 - val_auc_1: 0.8764\n",
      "Epoch 88/1000\n",
      "141/141 [==============================] - 1s 5ms/step - loss: 0.4547 - binary_accuracy: 0.7824 - auc_1: 0.8791 - val_loss: 0.4605 - val_binary_accuracy: 0.7796 - val_auc_1: 0.8759\n",
      "Epoch 89/1000\n",
      "141/141 [==============================] - 1s 5ms/step - loss: 0.4545 - binary_accuracy: 0.7829 - auc_1: 0.8793 - val_loss: 0.4593 - val_binary_accuracy: 0.7814 - val_auc_1: 0.8763\n",
      "Epoch 90/1000\n",
      "141/141 [==============================] - 1s 5ms/step - loss: 0.4543 - binary_accuracy: 0.7826 - auc_1: 0.8794 - val_loss: 0.4600 - val_binary_accuracy: 0.7799 - val_auc_1: 0.8763\n",
      "Epoch 91/1000\n",
      "141/141 [==============================] - 1s 5ms/step - loss: 0.4545 - binary_accuracy: 0.7826 - auc_1: 0.8792 - val_loss: 0.4609 - val_binary_accuracy: 0.7798 - val_auc_1: 0.8761\n",
      "Epoch 92/1000\n",
      "141/141 [==============================] - 1s 5ms/step - loss: 0.4545 - binary_accuracy: 0.7828 - auc_1: 0.8792 - val_loss: 0.4628 - val_binary_accuracy: 0.7794 - val_auc_1: 0.8750\n",
      "Epoch 93/1000\n",
      "141/141 [==============================] - 1s 5ms/step - loss: 0.4543 - binary_accuracy: 0.7831 - auc_1: 0.8794 - val_loss: 0.4602 - val_binary_accuracy: 0.7776 - val_auc_1: 0.8760\n",
      "Epoch 94/1000\n",
      "141/141 [==============================] - 1s 4ms/step - loss: 0.4547 - binary_accuracy: 0.7820 - auc_1: 0.8791 - val_loss: 0.4618 - val_binary_accuracy: 0.7779 - val_auc_1: 0.8755\n",
      "Epoch 95/1000\n",
      "141/141 [==============================] - 1s 4ms/step - loss: 0.4544 - binary_accuracy: 0.7826 - auc_1: 0.8792 - val_loss: 0.4616 - val_binary_accuracy: 0.7805 - val_auc_1: 0.8755\n",
      "Epoch 96/1000\n",
      "141/141 [==============================] - 1s 5ms/step - loss: 0.4547 - binary_accuracy: 0.7825 - auc_1: 0.8791 - val_loss: 0.4626 - val_binary_accuracy: 0.7806 - val_auc_1: 0.8768\n"
     ]
    }
   ],
   "source": [
    "model = Sequential()\n",
    "model.add(InputLayer(input_shape=(norm_train.shape[-1])))\n",
    "model.add(Dense(512, activation='relu', kernel_regularizer='l2'))\n",
    "model.add(Dense(256, activation='relu', kernel_regularizer='l2'))\n",
    "model.add(Dense(1, activation='sigmoid', kernel_regularizer='l2'))\n",
    "\n",
    "model.compile(optimizer=\"Adam\", loss=BinaryCrossentropy(), metrics=[BinaryAccuracy(), AUC()])\n",
    "history = model.fit(x=norm_train,\n",
    "                    y=y_train,\n",
    "                    batch_size=2048,\n",
    "                    epochs=1000,\n",
    "                    validation_data=(norm_valid, y_val),\n",
    "                    callbacks=[early_stopping, model_checkpoint_callback, logger])"
   ]
  },
  {
   "cell_type": "code",
   "execution_count": 29,
   "id": "45f32186-43a7-4cd8-8018-129c8700b5da",
   "metadata": {
    "tags": []
   },
   "outputs": [
    {
     "name": "stdout",
     "output_type": "stream",
     "text": [
      "INFO:tensorflow:Assets written to: models/model.tf\\assets\n"
     ]
    },
    {
     "data": {
      "image/png": "[encoded data removed]",
      "text/plain": [
       "<Figure size 640x480 with 1 Axes>"
      ]
     },
     "metadata": {},
     "output_type": "display_data"
    },
    {
     "data": {
      "image/png": "[encoded data removed]",
      "text/plain": [
       "<Figure size 640x480 with 1 Axes>"
      ]
     },
     "metadata": {},
     "output_type": "display_data"
    }
   ],
   "source": [
    "run_name = \"Multi Layer Perceptron Complicated - ESTA 10 samples\"\n",
    "additional_description = \"Multi Layer Perceptron\"\n",
    "with mlflow.start_run(run_name=run_name, description=additional_description) as run:\n",
    "        mlflow.log_param(\"X_train.shape\", norm_train.shape)\n",
    "        mlflow.log_param(\"X_test.shape\", norm_test.shape)\n",
    "\n",
    "        y_proba = model.predict(norm_test)\n",
    "        y_true = y_test\n",
    "        features_names = cols\n",
    "        metrics = {}\n",
    "        for threshold in np.arange(0.1, 1, 0.05):\n",
    "            y_pred = (y_proba >= threshold).astype(int)\n",
    "            metrics[f\"accuracy_{threshold:.2f}\"] = accuracy_score(y_true=y_true, y_pred=y_pred)\n",
    "            metrics[f\"precision_{threshold:.2f}\"] = precision_score(y_true=y_true, y_pred=y_pred)\n",
    "            metrics[f\"recall_{threshold:.2f}\"] = recall_score(y_true=y_true, y_pred=y_pred)\n",
    "            metrics[f\"f1_{threshold:.2f}\"] = f1_score(y_true=y_true, y_pred=y_pred)\n",
    "        metrics[\"roc_auc\"] = roc_auc_score(y_true=y_true, y_score=y_proba)\n",
    "        metrics[\"log_loss\"] = log_loss(y_true=y_true, y_pred=y_proba)\n",
    "        mlflow.log_metrics(metrics)\n",
    "        \n",
    "        if os.path.exists('artifacts'):\n",
    "            shutil.rmtree('artifacts')\n",
    "            os.makedirs('artifacts')\n",
    "        \n",
    "        if os.path.exists('models'):\n",
    "            shutil.rmtree('models')\n",
    "            os.makedirs('models')\n",
    "            \n",
    "        with open(\"artifacts/features.txt\", 'w') as f:\n",
    "            f.write(str(features_names))\n",
    "            \n",
    "        model.save('models/model.tf')\n",
    "\n",
    "        roc_plot = RocCurveDisplay.from_predictions(y_pred=y_proba, y_true=y_true)\n",
    "        roc_plot.figure_.savefig('artifacts/roc_auc.png')\n",
    "        plt.show()\n",
    "        \n",
    "        calibration_curve = CalibrationDisplay.from_predictions(y_prob=y_proba, y_true=y_true, n_bins=10)\n",
    "        calibration_curve.figure_.savefig('artifacts/calibration_curve.png')\n",
    "        plt.show()\n",
    "        \n",
    "        mlflow.log_artifacts(\"artifacts\", artifact_path=\"plots_data\")\n",
    "        mlflow.log_artifacts(\"models\", artifact_path=\"model\")"
   ]
  },
  {
   "cell_type": "code",
   "execution_count": 30,
   "id": "0127968a-4d4b-4cd3-829e-da5c8982200a",
   "metadata": {
    "tags": []
   },
   "outputs": [
    {
     "data": {
      "text/plain": [
       "(620392, 100)"
      ]
     },
     "execution_count": 30,
     "metadata": {},
     "output_type": "execute_result"
    }
   ],
   "source": [
    "test_df = pd.read_parquet(\"data/states_another_mod_test.parquet\", columns=select_feat() + [\"filename\"])\n",
    "past = test_df['filename'].str.startswith(\"IEM-Katowice\")\n",
    "future = test_df['filename'].str.startswith(\"BLAST-Premier-Spring-Final-2022\")\n",
    "test_y = pd.read_parquet(\"data/states_another_mod_test.parquet\", columns=[\"winningSideCT\"])\n",
    "test_y = test_y.squeeze()\n",
    "test_df.shape"
   ]
  },
  {
   "cell_type": "code",
   "execution_count": 31,
   "id": "4bf38ebc-af74-4cf0-a590-f8ade09a36f6",
   "metadata": {},
   "outputs": [
    {
     "data": {
      "text/plain": [
       "(620392, 99)"
      ]
     },
     "execution_count": 31,
     "metadata": {},
     "output_type": "execute_result"
    }
   ],
   "source": [
    "test_set = test_df.drop(\"filename\", axis=\"columns\")\n",
    "test_set = scaler.fit_transform(test_set)\n",
    "test_set.shape"
   ]
  },
  {
   "cell_type": "code",
   "execution_count": 32,
   "id": "4f07b86d-6437-4968-82bf-530107889e2d",
   "metadata": {},
   "outputs": [
    {
     "data": {
      "text/plain": [
       "{'LogLoss (all)': 0.473205117094989,\n",
       " 'LogLoss (future)': 0.47463231206482837,\n",
       " 'LogLoss (past)': 0.47187434550688545,\n",
       " 'AUC-ROC (all)': 0.8493992476034509,\n",
       " 'AUC-ROC (future)': 0.8518639130642098,\n",
       " 'AUC-ROC (past)': 0.8464011245553233}"
      ]
     },
     "execution_count": 32,
     "metadata": {},
     "output_type": "execute_result"
    }
   ],
   "source": [
    "results = []\n",
    "y_true = test_y\n",
    "y_pred = model.predict(test_set)\n",
    "results = {\n",
    "        \"LogLoss (all)\": log_loss(y_true, y_pred),\n",
    "        \"LogLoss (future)\": log_loss(y_true[future], y_pred[future]),\n",
    "        \"LogLoss (past)\": log_loss(y_true[past], y_pred[past]),\n",
    "        \"AUC-ROC (all)\": roc_auc_score(y_true, y_pred),\n",
    "        \"AUC-ROC (future)\": roc_auc_score(y_true[future], y_pred[future]),\n",
    "        \"AUC-ROC (past)\": roc_auc_score(y_true[past], y_pred[past])\n",
    "}\n",
    "results"
   ]
  }
 ],
 "metadata": {
  "kernelspec": {
   "display_name": "python3 (tf_gpu)",
   "language": "python",
   "name": "conda-env-tf_gpu-py"
  },
  "language_info": {
   "codemirror_mode": {
    "name": "ipython",
    "version": 3
   },
   "file_extension": ".py",
   "mimetype": "text/x-python",
   "name": "python",
   "nbconvert_exporter": "python",
   "pygments_lexer": "ipython3",
   "version": "3.9.13"
  }
 },
 "nbformat": 4,
 "nbformat_minor": 5
}
